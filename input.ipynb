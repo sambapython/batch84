{
 "cells": [
  {
   "cell_type": "code",
   "execution_count": 1,
   "metadata": {},
   "outputs": [
    {
     "name": "stdout",
     "output_type": "stream",
     "text": [
      "3000\n"
     ]
    }
   ],
   "source": [
    "a=1000\n",
    "b=2000\n",
    "print(a+b)"
   ]
  },
  {
   "cell_type": "code",
   "execution_count": 2,
   "metadata": {},
   "outputs": [
    {
     "name": "stdout",
     "output_type": "stream",
     "text": [
      "Enter a number:1000\n",
      "1000 <class 'str'>\n"
     ]
    }
   ],
   "source": [
    "a=input(\"Enter a number:\")\n",
    "print(a, type(a))"
   ]
  },
  {
   "cell_type": "code",
   "execution_count": 3,
   "metadata": {},
   "outputs": [
    {
     "name": "stdout",
     "output_type": "stream",
     "text": [
      "Enter a number:True\n",
      "True <class 'str'>\n"
     ]
    }
   ],
   "source": [
    "a=input(\"Enter a number:\")\n",
    "print(a, type(a))"
   ]
  },
  {
   "cell_type": "code",
   "execution_count": 4,
   "metadata": {},
   "outputs": [
    {
     "name": "stdout",
     "output_type": "stream",
     "text": [
      "Enter a number:None\n",
      "None <class 'str'>\n"
     ]
    }
   ],
   "source": [
    "a=input(\"Enter a number:\")\n",
    "print(a, type(a))"
   ]
  },
  {
   "cell_type": "code",
   "execution_count": 5,
   "metadata": {},
   "outputs": [
    {
     "name": "stdout",
     "output_type": "stream",
     "text": [
      "Enter a number:12.34\n",
      "12.34 <class 'str'>\n"
     ]
    }
   ],
   "source": [
    "a=input(\"Enter a number:\")\n",
    "print(a, type(a))"
   ]
  },
  {
   "cell_type": "code",
   "execution_count": 6,
   "metadata": {},
   "outputs": [
    {
     "name": "stdout",
     "output_type": "stream",
     "text": [
      "Enter a number:[1,2,23,45]\n",
      "[1,2,23,45] <class 'str'>\n"
     ]
    }
   ],
   "source": [
    "a=input(\"Enter a number:\")\n",
    "print(a, type(a))"
   ]
  },
  {
   "cell_type": "code",
   "execution_count": 7,
   "metadata": {},
   "outputs": [
    {
     "name": "stdout",
     "output_type": "stream",
     "text": [
      "[1, 2, 33, 4] <class 'list'>\n"
     ]
    }
   ],
   "source": [
    "a=[1,2,33,4]\n",
    "print(a, type(a))"
   ]
  },
  {
   "cell_type": "code",
   "execution_count": 8,
   "metadata": {},
   "outputs": [
    {
     "name": "stdout",
     "output_type": "stream",
     "text": [
      "[1,2,33,4] <class 'str'>\n"
     ]
    }
   ],
   "source": [
    "a=\"[1,2,33,4]\"\n",
    "print(a, type(a))"
   ]
  },
  {
   "cell_type": "code",
   "execution_count": 9,
   "metadata": {},
   "outputs": [
    {
     "name": "stdout",
     "output_type": "stream",
     "text": [
      "[1, 2, 33, 4] <class 'str'>\n"
     ]
    }
   ],
   "source": [
    "a=str([1,2,33,4])\n",
    "print(a, type(a))"
   ]
  },
  {
   "cell_type": "code",
   "execution_count": 10,
   "metadata": {},
   "outputs": [
    {
     "name": "stdout",
     "output_type": "stream",
     "text": [
      "Enter number:1000\n",
      "enter number:2000\n",
      "10002000\n"
     ]
    }
   ],
   "source": [
    "a=input(\"Enter number:\")\n",
    "b=input(\"enter number:\")\n",
    "print(a+b)"
   ]
  },
  {
   "cell_type": "code",
   "execution_count": 11,
   "metadata": {},
   "outputs": [
    {
     "name": "stdout",
     "output_type": "stream",
     "text": [
      "Enter number:1000\n",
      "enter number:2000\n",
      "1000 <class 'str'> 2000 <class 'str'>\n",
      "1000.0 <class 'float'> 2000.0 <class 'float'>\n",
      "3000.0\n"
     ]
    }
   ],
   "source": [
    "a=input(\"Enter number:\")\n",
    "b=input(\"enter number:\")\n",
    "print(a, type(a),b, type(b))\n",
    "a=float(a)\n",
    "b=float(b)\n",
    "print(a, type(a),b, type(b))\n",
    "print(a+b)"
   ]
  },
  {
   "cell_type": "code",
   "execution_count": 12,
   "metadata": {},
   "outputs": [
    {
     "name": "stdout",
     "output_type": "stream",
     "text": [
      "Enter number:6\n",
      "enter number:9\n",
      "False\n"
     ]
    }
   ],
   "source": [
    "a=input(\"Enter number:\")\n",
    "b=input(\"enter number:\")\n",
    "print(a>b)"
   ]
  },
  {
   "cell_type": "code",
   "execution_count": 13,
   "metadata": {},
   "outputs": [
    {
     "name": "stdout",
     "output_type": "stream",
     "text": [
      "Enter number:60\n",
      "enter number:9\n",
      "False\n"
     ]
    }
   ],
   "source": [
    "a=input(\"Enter number:\")\n",
    "b=input(\"enter number:\")\n",
    "print(a>b)"
   ]
  },
  {
   "cell_type": "code",
   "execution_count": null,
   "metadata": {},
   "outputs": [],
   "source": []
  }
 ],
 "metadata": {
  "kernelspec": {
   "display_name": "Python 3",
   "language": "python",
   "name": "python3"
  },
  "language_info": {
   "codemirror_mode": {
    "name": "ipython",
    "version": 3
   },
   "file_extension": ".py",
   "mimetype": "text/x-python",
   "name": "python",
   "nbconvert_exporter": "python",
   "pygments_lexer": "ipython3",
   "version": "3.8.3"
  }
 },
 "nbformat": 4,
 "nbformat_minor": 4
}
