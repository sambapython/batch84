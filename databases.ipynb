{
 "cells": [
  {
   "cell_type": "code",
   "execution_count": 1,
   "metadata": {},
   "outputs": [],
   "source": [
    "import sqlite3"
   ]
  },
  {
   "cell_type": "code",
   "execution_count": 2,
   "metadata": {},
   "outputs": [],
   "source": [
    "con = sqlite3.connect(\"db1.sqlite3\")"
   ]
  },
  {
   "cell_type": "code",
   "execution_count": 3,
   "metadata": {},
   "outputs": [
    {
     "data": {
      "text/plain": [
       "<sqlite3.Cursor at 0x105a21848f0>"
      ]
     },
     "execution_count": 3,
     "metadata": {},
     "output_type": "execute_result"
    }
   ],
   "source": [
    "query = \"create table person(id int, name varchar(250))\"\n",
    "con.execute(query)"
   ]
  },
  {
   "cell_type": "code",
   "execution_count": 4,
   "metadata": {},
   "outputs": [
    {
     "data": {
      "text/plain": [
       "<sqlite3.Cursor at 0x105a158b730>"
      ]
     },
     "execution_count": 4,
     "metadata": {},
     "output_type": "execute_result"
    }
   ],
   "source": [
    "query = \"insert into person(id, name) values(1,'jay')\"\n",
    "con.execute(query)"
   ]
  },
  {
   "cell_type": "code",
   "execution_count": 5,
   "metadata": {},
   "outputs": [],
   "source": [
    "con.commit()"
   ]
  },
  {
   "cell_type": "code",
   "execution_count": 7,
   "metadata": {},
   "outputs": [],
   "source": [
    "import psycopg2\n",
    "con = psycopg2.connect(database=\"db84\",user=\"postgres\",password=\"root\",port=5432)\n",
    "cur = con.cursor()\n",
    "query = \"create table person(id int, name varchar(250))\"\n",
    "cur.execute(query)\n",
    "query = \"insert into person(id, name) values(1,'jay')\"\n",
    "cur.execute(query)\n",
    "con.commit()"
   ]
  },
  {
   "cell_type": "code",
   "execution_count": 8,
   "metadata": {},
   "outputs": [],
   "source": [
    "import names\n",
    "for i in range(2,100):\n",
    "    name=names.get_full_name()\n",
    "    query = \"insert into person(id, name) values(%s, '%s')\"%(i, name)\n",
    "    cur.execute(query)\n",
    "con.commit()\n",
    "    "
   ]
  },
  {
   "cell_type": "code",
   "execution_count": 9,
   "metadata": {},
   "outputs": [],
   "source": [
    "query = \"select * from person\"\n",
    "cur.execute(query)"
   ]
  },
  {
   "cell_type": "code",
   "execution_count": 10,
   "metadata": {},
   "outputs": [],
   "source": [
    "data = cur.fetchall()"
   ]
  },
  {
   "cell_type": "code",
   "execution_count": 11,
   "metadata": {},
   "outputs": [
    {
     "name": "stdout",
     "output_type": "stream",
     "text": [
      "[(1, 'jay'), (2, 'Stacey Richter'), (3, 'Ruth Fitzhugh'), (4, 'John Bailey'), (5, 'Mark Ferguson'), (6, 'Ethel Bailey'), (7, 'Mark Dagel'), (8, 'Gloria Pantoja'), (9, 'Leslie Rangel'), (10, 'Maria Gray'), (11, 'David Watkins'), (12, 'Franklin Williams'), (13, 'Robin Antoine'), (14, 'Margaret Okelly'), (15, 'Weston Jones'), (16, 'Robert Lolley'), (17, 'Don Snipes'), (18, 'Patty Jenkins'), (19, 'Lucinda Person'), (20, 'Bryan Raman'), (21, 'Christie Allen'), (22, 'Tori Conkle'), (23, 'Michael Stone'), (24, 'Kenneth Kenney'), (25, 'Diana Rabb'), (26, 'Claribel Yother'), (27, 'Kirby Nash'), (28, 'Mary Johnston'), (29, 'Lila Thomas'), (30, 'Florence Reyes'), (31, 'Chloe Jacobs'), (32, 'Stephen Nekola'), (33, 'Ann Valdes'), (34, 'Jennifer Bottoms'), (35, 'Alvin Smith'), (36, 'Rebecca Clark'), (37, 'Patricia Guajardo'), (38, 'Nicole Holder'), (39, 'Kathy Noe'), (40, 'Alan Murphy'), (41, 'Jose Nixon'), (42, 'Janel Windly'), (43, 'John Altamirano'), (44, 'Joyce Curren'), (45, 'Ellen Conaway'), (46, 'Lina Noel'), (47, 'Thomas Sergent'), (48, 'Emily Roundtree'), (49, 'Courtney Tijerina'), (50, 'Matthew Jones'), (51, 'Charles Hudkins'), (52, 'Louis Klemke'), (53, 'Bonnie Medina'), (54, 'Victor Smith'), (55, 'Darcy Thomas'), (56, 'William Baker'), (57, 'Ashley Sumner'), (58, 'Steven Birchfield'), (59, 'Erik Mata'), (60, 'Amanda Voss'), (61, 'Michael Hubbard'), (62, 'Jennifer Delatorre'), (63, 'Kacie Holm'), (64, 'Michael Boldenow'), (65, 'Gary Edge'), (66, 'Becky Gross'), (67, 'Linnea Day'), (68, 'Evelyn Parker'), (69, 'John Skimehorn'), (70, 'Arthur Williams'), (71, 'Cindy Jones'), (72, 'Jennifer Gamba'), (73, 'Nicholas Parry'), (74, 'Kimberly Richardson'), (75, 'Emma Morris'), (76, 'Steven Saunders'), (77, 'Ann Grizzle'), (78, 'Jeanne Hildebrant'), (79, 'Tyler Whitenton'), (80, 'Carol Streeter'), (81, 'Christopher Davison'), (82, 'Jessica Preister'), (83, 'Robert Sprinkle'), (84, 'Cornell Militello'), (85, 'Susanne Smith'), (86, 'Keith Lopez'), (87, 'Helen Smith'), (88, 'Michael Stinson'), (89, 'Anna Stanfill'), (90, 'Mary Gearhart'), (91, 'Jean Sansom'), (92, 'Robert Lard'), (93, 'Pearl Haran'), (94, 'Michael Fleming'), (95, 'Joy Lindley'), (96, 'Rosalind Bieker'), (97, 'Thelma Turner'), (98, 'Elizabeth Thompson'), (99, 'Mary Ridley')]\n"
     ]
    }
   ],
   "source": [
    "print(data)"
   ]
  },
  {
   "cell_type": "code",
   "execution_count": 12,
   "metadata": {},
   "outputs": [
    {
     "name": "stdout",
     "output_type": "stream",
     "text": [
      "[(99,)]\n"
     ]
    }
   ],
   "source": [
    "query = \"select count(*) from person\"\n",
    "cur.execute(query)\n",
    "data = cur.fetchall()\n",
    "print(data)"
   ]
  },
  {
   "cell_type": "code",
   "execution_count": null,
   "metadata": {},
   "outputs": [],
   "source": [
    "# R and D connect to mysql datavase and create tables, insert some data and read it."
   ]
  }
 ],
 "metadata": {
  "kernelspec": {
   "display_name": "Python 3",
   "language": "python",
   "name": "python3"
  },
  "language_info": {
   "codemirror_mode": {
    "name": "ipython",
    "version": 3
   },
   "file_extension": ".py",
   "mimetype": "text/x-python",
   "name": "python",
   "nbconvert_exporter": "python",
   "pygments_lexer": "ipython3",
   "version": "3.8.3"
  }
 },
 "nbformat": 4,
 "nbformat_minor": 4
}
