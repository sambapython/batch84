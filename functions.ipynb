{
 "cells": [
  {
   "cell_type": "code",
   "execution_count": 1,
   "metadata": {},
   "outputs": [
    {
     "name": "stdout",
     "output_type": "stream",
     "text": [
      "1\n",
      "2\n",
      "Even\n",
      "3\n",
      "4\n",
      "5\n",
      "Odd\n",
      "6\n",
      "Even\n",
      "7\n",
      "8\n",
      "Odd\n"
     ]
    }
   ],
   "source": [
    "print(\"1\")\n",
    "print(\"2\")\n",
    "number = 10\n",
    "if number%2==0:\n",
    "    print(\"Even\")\n",
    "else:\n",
    "    print(\"Odd\")\n",
    "print(\"3\")\n",
    "print(\"4\")\n",
    "print(\"5\")\n",
    "number = 103\n",
    "if number%2==0:\n",
    "    print(\"Even\")\n",
    "else:\n",
    "    print(\"Odd\")\n",
    "print(\"6\")\n",
    "number = 106\n",
    "if number%2==0:\n",
    "    print(\"Even\")\n",
    "else:\n",
    "    print(\"Odd\")\n",
    "print(\"7\")\n",
    "print(\"8\")\n",
    "number = 109\n",
    "if number%2==0:\n",
    "    print(\"Even\")\n",
    "else:\n",
    "    print(\"Odd\")"
   ]
  },
  {
   "cell_type": "code",
   "execution_count": 2,
   "metadata": {},
   "outputs": [
    {
     "name": "stdout",
     "output_type": "stream",
     "text": [
      "1\n",
      "2\n",
      "Even\n",
      "3\n",
      "4\n",
      "5\n",
      "Odd\n",
      "6\n",
      "Even\n",
      "7\n",
      "8\n",
      "Odd\n"
     ]
    }
   ],
   "source": [
    "def fun(number):\n",
    "    if number%2==0:\n",
    "        print(\"Even\")\n",
    "    else:\n",
    "        print(\"Odd\")\n",
    "    \n",
    "print(\"1\")\n",
    "print(\"2\")\n",
    "fun(10)\n",
    "print(\"3\")\n",
    "print(\"4\")\n",
    "print(\"5\")\n",
    "fun(103)\n",
    "print(\"6\")\n",
    "fun(106)\n",
    "print(\"7\")\n",
    "print(\"8\")\n",
    "fun(109)"
   ]
  },
  {
   "cell_type": "code",
   "execution_count": 3,
   "metadata": {},
   "outputs": [
    {
     "name": "stdout",
     "output_type": "stream",
     "text": [
      "1\n",
      "2\n",
      "EVEN\n",
      "3\n",
      "4\n",
      "5\n",
      "ODD\n",
      "6\n",
      "EVEN\n",
      "7\n",
      "8\n",
      "ODD\n"
     ]
    }
   ],
   "source": [
    "def fun(number):\n",
    "    if number%2==0:\n",
    "        print(\"EVEN\")\n",
    "    else:\n",
    "        print(\"ODD\")\n",
    "    \n",
    "print(\"1\")\n",
    "print(\"2\")\n",
    "fun(10)\n",
    "print(\"3\")\n",
    "print(\"4\")\n",
    "print(\"5\")\n",
    "fun(103)\n",
    "print(\"6\")\n",
    "fun(106)\n",
    "print(\"7\")\n",
    "print(\"8\")\n",
    "fun(109)"
   ]
  },
  {
   "cell_type": "code",
   "execution_count": 4,
   "metadata": {},
   "outputs": [
    {
     "name": "stdout",
     "output_type": "stream",
     "text": [
      "starred\n",
      "ended\n"
     ]
    }
   ],
   "source": [
    "print(\"starred\")\n",
    "def fun1():# signature of the function\n",
    "    # function body\n",
    "    print(\"hello\")\n",
    "    print(\"hi\")\n",
    "    print(\"hyderabad\")\n",
    "    print(\"banglore\")\n",
    "print(\"ended\")  "
   ]
  },
  {
   "cell_type": "code",
   "execution_count": 5,
   "metadata": {},
   "outputs": [
    {
     "name": "stdout",
     "output_type": "stream",
     "text": [
      "starred\n",
      "ended\n",
      "hello\n",
      "hi\n",
      "hyderabad\n",
      "banglore\n"
     ]
    }
   ],
   "source": [
    "print(\"starred\")\n",
    "def fun1():# signature of the function\n",
    "    # function body\n",
    "    print(\"hello\")\n",
    "    print(\"hi\")\n",
    "    print(\"hyderabad\")\n",
    "    print(\"banglore\")\n",
    "print(\"ended\")  \n",
    "fun1()"
   ]
  },
  {
   "cell_type": "code",
   "execution_count": 6,
   "metadata": {},
   "outputs": [
    {
     "name": "stdout",
     "output_type": "stream",
     "text": [
      "starred\n",
      "ended\n",
      "hello\n",
      "hi\n",
      "hyderabad\n",
      "banglore\n",
      "1\n",
      "hello\n",
      "hi\n",
      "hyderabad\n",
      "banglore\n",
      "2\n",
      "3\n",
      "hello\n",
      "hi\n",
      "hyderabad\n",
      "banglore\n"
     ]
    }
   ],
   "source": [
    "print(\"starred\")\n",
    "def fun1():# signature of the function\n",
    "    # function body\n",
    "    print(\"hello\")\n",
    "    print(\"hi\")\n",
    "    print(\"hyderabad\")\n",
    "    print(\"banglore\")\n",
    "print(\"ended\")  \n",
    "fun1()\n",
    "print(\"1\")\n",
    "fun1()\n",
    "print(\"2\")\n",
    "print(\"3\")\n",
    "fun1()"
   ]
  },
  {
   "cell_type": "code",
   "execution_count": 8,
   "metadata": {},
   "outputs": [
    {
     "name": "stdout",
     "output_type": "stream",
     "text": [
      "x=10,y=20\n",
      "res= 30\n",
      "x=100,y=200\n",
      "res= 300\n"
     ]
    }
   ],
   "source": [
    "def add(x,y):#x,y parameters\n",
    "    print(f\"x={x},y={y}\")\n",
    "    res=x+y\n",
    "    print(\"res=\",res)\n",
    "    \n",
    "add(10,20)# 10,20 arguments.\n",
    "add(100,200)# 100,200 arguments"
   ]
  },
  {
   "cell_type": "code",
   "execution_count": 9,
   "metadata": {},
   "outputs": [
    {
     "name": "stdout",
     "output_type": "stream",
     "text": [
      "x= 10 y= 20\n",
      "res= 30\n",
      "x= 100 y= 200\n",
      "res= 300\n"
     ]
    }
   ],
   "source": [
    "def add(x,y):#x,y parameters\n",
    "    print(\"x=\",x,\"y=\",y)\n",
    "    res=x+y\n",
    "    print(\"res=\",res)\n",
    "    \n",
    "add(10,20)# 10,20 arguments.\n",
    "add(100,200)# 100,200 arguments"
   ]
  },
  {
   "cell_type": "code",
   "execution_count": 11,
   "metadata": {},
   "outputs": [
    {
     "name": "stdout",
     "output_type": "stream",
     "text": [
      "x=10,y=20\n",
      "res= 30\n",
      "x=100,y=200\n",
      "res= 300\n"
     ]
    }
   ],
   "source": [
    "def add(x,y):#x,y parameters\n",
    "    print(\"x=%s,y=%s\"%(x,y))\n",
    "    res=x+y\n",
    "    print(\"res=\",res)\n",
    "    \n",
    "add(10,20)# 10,20 arguments.\n",
    "add(100,200)# 100,200 arguments"
   ]
  },
  {
   "cell_type": "code",
   "execution_count": 12,
   "metadata": {},
   "outputs": [
    {
     "ename": "TypeError",
     "evalue": "add() missing 1 required positional argument: 'y'",
     "output_type": "error",
     "traceback": [
      "\u001b[1;31m---------------------------------------------------------------------------\u001b[0m",
      "\u001b[1;31mTypeError\u001b[0m                                 Traceback (most recent call last)",
      "\u001b[1;32m<ipython-input-12-0553e64710cd>\u001b[0m in \u001b[0;36m<module>\u001b[1;34m\u001b[0m\n\u001b[0;32m      3\u001b[0m     \u001b[0mres\u001b[0m\u001b[1;33m=\u001b[0m\u001b[0mx\u001b[0m\u001b[1;33m+\u001b[0m\u001b[0my\u001b[0m\u001b[1;33m\u001b[0m\u001b[1;33m\u001b[0m\u001b[0m\n\u001b[0;32m      4\u001b[0m     \u001b[0mprint\u001b[0m\u001b[1;33m(\u001b[0m\u001b[1;34m\"res=\"\u001b[0m\u001b[1;33m,\u001b[0m\u001b[0mres\u001b[0m\u001b[1;33m)\u001b[0m\u001b[1;33m\u001b[0m\u001b[1;33m\u001b[0m\u001b[0m\n\u001b[1;32m----> 5\u001b[1;33m \u001b[0madd\u001b[0m\u001b[1;33m(\u001b[0m\u001b[1;36m10\u001b[0m\u001b[1;33m)\u001b[0m\u001b[1;33m\u001b[0m\u001b[1;33m\u001b[0m\u001b[0m\n\u001b[0m",
      "\u001b[1;31mTypeError\u001b[0m: add() missing 1 required positional argument: 'y'"
     ]
    }
   ],
   "source": [
    "def add(x,y):#x,y parameters\n",
    "    print(\"x=%s,y=%s\"%(x,y))\n",
    "    res=x+y\n",
    "    print(\"res=\",res)\n",
    "add(10)"
   ]
  },
  {
   "cell_type": "code",
   "execution_count": 13,
   "metadata": {},
   "outputs": [
    {
     "ename": "TypeError",
     "evalue": "add() takes 2 positional arguments but 3 were given",
     "output_type": "error",
     "traceback": [
      "\u001b[1;31m---------------------------------------------------------------------------\u001b[0m",
      "\u001b[1;31mTypeError\u001b[0m                                 Traceback (most recent call last)",
      "\u001b[1;32m<ipython-input-13-7bcc736fdb15>\u001b[0m in \u001b[0;36m<module>\u001b[1;34m\u001b[0m\n\u001b[0;32m      4\u001b[0m     \u001b[0mprint\u001b[0m\u001b[1;33m(\u001b[0m\u001b[1;34m\"res=\"\u001b[0m\u001b[1;33m,\u001b[0m\u001b[0mres\u001b[0m\u001b[1;33m)\u001b[0m\u001b[1;33m\u001b[0m\u001b[1;33m\u001b[0m\u001b[0m\n\u001b[0;32m      5\u001b[0m \u001b[1;33m\u001b[0m\u001b[0m\n\u001b[1;32m----> 6\u001b[1;33m \u001b[0madd\u001b[0m\u001b[1;33m(\u001b[0m\u001b[1;36m10\u001b[0m\u001b[1;33m,\u001b[0m\u001b[1;36m20\u001b[0m\u001b[1;33m,\u001b[0m\u001b[1;36m30\u001b[0m\u001b[1;33m)\u001b[0m\u001b[1;33m\u001b[0m\u001b[1;33m\u001b[0m\u001b[0m\n\u001b[0m",
      "\u001b[1;31mTypeError\u001b[0m: add() takes 2 positional arguments but 3 were given"
     ]
    }
   ],
   "source": [
    "def add(x,y):#x,y parameters\n",
    "    print(\"x=%s,y=%s\"%(x,y))\n",
    "    res=x+y\n",
    "    print(\"res=\",res)\n",
    "    \n",
    "add(10,20,30)"
   ]
  },
  {
   "cell_type": "code",
   "execution_count": 14,
   "metadata": {},
   "outputs": [
    {
     "name": "stdout",
     "output_type": "stream",
     "text": [
      "a=10,b=20,c=30,d=40,e=50,f=60\n",
      "res= 210\n"
     ]
    }
   ],
   "source": [
    "def add(a,b,c,d,e,f):\n",
    "    print(f\"a={a},b={b},c={c},d={d},e={e},f={f}\")\n",
    "    res=a+b+c+d+e+f\n",
    "    print(\"res=\",res)\n",
    "    \n",
    "add(10,20,30,40,50,60)"
   ]
  },
  {
   "cell_type": "code",
   "execution_count": 15,
   "metadata": {},
   "outputs": [
    {
     "ename": "TypeError",
     "evalue": "add() missing 6 required positional arguments: 'a', 'b', 'c', 'd', 'e', and 'f'",
     "output_type": "error",
     "traceback": [
      "\u001b[1;31m---------------------------------------------------------------------------\u001b[0m",
      "\u001b[1;31mTypeError\u001b[0m                                 Traceback (most recent call last)",
      "\u001b[1;32m<ipython-input-15-44b2c4035a26>\u001b[0m in \u001b[0;36m<module>\u001b[1;34m\u001b[0m\n\u001b[0;32m      4\u001b[0m     \u001b[0mprint\u001b[0m\u001b[1;33m(\u001b[0m\u001b[1;34m\"res=\"\u001b[0m\u001b[1;33m,\u001b[0m\u001b[0mres\u001b[0m\u001b[1;33m)\u001b[0m\u001b[1;33m\u001b[0m\u001b[1;33m\u001b[0m\u001b[0m\n\u001b[0;32m      5\u001b[0m \u001b[1;33m\u001b[0m\u001b[0m\n\u001b[1;32m----> 6\u001b[1;33m \u001b[0madd\u001b[0m\u001b[1;33m(\u001b[0m\u001b[1;33m)\u001b[0m\u001b[1;33m\u001b[0m\u001b[1;33m\u001b[0m\u001b[0m\n\u001b[0m\u001b[0;32m      7\u001b[0m \u001b[0madd\u001b[0m\u001b[1;33m(\u001b[0m\u001b[1;36m10\u001b[0m\u001b[1;33m)\u001b[0m\u001b[1;33m\u001b[0m\u001b[1;33m\u001b[0m\u001b[0m\n\u001b[0;32m      8\u001b[0m \u001b[0madd\u001b[0m\u001b[1;33m(\u001b[0m\u001b[1;36m10\u001b[0m\u001b[1;33m,\u001b[0m\u001b[1;36m20\u001b[0m\u001b[1;33m)\u001b[0m\u001b[1;33m\u001b[0m\u001b[1;33m\u001b[0m\u001b[0m\n",
      "\u001b[1;31mTypeError\u001b[0m: add() missing 6 required positional arguments: 'a', 'b', 'c', 'd', 'e', and 'f'"
     ]
    }
   ],
   "source": [
    "def add(a,b,c,d,e,f):\n",
    "    print(f\"a={a},b={b},c={c},d={d},e={e},f={f}\")\n",
    "    res=a+b+c+d+e+f\n",
    "    print(\"res=\",res)\n",
    "    \n",
    "add()\n",
    "add(10)\n",
    "add(10,20)\n",
    "add(10,20,30)\n",
    "add(10,20,30,40)\n",
    "add(10,20,30,40,50)\n",
    "add(10,20,30,40,50,60)"
   ]
  },
  {
   "cell_type": "code",
   "execution_count": 16,
   "metadata": {},
   "outputs": [
    {
     "name": "stdout",
     "output_type": "stream",
     "text": [
      "a=0,b=0,c=0,d=0,e=0,f=0\n",
      "res= 0\n",
      "a=10,b=0,c=0,d=0,e=0,f=0\n",
      "res= 10\n",
      "a=10,b=20,c=0,d=0,e=0,f=0\n",
      "res= 30\n",
      "a=10,b=20,c=30,d=0,e=0,f=0\n",
      "res= 60\n",
      "a=10,b=20,c=30,d=40,e=0,f=0\n",
      "res= 100\n",
      "a=10,b=20,c=30,d=40,e=50,f=0\n",
      "res= 150\n",
      "a=10,b=20,c=30,d=40,e=50,f=60\n",
      "res= 210\n"
     ]
    }
   ],
   "source": [
    "def add(a=0,b=0,c=0,d=0,e=0,f=0):\n",
    "    print(f\"a={a},b={b},c={c},d={d},e={e},f={f}\")\n",
    "    res=a+b+c+d+e+f\n",
    "    print(\"res=\",res)\n",
    "    \n",
    "add()\n",
    "add(10)\n",
    "add(10,20)\n",
    "add(10,20,30)\n",
    "add(10,20,30,40)\n",
    "add(10,20,30,40,50)\n",
    "add(10,20,30,40,50,60)"
   ]
  },
  {
   "cell_type": "code",
   "execution_count": 19,
   "metadata": {},
   "outputs": [
    {
     "name": "stdout",
     "output_type": "stream",
     "text": [
      "name=jay,age=23,height=5.4,weight=68,email=,phone=0000000000\n"
     ]
    }
   ],
   "source": [
    "def registration(name,age,height,weight=None,email=\"\",phone=\"0000000000\"):\n",
    "    #name,age,height are mandatory parameters\n",
    "    # wight, email, phone are optional parameters\n",
    "    print(f\"name={name},age={age},height={height},weight={weight},email={email},phone={phone}\")\n",
    "registration(\"jay\",23,5.4,68)"
   ]
  },
  {
   "cell_type": "code",
   "execution_count": 17,
   "metadata": {},
   "outputs": [
    {
     "name": "stdout",
     "output_type": "stream",
     "text": [
      "<class 'NoneType'>\n"
     ]
    }
   ],
   "source": [
    "s=None\n",
    "print(type(s))"
   ]
  },
  {
   "cell_type": "code",
   "execution_count": 20,
   "metadata": {},
   "outputs": [
    {
     "name": "stdout",
     "output_type": "stream",
     "text": [
      "name=jay,age=23,height=5.4,weight=68,email=,phone=0000000000\n",
      "name=jay,age=23,height=5.4,weight=None,email=,phone=0000000000\n"
     ]
    }
   ],
   "source": [
    "def registration(name,age,height,weight=None,email=\"\",phone=\"0000000000\"):\n",
    "    #name,age,height are mandatory parameters\n",
    "    # wight, email, phone are optional parameters\n",
    "    print(f\"name={name},age={age},height={height},weight={weight},email={email},phone={phone}\")\n",
    "registration(\"jay\",23,5.4,68)\n",
    "registration(\"jay\",23,5.4)"
   ]
  },
  {
   "cell_type": "code",
   "execution_count": 21,
   "metadata": {},
   "outputs": [
    {
     "name": "stdout",
     "output_type": "stream",
     "text": [
      "name=jay,age=23,height=5.4,weight=68,email=,phone=0000000000\n",
      "name=jay,age=23,height=5.4,weight=None,email=,phone=7564865789\n"
     ]
    }
   ],
   "source": [
    "def registration(name,age,height,weight=None,email=\"\",phone=\"0000000000\"):\n",
    "    #name,age,height are mandatory parameters\n",
    "    # wight, email, phone are optional parameters\n",
    "    print(f\"name={name},age={age},height={height},weight={weight},email={email},phone={phone}\")\n",
    "registration(\"jay\",23,5.4,68)\n",
    "registration(\"jay\",23,5.4,None,\"\",\"7564865789\")"
   ]
  },
  {
   "cell_type": "code",
   "execution_count": 22,
   "metadata": {},
   "outputs": [
    {
     "name": "stdout",
     "output_type": "stream",
     "text": [
      "name=jay,age=23,height=5.4,weight=68,email=,phone=0000000000\n",
      "name=jay,age=23,height=5.4,weight=,email=,phone=7564865789\n"
     ]
    }
   ],
   "source": [
    "def registration(name,age,height,weight=None,email=\"\",phone=\"0000000000\"):\n",
    "    #name,age,height are mandatory parameters\n",
    "    # wight, email, phone are optional parameters\n",
    "    print(f\"name={name},age={age},height={height},weight={weight},email={email},phone={phone}\")\n",
    "registration(\"jay\",23,5.4,68)\n",
    "registration(\"jay\",23,5.4,\"\",\"\",\"7564865789\")"
   ]
  },
  {
   "cell_type": "code",
   "execution_count": 23,
   "metadata": {},
   "outputs": [
    {
     "name": "stdout",
     "output_type": "stream",
     "text": [
      "name=jay,age=23,height=5.4,weight=68,email=,phone=0000000000\n",
      "name=jay,age=23,height=5.4,weight=None,email=None,phone=7564865789\n"
     ]
    }
   ],
   "source": [
    "def registration(name,age,height,weight=None,email=\"\",phone=\"0000000000\"):\n",
    "    #name,age,height are mandatory parameters\n",
    "    # wight, email, phone are optional parameters\n",
    "    print(f\"name={name},age={age},height={height},weight={weight},email={email},phone={phone}\")\n",
    "registration(\"jay\",23,5.4,68)\n",
    "registration(\"jay\",23,5.4,None,None,\"7564865789\")"
   ]
  },
  {
   "cell_type": "code",
   "execution_count": 24,
   "metadata": {},
   "outputs": [],
   "source": [
    "import pandas as pd"
   ]
  },
  {
   "cell_type": "code",
   "execution_count": 25,
   "metadata": {},
   "outputs": [],
   "source": [
    "pd.read_csv?"
   ]
  },
  {
   "cell_type": "code",
   "execution_count": 26,
   "metadata": {},
   "outputs": [
    {
     "name": "stdout",
     "output_type": "stream",
     "text": [
      "name=jay,age=23,height=5.4,weight=68,email=,phone=0000000000\n",
      "name=jay,age=23,height=5.4,weight=None,email=None,phone=7564865789\n"
     ]
    }
   ],
   "source": [
    "def registration(name,age,height,weight=None,email=\"\",phone=\"0000000000\"):\n",
    "    #name,age,height are mandatory parameters\n",
    "    # wight, email, phone are optional parameters\n",
    "    print(f\"name={name},age={age},height={height},weight={weight},email={email},phone={phone}\")\n",
    "registration(\"jay\",23,5.4,68)#positional arguments\n",
    "registration(\"jay\",23,5.4,None,None,\"7564865789\")#positional arguments"
   ]
  },
  {
   "cell_type": "code",
   "execution_count": 27,
   "metadata": {},
   "outputs": [
    {
     "name": "stdout",
     "output_type": "stream",
     "text": [
      "name=jay,age=23,height=5.4,weight=68,email=,phone=0000000000\n",
      "name=vedha,age=23,height=5.4,weight=None,email=None,phone=7564865789\n",
      "name=sai,age=23,height=5.4,weight=None,email=,phone=7564865789\n",
      "name=dhana,age=23,height=5.4,weight=None,email=,phone=7564865789\n"
     ]
    }
   ],
   "source": [
    "def registration(name,age,height,weight=None,email=\"\",phone=\"0000000000\"):\n",
    "    #name,age,height are mandatory parameters\n",
    "    # wight, email, phone are optional parameters\n",
    "    print(f\"name={name},age={age},height={height},weight={weight},email={email},phone={phone}\")\n",
    "registration(\"jay\",23,5.4,68)#positional arguments\n",
    "registration(\"vedha\",23,5.4,None,None,\"7564865789\")#positional arguments\n",
    "registration(\"sai\",23,5.4,phone=\"7564865789\")#positional arguments, keyword arguments\n",
    "registration(age=23,height=5.4,phone=\"7564865789\",name=\"dhana\")#keyword arguments"
   ]
  },
  {
   "cell_type": "code",
   "execution_count": 28,
   "metadata": {},
   "outputs": [
    {
     "name": "stdout",
     "output_type": "stream",
     "text": [
      "name=jay,age=23,height=5.4,weight=68,email=,phone=0000000000\n",
      "name=vedha,age=23,height=5.4,weight=None,email=None,phone=7564865789\n",
      "name=sai,age=23,height=5.4,weight=None,email=,phone=7564865789\n"
     ]
    },
    {
     "ename": "TypeError",
     "evalue": "registration() got an unexpected keyword argument 'Name'",
     "output_type": "error",
     "traceback": [
      "\u001b[1;31m---------------------------------------------------------------------------\u001b[0m",
      "\u001b[1;31mTypeError\u001b[0m                                 Traceback (most recent call last)",
      "\u001b[1;32m<ipython-input-28-e42d4987d532>\u001b[0m in \u001b[0;36m<module>\u001b[1;34m\u001b[0m\n\u001b[0;32m      6\u001b[0m \u001b[0mregistration\u001b[0m\u001b[1;33m(\u001b[0m\u001b[1;34m\"vedha\"\u001b[0m\u001b[1;33m,\u001b[0m\u001b[1;36m23\u001b[0m\u001b[1;33m,\u001b[0m\u001b[1;36m5.4\u001b[0m\u001b[1;33m,\u001b[0m\u001b[1;32mNone\u001b[0m\u001b[1;33m,\u001b[0m\u001b[1;32mNone\u001b[0m\u001b[1;33m,\u001b[0m\u001b[1;34m\"7564865789\"\u001b[0m\u001b[1;33m)\u001b[0m\u001b[1;31m#positional arguments\u001b[0m\u001b[1;33m\u001b[0m\u001b[1;33m\u001b[0m\u001b[0m\n\u001b[0;32m      7\u001b[0m \u001b[0mregistration\u001b[0m\u001b[1;33m(\u001b[0m\u001b[1;34m\"sai\"\u001b[0m\u001b[1;33m,\u001b[0m\u001b[1;36m23\u001b[0m\u001b[1;33m,\u001b[0m\u001b[1;36m5.4\u001b[0m\u001b[1;33m,\u001b[0m\u001b[0mphone\u001b[0m\u001b[1;33m=\u001b[0m\u001b[1;34m\"7564865789\"\u001b[0m\u001b[1;33m)\u001b[0m\u001b[1;31m#positional arguments, keyword arguments\u001b[0m\u001b[1;33m\u001b[0m\u001b[1;33m\u001b[0m\u001b[0m\n\u001b[1;32m----> 8\u001b[1;33m \u001b[0mregistration\u001b[0m\u001b[1;33m(\u001b[0m\u001b[0mage\u001b[0m\u001b[1;33m=\u001b[0m\u001b[1;36m23\u001b[0m\u001b[1;33m,\u001b[0m\u001b[0mheight\u001b[0m\u001b[1;33m=\u001b[0m\u001b[1;36m5.4\u001b[0m\u001b[1;33m,\u001b[0m\u001b[0mphone\u001b[0m\u001b[1;33m=\u001b[0m\u001b[1;34m\"7564865789\"\u001b[0m\u001b[1;33m,\u001b[0m\u001b[0mName\u001b[0m\u001b[1;33m=\u001b[0m\u001b[1;34m\"dhana\"\u001b[0m\u001b[1;33m)\u001b[0m\u001b[1;31m#keyword arguments\u001b[0m\u001b[1;33m\u001b[0m\u001b[1;33m\u001b[0m\u001b[0m\n\u001b[0m",
      "\u001b[1;31mTypeError\u001b[0m: registration() got an unexpected keyword argument 'Name'"
     ]
    }
   ],
   "source": [
    "def registration(name,age,height,weight=None,email=\"\",phone=\"0000000000\"):\n",
    "    #name,age,height are mandatory parameters\n",
    "    # wight, email, phone are optional parameters\n",
    "    print(f\"name={name},age={age},height={height},weight={weight},email={email},phone={phone}\")\n",
    "registration(\"jay\",23,5.4,68)#positional arguments\n",
    "registration(\"vedha\",23,5.4,None,None,\"7564865789\")#positional arguments\n",
    "registration(\"sai\",23,5.4,phone=\"7564865789\")#positional arguments, keyword arguments\n",
    "registration(age=23,height=5.4,phone=\"7564865789\",Name=\"dhana\")#keyword arguments"
   ]
  },
  {
   "cell_type": "code",
   "execution_count": 29,
   "metadata": {},
   "outputs": [
    {
     "name": "stdout",
     "output_type": "stream",
     "text": [
      "name=jay,age=23,height=5.4,weight=68,email=,phone=0000000000\n",
      "name=vedha,age=23,height=5.4,weight=None,email=None,phone=7564865789\n",
      "name=sai,age=23,height=5.4,weight=None,email=,phone=7564865789\n"
     ]
    },
    {
     "ename": "TypeError",
     "evalue": "registration() missing 1 required positional argument: 'name'",
     "output_type": "error",
     "traceback": [
      "\u001b[1;31m---------------------------------------------------------------------------\u001b[0m",
      "\u001b[1;31mTypeError\u001b[0m                                 Traceback (most recent call last)",
      "\u001b[1;32m<ipython-input-29-38250ab6c54a>\u001b[0m in \u001b[0;36m<module>\u001b[1;34m\u001b[0m\n\u001b[0;32m      6\u001b[0m \u001b[0mregistration\u001b[0m\u001b[1;33m(\u001b[0m\u001b[1;34m\"vedha\"\u001b[0m\u001b[1;33m,\u001b[0m\u001b[1;36m23\u001b[0m\u001b[1;33m,\u001b[0m\u001b[1;36m5.4\u001b[0m\u001b[1;33m,\u001b[0m\u001b[1;32mNone\u001b[0m\u001b[1;33m,\u001b[0m\u001b[1;32mNone\u001b[0m\u001b[1;33m,\u001b[0m\u001b[1;34m\"7564865789\"\u001b[0m\u001b[1;33m)\u001b[0m\u001b[1;31m#positional arguments\u001b[0m\u001b[1;33m\u001b[0m\u001b[1;33m\u001b[0m\u001b[0m\n\u001b[0;32m      7\u001b[0m \u001b[0mregistration\u001b[0m\u001b[1;33m(\u001b[0m\u001b[1;34m\"sai\"\u001b[0m\u001b[1;33m,\u001b[0m\u001b[1;36m23\u001b[0m\u001b[1;33m,\u001b[0m\u001b[1;36m5.4\u001b[0m\u001b[1;33m,\u001b[0m\u001b[0mphone\u001b[0m\u001b[1;33m=\u001b[0m\u001b[1;34m\"7564865789\"\u001b[0m\u001b[1;33m)\u001b[0m\u001b[1;31m#positional arguments, keyword arguments\u001b[0m\u001b[1;33m\u001b[0m\u001b[1;33m\u001b[0m\u001b[0m\n\u001b[1;32m----> 8\u001b[1;33m \u001b[0mregistration\u001b[0m\u001b[1;33m(\u001b[0m\u001b[0mage\u001b[0m\u001b[1;33m=\u001b[0m\u001b[1;36m23\u001b[0m\u001b[1;33m,\u001b[0m\u001b[0mheight\u001b[0m\u001b[1;33m=\u001b[0m\u001b[1;36m5.4\u001b[0m\u001b[1;33m,\u001b[0m\u001b[0mphone\u001b[0m\u001b[1;33m=\u001b[0m\u001b[1;34m\"7564865789\"\u001b[0m\u001b[1;33m)\u001b[0m\u001b[1;31m#keyword arguments\u001b[0m\u001b[1;33m\u001b[0m\u001b[1;33m\u001b[0m\u001b[0m\n\u001b[0m",
      "\u001b[1;31mTypeError\u001b[0m: registration() missing 1 required positional argument: 'name'"
     ]
    }
   ],
   "source": [
    "def registration(name,age,height,weight=None,email=\"\",phone=\"0000000000\"):\n",
    "    #name,age,height are mandatory parameters\n",
    "    # wight, email, phone are optional parameters\n",
    "    print(f\"name={name},age={age},height={height},weight={weight},email={email},phone={phone}\")\n",
    "registration(\"jay\",23,5.4,68)#positional arguments\n",
    "registration(\"vedha\",23,5.4,None,None,\"7564865789\")#positional arguments\n",
    "registration(\"sai\",23,5.4,phone=\"7564865789\")#positional arguments, keyword arguments\n",
    "registration(age=23,height=5.4,phone=\"7564865789\")#keyword arguments"
   ]
  },
  {
   "cell_type": "code",
   "execution_count": 30,
   "metadata": {},
   "outputs": [
    {
     "name": "stdout",
     "output_type": "stream",
     "text": [
      "name=jay,age=23,height=5.4,weight=68,email=,phone=0000000000\n",
      "name=vedha,age=23,height=5.4,weight=None,email=None,phone=7564865789\n",
      "name=sai,age=23,height=5.4,weight=None,email=,phone=7564865789\n"
     ]
    },
    {
     "ename": "TypeError",
     "evalue": "registration() got multiple values for argument 'name'",
     "output_type": "error",
     "traceback": [
      "\u001b[1;31m---------------------------------------------------------------------------\u001b[0m",
      "\u001b[1;31mTypeError\u001b[0m                                 Traceback (most recent call last)",
      "\u001b[1;32m<ipython-input-30-5db9ba52cefa>\u001b[0m in \u001b[0;36m<module>\u001b[1;34m\u001b[0m\n\u001b[0;32m      6\u001b[0m \u001b[0mregistration\u001b[0m\u001b[1;33m(\u001b[0m\u001b[1;34m\"vedha\"\u001b[0m\u001b[1;33m,\u001b[0m\u001b[1;36m23\u001b[0m\u001b[1;33m,\u001b[0m\u001b[1;36m5.4\u001b[0m\u001b[1;33m,\u001b[0m\u001b[1;32mNone\u001b[0m\u001b[1;33m,\u001b[0m\u001b[1;32mNone\u001b[0m\u001b[1;33m,\u001b[0m\u001b[1;34m\"7564865789\"\u001b[0m\u001b[1;33m)\u001b[0m\u001b[1;31m#positional arguments\u001b[0m\u001b[1;33m\u001b[0m\u001b[1;33m\u001b[0m\u001b[0m\n\u001b[0;32m      7\u001b[0m \u001b[0mregistration\u001b[0m\u001b[1;33m(\u001b[0m\u001b[1;34m\"sai\"\u001b[0m\u001b[1;33m,\u001b[0m\u001b[1;36m23\u001b[0m\u001b[1;33m,\u001b[0m\u001b[1;36m5.4\u001b[0m\u001b[1;33m,\u001b[0m\u001b[0mphone\u001b[0m\u001b[1;33m=\u001b[0m\u001b[1;34m\"7564865789\"\u001b[0m\u001b[1;33m)\u001b[0m\u001b[1;31m#positional arguments, keyword arguments\u001b[0m\u001b[1;33m\u001b[0m\u001b[1;33m\u001b[0m\u001b[0m\n\u001b[1;32m----> 8\u001b[1;33m \u001b[0mregistration\u001b[0m\u001b[1;33m(\u001b[0m\u001b[1;34m\"DHANA\"\u001b[0m\u001b[1;33m,\u001b[0m\u001b[0mage\u001b[0m\u001b[1;33m=\u001b[0m\u001b[1;36m23\u001b[0m\u001b[1;33m,\u001b[0m\u001b[0mheight\u001b[0m\u001b[1;33m=\u001b[0m\u001b[1;36m5.4\u001b[0m\u001b[1;33m,\u001b[0m\u001b[0mname\u001b[0m\u001b[1;33m=\u001b[0m\u001b[1;34m\"dhana\"\u001b[0m\u001b[1;33m)\u001b[0m\u001b[1;31m#keyword arguments\u001b[0m\u001b[1;33m\u001b[0m\u001b[1;33m\u001b[0m\u001b[0m\n\u001b[0m",
      "\u001b[1;31mTypeError\u001b[0m: registration() got multiple values for argument 'name'"
     ]
    }
   ],
   "source": [
    "def registration(name,age,height,weight=None,email=\"\",phone=\"0000000000\"):\n",
    "    #name,age,height are mandatory parameters\n",
    "    # wight, email, phone are optional parameters\n",
    "    print(f\"name={name},age={age},height={height},weight={weight},email={email},phone={phone}\")\n",
    "registration(\"jay\",23,5.4,68)#positional arguments\n",
    "registration(\"vedha\",23,5.4,None,None,\"7564865789\")#positional arguments\n",
    "registration(\"sai\",23,5.4,phone=\"7564865789\")#positional arguments, keyword arguments\n",
    "registration(\"DHANA\",age=23,height=5.4,name=\"dhana\")#keyword arguments"
   ]
  },
  {
   "cell_type": "code",
   "execution_count": 1,
   "metadata": {},
   "outputs": [],
   "source": [
    "# *arge, **kwargs"
   ]
  },
  {
   "cell_type": "code",
   "execution_count": 2,
   "metadata": {},
   "outputs": [
    {
     "ename": "TypeError",
     "evalue": "add() takes from 0 to 6 positional arguments but 7 were given",
     "output_type": "error",
     "traceback": [
      "\u001b[1;31m---------------------------------------------------------------------------\u001b[0m",
      "\u001b[1;31mTypeError\u001b[0m                                 Traceback (most recent call last)",
      "\u001b[1;32m<ipython-input-2-174165d015bc>\u001b[0m in \u001b[0;36m<module>\u001b[1;34m\u001b[0m\n\u001b[0;32m      3\u001b[0m     \u001b[0mres\u001b[0m\u001b[1;33m=\u001b[0m\u001b[0ma\u001b[0m\u001b[1;33m+\u001b[0m\u001b[0mb\u001b[0m\u001b[1;33m+\u001b[0m\u001b[0mc\u001b[0m\u001b[1;33m+\u001b[0m\u001b[0md\u001b[0m\u001b[1;33m+\u001b[0m\u001b[0me\u001b[0m\u001b[1;33m+\u001b[0m\u001b[0mf\u001b[0m\u001b[1;33m\u001b[0m\u001b[1;33m\u001b[0m\u001b[0m\n\u001b[0;32m      4\u001b[0m     \u001b[0mprint\u001b[0m\u001b[1;33m(\u001b[0m\u001b[1;34m\"res=\"\u001b[0m\u001b[1;33m,\u001b[0m\u001b[0mres\u001b[0m\u001b[1;33m)\u001b[0m\u001b[1;33m\u001b[0m\u001b[1;33m\u001b[0m\u001b[0m\n\u001b[1;32m----> 5\u001b[1;33m \u001b[0madd\u001b[0m\u001b[1;33m(\u001b[0m\u001b[1;36m10\u001b[0m\u001b[1;33m,\u001b[0m\u001b[1;36m20\u001b[0m\u001b[1;33m,\u001b[0m\u001b[1;36m30\u001b[0m\u001b[1;33m,\u001b[0m\u001b[1;36m40\u001b[0m\u001b[1;33m,\u001b[0m\u001b[1;36m50\u001b[0m\u001b[1;33m,\u001b[0m\u001b[1;36m60\u001b[0m\u001b[1;33m,\u001b[0m\u001b[1;36m70\u001b[0m\u001b[1;33m)\u001b[0m\u001b[1;33m\u001b[0m\u001b[1;33m\u001b[0m\u001b[0m\n\u001b[0m",
      "\u001b[1;31mTypeError\u001b[0m: add() takes from 0 to 6 positional arguments but 7 were given"
     ]
    }
   ],
   "source": [
    "def add(a=0,b=0,c=0,d=0,e=0,f=0):\n",
    "    print(f\"a={a},b={b},c={c},d={d},e={e},f={f}\")\n",
    "    res=a+b+c+d+e+f\n",
    "    print(\"res=\",res)\n",
    "add(10,20,30,40,50,60,70)"
   ]
  },
  {
   "cell_type": "code",
   "execution_count": 3,
   "metadata": {},
   "outputs": [
    {
     "name": "stdout",
     "output_type": "stream",
     "text": [
      "() <class 'tuple'>\n",
      "(10,) <class 'tuple'>\n",
      "(10, 20) <class 'tuple'>\n",
      "(20, 30, 40) <class 'tuple'>\n",
      "(10, 20, 30, 40, 50, 60, 70) <class 'tuple'>\n"
     ]
    }
   ],
   "source": [
    "def add(*x):\n",
    "    print(x, type(x))\n",
    "add()\n",
    "add(10)\n",
    "add(10,20)\n",
    "add(20,30,40)\n",
    "add(10,20,30,40,50,60,70)"
   ]
  },
  {
   "cell_type": "code",
   "execution_count": 4,
   "metadata": {},
   "outputs": [
    {
     "ename": "TypeError",
     "evalue": "add() got an unexpected keyword argument 'a'",
     "output_type": "error",
     "traceback": [
      "\u001b[1;31m---------------------------------------------------------------------------\u001b[0m",
      "\u001b[1;31mTypeError\u001b[0m                                 Traceback (most recent call last)",
      "\u001b[1;32m<ipython-input-4-8973a7919baa>\u001b[0m in \u001b[0;36m<module>\u001b[1;34m\u001b[0m\n\u001b[0;32m      1\u001b[0m \u001b[1;32mdef\u001b[0m \u001b[0madd\u001b[0m\u001b[1;33m(\u001b[0m\u001b[1;33m*\u001b[0m\u001b[0mx\u001b[0m\u001b[1;33m)\u001b[0m\u001b[1;33m:\u001b[0m\u001b[1;33m\u001b[0m\u001b[1;33m\u001b[0m\u001b[0m\n\u001b[0;32m      2\u001b[0m     \u001b[0mprint\u001b[0m\u001b[1;33m(\u001b[0m\u001b[0mx\u001b[0m\u001b[1;33m,\u001b[0m \u001b[0mtype\u001b[0m\u001b[1;33m(\u001b[0m\u001b[0mx\u001b[0m\u001b[1;33m)\u001b[0m\u001b[1;33m)\u001b[0m\u001b[1;33m\u001b[0m\u001b[1;33m\u001b[0m\u001b[0m\n\u001b[1;32m----> 3\u001b[1;33m \u001b[0madd\u001b[0m\u001b[1;33m(\u001b[0m\u001b[0ma\u001b[0m\u001b[1;33m=\u001b[0m\u001b[1;36m10\u001b[0m\u001b[1;33m,\u001b[0m\u001b[0mb\u001b[0m\u001b[1;33m=\u001b[0m\u001b[1;36m20\u001b[0m\u001b[1;33m)\u001b[0m\u001b[1;33m\u001b[0m\u001b[1;33m\u001b[0m\u001b[0m\n\u001b[0m",
      "\u001b[1;31mTypeError\u001b[0m: add() got an unexpected keyword argument 'a'"
     ]
    }
   ],
   "source": [
    "def add(*x):\n",
    "    print(x, type(x))\n",
    "add(a=10,b=20)"
   ]
  },
  {
   "cell_type": "code",
   "execution_count": 6,
   "metadata": {},
   "outputs": [
    {
     "ename": "TypeError",
     "evalue": "registration() got an unexpected keyword argument 'adhar'",
     "output_type": "error",
     "traceback": [
      "\u001b[1;31m---------------------------------------------------------------------------\u001b[0m",
      "\u001b[1;31mTypeError\u001b[0m                                 Traceback (most recent call last)",
      "\u001b[1;32m<ipython-input-6-6ca2726b3ca7>\u001b[0m in \u001b[0;36m<module>\u001b[1;34m\u001b[0m\n\u001b[0;32m      3\u001b[0m     \u001b[1;31m# wight, email, phone are optional parameters\u001b[0m\u001b[1;33m\u001b[0m\u001b[1;33m\u001b[0m\u001b[1;33m\u001b[0m\u001b[0m\n\u001b[0;32m      4\u001b[0m     \u001b[0mprint\u001b[0m\u001b[1;33m(\u001b[0m\u001b[1;34mf\"name={name},age={age},height={height},weight={weight},email={email},phone={phone}\"\u001b[0m\u001b[1;33m)\u001b[0m\u001b[1;33m\u001b[0m\u001b[1;33m\u001b[0m\u001b[0m\n\u001b[1;32m----> 5\u001b[1;33m \u001b[0mregistration\u001b[0m\u001b[1;33m(\u001b[0m\u001b[0mage\u001b[0m\u001b[1;33m=\u001b[0m\u001b[1;36m23\u001b[0m\u001b[1;33m,\u001b[0m\u001b[0mheight\u001b[0m\u001b[1;33m=\u001b[0m\u001b[1;36m5.4\u001b[0m\u001b[1;33m,\u001b[0m\u001b[0mname\u001b[0m\u001b[1;33m=\u001b[0m\u001b[1;34m\"dhana\"\u001b[0m\u001b[1;33m,\u001b[0m\u001b[0madhar\u001b[0m\u001b[1;33m=\u001b[0m\u001b[1;34m\"adhar@1234\"\u001b[0m\u001b[1;33m)\u001b[0m\u001b[1;33m\u001b[0m\u001b[1;33m\u001b[0m\u001b[0m\n\u001b[0m",
      "\u001b[1;31mTypeError\u001b[0m: registration() got an unexpected keyword argument 'adhar'"
     ]
    }
   ],
   "source": [
    "def registration(name,age,height,weight=None,email=\"\",phone=\"0000000000\"):\n",
    "    #name,age,height are mandatory parameters\n",
    "    # wight, email, phone are optional parameters\n",
    "    print(f\"name={name},age={age},height={height},weight={weight},email={email},phone={phone}\")\n",
    "registration(age=23,height=5.4,name=\"dhana\",adhar=\"adhar@1234\")"
   ]
  },
  {
   "cell_type": "code",
   "execution_count": 8,
   "metadata": {},
   "outputs": [
    {
     "name": "stdout",
     "output_type": "stream",
     "text": [
      "name=dhana,age=23,height=5.4,weight=None,email=,phone=0000000000\n",
      "{'adhar': 'adhar@1234'} <class 'dict'>\n"
     ]
    }
   ],
   "source": [
    "def registration(name,age,height,weight=None,email=\"\",phone=\"0000000000\",**kw):\n",
    "    #name,age,height are mandatory parameters\n",
    "    # wight, email, phone are optional parameters\n",
    "    print(f\"name={name},age={age},height={height},weight={weight},email={email},phone={phone}\")\n",
    "    print(kw, type(kw))\n",
    "registration(age=23,height=5.4,name=\"dhana\",adhar=\"adhar@1234\")"
   ]
  },
  {
   "cell_type": "code",
   "execution_count": 9,
   "metadata": {},
   "outputs": [
    {
     "name": "stdout",
     "output_type": "stream",
     "text": [
      "a=10,b=0,args=(),kwargs={}\n"
     ]
    }
   ],
   "source": [
    "def fun(a,b=0,*args,**kwargs):\n",
    "    print(f\"a={a},b={b},args={args},kwargs={kwargs}\")\n",
    "fun(10)"
   ]
  },
  {
   "cell_type": "code",
   "execution_count": 10,
   "metadata": {},
   "outputs": [
    {
     "name": "stdout",
     "output_type": "stream",
     "text": [
      "a=10,b=20,args=(30, 40),kwargs={}\n"
     ]
    }
   ],
   "source": [
    "def fun(a,b=0,*args,**kwargs):\n",
    "    print(f\"a={a},b={b},args={args},kwargs={kwargs}\")\n",
    "fun(10,20,30,40)"
   ]
  },
  {
   "cell_type": "code",
   "execution_count": 11,
   "metadata": {},
   "outputs": [
    {
     "name": "stdout",
     "output_type": "stream",
     "text": [
      "a=10,b=20,args=(30, 40),kwargs={'c': 30, 'd': 40, 'e': 50}\n"
     ]
    }
   ],
   "source": [
    "def fun(a,b=0,*args,**kwargs):\n",
    "    print(f\"a={a},b={b},args={args},kwargs={kwargs}\")\n",
    "fun(10,20,30,40,c=30,d=40,e=50)"
   ]
  },
  {
   "cell_type": "code",
   "execution_count": 12,
   "metadata": {},
   "outputs": [
    {
     "name": "stdout",
     "output_type": "stream",
     "text": [
      "30\n",
      "res= None\n"
     ]
    }
   ],
   "source": [
    "def add(x,y):\n",
    "    print(x+y)\n",
    "    # it does not have a return statement. default return is None.\n",
    "res=add(10,20)\n",
    "print(\"res=\",res)"
   ]
  },
  {
   "cell_type": "code",
   "execution_count": 13,
   "metadata": {},
   "outputs": [
    {
     "name": "stdout",
     "output_type": "stream",
     "text": [
      "res= hello\n"
     ]
    }
   ],
   "source": [
    "def add(x,y):\n",
    "    z=x+y\n",
    "    return \"hello\"\n",
    "res=add(10,20)\n",
    "print(\"res=\",res)"
   ]
  },
  {
   "cell_type": "code",
   "execution_count": 14,
   "metadata": {},
   "outputs": [
    {
     "name": "stdout",
     "output_type": "stream",
     "text": [
      "res= hello\n"
     ]
    }
   ],
   "source": [
    "def add(x,y):\n",
    "    z=x+y\n",
    "    p=x-y\n",
    "    q=x*y\n",
    "    return \"hello\"\n",
    "res=add(10,20)\n",
    "print(\"res=\",res)"
   ]
  },
  {
   "cell_type": "code",
   "execution_count": 15,
   "metadata": {},
   "outputs": [
    {
     "name": "stdout",
     "output_type": "stream",
     "text": [
      "res= (-10, 200)\n"
     ]
    }
   ],
   "source": [
    "def add(x,y):\n",
    "    z=x+y\n",
    "    p=x-y\n",
    "    q=x*y\n",
    "    return p,q\n",
    "res=add(10,20)\n",
    "print(\"res=\",res)"
   ]
  },
  {
   "cell_type": "code",
   "execution_count": 16,
   "metadata": {},
   "outputs": [
    {
     "name": "stdout",
     "output_type": "stream",
     "text": [
      "res= (-10, 200, 30)\n"
     ]
    }
   ],
   "source": [
    "def add(x,y):\n",
    "    z=x+y\n",
    "    p=x-y\n",
    "    q=x*y\n",
    "    return p,q,z\n",
    "res=add(10,20)\n",
    "print(\"res=\",res)"
   ]
  },
  {
   "cell_type": "code",
   "execution_count": 17,
   "metadata": {},
   "outputs": [
    {
     "name": "stdout",
     "output_type": "stream",
     "text": [
      "[10, 20] <class 'list'>\n",
      "(10, 20) <class 'tuple'>\n",
      "{10, 20} <class 'set'>\n",
      "(10, 20) <class 'tuple'>\n"
     ]
    }
   ],
   "source": [
    "a=[10,20]\n",
    "print(a, type(a))\n",
    "a=(10,20)\n",
    "print(a, type(a))\n",
    "a={10,20}\n",
    "print(a, type(a))\n",
    "a=10,20\n",
    "print(a, type(a))"
   ]
  },
  {
   "cell_type": "code",
   "execution_count": 18,
   "metadata": {},
   "outputs": [
    {
     "name": "stdout",
     "output_type": "stream",
     "text": [
      "hello\n",
      "r1= 10\n",
      "hello\n",
      "r2= 10\n",
      "hello\n",
      "r3= 10\n"
     ]
    }
   ],
   "source": [
    "def fun():\n",
    "    print(\"hello\")\n",
    "    return 10\n",
    "    print(\"hi\")\n",
    "    return 20\n",
    "    print(\"hyd\")\n",
    "    return 30\n",
    "r1=fun()\n",
    "print(\"r1=\",r1)\n",
    "r2=fun()\n",
    "print(\"r2=\",r2)\n",
    "r3=fun()\n",
    "print(\"r3=\",r3)"
   ]
  },
  {
   "cell_type": "code",
   "execution_count": null,
   "metadata": {},
   "outputs": [],
   "source": [
    "def fun(number):\n",
    "    for i in range(number):\n",
    "        print(\"i=\",i)\n",
    "        if number==5:\n",
    "            return \"hello\"\n",
    "res=fun(3)\n",
    "print(\"res=\",res)"
   ]
  },
  {
   "cell_type": "code",
   "execution_count": 19,
   "metadata": {},
   "outputs": [
    {
     "name": "stdout",
     "output_type": "stream",
     "text": [
      "0\n",
      "1\n",
      "2\n"
     ]
    }
   ],
   "source": [
    "for i in range(3):\n",
    "    print(i)"
   ]
  },
  {
   "cell_type": "code",
   "execution_count": 20,
   "metadata": {},
   "outputs": [
    {
     "name": "stdout",
     "output_type": "stream",
     "text": [
      "i= 0\n",
      "i= 1\n",
      "i= 2\n",
      "res= None\n"
     ]
    }
   ],
   "source": [
    "def fun(number):\n",
    "    for i in range(number):\n",
    "        print(\"i=\",i)\n",
    "        if number==5:\n",
    "            return \"hello\"\n",
    "res=fun(3)\n",
    "print(\"res=\",res)"
   ]
  },
  {
   "cell_type": "code",
   "execution_count": 22,
   "metadata": {},
   "outputs": [
    {
     "name": "stdout",
     "output_type": "stream",
     "text": [
      "i= 0\n",
      "i= 1\n",
      "i= 2\n",
      "i= 3\n",
      "i= 4\n",
      "i= 5\n",
      "res= hello\n"
     ]
    }
   ],
   "source": [
    "def fun(number):\n",
    "    for i in range(number):\n",
    "        print(\"i=\",i)\n",
    "        if i==5:\n",
    "            return \"hello\"\n",
    "res=fun(8)\n",
    "print(\"res=\",res)"
   ]
  },
  {
   "cell_type": "code",
   "execution_count": 24,
   "metadata": {},
   "outputs": [
    {
     "name": "stdout",
     "output_type": "stream",
     "text": [
      "i= 0\n",
      "res= 0\n"
     ]
    }
   ],
   "source": [
    "def fun(number):\n",
    "    for i in range(number):\n",
    "        print(\"i=\",i)\n",
    "        if i%5==0:\n",
    "            break\n",
    "    return i\n",
    "res=fun(8)\n",
    "print(\"res=\",res)"
   ]
  },
  {
   "cell_type": "code",
   "execution_count": 23,
   "metadata": {},
   "outputs": [
    {
     "data": {
      "text/plain": [
       "0"
      ]
     },
     "execution_count": 23,
     "metadata": {},
     "output_type": "execute_result"
    }
   ],
   "source": [
    "0%5"
   ]
  },
  {
   "cell_type": "code",
   "execution_count": 25,
   "metadata": {},
   "outputs": [
    {
     "name": "stdout",
     "output_type": "stream",
     "text": [
      "i= 13\n",
      "i= 14\n",
      "i= 15\n",
      "res= 15\n"
     ]
    }
   ],
   "source": [
    "def fun(start,end):\n",
    "    for i in range(start,end):\n",
    "        print(\"i=\",i)\n",
    "        if i%5==0:\n",
    "            break\n",
    "    return i\n",
    "res=fun(13,18)\n",
    "print(\"res=\",res)"
   ]
  },
  {
   "cell_type": "code",
   "execution_count": 26,
   "metadata": {},
   "outputs": [
    {
     "name": "stdout",
     "output_type": "stream",
     "text": [
      "r1= <generator object fun at 0x000001EC2D04F900>\n",
      "r2= <generator object fun at 0x000001EC2D04F2E0>\n",
      "r3= <generator object fun at 0x000001EC2D04F5F0>\n"
     ]
    }
   ],
   "source": [
    "def fun():\n",
    "    print(\"1\")\n",
    "    print(\"hello\")\n",
    "    yield 10\n",
    "    print(\"hi\")\n",
    "    yield 20\n",
    "    print(\"45\")\n",
    "    print(\"hyd\")\n",
    "    yield 30\n",
    "r1=fun()\n",
    "print(\"r1=\",r1)\n",
    "r2=fun()\n",
    "print(\"r2=\",r2)\n",
    "r3=fun()\n",
    "print(\"r3=\",r3)"
   ]
  },
  {
   "cell_type": "code",
   "execution_count": 27,
   "metadata": {},
   "outputs": [
    {
     "name": "stdout",
     "output_type": "stream",
     "text": [
      "1\n",
      "hello\n",
      "r1= 10\n"
     ]
    }
   ],
   "source": [
    "def fun():\n",
    "    print(\"1\")\n",
    "    print(\"hello\")\n",
    "    yield 10\n",
    "    print(\"hi\")\n",
    "    yield 20\n",
    "    print(\"45\")\n",
    "    print(\"hyd\")\n",
    "    yield 30\n",
    "res=fun()\n",
    "r1=next(res)# execute up to first yield\n",
    "print(\"r1=\",r1)"
   ]
  },
  {
   "cell_type": "code",
   "execution_count": 28,
   "metadata": {},
   "outputs": [
    {
     "name": "stdout",
     "output_type": "stream",
     "text": [
      "1\n",
      "hello\n",
      "r1= 10\n",
      "hi\n",
      "r2= 20\n"
     ]
    }
   ],
   "source": [
    "def fun():\n",
    "    print(\"1\")\n",
    "    print(\"hello\")\n",
    "    yield 10\n",
    "    print(\"hi\")\n",
    "    yield 20\n",
    "    print(\"45\")\n",
    "    print(\"hyd\")\n",
    "    yield 30\n",
    "res=fun()\n",
    "r1=next(res)# execute up to first yield\n",
    "print(\"r1=\",r1)\n",
    "r2=next(res)# execute after first yield to second yield\n",
    "print(\"r2=\",r2)"
   ]
  },
  {
   "cell_type": "code",
   "execution_count": 29,
   "metadata": {},
   "outputs": [
    {
     "name": "stdout",
     "output_type": "stream",
     "text": [
      "1\n",
      "hello\n",
      "r1= 10\n",
      "hi\n",
      "r2= 20\n",
      "45\n",
      "hyd\n",
      "r3= 30\n"
     ]
    }
   ],
   "source": [
    "def fun():\n",
    "    print(\"1\")\n",
    "    print(\"hello\")\n",
    "    yield 10\n",
    "    print(\"hi\")\n",
    "    yield 20\n",
    "    print(\"45\")\n",
    "    print(\"hyd\")\n",
    "    yield 30\n",
    "res=fun()\n",
    "r1=next(res)# execute up to first yield\n",
    "print(\"r1=\",r1)\n",
    "r2=next(res)# execute after first yield to second yield\n",
    "print(\"r2=\",r2)\n",
    "r3=next(res)\n",
    "print(\"r3=\",r3)"
   ]
  },
  {
   "cell_type": "code",
   "execution_count": 30,
   "metadata": {},
   "outputs": [
    {
     "name": "stdout",
     "output_type": "stream",
     "text": [
      "1\n",
      "hello\n",
      "r1= 10\n",
      "hi\n",
      "r2= 20\n",
      "45\n",
      "hyd\n",
      "r3= 30\n"
     ]
    },
    {
     "ename": "StopIteration",
     "evalue": "",
     "output_type": "error",
     "traceback": [
      "\u001b[1;31m---------------------------------------------------------------------------\u001b[0m",
      "\u001b[1;31mStopIteration\u001b[0m                             Traceback (most recent call last)",
      "\u001b[1;32m<ipython-input-30-d44d6f44bea8>\u001b[0m in \u001b[0;36m<module>\u001b[1;34m\u001b[0m\n\u001b[0;32m     15\u001b[0m \u001b[0mr3\u001b[0m\u001b[1;33m=\u001b[0m\u001b[0mnext\u001b[0m\u001b[1;33m(\u001b[0m\u001b[0mres\u001b[0m\u001b[1;33m)\u001b[0m\u001b[1;33m\u001b[0m\u001b[1;33m\u001b[0m\u001b[0m\n\u001b[0;32m     16\u001b[0m \u001b[0mprint\u001b[0m\u001b[1;33m(\u001b[0m\u001b[1;34m\"r3=\"\u001b[0m\u001b[1;33m,\u001b[0m\u001b[0mr3\u001b[0m\u001b[1;33m)\u001b[0m\u001b[1;33m\u001b[0m\u001b[1;33m\u001b[0m\u001b[0m\n\u001b[1;32m---> 17\u001b[1;33m \u001b[0mr4\u001b[0m\u001b[1;33m=\u001b[0m\u001b[0mnext\u001b[0m\u001b[1;33m(\u001b[0m\u001b[0mres\u001b[0m\u001b[1;33m)\u001b[0m\u001b[1;33m\u001b[0m\u001b[1;33m\u001b[0m\u001b[0m\n\u001b[0m\u001b[0;32m     18\u001b[0m \u001b[0mprint\u001b[0m\u001b[1;33m(\u001b[0m\u001b[1;34m\"r4=\"\u001b[0m\u001b[1;33m,\u001b[0m\u001b[0mr4\u001b[0m\u001b[1;33m)\u001b[0m\u001b[1;33m\u001b[0m\u001b[1;33m\u001b[0m\u001b[0m\n",
      "\u001b[1;31mStopIteration\u001b[0m: "
     ]
    }
   ],
   "source": [
    "def fun():\n",
    "    print(\"1\")\n",
    "    print(\"hello\")\n",
    "    yield 10\n",
    "    print(\"hi\")\n",
    "    yield 20\n",
    "    print(\"45\")\n",
    "    print(\"hyd\")\n",
    "    yield 30\n",
    "res=fun()\n",
    "r1=next(res)# execute up to first yield\n",
    "print(\"r1=\",r1)\n",
    "r2=next(res)# execute after first yield to second yield\n",
    "print(\"r2=\",r2)\n",
    "r3=next(res)\n",
    "print(\"r3=\",r3)\n",
    "r4=next(res)\n",
    "print(\"r4=\",r4)"
   ]
  },
  {
   "cell_type": "code",
   "execution_count": 31,
   "metadata": {},
   "outputs": [
    {
     "name": "stdout",
     "output_type": "stream",
     "text": [
      "1\n",
      "3\n",
      "2\n",
      "end\n"
     ]
    }
   ],
   "source": [
    "for i in [1,3,2]:\n",
    "    print(i)\n",
    "print(\"end\")"
   ]
  },
  {
   "cell_type": "code",
   "execution_count": 32,
   "metadata": {},
   "outputs": [
    {
     "name": "stdout",
     "output_type": "stream",
     "text": [
      "1\n",
      "hello\n",
      "iteration started\n",
      "k= 10\n",
      "iteration ended\n",
      "hi\n",
      "iteration started\n",
      "k= 20\n",
      "iteration ended\n",
      "45\n",
      "hyd\n",
      "iteration started\n",
      "k= 30\n",
      "iteration ended\n",
      "END\n"
     ]
    }
   ],
   "source": [
    "def fun():\n",
    "    print(\"1\")\n",
    "    print(\"hello\")\n",
    "    yield 10\n",
    "    print(\"hi\")\n",
    "    yield 20\n",
    "    print(\"45\")\n",
    "    print(\"hyd\")\n",
    "    yield 30\n",
    "res=fun()\n",
    "for k in res:#next(res),k=10:next(res),k=20:next(res),k=30:next(res): raise Stopiteration\n",
    "    print(\"iteration started\")\n",
    "    print(\"k=\",k)\n",
    "    print(\"iteration ended\")\n",
    "print(\"END\")"
   ]
  },
  {
   "cell_type": "code",
   "execution_count": 33,
   "metadata": {},
   "outputs": [
    {
     "name": "stdout",
     "output_type": "stream",
     "text": [
      "1\n",
      "hello\n",
      "iteration started\n",
      "k= 10\n",
      "iteration ended\n",
      "hi\n",
      "iteration started\n",
      "k= 20\n",
      "iteration ended\n",
      "45\n",
      "hyd\n",
      "iteration started\n",
      "k= 30\n",
      "iteration ended\n",
      "END\n"
     ]
    }
   ],
   "source": [
    "def fun():\n",
    "    print(\"1\")\n",
    "    print(\"hello\")\n",
    "    yield 10\n",
    "    print(\"hi\")\n",
    "    yield 20\n",
    "    print(\"45\")\n",
    "    print(\"hyd\")\n",
    "    yield 30\n",
    "for k in fun():#next(res),k=10:next(res),k=20:next(res),k=30:next(res): raise Stopiteration\n",
    "    print(\"iteration started\")\n",
    "    print(\"k=\",k)\n",
    "    print(\"iteration ended\")\n",
    "print(\"END\")"
   ]
  },
  {
   "cell_type": "code",
   "execution_count": 34,
   "metadata": {},
   "outputs": [
    {
     "name": "stdout",
     "output_type": "stream",
     "text": [
      "hi\n",
      "iteration started\n",
      "k= 10\n",
      "iteration ended\n",
      "iteration started\n",
      "k= 20\n",
      "iteration ended\n",
      "iteration started\n",
      "k= 30\n",
      "iteration ended\n",
      "iteration started\n",
      "k= 4\n",
      "iteration ended\n",
      "END\n"
     ]
    }
   ],
   "source": [
    "def fun():\n",
    "    print(\"hi\")\n",
    "    return (10,20,30,4)\n",
    "for k in fun():\n",
    "    print(\"iteration started\")\n",
    "    print(\"k=\",k)\n",
    "    print(\"iteration ended\")\n",
    "print(\"END\")"
   ]
  },
  {
   "cell_type": "code",
   "execution_count": 35,
   "metadata": {},
   "outputs": [
    {
     "name": "stdout",
     "output_type": "stream",
     "text": [
      "hi\n"
     ]
    },
    {
     "ename": "TypeError",
     "evalue": "'NoneType' object is not iterable",
     "output_type": "error",
     "traceback": [
      "\u001b[1;31m---------------------------------------------------------------------------\u001b[0m",
      "\u001b[1;31mTypeError\u001b[0m                                 Traceback (most recent call last)",
      "\u001b[1;32m<ipython-input-35-7baedc1287dd>\u001b[0m in \u001b[0;36m<module>\u001b[1;34m\u001b[0m\n\u001b[0;32m      2\u001b[0m     \u001b[0mprint\u001b[0m\u001b[1;33m(\u001b[0m\u001b[1;34m\"hi\"\u001b[0m\u001b[1;33m)\u001b[0m\u001b[1;33m\u001b[0m\u001b[1;33m\u001b[0m\u001b[0m\n\u001b[0;32m      3\u001b[0m     \u001b[1;32mreturn\u001b[0m \u001b[1;32mNone\u001b[0m\u001b[1;33m\u001b[0m\u001b[1;33m\u001b[0m\u001b[0m\n\u001b[1;32m----> 4\u001b[1;33m \u001b[1;32mfor\u001b[0m \u001b[0mk\u001b[0m \u001b[1;32min\u001b[0m \u001b[0mfun\u001b[0m\u001b[1;33m(\u001b[0m\u001b[1;33m)\u001b[0m\u001b[1;33m:\u001b[0m\u001b[1;33m\u001b[0m\u001b[1;33m\u001b[0m\u001b[0m\n\u001b[0m\u001b[0;32m      5\u001b[0m     \u001b[0mprint\u001b[0m\u001b[1;33m(\u001b[0m\u001b[1;34m\"iteration started\"\u001b[0m\u001b[1;33m)\u001b[0m\u001b[1;33m\u001b[0m\u001b[1;33m\u001b[0m\u001b[0m\n\u001b[0;32m      6\u001b[0m     \u001b[0mprint\u001b[0m\u001b[1;33m(\u001b[0m\u001b[1;34m\"k=\"\u001b[0m\u001b[1;33m,\u001b[0m\u001b[0mk\u001b[0m\u001b[1;33m)\u001b[0m\u001b[1;33m\u001b[0m\u001b[1;33m\u001b[0m\u001b[0m\n",
      "\u001b[1;31mTypeError\u001b[0m: 'NoneType' object is not iterable"
     ]
    }
   ],
   "source": [
    "def fun():\n",
    "    print(\"hi\")\n",
    "    return None\n",
    "for k in fun():\n",
    "    print(\"iteration started\")\n",
    "    print(\"k=\",k)\n",
    "    print(\"iteration ended\")\n",
    "print(\"END\")"
   ]
  },
  {
   "cell_type": "code",
   "execution_count": 36,
   "metadata": {},
   "outputs": [
    {
     "name": "stdout",
     "output_type": "stream",
     "text": [
      "1\n",
      "hello\n",
      "iteration started\n",
      "k= 10\n",
      "iteration ended\n",
      "hi\n",
      "iteration started\n",
      "k= 20\n",
      "iteration ended\n",
      "45\n",
      "hyd\n",
      "iteration started\n",
      "k= 30\n",
      "iteration ended\n",
      "iterating second time...\n",
      "END\n"
     ]
    }
   ],
   "source": [
    "def fun():\n",
    "    print(\"1\")\n",
    "    print(\"hello\")\n",
    "    yield 10\n",
    "    print(\"hi\")\n",
    "    yield 20\n",
    "    print(\"45\")\n",
    "    print(\"hyd\")\n",
    "    yield 30\n",
    "res=fun()\n",
    "for k in res:\n",
    "    print(\"iteration started\")\n",
    "    print(\"k=\",k)\n",
    "    print(\"iteration ended\")\n",
    "print(\"iterating second time...\")\n",
    "for i in res:\n",
    "    print(\"i=\",i)\n",
    "print(\"END\")"
   ]
  },
  {
   "cell_type": "code",
   "execution_count": 37,
   "metadata": {},
   "outputs": [
    {
     "name": "stdout",
     "output_type": "stream",
     "text": [
      "i= 1\n",
      "i= 2\n",
      "i= 3\n"
     ]
    }
   ],
   "source": [
    "def fun():\n",
    "    yield 1\n",
    "    yield 2\n",
    "    yield 3\n",
    "res=fun()\n",
    "for i in res:\n",
    "    print(\"i=\",i)"
   ]
  },
  {
   "cell_type": "code",
   "execution_count": 38,
   "metadata": {},
   "outputs": [
    {
     "name": "stdout",
     "output_type": "stream",
     "text": [
      "i= 1\n",
      "i= 2\n",
      "i= 3\n"
     ]
    }
   ],
   "source": [
    "def fun():\n",
    "    return [1,2,3]\n",
    "res=fun()\n",
    "for i in res:\n",
    "    print(\"i=\",i)"
   ]
  },
  {
   "cell_type": "code",
   "execution_count": 39,
   "metadata": {},
   "outputs": [
    {
     "name": "stdout",
     "output_type": "stream",
     "text": [
      "i= 1\n",
      "i= 2\n",
      "i= 3\n",
      "second time\n"
     ]
    }
   ],
   "source": [
    "def fun():\n",
    "    yield 1\n",
    "    yield 2\n",
    "    yield 3\n",
    "res=fun()\n",
    "for i in res:\n",
    "    print(\"i=\",i)\n",
    "print(\"second time\")\n",
    "for i in res:\n",
    "    print(\"i=\",i)"
   ]
  },
  {
   "cell_type": "code",
   "execution_count": 40,
   "metadata": {},
   "outputs": [
    {
     "name": "stdout",
     "output_type": "stream",
     "text": [
      "i= 1\n",
      "i= 2\n",
      "i= 3\n",
      "second time\n",
      "i= 1\n",
      "i= 2\n",
      "i= 3\n"
     ]
    }
   ],
   "source": [
    "def fun():\n",
    "    return [1,2,3]\n",
    "res=fun()\n",
    "for i in res:\n",
    "    print(\"i=\",i)\n",
    "print(\"second time\")\n",
    "for i in res:\n",
    "    print(\"i=\",i)"
   ]
  },
  {
   "cell_type": "code",
   "execution_count": 41,
   "metadata": {},
   "outputs": [
    {
     "name": "stdout",
     "output_type": "stream",
     "text": [
      "i= 1\n",
      "i= 2\n",
      "i= 3\n",
      "second time\n",
      "i= 1\n",
      "i= 2\n",
      "i= 3\n"
     ]
    }
   ],
   "source": [
    "def fun():\n",
    "    yield 1\n",
    "    yield 2\n",
    "    yield 3\n",
    "res=fun()\n",
    "for i in res:\n",
    "    print(\"i=\",i)\n",
    "print(\"second time\")\n",
    "res=fun()\n",
    "for i in res:\n",
    "    print(\"i=\",i)"
   ]
  },
  {
   "cell_type": "code",
   "execution_count": 1,
   "metadata": {},
   "outputs": [
    {
     "name": "stdout",
     "output_type": "stream",
     "text": [
      "10\n"
     ]
    }
   ],
   "source": [
    "x=10\n",
    "def fun():\n",
    "    print(x)\n",
    "fun()"
   ]
  },
  {
   "cell_type": "code",
   "execution_count": 2,
   "metadata": {},
   "outputs": [
    {
     "name": "stdout",
     "output_type": "stream",
     "text": [
      "10 20\n"
     ]
    }
   ],
   "source": [
    "x=10\n",
    "def fun():\n",
    "    y=20\n",
    "    print(x,y)\n",
    "fun()\n"
   ]
  },
  {
   "cell_type": "code",
   "execution_count": 3,
   "metadata": {},
   "outputs": [
    {
     "name": "stdout",
     "output_type": "stream",
     "text": [
      "inside fun: x=10, y=20\n"
     ]
    },
    {
     "ename": "NameError",
     "evalue": "name 'y' is not defined",
     "output_type": "error",
     "traceback": [
      "\u001b[1;31m---------------------------------------------------------------------------\u001b[0m",
      "\u001b[1;31mNameError\u001b[0m                                 Traceback (most recent call last)",
      "\u001b[1;32m<ipython-input-3-9a9dab28533b>\u001b[0m in \u001b[0;36m<module>\u001b[1;34m\u001b[0m\n\u001b[0;32m      4\u001b[0m     \u001b[0mprint\u001b[0m\u001b[1;33m(\u001b[0m\u001b[1;34m\"inside fun: x=%s, y=%s\"\u001b[0m\u001b[1;33m%\u001b[0m\u001b[1;33m(\u001b[0m\u001b[0mx\u001b[0m\u001b[1;33m,\u001b[0m\u001b[0my\u001b[0m\u001b[1;33m)\u001b[0m\u001b[1;33m)\u001b[0m\u001b[1;33m\u001b[0m\u001b[1;33m\u001b[0m\u001b[0m\n\u001b[0;32m      5\u001b[0m \u001b[0mfun\u001b[0m\u001b[1;33m(\u001b[0m\u001b[1;33m)\u001b[0m\u001b[1;33m\u001b[0m\u001b[1;33m\u001b[0m\u001b[0m\n\u001b[1;32m----> 6\u001b[1;33m \u001b[0mprint\u001b[0m\u001b[1;33m(\u001b[0m\u001b[1;34mf\"out side fun: x={x}, y={y}\"\u001b[0m\u001b[1;33m)\u001b[0m\u001b[1;33m\u001b[0m\u001b[1;33m\u001b[0m\u001b[0m\n\u001b[0m",
      "\u001b[1;31mNameError\u001b[0m: name 'y' is not defined"
     ]
    }
   ],
   "source": [
    "x=10\n",
    "def fun():\n",
    "    y=20\n",
    "    print(\"inside fun: x=%s, y=%s\"%(x,y))\n",
    "fun()\n",
    "print(f\"out side fun: x={x}, y={y}\")"
   ]
  },
  {
   "cell_type": "code",
   "execution_count": 4,
   "metadata": {},
   "outputs": [
    {
     "name": "stdout",
     "output_type": "stream",
     "text": [
      "inside fun: x=10, y=20, z=30\n",
      "out side fun: x=10, z=30\n"
     ]
    }
   ],
   "source": [
    "x=10\n",
    "p=40\n",
    "def fun():\n",
    "    y=20\n",
    "    global z\n",
    "    global p\n",
    "    p=50\n",
    "    z=30\n",
    "    print(\"inside fun: x=%s, y=%s, z=%s, p=%s\"%(x,y,z,p))\n",
    "fun()\n",
    "print(f\"out side fun: x={x}, z={z}, p={p}\")"
   ]
  },
  {
   "cell_type": "code",
   "execution_count": 5,
   "metadata": {},
   "outputs": [
    {
     "name": "stdout",
     "output_type": "stream",
     "text": [
      "<function add at 0x000001CF23288EE0> <class 'function'>\n",
      "30\n"
     ]
    }
   ],
   "source": [
    "def add(x,y):\n",
    "    return x+y\n",
    "print(add, type(add))\n",
    "print(add(10,20))"
   ]
  },
  {
   "cell_type": "code",
   "execution_count": 6,
   "metadata": {},
   "outputs": [
    {
     "name": "stdout",
     "output_type": "stream",
     "text": [
      "2000\n"
     ]
    }
   ],
   "source": [
    "a=1000\n",
    "a=2000\n",
    "print(a)"
   ]
  },
  {
   "cell_type": "code",
   "execution_count": 7,
   "metadata": {},
   "outputs": [],
   "source": [
    "def add(x,y):\n",
    "    return x+y\n",
    "a=1000\n",
    "b=a"
   ]
  },
  {
   "cell_type": "code",
   "execution_count": 8,
   "metadata": {},
   "outputs": [
    {
     "name": "stdout",
     "output_type": "stream",
     "text": [
      "30\n"
     ]
    }
   ],
   "source": [
    "def add(x,y):\n",
    "    return x+y\n",
    "a=1000\n",
    "b=add\n",
    "print(b(10,20))"
   ]
  },
  {
   "cell_type": "code",
   "execution_count": 10,
   "metadata": {},
   "outputs": [
    {
     "name": "stdout",
     "output_type": "stream",
     "text": [
      "1000 1989159004720\n",
      "1000 1989159004720\n"
     ]
    }
   ],
   "source": [
    "a=1000\n",
    "print(a, id(a))\n",
    "def fun(x):\n",
    "    print(x,id(x))\n",
    "fun(a)#x=a, or x=1000"
   ]
  },
  {
   "cell_type": "code",
   "execution_count": 11,
   "metadata": {},
   "outputs": [
    {
     "name": "stdout",
     "output_type": "stream",
     "text": [
      "1\n"
     ]
    }
   ],
   "source": [
    "a=[1,2,3,4]\n",
    "print(a[0])"
   ]
  },
  {
   "cell_type": "code",
   "execution_count": 12,
   "metadata": {},
   "outputs": [
    {
     "name": "stdout",
     "output_type": "stream",
     "text": [
      "[10, 2, 3, 4]\n"
     ]
    }
   ],
   "source": [
    "a=[1,2,3,4]\n",
    "a[0]=10\n",
    "print(a)"
   ]
  },
  {
   "cell_type": "code",
   "execution_count": 13,
   "metadata": {},
   "outputs": [
    {
     "name": "stdout",
     "output_type": "stream",
     "text": [
      "[5000, 2000, 3000, 4000]\n",
      "[5000, 2000, 3000, 4000]\n"
     ]
    }
   ],
   "source": [
    "a=[1000,2000,3000,4000]\n",
    "b=a\n",
    "a[0]=5000\n",
    "print(a)\n",
    "print(b)"
   ]
  },
  {
   "cell_type": "code",
   "execution_count": 14,
   "metadata": {},
   "outputs": [
    {
     "name": "stdout",
     "output_type": "stream",
     "text": [
      "[1, 2000, 3000, 4000]\n"
     ]
    }
   ],
   "source": [
    "a=[1000,2000,3000,4000]\n",
    "def fun(x):\n",
    "    x[0]=1\n",
    "fun(a)#x=a.\n",
    "print(a)"
   ]
  },
  {
   "cell_type": "code",
   "execution_count": 15,
   "metadata": {},
   "outputs": [
    {
     "name": "stdout",
     "output_type": "stream",
     "text": [
      "1000\n"
     ]
    }
   ],
   "source": [
    "a=1000\n",
    "def fun(x):\n",
    "    x=2000\n",
    "fun(a)# x=a\n",
    "print(a)\n"
   ]
  },
  {
   "cell_type": "code",
   "execution_count": 16,
   "metadata": {},
   "outputs": [
    {
     "name": "stdout",
     "output_type": "stream",
     "text": [
      "upper\n"
     ]
    }
   ],
   "source": [
    "def add(x,y):\n",
    "    return x+y\n",
    "def upper(x):\n",
    "    print(\"upper\")\n",
    "upper(add)"
   ]
  },
  {
   "cell_type": "code",
   "execution_count": 17,
   "metadata": {},
   "outputs": [
    {
     "name": "stdout",
     "output_type": "stream",
     "text": [
      "upper\n",
      "300\n"
     ]
    }
   ],
   "source": [
    "def add(x,y):\n",
    "    return x+y\n",
    "def upper(x):\n",
    "    print(\"upper\")\n",
    "    res=x(100,200)\n",
    "    print(res)\n",
    "upper(add)"
   ]
  },
  {
   "cell_type": "code",
   "execution_count": 18,
   "metadata": {},
   "outputs": [
    {
     "name": "stdout",
     "output_type": "stream",
     "text": [
      "upper\n"
     ]
    }
   ],
   "source": [
    "def add(x,y):\n",
    "    return x+y\n",
    "def upper(x):\n",
    "    print(\"upper\")\n",
    "    def inner():\n",
    "        print(\"inner\")\n",
    "upper(10)"
   ]
  },
  {
   "cell_type": "code",
   "execution_count": 19,
   "metadata": {},
   "outputs": [
    {
     "name": "stdout",
     "output_type": "stream",
     "text": [
      "<function upper at 0x000001CF23288CA0>\n"
     ]
    }
   ],
   "source": [
    "def add(x,y):\n",
    "    return x+y\n",
    "def upper(x):\n",
    "    print(\"upper\")\n",
    "    def inner():\n",
    "        print(\"inner\")\n",
    "    return inner\n",
    "res=upper# what res reffers here? the res refering upper function object\n",
    "print(res)"
   ]
  },
  {
   "cell_type": "code",
   "execution_count": 20,
   "metadata": {},
   "outputs": [
    {
     "name": "stdout",
     "output_type": "stream",
     "text": [
      "upper\n",
      "<function upper.<locals>.inner at 0x000001CF232BA160>\n"
     ]
    }
   ],
   "source": [
    "def add(x,y):\n",
    "    return x+y\n",
    "def upper(x):\n",
    "    print(\"upper\")\n",
    "    def inner():\n",
    "        print(\"inner\")\n",
    "    return inner\n",
    "res=upper(100)# what res reffers here? inner object.\n",
    "print(res)"
   ]
  },
  {
   "cell_type": "code",
   "execution_count": 21,
   "metadata": {},
   "outputs": [
    {
     "name": "stdout",
     "output_type": "stream",
     "text": [
      "upper\n",
      "inner\n"
     ]
    }
   ],
   "source": [
    "def add(x,y):\n",
    "    return x+y\n",
    "def upper(x):\n",
    "    print(\"upper\")\n",
    "    def inner():\n",
    "        print(\"inner\")\n",
    "    return inner\n",
    "res=upper(100)# what res reffers here? inner object.\n",
    "res()"
   ]
  },
  {
   "cell_type": "code",
   "execution_count": 22,
   "metadata": {},
   "outputs": [
    {
     "name": "stdout",
     "output_type": "stream",
     "text": [
      "upper\n",
      "(10, 20, 30, 40)\n"
     ]
    }
   ],
   "source": [
    "def add(x,y):\n",
    "    return x+y\n",
    "def upper(x):\n",
    "    print(\"upper\")\n",
    "    def inner(*args):\n",
    "        print(args)\n",
    "    return inner\n",
    "res=upper(100)# what res reffers here? inner object.\n",
    "res(10,20,30,40)"
   ]
  },
  {
   "cell_type": "code",
   "execution_count": null,
   "metadata": {},
   "outputs": [],
   "source": [
    "def add(x,y):\n",
    "    return x+y\n",
    "def upper(fun):\n",
    "    print(\"upper\")\n",
    "    def inner(*args):\n",
    "        res = fun(*args)\n",
    "        print(res)\n",
    "    return inner\n",
    "res=upper(add)# what res reffers here? inner object.\n",
    "res(10,20)"
   ]
  },
  {
   "cell_type": "code",
   "execution_count": 23,
   "metadata": {},
   "outputs": [
    {
     "name": "stdout",
     "output_type": "stream",
     "text": [
      "([10, 20, 30, 40],)\n"
     ]
    }
   ],
   "source": [
    "l=[10,20,30,40]\n",
    "def fun(*args):\n",
    "    print(args)\n",
    "fun(l)"
   ]
  },
  {
   "cell_type": "code",
   "execution_count": 24,
   "metadata": {},
   "outputs": [
    {
     "name": "stdout",
     "output_type": "stream",
     "text": [
      "([10, 20, 30, 40],)\n",
      "(10, 20, 30, 40)\n"
     ]
    }
   ],
   "source": [
    "l=[10,20,30,40]\n",
    "def fun(*args):\n",
    "    print(args)\n",
    "fun(l)\n",
    "fun(10,20,30,40)"
   ]
  },
  {
   "cell_type": "code",
   "execution_count": 25,
   "metadata": {},
   "outputs": [
    {
     "name": "stdout",
     "output_type": "stream",
     "text": [
      "([10, 20, 30, 40],)\n",
      "(10, 20, 30, 40)\n",
      "(10, 20, 30, 40)\n"
     ]
    }
   ],
   "source": [
    "l=[10,20,30,40]\n",
    "def fun(*args):\n",
    "    print(args)\n",
    "fun(l)\n",
    "fun(10,20,30,40)\n",
    "fun(*l)"
   ]
  },
  {
   "cell_type": "code",
   "execution_count": 26,
   "metadata": {},
   "outputs": [
    {
     "name": "stdout",
     "output_type": "stream",
     "text": [
      "30\n"
     ]
    }
   ],
   "source": [
    "def add(x,y):\n",
    "    return x+y\n",
    "def upper(fun):\n",
    "    def inner(*args):\n",
    "        #res=fun(args), add((10,20))\n",
    "        res = fun(*args)#add(10,20)\n",
    "        print(res)\n",
    "    return inner\n",
    "res=upper(add)# what res reffers here? inner object.\n",
    "res(10,20)"
   ]
  },
  {
   "cell_type": "code",
   "execution_count": 1,
   "metadata": {},
   "outputs": [
    {
     "name": "stdout",
     "output_type": "stream",
     "text": [
      "3\n",
      "-1\n",
      "2\n"
     ]
    }
   ],
   "source": [
    "def add(x,y):\n",
    "    return x+y\n",
    "def sub(x,y):\n",
    "    return x-y\n",
    "def mul(x,y):\n",
    "    return x*y\n",
    "print(add(1,2))\n",
    "print(sub(1,2))\n",
    "print(mul(1,2))\n"
   ]
  },
  {
   "cell_type": "code",
   "execution_count": 2,
   "metadata": {},
   "outputs": [
    {
     "name": "stdout",
     "output_type": "stream",
     "text": [
      "x=1,y=2\n",
      "res=3\n",
      "x=1,y=2\n",
      "res=-1\n",
      "x=1,y=2\n",
      "res=2\n"
     ]
    }
   ],
   "source": [
    "\"\"\"\n",
    "x=1,y=2, res=3\n",
    "x=1,y=2, res=-1\n",
    "x=1,y=2, res=2\n",
    "\"\"\"\n",
    "def add(x,y):\n",
    "    print(f\"x={x},y={y}\")\n",
    "    return \"res=%s\"%(x+y)\n",
    "def sub(x,y):\n",
    "    print(f\"x={x},y={y}\")\n",
    "    return \"res=%s\"%(x-y)\n",
    "def mul(x,y):\n",
    "    print(f\"x={x},y={y}\")\n",
    "    return \"res=%s\"%(x*y)\n",
    "print(add(1,2))\n",
    "print(sub(1,2))\n",
    "print(mul(1,2))\n"
   ]
  },
  {
   "cell_type": "code",
   "execution_count": 3,
   "metadata": {},
   "outputs": [
    {
     "name": "stdout",
     "output_type": "stream",
     "text": [
      "3\n",
      "-1\n",
      "2\n"
     ]
    }
   ],
   "source": [
    "def change_resp(fun):\n",
    "    def wrapper(x,y):\n",
    "        print(f\"x={x},y={y}\")\n",
    "        res=fun(x,y)\n",
    "        return \"res=%s\"%res\n",
    "def add(x,y):\n",
    "    return x+y\n",
    "def sub(x,y):\n",
    "    return x-y\n",
    "def mul(x,y):\n",
    "    return x*y\n",
    "print(add(1,2))\n",
    "print(sub(1,2))\n",
    "print(mul(1,2))\n"
   ]
  },
  {
   "cell_type": "code",
   "execution_count": 4,
   "metadata": {},
   "outputs": [
    {
     "name": "stdout",
     "output_type": "stream",
     "text": [
      "x=1,y=2\n",
      "res=3\n",
      "x=1,y=2\n",
      "res=-1\n",
      "x=1,y=2\n",
      "res=2\n"
     ]
    }
   ],
   "source": [
    "def change_resp(fun):\n",
    "    def wrapper(x,y):\n",
    "        print(f\"x={x},y={y}\")\n",
    "        res=fun(x,y)\n",
    "        return \"res=%s\"%res\n",
    "    return wrapper\n",
    "def add(x,y):\n",
    "    return x+y\n",
    "def sub(x,y):\n",
    "    return x-y\n",
    "def mul(x,y):\n",
    "    return x*y\n",
    "print(change_resp(add)(1,2))\n",
    "print(change_resp(sub)(1,2))\n",
    "print(change_resp(mul)(1,2))\n"
   ]
  },
  {
   "cell_type": "code",
   "execution_count": 5,
   "metadata": {},
   "outputs": [
    {
     "name": "stdout",
     "output_type": "stream",
     "text": [
      "3\n",
      "-1\n",
      "2\n"
     ]
    }
   ],
   "source": [
    "def change_resp(fun):\n",
    "    def wrapper(x,y):\n",
    "        print(f\"x={x},y={y}\")\n",
    "        res=fun(x,y)\n",
    "        return \"res=%s\"%res\n",
    "    return wrapper\n",
    "def add(x,y):\n",
    "    return x+y\n",
    "def sub(x,y):\n",
    "    return x-y\n",
    "def mul(x,y):\n",
    "    return x*y\n",
    "print(add(1,2))\n",
    "print(sub(1,2))\n",
    "print(mul(1,2))\n"
   ]
  },
  {
   "cell_type": "code",
   "execution_count": 6,
   "metadata": {},
   "outputs": [
    {
     "name": "stdout",
     "output_type": "stream",
     "text": [
      "x=1,y=2\n",
      "res=3\n",
      "-1\n",
      "2\n"
     ]
    }
   ],
   "source": [
    "def change_resp(fun):\n",
    "    def wrapper(x,y):\n",
    "        print(f\"x={x},y={y}\")\n",
    "        res=fun(x,y)\n",
    "        return \"res=%s\"%res\n",
    "    return wrapper\n",
    "\n",
    "@change_resp\n",
    "def add(x,y):\n",
    "    return x+y\n",
    "def sub(x,y):\n",
    "    return x-y\n",
    "def mul(x,y):\n",
    "    return x*y\n",
    "print(add(1,2))#change_resp(add)(1,2)\n",
    "print(sub(1,2))\n",
    "print(mul(1,2))\n"
   ]
  },
  {
   "cell_type": "code",
   "execution_count": 7,
   "metadata": {},
   "outputs": [
    {
     "name": "stdout",
     "output_type": "stream",
     "text": [
      "x=1,y=2\n",
      "res=3\n",
      "x=1,y=2\n",
      "res=-1\n",
      "x=1,y=2\n",
      "res=2\n"
     ]
    }
   ],
   "source": [
    "def change_resp(fun):\n",
    "    def wrapper(x,y):\n",
    "        print(f\"x={x},y={y}\")\n",
    "        res=fun(x,y)\n",
    "        return \"res=%s\"%res\n",
    "    return wrapper\n",
    "\n",
    "@change_resp\n",
    "def add(x,y):\n",
    "    return x+y\n",
    "@change_resp\n",
    "def sub(x,y):\n",
    "    return x-y\n",
    "@change_resp\n",
    "def mul(x,y):\n",
    "    return x*y\n",
    "print(add(1,2))#change_resp(add)(1,2)\n",
    "print(sub(1,2))#change_resp(sub)(1,2)\n",
    "print(mul(1,2))#change_resp(mul)(1,2)\n"
   ]
  },
  {
   "cell_type": "code",
   "execution_count": 8,
   "metadata": {},
   "outputs": [
    {
     "name": "stdout",
     "output_type": "stream",
     "text": [
      "x=1,y=2\n",
      "x=1,y=2\n",
      "x=1,y=2\n"
     ]
    }
   ],
   "source": [
    "def change_resp(fun):\n",
    "    def wrapper(x,y):\n",
    "        print(f\"x={x},y={y}\")\n",
    "        res=fun(x,y)\n",
    "        return \"res=%s\"%res\n",
    "    return wrapper\n",
    "\n",
    "@change_resp\n",
    "def add(x,y):\n",
    "    return x+y\n",
    "@change_resp\n",
    "def sub(x,y):\n",
    "    return x-y\n",
    "@change_resp\n",
    "def mul(x,y):\n",
    "    return x*y\n",
    "r1 = add(1,2)#change_resp(add)(1,2)\n",
    "r2 = sub(1,2)#change_resp(sub)(1,2)\n",
    "r3 = mul(1,2)#change_resp(mul)(1,2)\n"
   ]
  },
  {
   "cell_type": "code",
   "execution_count": 9,
   "metadata": {},
   "outputs": [
    {
     "name": "stdout",
     "output_type": "stream",
     "text": [
      "x=1,y=2\n",
      "x=1,y=2\n",
      "x=1,y=2\n",
      "res=3\n",
      "res=-1\n",
      "res=2\n"
     ]
    }
   ],
   "source": [
    "def change_resp(fun):\n",
    "    def wrapper(x,y):\n",
    "        print(f\"x={x},y={y}\")\n",
    "        res=fun(x,y)\n",
    "        return \"res=%s\"%res\n",
    "    return wrapper\n",
    "\n",
    "@change_resp\n",
    "def add(x,y):\n",
    "    return x+y\n",
    "@change_resp\n",
    "def sub(x,y):\n",
    "    return x-y\n",
    "@change_resp\n",
    "def mul(x,y):\n",
    "    return x*y\n",
    "r1 = add(1,2)#change_resp(add)(1,2)\n",
    "r2 = sub(1,2)#change_resp(sub)(1,2)\n",
    "r3 = mul(1,2)#change_resp(mul)(1,2)\n",
    "print(r1)\n",
    "print(r2)\n",
    "print(r3)"
   ]
  },
  {
   "cell_type": "code",
   "execution_count": 10,
   "metadata": {},
   "outputs": [
    {
     "name": "stdout",
     "output_type": "stream",
     "text": [
      "x=1,y=2\n",
      "res=3\n",
      "x=1,y=2\n",
      "res=-1\n",
      "x=1,y=2\n",
      "res=2\n"
     ]
    }
   ],
   "source": [
    "def change_resp(fun):\n",
    "    def wrapper(x,y):\n",
    "        print(f\"x={x},y={y}\")\n",
    "        res=fun(x,y)\n",
    "        return \"res=%s\"%res\n",
    "    return wrapper\n",
    "\n",
    "@change_resp\n",
    "def add(x,y):\n",
    "    return x+y\n",
    "@change_resp\n",
    "def sub(x,y):\n",
    "    return x-y\n",
    "@change_resp\n",
    "def mul(x,y):\n",
    "    return x*y\n",
    "r1 = add(1,2)#change_resp(add)(1,2)\n",
    "print(r1)\n",
    "r2 = sub(1,2)#change_resp(sub)(1,2)\n",
    "print(r2)\n",
    "r3 = mul(1,2)#change_resp(mul)(1,2)\n",
    "print(r3)"
   ]
  },
  {
   "cell_type": "code",
   "execution_count": 11,
   "metadata": {},
   "outputs": [
    {
     "name": "stdout",
     "output_type": "stream",
     "text": [
      "(10, 20, 30)\n"
     ]
    }
   ],
   "source": [
    "def add(x,y):\n",
    "    return x,y,x+y\n",
    "print(add(10,20))"
   ]
  },
  {
   "cell_type": "code",
   "execution_count": 12,
   "metadata": {},
   "outputs": [],
   "source": [
    "def add(x,y=0,*args,**kwargs):\n",
    "    pass"
   ]
  },
  {
   "cell_type": "code",
   "execution_count": 13,
   "metadata": {},
   "outputs": [
    {
     "ename": "SyntaxError",
     "evalue": "non-default argument follows default argument (<ipython-input-13-2e5f5ee8f204>, line 1)",
     "output_type": "error",
     "traceback": [
      "\u001b[1;36m  File \u001b[1;32m\"<ipython-input-13-2e5f5ee8f204>\"\u001b[1;36m, line \u001b[1;32m1\u001b[0m\n\u001b[1;33m    def add(x=0,y,*args,**kwargs):\u001b[0m\n\u001b[1;37m            ^\u001b[0m\n\u001b[1;31mSyntaxError\u001b[0m\u001b[1;31m:\u001b[0m non-default argument follows default argument\n"
     ]
    }
   ],
   "source": [
    "def add(x=0,y,*args,**kwargs):\n",
    "    pass"
   ]
  },
  {
   "cell_type": "code",
   "execution_count": 14,
   "metadata": {},
   "outputs": [
    {
     "ename": "SyntaxError",
     "evalue": "invalid syntax (<ipython-input-14-1279fc6f372d>, line 1)",
     "output_type": "error",
     "traceback": [
      "\u001b[1;36m  File \u001b[1;32m\"<ipython-input-14-1279fc6f372d>\"\u001b[1;36m, line \u001b[1;32m1\u001b[0m\n\u001b[1;33m    def add(x=0,y,**kwargs,*args):\u001b[0m\n\u001b[1;37m                           ^\u001b[0m\n\u001b[1;31mSyntaxError\u001b[0m\u001b[1;31m:\u001b[0m invalid syntax\n"
     ]
    }
   ],
   "source": [
    "def add(x=0,y,**kwargs,*args):\n",
    "    pass"
   ]
  },
  {
   "cell_type": "code",
   "execution_count": 16,
   "metadata": {},
   "outputs": [],
   "source": [
    "def add(x=0,*args,y=2):\n",
    "    pass"
   ]
  },
  {
   "cell_type": "code",
   "execution_count": 17,
   "metadata": {},
   "outputs": [
    {
     "name": "stdout",
     "output_type": "stream",
     "text": [
      "x=1,y=2,args=(2, 3, 4, 5, 5)\n"
     ]
    }
   ],
   "source": [
    "def add(x=0,*args,y=2):\n",
    "    print(f\"x={x},y={y},args={args}\")\n",
    "add(1,2,3,4,5,5)"
   ]
  },
  {
   "cell_type": "code",
   "execution_count": 18,
   "metadata": {},
   "outputs": [
    {
     "ename": "SyntaxError",
     "evalue": "positional argument follows keyword argument (<ipython-input-18-f4eb0be3e282>, line 3)",
     "output_type": "error",
     "traceback": [
      "\u001b[1;36m  File \u001b[1;32m\"<ipython-input-18-f4eb0be3e282>\"\u001b[1;36m, line \u001b[1;32m3\u001b[0m\n\u001b[1;33m    add(x=1,y=20,3,4,5,5)\u001b[0m\n\u001b[1;37m                 ^\u001b[0m\n\u001b[1;31mSyntaxError\u001b[0m\u001b[1;31m:\u001b[0m positional argument follows keyword argument\n"
     ]
    }
   ],
   "source": [
    "def add(x=0,*args,y=2):\n",
    "    print(f\"x={x},y={y},args={args}\")\n",
    "add(x=1,y=20,3,4,5,5)"
   ]
  },
  {
   "cell_type": "code",
   "execution_count": 19,
   "metadata": {},
   "outputs": [
    {
     "ename": "SyntaxError",
     "evalue": "positional argument follows keyword argument (<ipython-input-19-5fcdc780a33a>, line 3)",
     "output_type": "error",
     "traceback": [
      "\u001b[1;36m  File \u001b[1;32m\"<ipython-input-19-5fcdc780a33a>\"\u001b[1;36m, line \u001b[1;32m3\u001b[0m\n\u001b[1;33m    add(x=1,3,4,5,5,y=20)\u001b[0m\n\u001b[1;37m            ^\u001b[0m\n\u001b[1;31mSyntaxError\u001b[0m\u001b[1;31m:\u001b[0m positional argument follows keyword argument\n"
     ]
    }
   ],
   "source": [
    "def add(x=0,*args,y=2):\n",
    "    print(f\"x={x},y={y},args={args}\")\n",
    "add(x=1,3,4,5,5,y=20)"
   ]
  },
  {
   "cell_type": "code",
   "execution_count": 20,
   "metadata": {},
   "outputs": [
    {
     "name": "stdout",
     "output_type": "stream",
     "text": [
      "x=3,y=20,args=(4, 5, 5)\n"
     ]
    }
   ],
   "source": [
    "def add(x=0,*args,y=2):\n",
    "    print(f\"x={x},y={y},args={args}\")\n",
    "add(3,4,5,5,y=20)"
   ]
  },
  {
   "cell_type": "code",
   "execution_count": 21,
   "metadata": {},
   "outputs": [
    {
     "ename": "SyntaxError",
     "evalue": "unexpected character after line continuation character (<ipython-input-21-ab7f473a8bca>, line 1)",
     "output_type": "error",
     "traceback": [
      "\u001b[1;36m  File \u001b[1;32m\"<ipython-input-21-ab7f473a8bca>\"\u001b[1;36m, line \u001b[1;32m1\u001b[0m\n\u001b[1;33m    def add(x,y,\\):\u001b[0m\n\u001b[1;37m                   ^\u001b[0m\n\u001b[1;31mSyntaxError\u001b[0m\u001b[1;31m:\u001b[0m unexpected character after line continuation character\n"
     ]
    }
   ],
   "source": [
    "def add(x,y,\\):\n",
    "    print(f\"x={x},y={y},res={x+y}\")\n",
    "add(10,20)"
   ]
  },
  {
   "cell_type": "code",
   "execution_count": 22,
   "metadata": {},
   "outputs": [],
   "source": [
    "s=\"sdfg\""
   ]
  },
  {
   "cell_type": "code",
   "execution_count": 24,
   "metadata": {},
   "outputs": [],
   "source": [
    "l=[1,2]"
   ]
  },
  {
   "cell_type": "code",
   "execution_count": 25,
   "metadata": {},
   "outputs": [],
   "source": [
    "l.append?"
   ]
  },
  {
   "cell_type": "code",
   "execution_count": 26,
   "metadata": {},
   "outputs": [
    {
     "name": "stdout",
     "output_type": "stream",
     "text": [
      "x=10,y=20,res=30\n"
     ]
    }
   ],
   "source": [
    "def add(x,y,/):\n",
    "    print(f\"x={x},y={y},res={x+y}\")\n",
    "add(10,20)"
   ]
  },
  {
   "cell_type": "code",
   "execution_count": 27,
   "metadata": {},
   "outputs": [
    {
     "ename": "TypeError",
     "evalue": "add() got some positional-only arguments passed as keyword arguments: 'x, y'",
     "output_type": "error",
     "traceback": [
      "\u001b[1;31m---------------------------------------------------------------------------\u001b[0m",
      "\u001b[1;31mTypeError\u001b[0m                                 Traceback (most recent call last)",
      "\u001b[1;32m<ipython-input-27-82ea4e2ccaea>\u001b[0m in \u001b[0;36m<module>\u001b[1;34m\u001b[0m\n\u001b[0;32m      1\u001b[0m \u001b[1;32mdef\u001b[0m \u001b[0madd\u001b[0m\u001b[1;33m(\u001b[0m\u001b[0mx\u001b[0m\u001b[1;33m,\u001b[0m\u001b[0my\u001b[0m\u001b[1;33m,\u001b[0m\u001b[1;33m/\u001b[0m\u001b[1;33m)\u001b[0m\u001b[1;33m:\u001b[0m\u001b[1;33m\u001b[0m\u001b[1;33m\u001b[0m\u001b[0m\n\u001b[0;32m      2\u001b[0m     \u001b[0mprint\u001b[0m\u001b[1;33m(\u001b[0m\u001b[1;34mf\"x={x},y={y},res={x+y}\"\u001b[0m\u001b[1;33m)\u001b[0m\u001b[1;33m\u001b[0m\u001b[1;33m\u001b[0m\u001b[0m\n\u001b[1;32m----> 3\u001b[1;33m \u001b[0madd\u001b[0m\u001b[1;33m(\u001b[0m\u001b[0mx\u001b[0m\u001b[1;33m=\u001b[0m\u001b[1;36m10\u001b[0m\u001b[1;33m,\u001b[0m\u001b[0my\u001b[0m\u001b[1;33m=\u001b[0m\u001b[1;36m20\u001b[0m\u001b[1;33m)\u001b[0m\u001b[1;33m\u001b[0m\u001b[1;33m\u001b[0m\u001b[0m\n\u001b[0m",
      "\u001b[1;31mTypeError\u001b[0m: add() got some positional-only arguments passed as keyword arguments: 'x, y'"
     ]
    }
   ],
   "source": [
    "def add(x,y,/):\n",
    "    print(f\"x={x},y={y},res={x+y}\")\n",
    "add(x=10,y=20)"
   ]
  },
  {
   "cell_type": "code",
   "execution_count": 28,
   "metadata": {},
   "outputs": [
    {
     "name": "stdout",
     "output_type": "stream",
     "text": [
      "x=10,y=20,res=30\n"
     ]
    }
   ],
   "source": [
    "def add(x,y):\n",
    "    print(f\"x={x},y={y},res={x+y}\")\n",
    "add(x=10,y=20)"
   ]
  },
  {
   "cell_type": "code",
   "execution_count": 29,
   "metadata": {},
   "outputs": [
    {
     "ename": "TypeError",
     "evalue": "add() got some positional-only arguments passed as keyword arguments: 'x, y'",
     "output_type": "error",
     "traceback": [
      "\u001b[1;31m---------------------------------------------------------------------------\u001b[0m",
      "\u001b[1;31mTypeError\u001b[0m                                 Traceback (most recent call last)",
      "\u001b[1;32m<ipython-input-29-82ea4e2ccaea>\u001b[0m in \u001b[0;36m<module>\u001b[1;34m\u001b[0m\n\u001b[0;32m      1\u001b[0m \u001b[1;32mdef\u001b[0m \u001b[0madd\u001b[0m\u001b[1;33m(\u001b[0m\u001b[0mx\u001b[0m\u001b[1;33m,\u001b[0m\u001b[0my\u001b[0m\u001b[1;33m,\u001b[0m\u001b[1;33m/\u001b[0m\u001b[1;33m)\u001b[0m\u001b[1;33m:\u001b[0m\u001b[1;33m\u001b[0m\u001b[1;33m\u001b[0m\u001b[0m\n\u001b[0;32m      2\u001b[0m     \u001b[0mprint\u001b[0m\u001b[1;33m(\u001b[0m\u001b[1;34mf\"x={x},y={y},res={x+y}\"\u001b[0m\u001b[1;33m)\u001b[0m\u001b[1;33m\u001b[0m\u001b[1;33m\u001b[0m\u001b[0m\n\u001b[1;32m----> 3\u001b[1;33m \u001b[0madd\u001b[0m\u001b[1;33m(\u001b[0m\u001b[0mx\u001b[0m\u001b[1;33m=\u001b[0m\u001b[1;36m10\u001b[0m\u001b[1;33m,\u001b[0m\u001b[0my\u001b[0m\u001b[1;33m=\u001b[0m\u001b[1;36m20\u001b[0m\u001b[1;33m)\u001b[0m\u001b[1;33m\u001b[0m\u001b[1;33m\u001b[0m\u001b[0m\n\u001b[0m",
      "\u001b[1;31mTypeError\u001b[0m: add() got some positional-only arguments passed as keyword arguments: 'x, y'"
     ]
    }
   ],
   "source": [
    "def add(x,y,/):#only positional arguments\n",
    "    print(f\"x={x},y={y},res={x+y}\")\n",
    "add(x=10,y=20)"
   ]
  },
  {
   "cell_type": "code",
   "execution_count": 30,
   "metadata": {},
   "outputs": [
    {
     "ename": "SyntaxError",
     "evalue": "named arguments must follow bare * (<ipython-input-30-152affa12286>, line 1)",
     "output_type": "error",
     "traceback": [
      "\u001b[1;36m  File \u001b[1;32m\"<ipython-input-30-152affa12286>\"\u001b[1;36m, line \u001b[1;32m1\u001b[0m\n\u001b[1;33m    def add(x,y,*):\u001b[0m\n\u001b[1;37m                ^\u001b[0m\n\u001b[1;31mSyntaxError\u001b[0m\u001b[1;31m:\u001b[0m named arguments must follow bare *\n"
     ]
    }
   ],
   "source": [
    "def add(x,y,*):\n",
    "    print(f\"x={x},y={y},res={x+y}\")\n",
    "add(x=10,y=20)"
   ]
  },
  {
   "cell_type": "code",
   "execution_count": 31,
   "metadata": {},
   "outputs": [
    {
     "name": "stdout",
     "output_type": "stream",
     "text": [
      "x=10,y=20,res=30\n"
     ]
    }
   ],
   "source": [
    "def add(*,x,y):#only keyword arguments\n",
    "    print(f\"x={x},y={y},res={x+y}\")\n",
    "add(x=10,y=20)"
   ]
  },
  {
   "cell_type": "code",
   "execution_count": 32,
   "metadata": {},
   "outputs": [
    {
     "ename": "TypeError",
     "evalue": "add() takes 0 positional arguments but 2 were given",
     "output_type": "error",
     "traceback": [
      "\u001b[1;31m---------------------------------------------------------------------------\u001b[0m",
      "\u001b[1;31mTypeError\u001b[0m                                 Traceback (most recent call last)",
      "\u001b[1;32m<ipython-input-32-971725ee67bf>\u001b[0m in \u001b[0;36m<module>\u001b[1;34m\u001b[0m\n\u001b[0;32m      1\u001b[0m \u001b[1;32mdef\u001b[0m \u001b[0madd\u001b[0m\u001b[1;33m(\u001b[0m\u001b[1;33m*\u001b[0m\u001b[1;33m,\u001b[0m\u001b[0mx\u001b[0m\u001b[1;33m,\u001b[0m\u001b[0my\u001b[0m\u001b[1;33m)\u001b[0m\u001b[1;33m:\u001b[0m\u001b[1;31m#only keyword arguments\u001b[0m\u001b[1;33m\u001b[0m\u001b[1;33m\u001b[0m\u001b[0m\n\u001b[0;32m      2\u001b[0m     \u001b[0mprint\u001b[0m\u001b[1;33m(\u001b[0m\u001b[1;34mf\"x={x},y={y},res={x+y}\"\u001b[0m\u001b[1;33m)\u001b[0m\u001b[1;33m\u001b[0m\u001b[1;33m\u001b[0m\u001b[0m\n\u001b[1;32m----> 3\u001b[1;33m \u001b[0madd\u001b[0m\u001b[1;33m(\u001b[0m\u001b[1;36m10\u001b[0m\u001b[1;33m,\u001b[0m\u001b[1;36m20\u001b[0m\u001b[1;33m)\u001b[0m\u001b[1;33m\u001b[0m\u001b[1;33m\u001b[0m\u001b[0m\n\u001b[0m",
      "\u001b[1;31mTypeError\u001b[0m: add() takes 0 positional arguments but 2 were given"
     ]
    }
   ],
   "source": [
    "def add(*,x,y):#only keyword arguments\n",
    "    print(f\"x={x},y={y},res={x+y}\")\n",
    "add(10,20)"
   ]
  },
  {
   "cell_type": "code",
   "execution_count": 35,
   "metadata": {},
   "outputs": [
    {
     "name": "stdout",
     "output_type": "stream",
     "text": [
      "x=100,y=200,res=300,a=10,b=20\n"
     ]
    }
   ],
   "source": [
    "def add(a,b,/,*,x,y):#only keyword arguments\n",
    "    print(f\"x={x},y={y},res={x+y},a={a},b={b}\")\n",
    "add(10,20,x=100,y=200)"
   ]
  },
  {
   "cell_type": "code",
   "execution_count": 36,
   "metadata": {},
   "outputs": [
    {
     "ename": "TypeError",
     "evalue": "add() got some positional-only arguments passed as keyword arguments: 'a, b'",
     "output_type": "error",
     "traceback": [
      "\u001b[1;31m---------------------------------------------------------------------------\u001b[0m",
      "\u001b[1;31mTypeError\u001b[0m                                 Traceback (most recent call last)",
      "\u001b[1;32m<ipython-input-36-85e866e7f504>\u001b[0m in \u001b[0;36m<module>\u001b[1;34m\u001b[0m\n\u001b[0;32m      1\u001b[0m \u001b[1;32mdef\u001b[0m \u001b[0madd\u001b[0m\u001b[1;33m(\u001b[0m\u001b[0ma\u001b[0m\u001b[1;33m,\u001b[0m\u001b[0mb\u001b[0m\u001b[1;33m,\u001b[0m\u001b[1;33m/\u001b[0m\u001b[1;33m,\u001b[0m\u001b[1;33m*\u001b[0m\u001b[1;33m,\u001b[0m\u001b[0mx\u001b[0m\u001b[1;33m,\u001b[0m\u001b[0my\u001b[0m\u001b[1;33m)\u001b[0m\u001b[1;33m:\u001b[0m\u001b[1;31m#only keyword arguments\u001b[0m\u001b[1;33m\u001b[0m\u001b[1;33m\u001b[0m\u001b[0m\n\u001b[0;32m      2\u001b[0m     \u001b[0mprint\u001b[0m\u001b[1;33m(\u001b[0m\u001b[1;34mf\"x={x},y={y},res={x+y},a={a},b={b}\"\u001b[0m\u001b[1;33m)\u001b[0m\u001b[1;33m\u001b[0m\u001b[1;33m\u001b[0m\u001b[0m\n\u001b[1;32m----> 3\u001b[1;33m \u001b[0madd\u001b[0m\u001b[1;33m(\u001b[0m\u001b[0ma\u001b[0m\u001b[1;33m=\u001b[0m\u001b[1;36m10\u001b[0m\u001b[1;33m,\u001b[0m\u001b[0mb\u001b[0m\u001b[1;33m=\u001b[0m\u001b[1;36m20\u001b[0m\u001b[1;33m,\u001b[0m\u001b[0mx\u001b[0m\u001b[1;33m=\u001b[0m\u001b[1;36m100\u001b[0m\u001b[1;33m,\u001b[0m\u001b[0my\u001b[0m\u001b[1;33m=\u001b[0m\u001b[1;36m200\u001b[0m\u001b[1;33m)\u001b[0m\u001b[1;33m\u001b[0m\u001b[1;33m\u001b[0m\u001b[0m\n\u001b[0m",
      "\u001b[1;31mTypeError\u001b[0m: add() got some positional-only arguments passed as keyword arguments: 'a, b'"
     ]
    }
   ],
   "source": [
    "def add(a,b,/,*,x,y):#only keyword arguments\n",
    "    print(f\"x={x},y={y},res={x+y},a={a},b={b}\")\n",
    "add(a=10,b=20,x=100,y=200)"
   ]
  },
  {
   "cell_type": "code",
   "execution_count": 37,
   "metadata": {},
   "outputs": [
    {
     "ename": "TypeError",
     "evalue": "add() takes 2 positional arguments but 4 were given",
     "output_type": "error",
     "traceback": [
      "\u001b[1;31m---------------------------------------------------------------------------\u001b[0m",
      "\u001b[1;31mTypeError\u001b[0m                                 Traceback (most recent call last)",
      "\u001b[1;32m<ipython-input-37-4589880f0341>\u001b[0m in \u001b[0;36m<module>\u001b[1;34m\u001b[0m\n\u001b[0;32m      1\u001b[0m \u001b[1;32mdef\u001b[0m \u001b[0madd\u001b[0m\u001b[1;33m(\u001b[0m\u001b[0ma\u001b[0m\u001b[1;33m,\u001b[0m\u001b[0mb\u001b[0m\u001b[1;33m,\u001b[0m\u001b[1;33m/\u001b[0m\u001b[1;33m,\u001b[0m\u001b[1;33m*\u001b[0m\u001b[1;33m,\u001b[0m\u001b[0mx\u001b[0m\u001b[1;33m,\u001b[0m\u001b[0my\u001b[0m\u001b[1;33m)\u001b[0m\u001b[1;33m:\u001b[0m\u001b[1;31m#only keyword arguments\u001b[0m\u001b[1;33m\u001b[0m\u001b[1;33m\u001b[0m\u001b[0m\n\u001b[0;32m      2\u001b[0m     \u001b[0mprint\u001b[0m\u001b[1;33m(\u001b[0m\u001b[1;34mf\"x={x},y={y},res={x+y},a={a},b={b}\"\u001b[0m\u001b[1;33m)\u001b[0m\u001b[1;33m\u001b[0m\u001b[1;33m\u001b[0m\u001b[0m\n\u001b[1;32m----> 3\u001b[1;33m \u001b[0madd\u001b[0m\u001b[1;33m(\u001b[0m\u001b[1;36m10\u001b[0m\u001b[1;33m,\u001b[0m\u001b[1;36m20\u001b[0m\u001b[1;33m,\u001b[0m\u001b[1;36m100\u001b[0m\u001b[1;33m,\u001b[0m\u001b[1;36m200\u001b[0m\u001b[1;33m)\u001b[0m\u001b[1;33m\u001b[0m\u001b[1;33m\u001b[0m\u001b[0m\n\u001b[0m",
      "\u001b[1;31mTypeError\u001b[0m: add() takes 2 positional arguments but 4 were given"
     ]
    }
   ],
   "source": [
    "def add(a,b,/,*,x,y):#only (a,b) are positional arguments, x,y are keyword arguments\n",
    "    print(f\"x={x},y={y},res={x+y},a={a},b={b}\")\n",
    "add(10,20,100,200)"
   ]
  },
  {
   "cell_type": "code",
   "execution_count": null,
   "metadata": {},
   "outputs": [],
   "source": []
  }
 ],
 "metadata": {
  "kernelspec": {
   "display_name": "Python 3",
   "language": "python",
   "name": "python3"
  },
  "language_info": {
   "codemirror_mode": {
    "name": "ipython",
    "version": 3
   },
   "file_extension": ".py",
   "mimetype": "text/x-python",
   "name": "python",
   "nbconvert_exporter": "python",
   "pygments_lexer": "ipython3",
   "version": "3.8.3"
  }
 },
 "nbformat": 4,
 "nbformat_minor": 4
}
