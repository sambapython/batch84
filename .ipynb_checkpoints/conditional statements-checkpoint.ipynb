{
 "cells": [
  {
   "cell_type": "code",
   "execution_count": 1,
   "metadata": {},
   "outputs": [
    {
     "name": "stdout",
     "output_type": "stream",
     "text": [
      "started\n",
      "a is big\n",
      "b is big\n",
      "ended\n"
     ]
    }
   ],
   "source": [
    "print(\"started\")\n",
    "a=1000\n",
    "b=2000\n",
    "print(\"a is big\")\n",
    "print(\"b is big\")\n",
    "print(\"ended\")"
   ]
  },
  {
   "cell_type": "code",
   "execution_count": 2,
   "metadata": {},
   "outputs": [
    {
     "name": "stdout",
     "output_type": "stream",
     "text": [
      "started\n",
      "b is big\n",
      "ended\n"
     ]
    }
   ],
   "source": [
    "print(\"started\")\n",
    "a=1000\n",
    "b=2000\n",
    "if False:\n",
    "    #if block\n",
    "    print(\"a is big\")\n",
    "    print(\"hello\")\n",
    "print(\"b is big\")\n",
    "print(\"ended\")"
   ]
  },
  {
   "cell_type": "code",
   "execution_count": 3,
   "metadata": {},
   "outputs": [
    {
     "name": "stdout",
     "output_type": "stream",
     "text": [
      "started\n",
      "a is big\n",
      "hello\n",
      "ended\n"
     ]
    }
   ],
   "source": [
    "print(\"started\")\n",
    "a=1000\n",
    "b=2000\n",
    "if True:\n",
    "    #if block\n",
    "    print(\"a is big\")\n",
    "    print(\"hello\")\n",
    "else:\n",
    "    #else block\n",
    "    print(\"b is big\")\n",
    "    print(\"hi\")\n",
    "print(\"ended\")"
   ]
  },
  {
   "cell_type": "code",
   "execution_count": 4,
   "metadata": {},
   "outputs": [
    {
     "name": "stdout",
     "output_type": "stream",
     "text": [
      "started\n",
      "b is big\n",
      "hi\n",
      "ended\n"
     ]
    }
   ],
   "source": [
    "print(\"started\")\n",
    "a=1000\n",
    "b=2000\n",
    "if False:\n",
    "    #if block\n",
    "    print(\"a is big\")\n",
    "    print(\"hello\")\n",
    "else:\n",
    "    #else block\n",
    "    print(\"b is big\")\n",
    "    print(\"hi\")\n",
    "print(\"ended\")"
   ]
  },
  {
   "cell_type": "code",
   "execution_count": null,
   "metadata": {},
   "outputs": [],
   "source": [
    "print(\"started\")\n",
    "a=1000\n",
    "b=2000\n",
    "if a<b:#True\n",
    "    #if block\n",
    "    print(\"a is big\")\n",
    "    print(\"hello\")\n",
    "else:\n",
    "    #else block\n",
    "    print(\"b is big\")\n",
    "    print(\"hi\")\n",
    "print(\"ended\")# it's in main block. Because we are not given indentation(4 spaces)"
   ]
  },
  {
   "cell_type": "code",
   "execution_count": 5,
   "metadata": {},
   "outputs": [
    {
     "name": "stdout",
     "output_type": "stream",
     "text": [
      "started\n",
      "a is big\n",
      "hello\n",
      "ended\n"
     ]
    }
   ],
   "source": [
    "print(\"started\")\n",
    "a=1000\n",
    "b=2000\n",
    "if a<b:#True\n",
    "    #if block\n",
    "    print(\"a is big\")\n",
    "    print(\"hello\")\n",
    "else:\n",
    "    #else block\n",
    "    print(\"b is big\")\n",
    "    print(\"hi\")\n",
    "print(\"ended\")# it's in main block. Because we are not given indentation(4 spaces)"
   ]
  },
  {
   "cell_type": "code",
   "execution_count": 6,
   "metadata": {},
   "outputs": [
    {
     "name": "stdout",
     "output_type": "stream",
     "text": [
      "started\n",
      "NEGATIVE\n",
      "ended\n"
     ]
    }
   ],
   "source": [
    "print(\"started\")\n",
    "a=10\n",
    "if a<0:#False\n",
    "    res=\"POSITIVE\"\n",
    "else:\n",
    "    res=\"NEGATIVE\"\n",
    "print(res)\n",
    "print(\"ended\")"
   ]
  },
  {
   "cell_type": "code",
   "execution_count": 7,
   "metadata": {},
   "outputs": [
    {
     "name": "stdout",
     "output_type": "stream",
     "text": [
      "started\n",
      "POSITIVE\n",
      "ended\n"
     ]
    }
   ],
   "source": [
    "print(\"started\")\n",
    "a=10\n",
    "if a>0:#10>0:True\n",
    "    res=\"POSITIVE\"\n",
    "else:\n",
    "    res=\"NEGATIVE\"\n",
    "print(res)\n",
    "print(\"ended\")"
   ]
  },
  {
   "cell_type": "code",
   "execution_count": 8,
   "metadata": {},
   "outputs": [
    {
     "name": "stdout",
     "output_type": "stream",
     "text": [
      "started\n",
      "NEGATIVE\n",
      "ended\n"
     ]
    }
   ],
   "source": [
    "print(\"started\")\n",
    "a=-10\n",
    "if a>0:#-10>0:False\n",
    "    res=\"POSITIVE\"\n",
    "else:\n",
    "    res=\"NEGATIVE\"\n",
    "print(res)\n",
    "print(\"ended\")"
   ]
  },
  {
   "cell_type": "code",
   "execution_count": 9,
   "metadata": {},
   "outputs": [
    {
     "name": "stdout",
     "output_type": "stream",
     "text": [
      "started\n",
      "NEGATIVE\n",
      "ended\n"
     ]
    }
   ],
   "source": [
    "print(\"started\")\n",
    "a=0\n",
    "res=\"ZERO\"\n",
    "if a>0:#0>0: False\n",
    "    res=\"POSITIVE\"\n",
    "else:\n",
    "    res=\"NEGATIVE\"\n",
    "print(res)\n",
    "print(\"ended\")"
   ]
  },
  {
   "cell_type": "code",
   "execution_count": 10,
   "metadata": {},
   "outputs": [
    {
     "name": "stdout",
     "output_type": "stream",
     "text": [
      "started\n",
      "ZERO\n",
      "ended\n"
     ]
    }
   ],
   "source": [
    "print(\"started\")\n",
    "a=0\n",
    "res=\"ZERO\"\n",
    "if a!=0:#0!=0: False\n",
    "    if a>0:#0>0: False\n",
    "        #nested if\n",
    "        res=\"POSITIVE\"\n",
    "    else:\n",
    "        res=\"NEGATIVE\"\n",
    "print(res)\n",
    "print(\"ended\")"
   ]
  },
  {
   "cell_type": "code",
   "execution_count": 11,
   "metadata": {},
   "outputs": [
    {
     "name": "stdout",
     "output_type": "stream",
     "text": [
      "started\n",
      "POSITIVE\n",
      "ended\n"
     ]
    }
   ],
   "source": [
    "print(\"started\")\n",
    "a=10\n",
    "res=\"ZERO\"\n",
    "if a!=0:#10!=0: True\n",
    "    if a>0:#10>0: True\n",
    "        #nested if\n",
    "        res=\"POSITIVE\"\n",
    "    else:\n",
    "        res=\"NEGATIVE\"\n",
    "print(res)\n",
    "print(\"ended\")"
   ]
  },
  {
   "cell_type": "code",
   "execution_count": 12,
   "metadata": {},
   "outputs": [
    {
     "name": "stdout",
     "output_type": "stream",
     "text": [
      "enter the string:qwr\n",
      "the len of string is: 3\n"
     ]
    }
   ],
   "source": [
    "#wap to take a string from the user. print EMPTY if the string is empty or else print length of the string.\n",
    "\n",
    "x=input(\"enter the string:\")\n",
    "len_x = len(x)# calculating lenght of string\n",
    "if len_x>0:\n",
    "    print(\"the len of string is:\",len_x)\n",
    "else:\n",
    "    print('it is empty string')\n"
   ]
  },
  {
   "cell_type": "code",
   "execution_count": 13,
   "metadata": {},
   "outputs": [
    {
     "name": "stdout",
     "output_type": "stream",
     "text": [
      "enter the string:\n",
      "it is empty string\n"
     ]
    }
   ],
   "source": [
    "#wap to take a string from the user. print EMPTY if the string is empty or else print length of the string.\n",
    "\n",
    "x=input(\"enter the string:\")\n",
    "len_x = len(x)# calculating lenght of string\n",
    "if len_x>0:\n",
    "    print(\"the len of string is:\",len_x)\n",
    "else:\n",
    "    print('it is empty string')\n"
   ]
  },
  {
   "cell_type": "code",
   "execution_count": 14,
   "metadata": {},
   "outputs": [
    {
     "name": "stdout",
     "output_type": "stream",
     "text": [
      "enter the string:\n",
      "it is empty string\n"
     ]
    }
   ],
   "source": [
    "#wap to take a string from the user. print EMPTY if the string is empty or else print length of the string.\n",
    "x=input(\"enter the string:\")\n",
    "if x!=\"\":\n",
    "    print(\"the len of string is:\",len(x))\n",
    "else:\n",
    "    print('it is empty string')\n"
   ]
  },
  {
   "cell_type": "code",
   "execution_count": 15,
   "metadata": {},
   "outputs": [
    {
     "name": "stdout",
     "output_type": "stream",
     "text": [
      "enter the string:asdsaf\n",
      "the len of string is: 6\n"
     ]
    }
   ],
   "source": [
    "#wap to take a string from the user. print EMPTY if the string is empty or else print length of the string.\n",
    "x=input(\"enter the string:\")\n",
    "if x!=\"\":\n",
    "    print(\"the len of string is:\",len(x))\n",
    "else:\n",
    "    print('it is empty string')\n"
   ]
  },
  {
   "cell_type": "code",
   "execution_count": 16,
   "metadata": {},
   "outputs": [
    {
     "name": "stdout",
     "output_type": "stream",
     "text": [
      "enter the string:\n",
      "it is empty string\n"
     ]
    }
   ],
   "source": [
    "#wap to take a string from the user. print EMPTY if the string is empty or else print length of the string.\n",
    "x=input(\"enter the string:\")\n",
    "if x==\"\":\n",
    "    print('it is empty string')\n",
    "else:\n",
    "    print(\"the len of string is:\",len(x))    "
   ]
  },
  {
   "cell_type": "code",
   "execution_count": 17,
   "metadata": {},
   "outputs": [
    {
     "name": "stdout",
     "output_type": "stream",
     "text": [
      "enter the string:\n",
      "it is empty string\n"
     ]
    }
   ],
   "source": [
    "#wap to take a string from the user. print EMPTY if the string is empty or else print length of the string.\n",
    "len_x=len(input(\"enter the string:\"))\n",
    "if len_x==0:\n",
    "    print('it is empty string')\n",
    "else:\n",
    "    print(\"the len of string is:\",len_x)    "
   ]
  },
  {
   "cell_type": "code",
   "execution_count": 18,
   "metadata": {},
   "outputs": [
    {
     "name": "stdout",
     "output_type": "stream",
     "text": [
      "enter the string:sfdsd\n",
      "the len of string is: 5\n"
     ]
    }
   ],
   "source": [
    "#wap to take a string from the user. print EMPTY if the string is empty or else print length of the string.\n",
    "len_x=len(input(\"enter the string:\"))\n",
    "if len_x==0:\n",
    "    print('it is empty string')\n",
    "else:\n",
    "    print(\"the len of string is:\",len_x)    "
   ]
  },
  {
   "cell_type": "code",
   "execution_count": null,
   "metadata": {},
   "outputs": [],
   "source": [
    "#wap to take a string from the user. print EMPTY if the string is empty or else print length of the string.\n",
    "x=input(\"enter the string:\")\n",
    "if bool(x):#\n",
    "    print(\"the len of string is:\",len(x))\n",
    "else:\n",
    "    print('it is empty string')\n",
    "\n",
    "        "
   ]
  },
  {
   "cell_type": "code",
   "execution_count": 19,
   "metadata": {},
   "outputs": [
    {
     "name": "stdout",
     "output_type": "stream",
     "text": [
      "enter the string:sdfsdfsd\n",
      "True\n"
     ]
    }
   ],
   "source": [
    "x=input(\"enter the string:\")\n",
    "print(bool(x))"
   ]
  },
  {
   "cell_type": "code",
   "execution_count": 20,
   "metadata": {},
   "outputs": [
    {
     "name": "stdout",
     "output_type": "stream",
     "text": [
      "enter the string:\n",
      "False\n"
     ]
    }
   ],
   "source": [
    "x=input(\"enter the string:\")\n",
    "print(bool(x))"
   ]
  },
  {
   "cell_type": "code",
   "execution_count": 21,
   "metadata": {},
   "outputs": [
    {
     "name": "stdout",
     "output_type": "stream",
     "text": [
      "enter the string:\n",
      "it is empty string\n"
     ]
    }
   ],
   "source": [
    "#wap to take a string from the user. print EMPTY if the string is empty or else print length of the string.\n",
    "x=input(\"enter the string:\")\n",
    "if bool(x)==False:#\n",
    "    print('it is empty string')\n",
    "else:\n",
    "    print(\"the len of string is:\",len(x))    "
   ]
  },
  {
   "cell_type": "code",
   "execution_count": 22,
   "metadata": {},
   "outputs": [
    {
     "name": "stdout",
     "output_type": "stream",
     "text": [
      "enter the string:asdasd\n",
      "the len of string is: 6\n"
     ]
    }
   ],
   "source": [
    "#wap to take a string from the user. print EMPTY if the string is empty or else print length of the string.\n",
    "x=input(\"enter the string:\")\n",
    "if bool(x):\n",
    "    print(\"the len of string is:\",len(x))        \n",
    "else:\n",
    "    print('it is empty string')\n",
    "\n"
   ]
  },
  {
   "cell_type": "code",
   "execution_count": 23,
   "metadata": {},
   "outputs": [
    {
     "name": "stdout",
     "output_type": "stream",
     "text": [
      "enter the string:\n",
      "it is empty string\n"
     ]
    }
   ],
   "source": [
    "#wap to take a string from the user. print EMPTY if the string is empty or else print length of the string.\n",
    "x=input(\"enter the string:\")\n",
    "if bool(x):\n",
    "    print(\"the len of string is:\",len(x))        \n",
    "else:\n",
    "    print('it is empty string')"
   ]
  },
  {
   "cell_type": "code",
   "execution_count": 24,
   "metadata": {},
   "outputs": [
    {
     "name": "stdout",
     "output_type": "stream",
     "text": [
      "enter the string:sdwere\n",
      "the len of string is: 6\n"
     ]
    }
   ],
   "source": [
    "#wap to take a string from the user. print EMPTY if the string is empty or else print length of the string.\n",
    "x=input(\"enter the string:\")\n",
    "if x:#bool(x)\n",
    "    print(\"the len of string is:\",len(x))        \n",
    "else:\n",
    "    print('it is empty string')"
   ]
  },
  {
   "cell_type": "code",
   "execution_count": 25,
   "metadata": {},
   "outputs": [
    {
     "name": "stdout",
     "output_type": "stream",
     "text": [
      "enter the string:\n",
      "it is empty string\n"
     ]
    }
   ],
   "source": [
    "#wap to take a string from the user. print EMPTY if the string is empty or else print length of the string.\n",
    "x=input(\"enter the string:\")\n",
    "if x:#bool(x)\n",
    "    print(\"the len of string is:\",len(x))        \n",
    "else:\n",
    "    print('it is empty string')"
   ]
  },
  {
   "cell_type": "code",
   "execution_count": 26,
   "metadata": {},
   "outputs": [
    {
     "name": "stdout",
     "output_type": "stream",
     "text": [
      "HELLO\n"
     ]
    }
   ],
   "source": [
    "if 0:\n",
    "    print(\"HI\")\n",
    "else:\n",
    "    print(\"HELLO\")"
   ]
  },
  {
   "cell_type": "code",
   "execution_count": 27,
   "metadata": {},
   "outputs": [
    {
     "name": "stdout",
     "output_type": "stream",
     "text": [
      "HI\n"
     ]
    }
   ],
   "source": [
    "if 10:\n",
    "    print(\"HI\")\n",
    "else:\n",
    "    print(\"HELLO\")"
   ]
  },
  {
   "cell_type": "code",
   "execution_count": 28,
   "metadata": {},
   "outputs": [
    {
     "name": "stdout",
     "output_type": "stream",
     "text": [
      "enter the string:0\n",
      "the len of string is: 1\n"
     ]
    }
   ],
   "source": [
    "#wap to take a string from the user. print EMPTY if the string is empty or else print length of the string.\n",
    "x=input(\"enter the string:\")\n",
    "if x:#bool(x)\n",
    "    print(\"the len of string is:\",len(x))        \n",
    "else:\n",
    "    print('it is empty string')"
   ]
  },
  {
   "cell_type": "code",
   "execution_count": 29,
   "metadata": {},
   "outputs": [
    {
     "data": {
      "text/plain": [
       "True"
      ]
     },
     "execution_count": 29,
     "metadata": {},
     "output_type": "execute_result"
    }
   ],
   "source": [
    "bool(\"0\")"
   ]
  },
  {
   "cell_type": "code",
   "execution_count": null,
   "metadata": {},
   "outputs": [],
   "source": [
    "#wap to take a string from the user. print EMPTY if the string is empty or else print length of the string.\n",
    "x=input(\"enter the string:\")\n",
    "if x:#bool(x)\n",
    "    print(\"the len of string is:\",len(x))        \n",
    "else:\n",
    "    print('it is empty string')"
   ]
  },
  {
   "cell_type": "code",
   "execution_count": 30,
   "metadata": {},
   "outputs": [
    {
     "name": "stdout",
     "output_type": "stream",
     "text": [
      "enter string:python\n",
      "6\n"
     ]
    }
   ],
   "source": [
    "x=input(\"enter string:\")\n",
    "res= len(x) if x else \"EMPTY\"\n",
    "print(res)"
   ]
  },
  {
   "cell_type": "code",
   "execution_count": 31,
   "metadata": {},
   "outputs": [
    {
     "name": "stdout",
     "output_type": "stream",
     "text": [
      "enter string:\n",
      "EMPTY\n"
     ]
    }
   ],
   "source": [
    "x=input(\"enter string:\")\n",
    "res= len(x) if x else \"EMPTY\"\n",
    "print(res)\n"
   ]
  },
  {
   "cell_type": "code",
   "execution_count": 32,
   "metadata": {},
   "outputs": [
    {
     "name": "stdout",
     "output_type": "stream",
     "text": [
      "enter string:\n",
      "EMPTY\n"
     ]
    }
   ],
   "source": [
    "x=input(\"enter string:\")\n",
    "print(len(x) if x else \"EMPTY\")"
   ]
  },
  {
   "cell_type": "code",
   "execution_count": 33,
   "metadata": {},
   "outputs": [],
   "source": [
    "a=10;b=20;c=30"
   ]
  },
  {
   "cell_type": "code",
   "execution_count": 34,
   "metadata": {},
   "outputs": [
    {
     "name": "stdout",
     "output_type": "stream",
     "text": [
      "enter string:ewrew\n",
      "5\n"
     ]
    }
   ],
   "source": [
    "x=input(\"enter string:\")\n",
    "res= len(x) if x else \"EMPTY\";print(res)\n"
   ]
  },
  {
   "cell_type": "code",
   "execution_count": null,
   "metadata": {},
   "outputs": [],
   "source": [
    "x=input(\"enter string:\")\n",
    "print(len(x) if x else \"EMPTY\")"
   ]
  },
  {
   "cell_type": "code",
   "execution_count": 35,
   "metadata": {},
   "outputs": [
    {
     "name": "stdout",
     "output_type": "stream",
     "text": [
      "enter number:10\n"
     ]
    },
    {
     "ename": "TypeError",
     "evalue": "'>=' not supported between instances of 'str' and 'int'",
     "output_type": "error",
     "traceback": [
      "\u001b[1;31m---------------------------------------------------------------------------\u001b[0m",
      "\u001b[1;31mTypeError\u001b[0m                                 Traceback (most recent call last)",
      "\u001b[1;32m<ipython-input-35-1bc95dac00fa>\u001b[0m in \u001b[0;36m<module>\u001b[1;34m\u001b[0m\n\u001b[0;32m      1\u001b[0m \u001b[0mnumber\u001b[0m\u001b[1;33m=\u001b[0m \u001b[0minput\u001b[0m\u001b[1;33m(\u001b[0m\u001b[1;34m\"enter number:\"\u001b[0m\u001b[1;33m)\u001b[0m\u001b[1;33m\u001b[0m\u001b[1;33m\u001b[0m\u001b[0m\n\u001b[1;32m----> 2\u001b[1;33m \u001b[1;32mif\u001b[0m \u001b[0mnumber\u001b[0m\u001b[1;33m>=\u001b[0m\u001b[1;36m0\u001b[0m\u001b[1;33m:\u001b[0m\u001b[1;33m\u001b[0m\u001b[1;33m\u001b[0m\u001b[0m\n\u001b[0m\u001b[0;32m      3\u001b[0m     \u001b[0mprint\u001b[0m\u001b[1;33m(\u001b[0m\u001b[1;34m\"PSOTIVE\"\u001b[0m\u001b[1;33m)\u001b[0m\u001b[1;33m\u001b[0m\u001b[1;33m\u001b[0m\u001b[0m\n\u001b[0;32m      4\u001b[0m \u001b[1;32melse\u001b[0m\u001b[1;33m:\u001b[0m\u001b[1;33m\u001b[0m\u001b[1;33m\u001b[0m\u001b[0m\n\u001b[0;32m      5\u001b[0m     \u001b[0mprint\u001b[0m\u001b[1;33m(\u001b[0m\u001b[1;34m\"NEgative\"\u001b[0m\u001b[1;33m)\u001b[0m\u001b[1;33m\u001b[0m\u001b[1;33m\u001b[0m\u001b[0m\n",
      "\u001b[1;31mTypeError\u001b[0m: '>=' not supported between instances of 'str' and 'int'"
     ]
    }
   ],
   "source": [
    "number= input(\"enter number:\")\n",
    "if number>=0:\n",
    "    print(\"PSOTIVE\")\n",
    "else:\n",
    "    print(\"NEgative\")"
   ]
  },
  {
   "cell_type": "code",
   "execution_count": 36,
   "metadata": {},
   "outputs": [
    {
     "name": "stdout",
     "output_type": "stream",
     "text": [
      "enter number:10\n",
      "PSOTIVE\n"
     ]
    }
   ],
   "source": [
    "number= input(\"enter number:\")\n",
    "number=int(number)\n",
    "if number>=0:\n",
    "    print(\"PSOTIVE\")\n",
    "else:\n",
    "    print(\"NEgative\")"
   ]
  },
  {
   "cell_type": "code",
   "execution_count": 37,
   "metadata": {},
   "outputs": [
    {
     "name": "stdout",
     "output_type": "stream",
     "text": [
      "enter number:-10\n",
      "NEgative\n"
     ]
    }
   ],
   "source": [
    "number= input(\"enter number:\")\n",
    "number=int(number)\n",
    "if number>=0:\n",
    "    print(\"PSOTIVE\")\n",
    "else:\n",
    "    print(\"NEgative\")"
   ]
  },
  {
   "cell_type": "code",
   "execution_count": 38,
   "metadata": {},
   "outputs": [
    {
     "name": "stdout",
     "output_type": "stream",
     "text": [
      "enter number:0\n",
      "PSOTIVE\n"
     ]
    }
   ],
   "source": [
    "number= input(\"enter number:\")\n",
    "number=int(number)\n",
    "if number>=0:\n",
    "    print(\"PSOTIVE\")\n",
    "else:\n",
    "    print(\"NEgative\")"
   ]
  },
  {
   "cell_type": "code",
   "execution_count": 39,
   "metadata": {},
   "outputs": [
    {
     "name": "stdout",
     "output_type": "stream",
     "text": [
      "enter number:12\n",
      "POSITIVE\n"
     ]
    }
   ],
   "source": [
    "number= input(\"enter number:\")\n",
    "number=int(number)\n",
    "if number>=0:\n",
    "    print(\"POSITIVE\")\n",
    "else:\n",
    "    print(\"NEGATIVE\")"
   ]
  },
  {
   "cell_type": "code",
   "execution_count": 40,
   "metadata": {},
   "outputs": [
    {
     "name": "stdout",
     "output_type": "stream",
     "text": [
      "enter number:10\n",
      "+VE\n"
     ]
    }
   ],
   "source": [
    "number= input(\"enter number:\")\n",
    "number=int(number)\n",
    "print(\"+VE\" if number>=0 else \"-VE\")"
   ]
  },
  {
   "cell_type": "code",
   "execution_count": 41,
   "metadata": {},
   "outputs": [
    {
     "name": "stdout",
     "output_type": "stream",
     "text": [
      "enter number:-10\n",
      "-VE\n"
     ]
    }
   ],
   "source": [
    "number= input(\"enter number:\")\n",
    "number=int(number)\n",
    "print(\"+VE\" if number>=0 else \"-VE\")"
   ]
  },
  {
   "cell_type": "code",
   "execution_count": 42,
   "metadata": {},
   "outputs": [
    {
     "name": "stdout",
     "output_type": "stream",
     "text": [
      "enter number:0\n",
      "+VE\n"
     ]
    }
   ],
   "source": [
    "number= int(input(\"enter number:\"))\n",
    "print(\"+VE\" if number>=0 else \"-VE\")"
   ]
  },
  {
   "cell_type": "code",
   "execution_count": 43,
   "metadata": {},
   "outputs": [
    {
     "name": "stdout",
     "output_type": "stream",
     "text": [
      "enter number:-10\n",
      "-VE\n"
     ]
    }
   ],
   "source": [
    "number= int(input(\"enter number:\"))\n",
    "print(\"+VE\" if number>=0 else \"-VE\")"
   ]
  },
  {
   "cell_type": "code",
   "execution_count": 44,
   "metadata": {},
   "outputs": [
    {
     "name": "stdout",
     "output_type": "stream",
     "text": [
      "enter number:10\n",
      "+VE\n"
     ]
    }
   ],
   "source": [
    "print(\"+VE\" if int(input(\"enter number:\"))>=0 else \"-VE\")"
   ]
  },
  {
   "cell_type": "code",
   "execution_count": 45,
   "metadata": {},
   "outputs": [
    {
     "name": "stdout",
     "output_type": "stream",
     "text": [
      "enter number:-10\n",
      "-VE\n"
     ]
    }
   ],
   "source": [
    "print(\"+VE\" if int(input(\"enter number:\"))>=0 else \"-VE\")"
   ]
  },
  {
   "cell_type": "code",
   "execution_count": 46,
   "metadata": {},
   "outputs": [
    {
     "name": "stdout",
     "output_type": "stream",
     "text": [
      "True\n"
     ]
    }
   ],
   "source": [
    "# WAP to check given number is even or odd.\n",
    "number=10\n",
    "print(number%2==0)"
   ]
  },
  {
   "cell_type": "code",
   "execution_count": 47,
   "metadata": {},
   "outputs": [
    {
     "name": "stdout",
     "output_type": "stream",
     "text": [
      "False\n"
     ]
    }
   ],
   "source": [
    "# WAP to check given number is even or odd.\n",
    "number=11\n",
    "print(number%2==0)"
   ]
  },
  {
   "cell_type": "code",
   "execution_count": 1,
   "metadata": {},
   "outputs": [
    {
     "name": "stdout",
     "output_type": "stream",
     "text": [
      "Operations\n",
      "\t1.Add\n"
     ]
    }
   ],
   "source": [
    "print(\"Operations\\n\\t1.Add\")"
   ]
  },
  {
   "cell_type": "code",
   "execution_count": 2,
   "metadata": {},
   "outputs": [
    {
     "name": "stdout",
     "output_type": "stream",
     "text": [
      "Operations\n",
      "\t1.Add\n",
      "\t2.Sub\n",
      "\t3.Mul\n",
      "\t4.Div\n"
     ]
    }
   ],
   "source": [
    "print(\"Operations\\n\\t1.Add\\n\\t2.Sub\\n\\t3.Mul\\n\\t4.Div\")"
   ]
  },
  {
   "cell_type": "code",
   "execution_count": 3,
   "metadata": {},
   "outputs": [
    {
     "name": "stdout",
     "output_type": "stream",
     "text": [
      "Operations\n",
      "\t1.Add\n",
      "\t2.Sub\n",
      "\t3.Mul\n",
      "\t4.Div\n",
      "Enter an option:1\n"
     ]
    }
   ],
   "source": [
    "print(\"Operations\\n\\t1.Add\\n\\t2.Sub\\n\\t3.Mul\\n\\t4.Div\")\n",
    "opt=input(\"Enter an option:\")"
   ]
  },
  {
   "cell_type": "code",
   "execution_count": null,
   "metadata": {},
   "outputs": [],
   "source": [
    "n1,n2=float(input(\"Enter number1:\")),float(input(\"enter number2:\"))\n",
    "print(\"Operations\\n\\t1.Add\\n\\t2.Sub\\n\\t3.Mul\\n\\t4.Div\")\n",
    "opt=input(\"Enter an option:\")"
   ]
  },
  {
   "cell_type": "code",
   "execution_count": 4,
   "metadata": {},
   "outputs": [
    {
     "name": "stdout",
     "output_type": "stream",
     "text": [
      "10\n",
      "20\n"
     ]
    }
   ],
   "source": [
    "a,b=10,20\n",
    "print(a)\n",
    "print(b)"
   ]
  },
  {
   "cell_type": "code",
   "execution_count": 5,
   "metadata": {},
   "outputs": [
    {
     "name": "stdout",
     "output_type": "stream",
     "text": [
      "Enter number1:12\n",
      "enter number2:34\n",
      "Operations\n",
      "\t1.Add\n",
      "\t2.Sub\n",
      "\t3.Mul\n",
      "\t4.Div\n",
      "Enter an option:1\n",
      "end\n"
     ]
    }
   ],
   "source": [
    "n1,n2=float(input(\"Enter number1:\")),float(input(\"enter number2:\"))\n",
    "print(\"Operations\\n\\t1.Add\\n\\t2.Sub\\n\\t3.Mul\\n\\t4.Div\")\n",
    "opt=input(\"Enter an option:\")\n",
    "if opt==1:\n",
    "    print(n1+n2)\n",
    "if opt==2:\n",
    "    print(n1-n2)\n",
    "if opt==3:\n",
    "    print(n1*n2)\n",
    "if opt==4:\n",
    "    print(n1/n2)\n",
    "print(\"end\")"
   ]
  },
  {
   "cell_type": "code",
   "execution_count": 6,
   "metadata": {},
   "outputs": [
    {
     "data": {
      "text/plain": [
       "False"
      ]
     },
     "execution_count": 6,
     "metadata": {},
     "output_type": "execute_result"
    }
   ],
   "source": [
    "\"1\"==1"
   ]
  },
  {
   "cell_type": "code",
   "execution_count": 7,
   "metadata": {},
   "outputs": [
    {
     "data": {
      "text/plain": [
       "True"
      ]
     },
     "execution_count": 7,
     "metadata": {},
     "output_type": "execute_result"
    }
   ],
   "source": [
    "1==1"
   ]
  },
  {
   "cell_type": "code",
   "execution_count": 8,
   "metadata": {},
   "outputs": [
    {
     "data": {
      "text/plain": [
       "True"
      ]
     },
     "execution_count": 8,
     "metadata": {},
     "output_type": "execute_result"
    }
   ],
   "source": [
    "\"1\"==\"1\""
   ]
  },
  {
   "cell_type": "code",
   "execution_count": 9,
   "metadata": {},
   "outputs": [
    {
     "name": "stdout",
     "output_type": "stream",
     "text": [
      "Enter number1:12\n",
      "enter number2:34\n",
      "Operations\n",
      "\t1.Add\n",
      "\t2.Sub\n",
      "\t3.Mul\n",
      "\t4.Div\n",
      "Enter an option:2\n",
      "-22.0\n",
      "end\n"
     ]
    }
   ],
   "source": [
    "n1,n2=float(input(\"Enter number1:\")),float(input(\"enter number2:\"))\n",
    "print(\"Operations\\n\\t1.Add\\n\\t2.Sub\\n\\t3.Mul\\n\\t4.Div\")\n",
    "opt=input(\"Enter an option:\")\n",
    "if opt==\"1\":\n",
    "    print(n1+n2)\n",
    "if opt==\"2\":\n",
    "    print(n1-n2)\n",
    "if opt==\"3\":\n",
    "    print(n1*n2)\n",
    "if opt==\"4\":\n",
    "    print(n1/n2)\n",
    "print(\"end\")"
   ]
  },
  {
   "cell_type": "code",
   "execution_count": 10,
   "metadata": {},
   "outputs": [
    {
     "name": "stdout",
     "output_type": "stream",
     "text": [
      "Enter number1:12\n",
      "enter number2:34\n",
      "Operations\n",
      "\t1.Add\n",
      "\t2.Sub\n",
      "\t3.Mul\n",
      "\t4.Div\n",
      "Enter an option:78\n",
      "end\n"
     ]
    }
   ],
   "source": [
    "n1,n2=float(input(\"Enter number1:\")),float(input(\"enter number2:\"))\n",
    "print(\"Operations\\n\\t1.Add\\n\\t2.Sub\\n\\t3.Mul\\n\\t4.Div\")\n",
    "opt=input(\"Enter an option:\")\n",
    "if opt==\"1\":\n",
    "    print(n1+n2)\n",
    "if opt==\"2\":\n",
    "    print(n1-n2)\n",
    "if opt==\"3\":\n",
    "    print(n1*n2)\n",
    "if opt==\"4\":\n",
    "    print(n1/n2)\n",
    "print(\"end\")"
   ]
  },
  {
   "cell_type": "code",
   "execution_count": 11,
   "metadata": {},
   "outputs": [
    {
     "data": {
      "text/plain": [
       "True"
      ]
     },
     "execution_count": 11,
     "metadata": {},
     "output_type": "execute_result"
    }
   ],
   "source": [
    "\"4\" in [\"1\",\"2\",\"3\",\"4\"]"
   ]
  },
  {
   "cell_type": "code",
   "execution_count": 12,
   "metadata": {},
   "outputs": [
    {
     "data": {
      "text/plain": [
       "False"
      ]
     },
     "execution_count": 12,
     "metadata": {},
     "output_type": "execute_result"
    }
   ],
   "source": [
    "\"78\" in [\"1\",\"2\",\"3\",\"4\"]"
   ]
  },
  {
   "cell_type": "code",
   "execution_count": 13,
   "metadata": {},
   "outputs": [
    {
     "name": "stdout",
     "output_type": "stream",
     "text": [
      "Enter number1:12\n",
      "enter number2:34\n",
      "Operations\n",
      "\t1.Add\n",
      "\t2.Sub\n",
      "\t3.Mul\n",
      "\t4.Div\n",
      "Enter an option:65\n",
      "wrong option.\n",
      "end\n"
     ]
    }
   ],
   "source": [
    "n1,n2=float(input(\"Enter number1:\")),float(input(\"enter number2:\"))\n",
    "print(\"Operations\\n\\t1.Add\\n\\t2.Sub\\n\\t3.Mul\\n\\t4.Div\")\n",
    "opt=input(\"Enter an option:\")\n",
    "if opt in [\"1\",\"2\",\"3\",\"4\"]:\n",
    "    if opt==\"1\":\n",
    "        print(n1+n2)\n",
    "    if opt==\"2\":\n",
    "        print(n1-n2)\n",
    "    if opt==\"3\":\n",
    "        print(n1*n2)\n",
    "    if opt==\"4\":\n",
    "        print(n1/n2)\n",
    "else:\n",
    "    print(\"wrong option.\")\n",
    "print(\"end\")"
   ]
  },
  {
   "cell_type": "code",
   "execution_count": 14,
   "metadata": {},
   "outputs": [
    {
     "name": "stdout",
     "output_type": "stream",
     "text": [
      "Enter number1:12\n",
      "enter number2:6\n",
      "Operations\n",
      "\t1.Add\n",
      "\t2.Sub\n",
      "\t3.Mul\n",
      "\t4.Div\n",
      "Enter an option:4\n",
      "2.0\n",
      "end\n"
     ]
    }
   ],
   "source": [
    "n1,n2=float(input(\"Enter number1:\")),float(input(\"enter number2:\"))\n",
    "print(\"Operations\\n\\t1.Add\\n\\t2.Sub\\n\\t3.Mul\\n\\t4.Div\")\n",
    "opt=input(\"Enter an option:\")#4\n",
    "if opt in [\"1\",\"2\",\"3\",\"4\"]:#True\n",
    "    if opt==\"1\":\n",
    "        print(n1+n2)\n",
    "    if opt==\"2\":\n",
    "        print(n1-n2)\n",
    "    if opt==\"3\":\n",
    "        print(n1*n2)\n",
    "    if opt==\"4\":\n",
    "        print(n1/n2)\n",
    "else:\n",
    "    print(\"wrong option.\")\n",
    "print(\"end\")"
   ]
  },
  {
   "cell_type": "code",
   "execution_count": 15,
   "metadata": {},
   "outputs": [
    {
     "name": "stdout",
     "output_type": "stream",
     "text": [
      "Enter number1:12\n",
      "enter number2:2\n",
      "Operations\n",
      "\t1.Add\n",
      "\t2.Sub\n",
      "\t3.Mul\n",
      "\t4.Div\n",
      "Enter an option:3\n",
      "24.0\n",
      "end\n"
     ]
    }
   ],
   "source": [
    "n1,n2=float(input(\"Enter number1:\")),float(input(\"enter number2:\"))\n",
    "print(\"Operations\\n\\t1.Add\\n\\t2.Sub\\n\\t3.Mul\\n\\t4.Div\")\n",
    "opt=input(\"Enter an option:\")#3\n",
    "if opt in [\"1\",\"2\",\"3\",\"4\"]:#True\n",
    "    if opt==\"1\":\n",
    "        print(n1+n2)\n",
    "    if opt==\"2\":\n",
    "        print(n1-n2)\n",
    "    if opt==\"3\":\n",
    "        print(n1*n2)\n",
    "    if opt==\"4\":\n",
    "        print(n1/n2)\n",
    "else:\n",
    "    print(\"wrong option.\")\n",
    "print(\"end\")"
   ]
  },
  {
   "cell_type": "code",
   "execution_count": 16,
   "metadata": {},
   "outputs": [
    {
     "name": "stdout",
     "output_type": "stream",
     "text": [
      "Enter number1:12\n",
      "enter number2:6\n",
      "Operations\n",
      "\t1.Add\n",
      "\t2.Sub\n",
      "\t3.Mul\n",
      "\t4.Div\n",
      "Enter an option:2\n",
      "6.0\n",
      "end\n"
     ]
    }
   ],
   "source": [
    "n1,n2=float(input(\"Enter number1:\")),float(input(\"enter number2:\"))\n",
    "print(\"Operations\\n\\t1.Add\\n\\t2.Sub\\n\\t3.Mul\\n\\t4.Div\")\n",
    "opt=input(\"Enter an option:\")#2\n",
    "if opt in [\"1\",\"2\",\"3\",\"4\"]:\n",
    "    if opt==\"1\":\n",
    "        print(n1+n2)\n",
    "    if opt==\"2\":\n",
    "        print(n1-n2)\n",
    "    if opt==\"3\":\n",
    "        print(n1*n2)\n",
    "    if opt==\"4\":\n",
    "        print(n1/n2)\n",
    "else:\n",
    "    print(\"wrong option.\")\n",
    "print(\"end\")"
   ]
  },
  {
   "cell_type": "code",
   "execution_count": 17,
   "metadata": {},
   "outputs": [
    {
     "name": "stdout",
     "output_type": "stream",
     "text": [
      "Enter number1:12\n",
      "enter number2:34\n",
      "Operations\n",
      "\t1.Add\n",
      "\t2.Sub\n",
      "\t3.Mul\n",
      "\t4.Div\n",
      "Enter an option:5\n",
      "wrong option.\n",
      "end\n"
     ]
    }
   ],
   "source": [
    "n1,n2=float(input(\"Enter number1:\")),float(input(\"enter number2:\"))\n",
    "print(\"Operations\\n\\t1.Add\\n\\t2.Sub\\n\\t3.Mul\\n\\t4.Div\")\n",
    "opt=input(\"Enter an option:\")\n",
    "if opt in [\"1\",\"2\",\"3\",\"4\"]:#False\n",
    "    if opt==\"1\":\n",
    "        print(n1+n2)\n",
    "    if opt==\"2\":\n",
    "        print(n1-n2)\n",
    "    if opt==\"3\":\n",
    "        print(n1*n2)\n",
    "    if opt==\"4\":\n",
    "        print(n1/n2)\n",
    "else:\n",
    "    print(\"wrong option.\")\n",
    "print(\"end\")"
   ]
  },
  {
   "cell_type": "code",
   "execution_count": 18,
   "metadata": {},
   "outputs": [
    {
     "name": "stdout",
     "output_type": "stream",
     "text": [
      "Enter number1:12\n",
      "enter number2:6\n",
      "Operations\n",
      "\t1.Add\n",
      "\t2.Sub\n",
      "\t3.Mul\n",
      "\t4.Div\n",
      "Enter an option:1\n",
      "18.0\n",
      "end\n"
     ]
    }
   ],
   "source": [
    "n1,n2=float(input(\"Enter number1:\")),float(input(\"enter number2:\"))\n",
    "print(\"Operations\\n\\t1.Add\\n\\t2.Sub\\n\\t3.Mul\\n\\t4.Div\")\n",
    "opt=input(\"Enter an option:\")\n",
    "if opt in [\"1\",\"2\",\"3\",\"4\"]:\n",
    "    if opt==\"1\":#True\n",
    "        print(n1+n2)\n",
    "    if opt==\"2\":\n",
    "        print(n1-n2)\n",
    "    if opt==\"3\":\n",
    "        print(n1*n2)\n",
    "    if opt==\"4\":\n",
    "        print(n1/n2)\n",
    "else:\n",
    "    print(\"wrong option.\")\n",
    "print(\"end\")"
   ]
  },
  {
   "cell_type": "code",
   "execution_count": 19,
   "metadata": {},
   "outputs": [
    {
     "name": "stdout",
     "output_type": "stream",
     "text": [
      "Enter number1:12\n",
      "enter number2:6\n",
      "Operations\n",
      "\t1.Add\n",
      "\t2.Sub\n",
      "\t3.Mul\n",
      "\t4.Div\n",
      "Enter an option:2\n",
      "6.0\n",
      "end\n"
     ]
    }
   ],
   "source": [
    "n1,n2=float(input(\"Enter number1:\")),float(input(\"enter number2:\"))\n",
    "print(\"Operations\\n\\t1.Add\\n\\t2.Sub\\n\\t3.Mul\\n\\t4.Div\")\n",
    "opt=input(\"Enter an option:\")\n",
    "if opt in [\"1\",\"2\",\"3\",\"4\"]:\n",
    "    if opt==\"1\":#False\n",
    "        print(n1+n2)\n",
    "    elif opt==\"2\":#True\n",
    "        print(n1-n2)\n",
    "    elif opt==\"3\":\n",
    "        print(n1*n2)\n",
    "    elif opt==\"4\":\n",
    "        print(n1/n2)\n",
    "else:\n",
    "    print(\"wrong option.\")\n",
    "print(\"end\")"
   ]
  },
  {
   "cell_type": "code",
   "execution_count": 20,
   "metadata": {},
   "outputs": [
    {
     "name": "stdout",
     "output_type": "stream",
     "text": [
      "Enter number1:12\n",
      "enter number2:6\n",
      "Operations\n",
      "\t1.Add\n",
      "\t2.Sub\n",
      "\t3.Mul\n",
      "\t4.Div\n",
      "Enter an option:3\n",
      "72.0\n",
      "processed operation\n",
      "end\n"
     ]
    }
   ],
   "source": [
    "n1,n2=float(input(\"Enter number1:\")),float(input(\"enter number2:\"))\n",
    "print(\"Operations\\n\\t1.Add\\n\\t2.Sub\\n\\t3.Mul\\n\\t4.Div\")\n",
    "opt=input(\"Enter an option:\")\n",
    "if opt in [\"1\",\"2\",\"3\",\"4\"]:#True\n",
    "    if opt==\"1\":\n",
    "        print(n1+n2)\n",
    "    elif opt==\"2\":\n",
    "        print(n1-n2)\n",
    "    elif opt==\"3\":#True\n",
    "        print(n1*n2)\n",
    "    elif opt==\"4\":\n",
    "        print(n1/n2)\n",
    "    print(\"processed operation\")\n",
    "else:\n",
    "    print(\"wrong option.\")\n",
    "print(\"end\")"
   ]
  },
  {
   "cell_type": "code",
   "execution_count": 21,
   "metadata": {},
   "outputs": [
    {
     "name": "stdout",
     "output_type": "stream",
     "text": [
      "Enter number1:12\n",
      "enter number2:6\n",
      "Operations\n",
      "\t1.Add\n",
      "\t2.Sub\n",
      "\t3.Mul\n",
      "\t4.Div\n",
      "Enter an option:2\n",
      "6.0\n",
      "processed operation\n",
      "end\n"
     ]
    }
   ],
   "source": [
    "n1,n2=float(input(\"Enter number1:\")),float(input(\"enter number2:\"))\n",
    "print(\"Operations\\n\\t1.Add\\n\\t2.Sub\\n\\t3.Mul\\n\\t4.Div\")\n",
    "opt=input(\"Enter an option:\")\n",
    "if opt in [\"1\",\"2\",\"3\",\"4\"]:#True\n",
    "    if opt==\"1\":\n",
    "        print(n1+n2)\n",
    "    elif opt==\"2\":\n",
    "        print(n1-n2)\n",
    "    elif opt==\"3\":\n",
    "        print(n1*n2)\n",
    "    elif opt==\"4\":\n",
    "        print(n1/n2)\n",
    "    print(\"processed operation\")\n",
    "else:\n",
    "    print(\"wrong option.\")\n",
    "print(\"end\")"
   ]
  },
  {
   "cell_type": "code",
   "execution_count": 22,
   "metadata": {},
   "outputs": [
    {
     "name": "stdout",
     "output_type": "stream",
     "text": [
      "Enter number1:12\n",
      "enter number2:6\n",
      "Operations\n",
      "\t1.Add\n",
      "\t2.Sub\n",
      "\t3.Mul\n",
      "\t4.Div\n",
      "Enter an option:3\n",
      "72.0\n",
      "wrong option.\n",
      "end\n"
     ]
    }
   ],
   "source": [
    "n1,n2=float(input(\"Enter number1:\")),float(input(\"enter number2:\"))\n",
    "print(\"Operations\\n\\t1.Add\\n\\t2.Sub\\n\\t3.Mul\\n\\t4.Div\")\n",
    "opt=input(\"Enter an option:\")\n",
    "if opt==\"1\":\n",
    "    print(n1+n2)\n",
    "if opt==\"2\":\n",
    "    print(n1-n2)\n",
    "if opt==\"3\":\n",
    "    print(n1*n2)\n",
    "if opt==\"4\":\n",
    "    print(n1/n2)\n",
    "else:\n",
    "    print(\"wrong option.\")\n",
    "print(\"end\")"
   ]
  },
  {
   "cell_type": "code",
   "execution_count": 23,
   "metadata": {},
   "outputs": [
    {
     "name": "stdout",
     "output_type": "stream",
     "text": [
      "Enter number1:12\n",
      "enter number2:6\n",
      "Operations\n",
      "\t1.Add\n",
      "\t2.Sub\n",
      "\t3.Mul\n",
      "\t4.Div\n",
      "Enter an option:4\n",
      "2.0\n",
      "end\n"
     ]
    }
   ],
   "source": [
    "n1,n2=float(input(\"Enter number1:\")),float(input(\"enter number2:\"))\n",
    "print(\"Operations\\n\\t1.Add\\n\\t2.Sub\\n\\t3.Mul\\n\\t4.Div\")\n",
    "opt=input(\"Enter an option:\")\n",
    "if opt==\"1\":\n",
    "    print(n1+n2)\n",
    "if opt==\"2\":\n",
    "    print(n1-n2)\n",
    "if opt==\"3\":\n",
    "    print(n1*n2)\n",
    "if opt==\"4\":\n",
    "    print(n1/n2)\n",
    "else:\n",
    "    print(\"wrong option.\")\n",
    "print(\"end\")"
   ]
  },
  {
   "cell_type": "code",
   "execution_count": 24,
   "metadata": {},
   "outputs": [
    {
     "name": "stdout",
     "output_type": "stream",
     "text": [
      "Enter number1:12\n",
      "enter number2:34\n",
      "Operations\n",
      "\t1.Add\n",
      "\t2.Sub\n",
      "\t3.Mul\n",
      "\t4.Div\n",
      "Enter an option:3\n",
      "408.0\n",
      "end\n"
     ]
    }
   ],
   "source": [
    "n1,n2=float(input(\"Enter number1:\")),float(input(\"enter number2:\"))\n",
    "print(\"Operations\\n\\t1.Add\\n\\t2.Sub\\n\\t3.Mul\\n\\t4.Div\")\n",
    "opt=input(\"Enter an option:\")\n",
    "if opt==\"1\":\n",
    "    print(n1+n2)\n",
    "elif opt==\"2\":\n",
    "    print(n1-n2)\n",
    "elif opt==\"3\":\n",
    "    print(n1*n2)\n",
    "elif opt==\"4\":\n",
    "    print(n1/n2)\n",
    "else:\n",
    "    print(\"wrong option.\")\n",
    "print(\"end\")"
   ]
  },
  {
   "cell_type": "code",
   "execution_count": 25,
   "metadata": {},
   "outputs": [
    {
     "name": "stdout",
     "output_type": "stream",
     "text": [
      "Enter number1:12\n",
      "enter number2:6\n",
      "Operations\n",
      "\t1.Add\n",
      "\t2.Sub\n",
      "\t3.Mul\n",
      "\t4.Div\n",
      "Enter an option:6\n",
      "wrong option.\n",
      "end\n"
     ]
    }
   ],
   "source": [
    "n1,n2=float(input(\"Enter number1:\")),float(input(\"enter number2:\"))\n",
    "print(\"Operations\\n\\t1.Add\\n\\t2.Sub\\n\\t3.Mul\\n\\t4.Div\")\n",
    "opt=input(\"Enter an option:\")\n",
    "if opt==\"1\":\n",
    "    print(n1+n2)\n",
    "elif opt==\"2\":\n",
    "    print(n1-n2)\n",
    "elif opt==\"3\":\n",
    "    print(n1*n2)\n",
    "elif opt==\"4\":\n",
    "    print(n1/n2)\n",
    "else:\n",
    "    print(\"wrong option.\")\n",
    "print(\"end\")"
   ]
  },
  {
   "cell_type": "code",
   "execution_count": 26,
   "metadata": {},
   "outputs": [
    {
     "ename": "IndentationError",
     "evalue": "expected an indented block (<ipython-input-26-847ee20b470a>, line 10)",
     "output_type": "error",
     "traceback": [
      "\u001b[1;36m  File \u001b[1;32m\"<ipython-input-26-847ee20b470a>\"\u001b[1;36m, line \u001b[1;32m10\u001b[0m\n\u001b[1;33m    elif opt==\"4\":\u001b[0m\n\u001b[1;37m    ^\u001b[0m\n\u001b[1;31mIndentationError\u001b[0m\u001b[1;31m:\u001b[0m expected an indented block\n"
     ]
    }
   ],
   "source": [
    "n1,n2=float(input(\"Enter number1:\")),float(input(\"enter number2:\"))\n",
    "print(\"Operations\\n\\t1.Add\\n\\t2.Sub\\n\\t3.Mul\\n\\t4.Div\")\n",
    "opt=input(\"Enter an option:\")\n",
    "if opt==\"1\":\n",
    "    print(n1+n2)\n",
    "elif opt==\"2\":\n",
    "    print(n1-n2)\n",
    "elif opt==\"3\":\n",
    "    \n",
    "elif opt==\"4\":\n",
    "    print(n1/n2)\n",
    "else:\n",
    "    print(\"wrong option.\")\n",
    "print(\"end\")"
   ]
  },
  {
   "cell_type": "code",
   "execution_count": 27,
   "metadata": {},
   "outputs": [
    {
     "name": "stdout",
     "output_type": "stream",
     "text": [
      "Enter number1:12\n",
      "enter number2:34\n",
      "Operations\n",
      "\t1.Add\n",
      "\t2.Sub\n",
      "\t3.Mul\n",
      "\t4.Div\n",
      "Enter an option:5\n",
      "wrong option.\n",
      "end\n"
     ]
    }
   ],
   "source": [
    "n1,n2=float(input(\"Enter number1:\")),float(input(\"enter number2:\"))\n",
    "print(\"Operations\\n\\t1.Add\\n\\t2.Sub\\n\\t3.Mul\\n\\t4.Div\")\n",
    "opt=input(\"Enter an option:\")\n",
    "if opt==\"1\":\n",
    "    print(n1+n2)\n",
    "elif opt==\"2\":\n",
    "    print(n1-n2)\n",
    "elif opt==\"3\":\n",
    "    pass\n",
    "elif opt==\"4\":\n",
    "    print(n1/n2)\n",
    "else:\n",
    "    print(\"wrong option.\")\n",
    "print(\"end\")"
   ]
  },
  {
   "cell_type": "code",
   "execution_count": 28,
   "metadata": {},
   "outputs": [
    {
     "name": "stdout",
     "output_type": "stream",
     "text": [
      "Enter number1:12\n",
      "enter number2:34\n",
      "Operations\n",
      "\t1.Add\n",
      "\t2.Sub\n",
      "\t3.Mul\n",
      "\t4.Div\n",
      "Enter an option:3\n",
      "end\n"
     ]
    }
   ],
   "source": [
    "n1,n2=float(input(\"Enter number1:\")),float(input(\"enter number2:\"))\n",
    "print(\"Operations\\n\\t1.Add\\n\\t2.Sub\\n\\t3.Mul\\n\\t4.Div\")\n",
    "opt=input(\"Enter an option:\")\n",
    "if opt==\"1\":\n",
    "    print(n1+n2)\n",
    "elif opt==\"2\":\n",
    "    print(n1-n2)\n",
    "elif opt==\"3\":\n",
    "    pass\n",
    "elif opt==\"4\":\n",
    "    print(n1/n2)\n",
    "else:\n",
    "    print(\"wrong option.\")\n",
    "print(\"end\")"
   ]
  },
  {
   "cell_type": "code",
   "execution_count": 29,
   "metadata": {},
   "outputs": [
    {
     "ename": "SyntaxError",
     "evalue": "invalid syntax (<ipython-input-29-e0bdb6daa1cc>, line 8)",
     "output_type": "error",
     "traceback": [
      "\u001b[1;36m  File \u001b[1;32m\"<ipython-input-29-e0bdb6daa1cc>\"\u001b[1;36m, line \u001b[1;32m8\u001b[0m\n\u001b[1;33m    elif pass:\u001b[0m\n\u001b[1;37m         ^\u001b[0m\n\u001b[1;31mSyntaxError\u001b[0m\u001b[1;31m:\u001b[0m invalid syntax\n"
     ]
    }
   ],
   "source": [
    "n1,n2=float(input(\"Enter number1:\")),float(input(\"enter number2:\"))\n",
    "print(\"Operations\\n\\t1.Add\\n\\t2.Sub\\n\\t3.Mul\\n\\t4.Div\")\n",
    "opt=input(\"Enter an option:\")\n",
    "if opt==\"1\":\n",
    "    print(n1+n2)\n",
    "elif opt==\"2\":\n",
    "    print(n1-n2)\n",
    "elif 2:\n",
    "    pass\n",
    "elif opt==\"4\":\n",
    "    print(n1/n2)\n",
    "else:\n",
    "    print(\"wrong option.\")\n",
    "print(\"end\")"
   ]
  },
  {
   "cell_type": "code",
   "execution_count": 30,
   "metadata": {},
   "outputs": [
    {
     "name": "stdout",
     "output_type": "stream",
     "text": [
      "Enter number1:12\n",
      "enter number2:34\n",
      "Operations\n",
      "\t1.Add\n",
      "\t2.Sub\n",
      "\t3.Mul\n",
      "\t4.Div\n",
      "Enter an option:1\n",
      "46.0\n",
      "end\n"
     ]
    }
   ],
   "source": [
    "n1,n2=float(input(\"Enter number1:\")),float(input(\"enter number2:\"))\n",
    "print(\"Operations\\n\\t1.Add\\n\\t2.Sub\\n\\t3.Mul\\n\\t4.Div\")\n",
    "opt=input(\"Enter an option:\")\n",
    "if opt==\"1\":\n",
    "    print(n1+n2)\n",
    "elif opt==\"2\":\n",
    "    print(n1-n2)\n",
    "elif 2:\n",
    "    pass\n",
    "elif opt==\"4\":\n",
    "    print(n1/n2)\n",
    "else:\n",
    "    print(\"wrong option.\")\n",
    "print(\"end\")"
   ]
  },
  {
   "cell_type": "code",
   "execution_count": 31,
   "metadata": {},
   "outputs": [
    {
     "name": "stdout",
     "output_type": "stream",
     "text": [
      "Enter number1:2\n",
      "enter number2:2\n",
      "Operations\n",
      "\t1.Add\n",
      "\t2.Sub\n",
      "\t3.Mul\n",
      "\t4.Div\n",
      "Enter an option:2\n",
      "0.0\n",
      "end\n"
     ]
    }
   ],
   "source": [
    "n1,n2=float(input(\"Enter number1:\")),float(input(\"enter number2:\"))\n",
    "print(\"Operations\\n\\t1.Add\\n\\t2.Sub\\n\\t3.Mul\\n\\t4.Div\")\n",
    "opt=input(\"Enter an option:\")\n",
    "if opt==\"1\":\n",
    "    print(n1+n2)\n",
    "elif opt==\"2\":\n",
    "    print(n1-n2)\n",
    "elif 2:\n",
    "    pass\n",
    "elif opt==\"4\":\n",
    "    print(n1/n2)\n",
    "else:\n",
    "    print(\"wrong option.\")\n",
    "print(\"end\")"
   ]
  },
  {
   "cell_type": "code",
   "execution_count": 32,
   "metadata": {},
   "outputs": [
    {
     "name": "stdout",
     "output_type": "stream",
     "text": [
      "Enter number1:12\n",
      "enter number2:3\n",
      "Operations\n",
      "\t1.Add\n",
      "\t2.Sub\n",
      "\t3.Mul\n",
      "\t4.Div\n",
      "Enter an option:4\n",
      "end\n"
     ]
    }
   ],
   "source": [
    "n1,n2=float(input(\"Enter number1:\")),float(input(\"enter number2:\"))\n",
    "print(\"Operations\\n\\t1.Add\\n\\t2.Sub\\n\\t3.Mul\\n\\t4.Div\")\n",
    "opt=input(\"Enter an option:\")\n",
    "if opt==\"1\":\n",
    "    print(n1+n2)\n",
    "elif opt==\"2\":\n",
    "    print(n1-n2)\n",
    "elif 2:\n",
    "    pass\n",
    "elif opt==\"4\":\n",
    "    print(n1/n2)\n",
    "else:\n",
    "    print(\"wrong option.\")\n",
    "print(\"end\")"
   ]
  },
  {
   "cell_type": "code",
   "execution_count": 33,
   "metadata": {},
   "outputs": [],
   "source": [
    "#age:  1-7: kid, 8-12:boy, 13-19: teen, >20: man "
   ]
  },
  {
   "cell_type": "code",
   "execution_count": null,
   "metadata": {},
   "outputs": [],
   "source": [
    "age=4\n",
    "if age>=1 and age<=7:\n",
    "    print(\"kid\")"
   ]
  },
  {
   "cell_type": "code",
   "execution_count": 34,
   "metadata": {},
   "outputs": [
    {
     "data": {
      "text/plain": [
       "[1, 2, 3, 4, 5, 6, 7]"
      ]
     },
     "execution_count": 34,
     "metadata": {},
     "output_type": "execute_result"
    }
   ],
   "source": [
    "list(range(1,8))"
   ]
  },
  {
   "cell_type": "code",
   "execution_count": null,
   "metadata": {},
   "outputs": [],
   "source": [
    "age=4\n",
    "if age in range(1,8):\n",
    "    print(\"kid\")"
   ]
  },
  {
   "cell_type": "code",
   "execution_count": 35,
   "metadata": {},
   "outputs": [
    {
     "data": {
      "text/plain": [
       "range(1, 7)"
      ]
     },
     "execution_count": 35,
     "metadata": {},
     "output_type": "execute_result"
    }
   ],
   "source": [
    "range(1,7)"
   ]
  },
  {
   "cell_type": "code",
   "execution_count": 36,
   "metadata": {},
   "outputs": [
    {
     "name": "stdout",
     "output_type": "stream",
     "text": [
      "enter age23\n",
      "man\n",
      "end\n"
     ]
    }
   ],
   "source": [
    "a=float(input(\"enter age\"))\n",
    "if a in range(1,8):\n",
    "    print(\"kid\")\n",
    "if a in range(9,15):\n",
    "    print(\"boy\")\n",
    "if a in range(15,20):\n",
    "    print(\"teen\")\n",
    "if a in range(21,100):\n",
    "    print(\"man\")\n",
    "print(\"end\")"
   ]
  },
  {
   "cell_type": "code",
   "execution_count": 37,
   "metadata": {},
   "outputs": [
    {
     "name": "stdout",
     "output_type": "stream",
     "text": [
      "enter age0\n",
      "end\n"
     ]
    }
   ],
   "source": [
    "a=float(input(\"enter age\"))\n",
    "if a in range(1,8):\n",
    "    print(\"kid\")\n",
    "if a in range(9,15):\n",
    "    print(\"boy\")\n",
    "if a in range(15,20):\n",
    "    print(\"teen\")\n",
    "if a in range(21,100):\n",
    "    print(\"man\")\n",
    "print(\"end\")"
   ]
  },
  {
   "cell_type": "code",
   "execution_count": 38,
   "metadata": {},
   "outputs": [
    {
     "name": "stdout",
     "output_type": "stream",
     "text": [
      "enter age102\n",
      "end\n"
     ]
    }
   ],
   "source": [
    "a=float(input(\"enter age\"))\n",
    "if a in range(1,8):\n",
    "    print(\"kid\")\n",
    "if a in range(9,15):\n",
    "    print(\"boy\")\n",
    "if a in range(15,20):\n",
    "    print(\"teen\")\n",
    "if a in range(21,100):\n",
    "    print(\"man\")\n",
    "print(\"end\")"
   ]
  },
  {
   "cell_type": "code",
   "execution_count": 39,
   "metadata": {},
   "outputs": [
    {
     "name": "stdout",
     "output_type": "stream",
     "text": [
      "enter age23\n",
      "man\n",
      "end\n"
     ]
    }
   ],
   "source": [
    "a=float(input(\"enter age\"))\n",
    "if a in range(1,8):\n",
    "    print(\"kid\")\n",
    "elif a in range(9,15):\n",
    "    print(\"boy\")\n",
    "elif a in range(15,20):\n",
    "    print(\"teen\")\n",
    "else:\n",
    "    print(\"man\")\n",
    "print(\"end\")"
   ]
  },
  {
   "cell_type": "code",
   "execution_count": 40,
   "metadata": {},
   "outputs": [
    {
     "name": "stdout",
     "output_type": "stream",
     "text": [
      "enter age102\n",
      "man\n",
      "end\n"
     ]
    }
   ],
   "source": [
    "a=float(input(\"enter age\"))\n",
    "if a in range(1,8):\n",
    "    print(\"kid\")\n",
    "elif a in range(9,15):\n",
    "    print(\"boy\")\n",
    "elif a in range(15,20):\n",
    "    print(\"teen\")\n",
    "else:\n",
    "    print(\"man\")\n",
    "print(\"end\")"
   ]
  },
  {
   "cell_type": "code",
   "execution_count": 41,
   "metadata": {},
   "outputs": [
    {
     "name": "stdout",
     "output_type": "stream",
     "text": [
      "enter age0\n",
      "man\n",
      "end\n"
     ]
    }
   ],
   "source": [
    "a=float(input(\"enter age\"))\n",
    "if a in range(1,8):\n",
    "    print(\"kid\")\n",
    "elif a in range(9,15):\n",
    "    print(\"boy\")\n",
    "elif a in range(15,20):\n",
    "    print(\"teen\")\n",
    "else:\n",
    "    print(\"man\")\n",
    "print(\"end\")"
   ]
  },
  {
   "cell_type": "code",
   "execution_count": 42,
   "metadata": {},
   "outputs": [
    {
     "name": "stdout",
     "output_type": "stream",
     "text": [
      "enter age-12\n",
      "man\n",
      "end\n"
     ]
    }
   ],
   "source": [
    "a=float(input(\"enter age\"))\n",
    "if a in range(0,8):\n",
    "    print(\"kid\")\n",
    "elif a in range(9,15):\n",
    "    print(\"boy\")\n",
    "elif a in range(15,20):\n",
    "    print(\"teen\")\n",
    "else:\n",
    "    print(\"man\")\n",
    "print(\"end\")"
   ]
  },
  {
   "cell_type": "code",
   "execution_count": 44,
   "metadata": {},
   "outputs": [
    {
     "name": "stdout",
     "output_type": "stream",
     "text": [
      "enter age-23\n",
      "end\n"
     ]
    }
   ],
   "source": [
    "a=float(input(\"enter age\"))\n",
    "if a in range(0,8):\n",
    "    print(\"kid\")\n",
    "elif a in range(9,15):\n",
    "    print(\"boy\")\n",
    "elif a in range(15,20):\n",
    "    print(\"teen\")\n",
    "elif a>20:\n",
    "    print(\"man\")\n",
    "print(\"end\")"
   ]
  },
  {
   "cell_type": "code",
   "execution_count": 45,
   "metadata": {},
   "outputs": [
    {
     "name": "stdout",
     "output_type": "stream",
     "text": [
      "enter age12\n",
      "boy\n",
      "end\n"
     ]
    }
   ],
   "source": [
    "a=float(input(\"enter age\"))\n",
    "if a in range(0,8):\n",
    "    print(\"kid\")\n",
    "elif a in range(9,15):\n",
    "    print(\"boy\")\n",
    "elif a in range(15,20):\n",
    "    print(\"teen\")\n",
    "elif a>20:\n",
    "    print(\"man\")\n",
    "elif a<0:\n",
    "    print(\"Invalid\")\n",
    "print(\"end\")"
   ]
  },
  {
   "cell_type": "code",
   "execution_count": 46,
   "metadata": {},
   "outputs": [
    {
     "name": "stdout",
     "output_type": "stream",
     "text": [
      "enter age234\n",
      "man\n",
      "end\n"
     ]
    }
   ],
   "source": [
    "a=float(input(\"enter age\"))\n",
    "if a in range(0,8):\n",
    "    print(\"kid\")\n",
    "elif a in range(9,15):\n",
    "    print(\"boy\")\n",
    "elif a in range(15,20):\n",
    "    print(\"teen\")\n",
    "elif a>20:\n",
    "    print(\"man\")\n",
    "elif a<0:\n",
    "    print(\"Invalid\")\n",
    "print(\"end\")"
   ]
  },
  {
   "cell_type": "code",
   "execution_count": 47,
   "metadata": {},
   "outputs": [
    {
     "name": "stdout",
     "output_type": "stream",
     "text": [
      "enter age-12\n",
      "Invalid\n",
      "end\n"
     ]
    }
   ],
   "source": [
    "a=float(input(\"enter age\"))\n",
    "if a in range(0,8):\n",
    "    print(\"kid\")\n",
    "elif a in range(9,15):\n",
    "    print(\"boy\")\n",
    "elif a in range(15,20):\n",
    "    print(\"teen\")\n",
    "elif a>20:\n",
    "    print(\"man\")\n",
    "elif a<0:\n",
    "    print(\"Invalid\")\n",
    "print(\"end\")"
   ]
  },
  {
   "cell_type": "code",
   "execution_count": null,
   "metadata": {},
   "outputs": [],
   "source": []
  }
 ],
 "metadata": {
  "kernelspec": {
   "display_name": "Python 3",
   "language": "python",
   "name": "python3"
  },
  "language_info": {
   "codemirror_mode": {
    "name": "ipython",
    "version": 3
   },
   "file_extension": ".py",
   "mimetype": "text/x-python",
   "name": "python",
   "nbconvert_exporter": "python",
   "pygments_lexer": "ipython3",
   "version": "3.8.3"
  }
 },
 "nbformat": 4,
 "nbformat_minor": 4
}
