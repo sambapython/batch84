{
 "cells": [
  {
   "cell_type": "code",
   "execution_count": 1,
   "metadata": {},
   "outputs": [
    {
     "name": "stdout",
     "output_type": "stream",
     "text": [
      "1\n",
      "2\n",
      "Even\n",
      "3\n",
      "4\n",
      "5\n",
      "Odd\n",
      "6\n",
      "Even\n",
      "7\n",
      "8\n",
      "Odd\n"
     ]
    }
   ],
   "source": [
    "print(\"1\")\n",
    "print(\"2\")\n",
    "number = 10\n",
    "if number%2==0:\n",
    "    print(\"Even\")\n",
    "else:\n",
    "    print(\"Odd\")\n",
    "print(\"3\")\n",
    "print(\"4\")\n",
    "print(\"5\")\n",
    "number = 103\n",
    "if number%2==0:\n",
    "    print(\"Even\")\n",
    "else:\n",
    "    print(\"Odd\")\n",
    "print(\"6\")\n",
    "number = 106\n",
    "if number%2==0:\n",
    "    print(\"Even\")\n",
    "else:\n",
    "    print(\"Odd\")\n",
    "print(\"7\")\n",
    "print(\"8\")\n",
    "number = 109\n",
    "if number%2==0:\n",
    "    print(\"Even\")\n",
    "else:\n",
    "    print(\"Odd\")"
   ]
  },
  {
   "cell_type": "code",
   "execution_count": 2,
   "metadata": {},
   "outputs": [
    {
     "name": "stdout",
     "output_type": "stream",
     "text": [
      "1\n",
      "2\n",
      "Even\n",
      "3\n",
      "4\n",
      "5\n",
      "Odd\n",
      "6\n",
      "Even\n",
      "7\n",
      "8\n",
      "Odd\n"
     ]
    }
   ],
   "source": [
    "def fun(number):\n",
    "    if number%2==0:\n",
    "        print(\"Even\")\n",
    "    else:\n",
    "        print(\"Odd\")\n",
    "    \n",
    "print(\"1\")\n",
    "print(\"2\")\n",
    "fun(10)\n",
    "print(\"3\")\n",
    "print(\"4\")\n",
    "print(\"5\")\n",
    "fun(103)\n",
    "print(\"6\")\n",
    "fun(106)\n",
    "print(\"7\")\n",
    "print(\"8\")\n",
    "fun(109)"
   ]
  },
  {
   "cell_type": "code",
   "execution_count": 3,
   "metadata": {},
   "outputs": [
    {
     "name": "stdout",
     "output_type": "stream",
     "text": [
      "1\n",
      "2\n",
      "EVEN\n",
      "3\n",
      "4\n",
      "5\n",
      "ODD\n",
      "6\n",
      "EVEN\n",
      "7\n",
      "8\n",
      "ODD\n"
     ]
    }
   ],
   "source": [
    "def fun(number):\n",
    "    if number%2==0:\n",
    "        print(\"EVEN\")\n",
    "    else:\n",
    "        print(\"ODD\")\n",
    "    \n",
    "print(\"1\")\n",
    "print(\"2\")\n",
    "fun(10)\n",
    "print(\"3\")\n",
    "print(\"4\")\n",
    "print(\"5\")\n",
    "fun(103)\n",
    "print(\"6\")\n",
    "fun(106)\n",
    "print(\"7\")\n",
    "print(\"8\")\n",
    "fun(109)"
   ]
  },
  {
   "cell_type": "code",
   "execution_count": 4,
   "metadata": {},
   "outputs": [
    {
     "name": "stdout",
     "output_type": "stream",
     "text": [
      "starred\n",
      "ended\n"
     ]
    }
   ],
   "source": [
    "print(\"starred\")\n",
    "def fun1():# signature of the function\n",
    "    # function body\n",
    "    print(\"hello\")\n",
    "    print(\"hi\")\n",
    "    print(\"hyderabad\")\n",
    "    print(\"banglore\")\n",
    "print(\"ended\")  "
   ]
  },
  {
   "cell_type": "code",
   "execution_count": 5,
   "metadata": {},
   "outputs": [
    {
     "name": "stdout",
     "output_type": "stream",
     "text": [
      "starred\n",
      "ended\n",
      "hello\n",
      "hi\n",
      "hyderabad\n",
      "banglore\n"
     ]
    }
   ],
   "source": [
    "print(\"starred\")\n",
    "def fun1():# signature of the function\n",
    "    # function body\n",
    "    print(\"hello\")\n",
    "    print(\"hi\")\n",
    "    print(\"hyderabad\")\n",
    "    print(\"banglore\")\n",
    "print(\"ended\")  \n",
    "fun1()"
   ]
  },
  {
   "cell_type": "code",
   "execution_count": 6,
   "metadata": {},
   "outputs": [
    {
     "name": "stdout",
     "output_type": "stream",
     "text": [
      "starred\n",
      "ended\n",
      "hello\n",
      "hi\n",
      "hyderabad\n",
      "banglore\n",
      "1\n",
      "hello\n",
      "hi\n",
      "hyderabad\n",
      "banglore\n",
      "2\n",
      "3\n",
      "hello\n",
      "hi\n",
      "hyderabad\n",
      "banglore\n"
     ]
    }
   ],
   "source": [
    "print(\"starred\")\n",
    "def fun1():# signature of the function\n",
    "    # function body\n",
    "    print(\"hello\")\n",
    "    print(\"hi\")\n",
    "    print(\"hyderabad\")\n",
    "    print(\"banglore\")\n",
    "print(\"ended\")  \n",
    "fun1()\n",
    "print(\"1\")\n",
    "fun1()\n",
    "print(\"2\")\n",
    "print(\"3\")\n",
    "fun1()"
   ]
  },
  {
   "cell_type": "code",
   "execution_count": 8,
   "metadata": {},
   "outputs": [
    {
     "name": "stdout",
     "output_type": "stream",
     "text": [
      "x=10,y=20\n",
      "res= 30\n",
      "x=100,y=200\n",
      "res= 300\n"
     ]
    }
   ],
   "source": [
    "def add(x,y):#x,y parameters\n",
    "    print(f\"x={x},y={y}\")\n",
    "    res=x+y\n",
    "    print(\"res=\",res)\n",
    "    \n",
    "add(10,20)# 10,20 arguments.\n",
    "add(100,200)# 100,200 arguments"
   ]
  },
  {
   "cell_type": "code",
   "execution_count": 9,
   "metadata": {},
   "outputs": [
    {
     "name": "stdout",
     "output_type": "stream",
     "text": [
      "x= 10 y= 20\n",
      "res= 30\n",
      "x= 100 y= 200\n",
      "res= 300\n"
     ]
    }
   ],
   "source": [
    "def add(x,y):#x,y parameters\n",
    "    print(\"x=\",x,\"y=\",y)\n",
    "    res=x+y\n",
    "    print(\"res=\",res)\n",
    "    \n",
    "add(10,20)# 10,20 arguments.\n",
    "add(100,200)# 100,200 arguments"
   ]
  },
  {
   "cell_type": "code",
   "execution_count": 11,
   "metadata": {},
   "outputs": [
    {
     "name": "stdout",
     "output_type": "stream",
     "text": [
      "x=10,y=20\n",
      "res= 30\n",
      "x=100,y=200\n",
      "res= 300\n"
     ]
    }
   ],
   "source": [
    "def add(x,y):#x,y parameters\n",
    "    print(\"x=%s,y=%s\"%(x,y))\n",
    "    res=x+y\n",
    "    print(\"res=\",res)\n",
    "    \n",
    "add(10,20)# 10,20 arguments.\n",
    "add(100,200)# 100,200 arguments"
   ]
  },
  {
   "cell_type": "code",
   "execution_count": 12,
   "metadata": {},
   "outputs": [
    {
     "ename": "TypeError",
     "evalue": "add() missing 1 required positional argument: 'y'",
     "output_type": "error",
     "traceback": [
      "\u001b[1;31m---------------------------------------------------------------------------\u001b[0m",
      "\u001b[1;31mTypeError\u001b[0m                                 Traceback (most recent call last)",
      "\u001b[1;32m<ipython-input-12-0553e64710cd>\u001b[0m in \u001b[0;36m<module>\u001b[1;34m\u001b[0m\n\u001b[0;32m      3\u001b[0m     \u001b[0mres\u001b[0m\u001b[1;33m=\u001b[0m\u001b[0mx\u001b[0m\u001b[1;33m+\u001b[0m\u001b[0my\u001b[0m\u001b[1;33m\u001b[0m\u001b[1;33m\u001b[0m\u001b[0m\n\u001b[0;32m      4\u001b[0m     \u001b[0mprint\u001b[0m\u001b[1;33m(\u001b[0m\u001b[1;34m\"res=\"\u001b[0m\u001b[1;33m,\u001b[0m\u001b[0mres\u001b[0m\u001b[1;33m)\u001b[0m\u001b[1;33m\u001b[0m\u001b[1;33m\u001b[0m\u001b[0m\n\u001b[1;32m----> 5\u001b[1;33m \u001b[0madd\u001b[0m\u001b[1;33m(\u001b[0m\u001b[1;36m10\u001b[0m\u001b[1;33m)\u001b[0m\u001b[1;33m\u001b[0m\u001b[1;33m\u001b[0m\u001b[0m\n\u001b[0m",
      "\u001b[1;31mTypeError\u001b[0m: add() missing 1 required positional argument: 'y'"
     ]
    }
   ],
   "source": [
    "def add(x,y):#x,y parameters\n",
    "    print(\"x=%s,y=%s\"%(x,y))\n",
    "    res=x+y\n",
    "    print(\"res=\",res)\n",
    "add(10)"
   ]
  },
  {
   "cell_type": "code",
   "execution_count": 13,
   "metadata": {},
   "outputs": [
    {
     "ename": "TypeError",
     "evalue": "add() takes 2 positional arguments but 3 were given",
     "output_type": "error",
     "traceback": [
      "\u001b[1;31m---------------------------------------------------------------------------\u001b[0m",
      "\u001b[1;31mTypeError\u001b[0m                                 Traceback (most recent call last)",
      "\u001b[1;32m<ipython-input-13-7bcc736fdb15>\u001b[0m in \u001b[0;36m<module>\u001b[1;34m\u001b[0m\n\u001b[0;32m      4\u001b[0m     \u001b[0mprint\u001b[0m\u001b[1;33m(\u001b[0m\u001b[1;34m\"res=\"\u001b[0m\u001b[1;33m,\u001b[0m\u001b[0mres\u001b[0m\u001b[1;33m)\u001b[0m\u001b[1;33m\u001b[0m\u001b[1;33m\u001b[0m\u001b[0m\n\u001b[0;32m      5\u001b[0m \u001b[1;33m\u001b[0m\u001b[0m\n\u001b[1;32m----> 6\u001b[1;33m \u001b[0madd\u001b[0m\u001b[1;33m(\u001b[0m\u001b[1;36m10\u001b[0m\u001b[1;33m,\u001b[0m\u001b[1;36m20\u001b[0m\u001b[1;33m,\u001b[0m\u001b[1;36m30\u001b[0m\u001b[1;33m)\u001b[0m\u001b[1;33m\u001b[0m\u001b[1;33m\u001b[0m\u001b[0m\n\u001b[0m",
      "\u001b[1;31mTypeError\u001b[0m: add() takes 2 positional arguments but 3 were given"
     ]
    }
   ],
   "source": [
    "def add(x,y):#x,y parameters\n",
    "    print(\"x=%s,y=%s\"%(x,y))\n",
    "    res=x+y\n",
    "    print(\"res=\",res)\n",
    "    \n",
    "add(10,20,30)"
   ]
  },
  {
   "cell_type": "code",
   "execution_count": 14,
   "metadata": {},
   "outputs": [
    {
     "name": "stdout",
     "output_type": "stream",
     "text": [
      "a=10,b=20,c=30,d=40,e=50,f=60\n",
      "res= 210\n"
     ]
    }
   ],
   "source": [
    "def add(a,b,c,d,e,f):\n",
    "    print(f\"a={a},b={b},c={c},d={d},e={e},f={f}\")\n",
    "    res=a+b+c+d+e+f\n",
    "    print(\"res=\",res)\n",
    "    \n",
    "add(10,20,30,40,50,60)"
   ]
  },
  {
   "cell_type": "code",
   "execution_count": 15,
   "metadata": {},
   "outputs": [
    {
     "ename": "TypeError",
     "evalue": "add() missing 6 required positional arguments: 'a', 'b', 'c', 'd', 'e', and 'f'",
     "output_type": "error",
     "traceback": [
      "\u001b[1;31m---------------------------------------------------------------------------\u001b[0m",
      "\u001b[1;31mTypeError\u001b[0m                                 Traceback (most recent call last)",
      "\u001b[1;32m<ipython-input-15-44b2c4035a26>\u001b[0m in \u001b[0;36m<module>\u001b[1;34m\u001b[0m\n\u001b[0;32m      4\u001b[0m     \u001b[0mprint\u001b[0m\u001b[1;33m(\u001b[0m\u001b[1;34m\"res=\"\u001b[0m\u001b[1;33m,\u001b[0m\u001b[0mres\u001b[0m\u001b[1;33m)\u001b[0m\u001b[1;33m\u001b[0m\u001b[1;33m\u001b[0m\u001b[0m\n\u001b[0;32m      5\u001b[0m \u001b[1;33m\u001b[0m\u001b[0m\n\u001b[1;32m----> 6\u001b[1;33m \u001b[0madd\u001b[0m\u001b[1;33m(\u001b[0m\u001b[1;33m)\u001b[0m\u001b[1;33m\u001b[0m\u001b[1;33m\u001b[0m\u001b[0m\n\u001b[0m\u001b[0;32m      7\u001b[0m \u001b[0madd\u001b[0m\u001b[1;33m(\u001b[0m\u001b[1;36m10\u001b[0m\u001b[1;33m)\u001b[0m\u001b[1;33m\u001b[0m\u001b[1;33m\u001b[0m\u001b[0m\n\u001b[0;32m      8\u001b[0m \u001b[0madd\u001b[0m\u001b[1;33m(\u001b[0m\u001b[1;36m10\u001b[0m\u001b[1;33m,\u001b[0m\u001b[1;36m20\u001b[0m\u001b[1;33m)\u001b[0m\u001b[1;33m\u001b[0m\u001b[1;33m\u001b[0m\u001b[0m\n",
      "\u001b[1;31mTypeError\u001b[0m: add() missing 6 required positional arguments: 'a', 'b', 'c', 'd', 'e', and 'f'"
     ]
    }
   ],
   "source": [
    "def add(a,b,c,d,e,f):\n",
    "    print(f\"a={a},b={b},c={c},d={d},e={e},f={f}\")\n",
    "    res=a+b+c+d+e+f\n",
    "    print(\"res=\",res)\n",
    "    \n",
    "add()\n",
    "add(10)\n",
    "add(10,20)\n",
    "add(10,20,30)\n",
    "add(10,20,30,40)\n",
    "add(10,20,30,40,50)\n",
    "add(10,20,30,40,50,60)"
   ]
  },
  {
   "cell_type": "code",
   "execution_count": 16,
   "metadata": {},
   "outputs": [
    {
     "name": "stdout",
     "output_type": "stream",
     "text": [
      "a=0,b=0,c=0,d=0,e=0,f=0\n",
      "res= 0\n",
      "a=10,b=0,c=0,d=0,e=0,f=0\n",
      "res= 10\n",
      "a=10,b=20,c=0,d=0,e=0,f=0\n",
      "res= 30\n",
      "a=10,b=20,c=30,d=0,e=0,f=0\n",
      "res= 60\n",
      "a=10,b=20,c=30,d=40,e=0,f=0\n",
      "res= 100\n",
      "a=10,b=20,c=30,d=40,e=50,f=0\n",
      "res= 150\n",
      "a=10,b=20,c=30,d=40,e=50,f=60\n",
      "res= 210\n"
     ]
    }
   ],
   "source": [
    "def add(a=0,b=0,c=0,d=0,e=0,f=0):\n",
    "    print(f\"a={a},b={b},c={c},d={d},e={e},f={f}\")\n",
    "    res=a+b+c+d+e+f\n",
    "    print(\"res=\",res)\n",
    "    \n",
    "add()\n",
    "add(10)\n",
    "add(10,20)\n",
    "add(10,20,30)\n",
    "add(10,20,30,40)\n",
    "add(10,20,30,40,50)\n",
    "add(10,20,30,40,50,60)"
   ]
  },
  {
   "cell_type": "code",
   "execution_count": 19,
   "metadata": {},
   "outputs": [
    {
     "name": "stdout",
     "output_type": "stream",
     "text": [
      "name=jay,age=23,height=5.4,weight=68,email=,phone=0000000000\n"
     ]
    }
   ],
   "source": [
    "def registration(name,age,height,weight=None,email=\"\",phone=\"0000000000\"):\n",
    "    #name,age,height are mandatory parameters\n",
    "    # wight, email, phone are optional parameters\n",
    "    print(f\"name={name},age={age},height={height},weight={weight},email={email},phone={phone}\")\n",
    "registration(\"jay\",23,5.4,68)"
   ]
  },
  {
   "cell_type": "code",
   "execution_count": 17,
   "metadata": {},
   "outputs": [
    {
     "name": "stdout",
     "output_type": "stream",
     "text": [
      "<class 'NoneType'>\n"
     ]
    }
   ],
   "source": [
    "s=None\n",
    "print(type(s))"
   ]
  },
  {
   "cell_type": "code",
   "execution_count": 20,
   "metadata": {},
   "outputs": [
    {
     "name": "stdout",
     "output_type": "stream",
     "text": [
      "name=jay,age=23,height=5.4,weight=68,email=,phone=0000000000\n",
      "name=jay,age=23,height=5.4,weight=None,email=,phone=0000000000\n"
     ]
    }
   ],
   "source": [
    "def registration(name,age,height,weight=None,email=\"\",phone=\"0000000000\"):\n",
    "    #name,age,height are mandatory parameters\n",
    "    # wight, email, phone are optional parameters\n",
    "    print(f\"name={name},age={age},height={height},weight={weight},email={email},phone={phone}\")\n",
    "registration(\"jay\",23,5.4,68)\n",
    "registration(\"jay\",23,5.4)"
   ]
  },
  {
   "cell_type": "code",
   "execution_count": 21,
   "metadata": {},
   "outputs": [
    {
     "name": "stdout",
     "output_type": "stream",
     "text": [
      "name=jay,age=23,height=5.4,weight=68,email=,phone=0000000000\n",
      "name=jay,age=23,height=5.4,weight=None,email=,phone=7564865789\n"
     ]
    }
   ],
   "source": [
    "def registration(name,age,height,weight=None,email=\"\",phone=\"0000000000\"):\n",
    "    #name,age,height are mandatory parameters\n",
    "    # wight, email, phone are optional parameters\n",
    "    print(f\"name={name},age={age},height={height},weight={weight},email={email},phone={phone}\")\n",
    "registration(\"jay\",23,5.4,68)\n",
    "registration(\"jay\",23,5.4,None,\"\",\"7564865789\")"
   ]
  },
  {
   "cell_type": "code",
   "execution_count": 22,
   "metadata": {},
   "outputs": [
    {
     "name": "stdout",
     "output_type": "stream",
     "text": [
      "name=jay,age=23,height=5.4,weight=68,email=,phone=0000000000\n",
      "name=jay,age=23,height=5.4,weight=,email=,phone=7564865789\n"
     ]
    }
   ],
   "source": [
    "def registration(name,age,height,weight=None,email=\"\",phone=\"0000000000\"):\n",
    "    #name,age,height are mandatory parameters\n",
    "    # wight, email, phone are optional parameters\n",
    "    print(f\"name={name},age={age},height={height},weight={weight},email={email},phone={phone}\")\n",
    "registration(\"jay\",23,5.4,68)\n",
    "registration(\"jay\",23,5.4,\"\",\"\",\"7564865789\")"
   ]
  },
  {
   "cell_type": "code",
   "execution_count": 23,
   "metadata": {},
   "outputs": [
    {
     "name": "stdout",
     "output_type": "stream",
     "text": [
      "name=jay,age=23,height=5.4,weight=68,email=,phone=0000000000\n",
      "name=jay,age=23,height=5.4,weight=None,email=None,phone=7564865789\n"
     ]
    }
   ],
   "source": [
    "def registration(name,age,height,weight=None,email=\"\",phone=\"0000000000\"):\n",
    "    #name,age,height are mandatory parameters\n",
    "    # wight, email, phone are optional parameters\n",
    "    print(f\"name={name},age={age},height={height},weight={weight},email={email},phone={phone}\")\n",
    "registration(\"jay\",23,5.4,68)\n",
    "registration(\"jay\",23,5.4,None,None,\"7564865789\")"
   ]
  },
  {
   "cell_type": "code",
   "execution_count": 24,
   "metadata": {},
   "outputs": [],
   "source": [
    "import pandas as pd"
   ]
  },
  {
   "cell_type": "code",
   "execution_count": 25,
   "metadata": {},
   "outputs": [],
   "source": [
    "pd.read_csv?"
   ]
  },
  {
   "cell_type": "code",
   "execution_count": 26,
   "metadata": {},
   "outputs": [
    {
     "name": "stdout",
     "output_type": "stream",
     "text": [
      "name=jay,age=23,height=5.4,weight=68,email=,phone=0000000000\n",
      "name=jay,age=23,height=5.4,weight=None,email=None,phone=7564865789\n"
     ]
    }
   ],
   "source": [
    "def registration(name,age,height,weight=None,email=\"\",phone=\"0000000000\"):\n",
    "    #name,age,height are mandatory parameters\n",
    "    # wight, email, phone are optional parameters\n",
    "    print(f\"name={name},age={age},height={height},weight={weight},email={email},phone={phone}\")\n",
    "registration(\"jay\",23,5.4,68)#positional arguments\n",
    "registration(\"jay\",23,5.4,None,None,\"7564865789\")#positional arguments"
   ]
  },
  {
   "cell_type": "code",
   "execution_count": 27,
   "metadata": {},
   "outputs": [
    {
     "name": "stdout",
     "output_type": "stream",
     "text": [
      "name=jay,age=23,height=5.4,weight=68,email=,phone=0000000000\n",
      "name=vedha,age=23,height=5.4,weight=None,email=None,phone=7564865789\n",
      "name=sai,age=23,height=5.4,weight=None,email=,phone=7564865789\n",
      "name=dhana,age=23,height=5.4,weight=None,email=,phone=7564865789\n"
     ]
    }
   ],
   "source": [
    "def registration(name,age,height,weight=None,email=\"\",phone=\"0000000000\"):\n",
    "    #name,age,height are mandatory parameters\n",
    "    # wight, email, phone are optional parameters\n",
    "    print(f\"name={name},age={age},height={height},weight={weight},email={email},phone={phone}\")\n",
    "registration(\"jay\",23,5.4,68)#positional arguments\n",
    "registration(\"vedha\",23,5.4,None,None,\"7564865789\")#positional arguments\n",
    "registration(\"sai\",23,5.4,phone=\"7564865789\")#positional arguments, keyword arguments\n",
    "registration(age=23,height=5.4,phone=\"7564865789\",name=\"dhana\")#keyword arguments"
   ]
  },
  {
   "cell_type": "code",
   "execution_count": 28,
   "metadata": {},
   "outputs": [
    {
     "name": "stdout",
     "output_type": "stream",
     "text": [
      "name=jay,age=23,height=5.4,weight=68,email=,phone=0000000000\n",
      "name=vedha,age=23,height=5.4,weight=None,email=None,phone=7564865789\n",
      "name=sai,age=23,height=5.4,weight=None,email=,phone=7564865789\n"
     ]
    },
    {
     "ename": "TypeError",
     "evalue": "registration() got an unexpected keyword argument 'Name'",
     "output_type": "error",
     "traceback": [
      "\u001b[1;31m---------------------------------------------------------------------------\u001b[0m",
      "\u001b[1;31mTypeError\u001b[0m                                 Traceback (most recent call last)",
      "\u001b[1;32m<ipython-input-28-e42d4987d532>\u001b[0m in \u001b[0;36m<module>\u001b[1;34m\u001b[0m\n\u001b[0;32m      6\u001b[0m \u001b[0mregistration\u001b[0m\u001b[1;33m(\u001b[0m\u001b[1;34m\"vedha\"\u001b[0m\u001b[1;33m,\u001b[0m\u001b[1;36m23\u001b[0m\u001b[1;33m,\u001b[0m\u001b[1;36m5.4\u001b[0m\u001b[1;33m,\u001b[0m\u001b[1;32mNone\u001b[0m\u001b[1;33m,\u001b[0m\u001b[1;32mNone\u001b[0m\u001b[1;33m,\u001b[0m\u001b[1;34m\"7564865789\"\u001b[0m\u001b[1;33m)\u001b[0m\u001b[1;31m#positional arguments\u001b[0m\u001b[1;33m\u001b[0m\u001b[1;33m\u001b[0m\u001b[0m\n\u001b[0;32m      7\u001b[0m \u001b[0mregistration\u001b[0m\u001b[1;33m(\u001b[0m\u001b[1;34m\"sai\"\u001b[0m\u001b[1;33m,\u001b[0m\u001b[1;36m23\u001b[0m\u001b[1;33m,\u001b[0m\u001b[1;36m5.4\u001b[0m\u001b[1;33m,\u001b[0m\u001b[0mphone\u001b[0m\u001b[1;33m=\u001b[0m\u001b[1;34m\"7564865789\"\u001b[0m\u001b[1;33m)\u001b[0m\u001b[1;31m#positional arguments, keyword arguments\u001b[0m\u001b[1;33m\u001b[0m\u001b[1;33m\u001b[0m\u001b[0m\n\u001b[1;32m----> 8\u001b[1;33m \u001b[0mregistration\u001b[0m\u001b[1;33m(\u001b[0m\u001b[0mage\u001b[0m\u001b[1;33m=\u001b[0m\u001b[1;36m23\u001b[0m\u001b[1;33m,\u001b[0m\u001b[0mheight\u001b[0m\u001b[1;33m=\u001b[0m\u001b[1;36m5.4\u001b[0m\u001b[1;33m,\u001b[0m\u001b[0mphone\u001b[0m\u001b[1;33m=\u001b[0m\u001b[1;34m\"7564865789\"\u001b[0m\u001b[1;33m,\u001b[0m\u001b[0mName\u001b[0m\u001b[1;33m=\u001b[0m\u001b[1;34m\"dhana\"\u001b[0m\u001b[1;33m)\u001b[0m\u001b[1;31m#keyword arguments\u001b[0m\u001b[1;33m\u001b[0m\u001b[1;33m\u001b[0m\u001b[0m\n\u001b[0m",
      "\u001b[1;31mTypeError\u001b[0m: registration() got an unexpected keyword argument 'Name'"
     ]
    }
   ],
   "source": [
    "def registration(name,age,height,weight=None,email=\"\",phone=\"0000000000\"):\n",
    "    #name,age,height are mandatory parameters\n",
    "    # wight, email, phone are optional parameters\n",
    "    print(f\"name={name},age={age},height={height},weight={weight},email={email},phone={phone}\")\n",
    "registration(\"jay\",23,5.4,68)#positional arguments\n",
    "registration(\"vedha\",23,5.4,None,None,\"7564865789\")#positional arguments\n",
    "registration(\"sai\",23,5.4,phone=\"7564865789\")#positional arguments, keyword arguments\n",
    "registration(age=23,height=5.4,phone=\"7564865789\",Name=\"dhana\")#keyword arguments"
   ]
  },
  {
   "cell_type": "code",
   "execution_count": 29,
   "metadata": {},
   "outputs": [
    {
     "name": "stdout",
     "output_type": "stream",
     "text": [
      "name=jay,age=23,height=5.4,weight=68,email=,phone=0000000000\n",
      "name=vedha,age=23,height=5.4,weight=None,email=None,phone=7564865789\n",
      "name=sai,age=23,height=5.4,weight=None,email=,phone=7564865789\n"
     ]
    },
    {
     "ename": "TypeError",
     "evalue": "registration() missing 1 required positional argument: 'name'",
     "output_type": "error",
     "traceback": [
      "\u001b[1;31m---------------------------------------------------------------------------\u001b[0m",
      "\u001b[1;31mTypeError\u001b[0m                                 Traceback (most recent call last)",
      "\u001b[1;32m<ipython-input-29-38250ab6c54a>\u001b[0m in \u001b[0;36m<module>\u001b[1;34m\u001b[0m\n\u001b[0;32m      6\u001b[0m \u001b[0mregistration\u001b[0m\u001b[1;33m(\u001b[0m\u001b[1;34m\"vedha\"\u001b[0m\u001b[1;33m,\u001b[0m\u001b[1;36m23\u001b[0m\u001b[1;33m,\u001b[0m\u001b[1;36m5.4\u001b[0m\u001b[1;33m,\u001b[0m\u001b[1;32mNone\u001b[0m\u001b[1;33m,\u001b[0m\u001b[1;32mNone\u001b[0m\u001b[1;33m,\u001b[0m\u001b[1;34m\"7564865789\"\u001b[0m\u001b[1;33m)\u001b[0m\u001b[1;31m#positional arguments\u001b[0m\u001b[1;33m\u001b[0m\u001b[1;33m\u001b[0m\u001b[0m\n\u001b[0;32m      7\u001b[0m \u001b[0mregistration\u001b[0m\u001b[1;33m(\u001b[0m\u001b[1;34m\"sai\"\u001b[0m\u001b[1;33m,\u001b[0m\u001b[1;36m23\u001b[0m\u001b[1;33m,\u001b[0m\u001b[1;36m5.4\u001b[0m\u001b[1;33m,\u001b[0m\u001b[0mphone\u001b[0m\u001b[1;33m=\u001b[0m\u001b[1;34m\"7564865789\"\u001b[0m\u001b[1;33m)\u001b[0m\u001b[1;31m#positional arguments, keyword arguments\u001b[0m\u001b[1;33m\u001b[0m\u001b[1;33m\u001b[0m\u001b[0m\n\u001b[1;32m----> 8\u001b[1;33m \u001b[0mregistration\u001b[0m\u001b[1;33m(\u001b[0m\u001b[0mage\u001b[0m\u001b[1;33m=\u001b[0m\u001b[1;36m23\u001b[0m\u001b[1;33m,\u001b[0m\u001b[0mheight\u001b[0m\u001b[1;33m=\u001b[0m\u001b[1;36m5.4\u001b[0m\u001b[1;33m,\u001b[0m\u001b[0mphone\u001b[0m\u001b[1;33m=\u001b[0m\u001b[1;34m\"7564865789\"\u001b[0m\u001b[1;33m)\u001b[0m\u001b[1;31m#keyword arguments\u001b[0m\u001b[1;33m\u001b[0m\u001b[1;33m\u001b[0m\u001b[0m\n\u001b[0m",
      "\u001b[1;31mTypeError\u001b[0m: registration() missing 1 required positional argument: 'name'"
     ]
    }
   ],
   "source": [
    "def registration(name,age,height,weight=None,email=\"\",phone=\"0000000000\"):\n",
    "    #name,age,height are mandatory parameters\n",
    "    # wight, email, phone are optional parameters\n",
    "    print(f\"name={name},age={age},height={height},weight={weight},email={email},phone={phone}\")\n",
    "registration(\"jay\",23,5.4,68)#positional arguments\n",
    "registration(\"vedha\",23,5.4,None,None,\"7564865789\")#positional arguments\n",
    "registration(\"sai\",23,5.4,phone=\"7564865789\")#positional arguments, keyword arguments\n",
    "registration(age=23,height=5.4,phone=\"7564865789\")#keyword arguments"
   ]
  },
  {
   "cell_type": "code",
   "execution_count": 30,
   "metadata": {},
   "outputs": [
    {
     "name": "stdout",
     "output_type": "stream",
     "text": [
      "name=jay,age=23,height=5.4,weight=68,email=,phone=0000000000\n",
      "name=vedha,age=23,height=5.4,weight=None,email=None,phone=7564865789\n",
      "name=sai,age=23,height=5.4,weight=None,email=,phone=7564865789\n"
     ]
    },
    {
     "ename": "TypeError",
     "evalue": "registration() got multiple values for argument 'name'",
     "output_type": "error",
     "traceback": [
      "\u001b[1;31m---------------------------------------------------------------------------\u001b[0m",
      "\u001b[1;31mTypeError\u001b[0m                                 Traceback (most recent call last)",
      "\u001b[1;32m<ipython-input-30-5db9ba52cefa>\u001b[0m in \u001b[0;36m<module>\u001b[1;34m\u001b[0m\n\u001b[0;32m      6\u001b[0m \u001b[0mregistration\u001b[0m\u001b[1;33m(\u001b[0m\u001b[1;34m\"vedha\"\u001b[0m\u001b[1;33m,\u001b[0m\u001b[1;36m23\u001b[0m\u001b[1;33m,\u001b[0m\u001b[1;36m5.4\u001b[0m\u001b[1;33m,\u001b[0m\u001b[1;32mNone\u001b[0m\u001b[1;33m,\u001b[0m\u001b[1;32mNone\u001b[0m\u001b[1;33m,\u001b[0m\u001b[1;34m\"7564865789\"\u001b[0m\u001b[1;33m)\u001b[0m\u001b[1;31m#positional arguments\u001b[0m\u001b[1;33m\u001b[0m\u001b[1;33m\u001b[0m\u001b[0m\n\u001b[0;32m      7\u001b[0m \u001b[0mregistration\u001b[0m\u001b[1;33m(\u001b[0m\u001b[1;34m\"sai\"\u001b[0m\u001b[1;33m,\u001b[0m\u001b[1;36m23\u001b[0m\u001b[1;33m,\u001b[0m\u001b[1;36m5.4\u001b[0m\u001b[1;33m,\u001b[0m\u001b[0mphone\u001b[0m\u001b[1;33m=\u001b[0m\u001b[1;34m\"7564865789\"\u001b[0m\u001b[1;33m)\u001b[0m\u001b[1;31m#positional arguments, keyword arguments\u001b[0m\u001b[1;33m\u001b[0m\u001b[1;33m\u001b[0m\u001b[0m\n\u001b[1;32m----> 8\u001b[1;33m \u001b[0mregistration\u001b[0m\u001b[1;33m(\u001b[0m\u001b[1;34m\"DHANA\"\u001b[0m\u001b[1;33m,\u001b[0m\u001b[0mage\u001b[0m\u001b[1;33m=\u001b[0m\u001b[1;36m23\u001b[0m\u001b[1;33m,\u001b[0m\u001b[0mheight\u001b[0m\u001b[1;33m=\u001b[0m\u001b[1;36m5.4\u001b[0m\u001b[1;33m,\u001b[0m\u001b[0mname\u001b[0m\u001b[1;33m=\u001b[0m\u001b[1;34m\"dhana\"\u001b[0m\u001b[1;33m)\u001b[0m\u001b[1;31m#keyword arguments\u001b[0m\u001b[1;33m\u001b[0m\u001b[1;33m\u001b[0m\u001b[0m\n\u001b[0m",
      "\u001b[1;31mTypeError\u001b[0m: registration() got multiple values for argument 'name'"
     ]
    }
   ],
   "source": [
    "def registration(name,age,height,weight=None,email=\"\",phone=\"0000000000\"):\n",
    "    #name,age,height are mandatory parameters\n",
    "    # wight, email, phone are optional parameters\n",
    "    print(f\"name={name},age={age},height={height},weight={weight},email={email},phone={phone}\")\n",
    "registration(\"jay\",23,5.4,68)#positional arguments\n",
    "registration(\"vedha\",23,5.4,None,None,\"7564865789\")#positional arguments\n",
    "registration(\"sai\",23,5.4,phone=\"7564865789\")#positional arguments, keyword arguments\n",
    "registration(\"DHANA\",age=23,height=5.4,name=\"dhana\")#keyword arguments"
   ]
  },
  {
   "cell_type": "code",
   "execution_count": 1,
   "metadata": {},
   "outputs": [],
   "source": [
    "# *arge, **kwargs"
   ]
  },
  {
   "cell_type": "code",
   "execution_count": 2,
   "metadata": {},
   "outputs": [
    {
     "ename": "TypeError",
     "evalue": "add() takes from 0 to 6 positional arguments but 7 were given",
     "output_type": "error",
     "traceback": [
      "\u001b[1;31m---------------------------------------------------------------------------\u001b[0m",
      "\u001b[1;31mTypeError\u001b[0m                                 Traceback (most recent call last)",
      "\u001b[1;32m<ipython-input-2-174165d015bc>\u001b[0m in \u001b[0;36m<module>\u001b[1;34m\u001b[0m\n\u001b[0;32m      3\u001b[0m     \u001b[0mres\u001b[0m\u001b[1;33m=\u001b[0m\u001b[0ma\u001b[0m\u001b[1;33m+\u001b[0m\u001b[0mb\u001b[0m\u001b[1;33m+\u001b[0m\u001b[0mc\u001b[0m\u001b[1;33m+\u001b[0m\u001b[0md\u001b[0m\u001b[1;33m+\u001b[0m\u001b[0me\u001b[0m\u001b[1;33m+\u001b[0m\u001b[0mf\u001b[0m\u001b[1;33m\u001b[0m\u001b[1;33m\u001b[0m\u001b[0m\n\u001b[0;32m      4\u001b[0m     \u001b[0mprint\u001b[0m\u001b[1;33m(\u001b[0m\u001b[1;34m\"res=\"\u001b[0m\u001b[1;33m,\u001b[0m\u001b[0mres\u001b[0m\u001b[1;33m)\u001b[0m\u001b[1;33m\u001b[0m\u001b[1;33m\u001b[0m\u001b[0m\n\u001b[1;32m----> 5\u001b[1;33m \u001b[0madd\u001b[0m\u001b[1;33m(\u001b[0m\u001b[1;36m10\u001b[0m\u001b[1;33m,\u001b[0m\u001b[1;36m20\u001b[0m\u001b[1;33m,\u001b[0m\u001b[1;36m30\u001b[0m\u001b[1;33m,\u001b[0m\u001b[1;36m40\u001b[0m\u001b[1;33m,\u001b[0m\u001b[1;36m50\u001b[0m\u001b[1;33m,\u001b[0m\u001b[1;36m60\u001b[0m\u001b[1;33m,\u001b[0m\u001b[1;36m70\u001b[0m\u001b[1;33m)\u001b[0m\u001b[1;33m\u001b[0m\u001b[1;33m\u001b[0m\u001b[0m\n\u001b[0m",
      "\u001b[1;31mTypeError\u001b[0m: add() takes from 0 to 6 positional arguments but 7 were given"
     ]
    }
   ],
   "source": [
    "def add(a=0,b=0,c=0,d=0,e=0,f=0):\n",
    "    print(f\"a={a},b={b},c={c},d={d},e={e},f={f}\")\n",
    "    res=a+b+c+d+e+f\n",
    "    print(\"res=\",res)\n",
    "add(10,20,30,40,50,60,70)"
   ]
  },
  {
   "cell_type": "code",
   "execution_count": 3,
   "metadata": {},
   "outputs": [
    {
     "name": "stdout",
     "output_type": "stream",
     "text": [
      "() <class 'tuple'>\n",
      "(10,) <class 'tuple'>\n",
      "(10, 20) <class 'tuple'>\n",
      "(20, 30, 40) <class 'tuple'>\n",
      "(10, 20, 30, 40, 50, 60, 70) <class 'tuple'>\n"
     ]
    }
   ],
   "source": [
    "def add(*x):\n",
    "    print(x, type(x))\n",
    "add()\n",
    "add(10)\n",
    "add(10,20)\n",
    "add(20,30,40)\n",
    "add(10,20,30,40,50,60,70)"
   ]
  },
  {
   "cell_type": "code",
   "execution_count": 4,
   "metadata": {},
   "outputs": [
    {
     "ename": "TypeError",
     "evalue": "add() got an unexpected keyword argument 'a'",
     "output_type": "error",
     "traceback": [
      "\u001b[1;31m---------------------------------------------------------------------------\u001b[0m",
      "\u001b[1;31mTypeError\u001b[0m                                 Traceback (most recent call last)",
      "\u001b[1;32m<ipython-input-4-8973a7919baa>\u001b[0m in \u001b[0;36m<module>\u001b[1;34m\u001b[0m\n\u001b[0;32m      1\u001b[0m \u001b[1;32mdef\u001b[0m \u001b[0madd\u001b[0m\u001b[1;33m(\u001b[0m\u001b[1;33m*\u001b[0m\u001b[0mx\u001b[0m\u001b[1;33m)\u001b[0m\u001b[1;33m:\u001b[0m\u001b[1;33m\u001b[0m\u001b[1;33m\u001b[0m\u001b[0m\n\u001b[0;32m      2\u001b[0m     \u001b[0mprint\u001b[0m\u001b[1;33m(\u001b[0m\u001b[0mx\u001b[0m\u001b[1;33m,\u001b[0m \u001b[0mtype\u001b[0m\u001b[1;33m(\u001b[0m\u001b[0mx\u001b[0m\u001b[1;33m)\u001b[0m\u001b[1;33m)\u001b[0m\u001b[1;33m\u001b[0m\u001b[1;33m\u001b[0m\u001b[0m\n\u001b[1;32m----> 3\u001b[1;33m \u001b[0madd\u001b[0m\u001b[1;33m(\u001b[0m\u001b[0ma\u001b[0m\u001b[1;33m=\u001b[0m\u001b[1;36m10\u001b[0m\u001b[1;33m,\u001b[0m\u001b[0mb\u001b[0m\u001b[1;33m=\u001b[0m\u001b[1;36m20\u001b[0m\u001b[1;33m)\u001b[0m\u001b[1;33m\u001b[0m\u001b[1;33m\u001b[0m\u001b[0m\n\u001b[0m",
      "\u001b[1;31mTypeError\u001b[0m: add() got an unexpected keyword argument 'a'"
     ]
    }
   ],
   "source": [
    "def add(*x):\n",
    "    print(x, type(x))\n",
    "add(a=10,b=20)"
   ]
  },
  {
   "cell_type": "code",
   "execution_count": 6,
   "metadata": {},
   "outputs": [
    {
     "ename": "TypeError",
     "evalue": "registration() got an unexpected keyword argument 'adhar'",
     "output_type": "error",
     "traceback": [
      "\u001b[1;31m---------------------------------------------------------------------------\u001b[0m",
      "\u001b[1;31mTypeError\u001b[0m                                 Traceback (most recent call last)",
      "\u001b[1;32m<ipython-input-6-6ca2726b3ca7>\u001b[0m in \u001b[0;36m<module>\u001b[1;34m\u001b[0m\n\u001b[0;32m      3\u001b[0m     \u001b[1;31m# wight, email, phone are optional parameters\u001b[0m\u001b[1;33m\u001b[0m\u001b[1;33m\u001b[0m\u001b[1;33m\u001b[0m\u001b[0m\n\u001b[0;32m      4\u001b[0m     \u001b[0mprint\u001b[0m\u001b[1;33m(\u001b[0m\u001b[1;34mf\"name={name},age={age},height={height},weight={weight},email={email},phone={phone}\"\u001b[0m\u001b[1;33m)\u001b[0m\u001b[1;33m\u001b[0m\u001b[1;33m\u001b[0m\u001b[0m\n\u001b[1;32m----> 5\u001b[1;33m \u001b[0mregistration\u001b[0m\u001b[1;33m(\u001b[0m\u001b[0mage\u001b[0m\u001b[1;33m=\u001b[0m\u001b[1;36m23\u001b[0m\u001b[1;33m,\u001b[0m\u001b[0mheight\u001b[0m\u001b[1;33m=\u001b[0m\u001b[1;36m5.4\u001b[0m\u001b[1;33m,\u001b[0m\u001b[0mname\u001b[0m\u001b[1;33m=\u001b[0m\u001b[1;34m\"dhana\"\u001b[0m\u001b[1;33m,\u001b[0m\u001b[0madhar\u001b[0m\u001b[1;33m=\u001b[0m\u001b[1;34m\"adhar@1234\"\u001b[0m\u001b[1;33m)\u001b[0m\u001b[1;33m\u001b[0m\u001b[1;33m\u001b[0m\u001b[0m\n\u001b[0m",
      "\u001b[1;31mTypeError\u001b[0m: registration() got an unexpected keyword argument 'adhar'"
     ]
    }
   ],
   "source": [
    "def registration(name,age,height,weight=None,email=\"\",phone=\"0000000000\"):\n",
    "    #name,age,height are mandatory parameters\n",
    "    # wight, email, phone are optional parameters\n",
    "    print(f\"name={name},age={age},height={height},weight={weight},email={email},phone={phone}\")\n",
    "registration(age=23,height=5.4,name=\"dhana\",adhar=\"adhar@1234\")"
   ]
  },
  {
   "cell_type": "code",
   "execution_count": 8,
   "metadata": {},
   "outputs": [
    {
     "name": "stdout",
     "output_type": "stream",
     "text": [
      "name=dhana,age=23,height=5.4,weight=None,email=,phone=0000000000\n",
      "{'adhar': 'adhar@1234'} <class 'dict'>\n"
     ]
    }
   ],
   "source": [
    "def registration(name,age,height,weight=None,email=\"\",phone=\"0000000000\",**kw):\n",
    "    #name,age,height are mandatory parameters\n",
    "    # wight, email, phone are optional parameters\n",
    "    print(f\"name={name},age={age},height={height},weight={weight},email={email},phone={phone}\")\n",
    "    print(kw, type(kw))\n",
    "registration(age=23,height=5.4,name=\"dhana\",adhar=\"adhar@1234\")"
   ]
  },
  {
   "cell_type": "code",
   "execution_count": 9,
   "metadata": {},
   "outputs": [
    {
     "name": "stdout",
     "output_type": "stream",
     "text": [
      "a=10,b=0,args=(),kwargs={}\n"
     ]
    }
   ],
   "source": [
    "def fun(a,b=0,*args,**kwargs):\n",
    "    print(f\"a={a},b={b},args={args},kwargs={kwargs}\")\n",
    "fun(10)"
   ]
  },
  {
   "cell_type": "code",
   "execution_count": 10,
   "metadata": {},
   "outputs": [
    {
     "name": "stdout",
     "output_type": "stream",
     "text": [
      "a=10,b=20,args=(30, 40),kwargs={}\n"
     ]
    }
   ],
   "source": [
    "def fun(a,b=0,*args,**kwargs):\n",
    "    print(f\"a={a},b={b},args={args},kwargs={kwargs}\")\n",
    "fun(10,20,30,40)"
   ]
  },
  {
   "cell_type": "code",
   "execution_count": 11,
   "metadata": {},
   "outputs": [
    {
     "name": "stdout",
     "output_type": "stream",
     "text": [
      "a=10,b=20,args=(30, 40),kwargs={'c': 30, 'd': 40, 'e': 50}\n"
     ]
    }
   ],
   "source": [
    "def fun(a,b=0,*args,**kwargs):\n",
    "    print(f\"a={a},b={b},args={args},kwargs={kwargs}\")\n",
    "fun(10,20,30,40,c=30,d=40,e=50)"
   ]
  },
  {
   "cell_type": "code",
   "execution_count": 12,
   "metadata": {},
   "outputs": [
    {
     "name": "stdout",
     "output_type": "stream",
     "text": [
      "30\n",
      "res= None\n"
     ]
    }
   ],
   "source": [
    "def add(x,y):\n",
    "    print(x+y)\n",
    "    # it does not have a return statement. default return is None.\n",
    "res=add(10,20)\n",
    "print(\"res=\",res)"
   ]
  },
  {
   "cell_type": "code",
   "execution_count": 13,
   "metadata": {},
   "outputs": [
    {
     "name": "stdout",
     "output_type": "stream",
     "text": [
      "res= hello\n"
     ]
    }
   ],
   "source": [
    "def add(x,y):\n",
    "    z=x+y\n",
    "    return \"hello\"\n",
    "res=add(10,20)\n",
    "print(\"res=\",res)"
   ]
  },
  {
   "cell_type": "code",
   "execution_count": 14,
   "metadata": {},
   "outputs": [
    {
     "name": "stdout",
     "output_type": "stream",
     "text": [
      "res= hello\n"
     ]
    }
   ],
   "source": [
    "def add(x,y):\n",
    "    z=x+y\n",
    "    p=x-y\n",
    "    q=x*y\n",
    "    return \"hello\"\n",
    "res=add(10,20)\n",
    "print(\"res=\",res)"
   ]
  },
  {
   "cell_type": "code",
   "execution_count": 15,
   "metadata": {},
   "outputs": [
    {
     "name": "stdout",
     "output_type": "stream",
     "text": [
      "res= (-10, 200)\n"
     ]
    }
   ],
   "source": [
    "def add(x,y):\n",
    "    z=x+y\n",
    "    p=x-y\n",
    "    q=x*y\n",
    "    return p,q\n",
    "res=add(10,20)\n",
    "print(\"res=\",res)"
   ]
  },
  {
   "cell_type": "code",
   "execution_count": 16,
   "metadata": {},
   "outputs": [
    {
     "name": "stdout",
     "output_type": "stream",
     "text": [
      "res= (-10, 200, 30)\n"
     ]
    }
   ],
   "source": [
    "def add(x,y):\n",
    "    z=x+y\n",
    "    p=x-y\n",
    "    q=x*y\n",
    "    return p,q,z\n",
    "res=add(10,20)\n",
    "print(\"res=\",res)"
   ]
  },
  {
   "cell_type": "code",
   "execution_count": 17,
   "metadata": {},
   "outputs": [
    {
     "name": "stdout",
     "output_type": "stream",
     "text": [
      "[10, 20] <class 'list'>\n",
      "(10, 20) <class 'tuple'>\n",
      "{10, 20} <class 'set'>\n",
      "(10, 20) <class 'tuple'>\n"
     ]
    }
   ],
   "source": [
    "a=[10,20]\n",
    "print(a, type(a))\n",
    "a=(10,20)\n",
    "print(a, type(a))\n",
    "a={10,20}\n",
    "print(a, type(a))\n",
    "a=10,20\n",
    "print(a, type(a))"
   ]
  },
  {
   "cell_type": "code",
   "execution_count": 18,
   "metadata": {},
   "outputs": [
    {
     "name": "stdout",
     "output_type": "stream",
     "text": [
      "hello\n",
      "r1= 10\n",
      "hello\n",
      "r2= 10\n",
      "hello\n",
      "r3= 10\n"
     ]
    }
   ],
   "source": [
    "def fun():\n",
    "    print(\"hello\")\n",
    "    return 10\n",
    "    print(\"hi\")\n",
    "    return 20\n",
    "    print(\"hyd\")\n",
    "    return 30\n",
    "r1=fun()\n",
    "print(\"r1=\",r1)\n",
    "r2=fun()\n",
    "print(\"r2=\",r2)\n",
    "r3=fun()\n",
    "print(\"r3=\",r3)"
   ]
  },
  {
   "cell_type": "code",
   "execution_count": null,
   "metadata": {},
   "outputs": [],
   "source": [
    "def fun(number):\n",
    "    for i in range(number):\n",
    "        print(\"i=\",i)\n",
    "        if number==5:\n",
    "            return \"hello\"\n",
    "res=fun(3)\n",
    "print(\"res=\",res)"
   ]
  },
  {
   "cell_type": "code",
   "execution_count": 19,
   "metadata": {},
   "outputs": [
    {
     "name": "stdout",
     "output_type": "stream",
     "text": [
      "0\n",
      "1\n",
      "2\n"
     ]
    }
   ],
   "source": [
    "for i in range(3):\n",
    "    print(i)"
   ]
  },
  {
   "cell_type": "code",
   "execution_count": 20,
   "metadata": {},
   "outputs": [
    {
     "name": "stdout",
     "output_type": "stream",
     "text": [
      "i= 0\n",
      "i= 1\n",
      "i= 2\n",
      "res= None\n"
     ]
    }
   ],
   "source": [
    "def fun(number):\n",
    "    for i in range(number):\n",
    "        print(\"i=\",i)\n",
    "        if number==5:\n",
    "            return \"hello\"\n",
    "res=fun(3)\n",
    "print(\"res=\",res)"
   ]
  },
  {
   "cell_type": "code",
   "execution_count": 22,
   "metadata": {},
   "outputs": [
    {
     "name": "stdout",
     "output_type": "stream",
     "text": [
      "i= 0\n",
      "i= 1\n",
      "i= 2\n",
      "i= 3\n",
      "i= 4\n",
      "i= 5\n",
      "res= hello\n"
     ]
    }
   ],
   "source": [
    "def fun(number):\n",
    "    for i in range(number):\n",
    "        print(\"i=\",i)\n",
    "        if i==5:\n",
    "            return \"hello\"\n",
    "res=fun(8)\n",
    "print(\"res=\",res)"
   ]
  },
  {
   "cell_type": "code",
   "execution_count": 24,
   "metadata": {},
   "outputs": [
    {
     "name": "stdout",
     "output_type": "stream",
     "text": [
      "i= 0\n",
      "res= 0\n"
     ]
    }
   ],
   "source": [
    "def fun(number):\n",
    "    for i in range(number):\n",
    "        print(\"i=\",i)\n",
    "        if i%5==0:\n",
    "            break\n",
    "    return i\n",
    "res=fun(8)\n",
    "print(\"res=\",res)"
   ]
  },
  {
   "cell_type": "code",
   "execution_count": 23,
   "metadata": {},
   "outputs": [
    {
     "data": {
      "text/plain": [
       "0"
      ]
     },
     "execution_count": 23,
     "metadata": {},
     "output_type": "execute_result"
    }
   ],
   "source": [
    "0%5"
   ]
  },
  {
   "cell_type": "code",
   "execution_count": 25,
   "metadata": {},
   "outputs": [
    {
     "name": "stdout",
     "output_type": "stream",
     "text": [
      "i= 13\n",
      "i= 14\n",
      "i= 15\n",
      "res= 15\n"
     ]
    }
   ],
   "source": [
    "def fun(start,end):\n",
    "    for i in range(start,end):\n",
    "        print(\"i=\",i)\n",
    "        if i%5==0:\n",
    "            break\n",
    "    return i\n",
    "res=fun(13,18)\n",
    "print(\"res=\",res)"
   ]
  },
  {
   "cell_type": "code",
   "execution_count": 26,
   "metadata": {},
   "outputs": [
    {
     "name": "stdout",
     "output_type": "stream",
     "text": [
      "r1= <generator object fun at 0x000001EC2D04F900>\n",
      "r2= <generator object fun at 0x000001EC2D04F2E0>\n",
      "r3= <generator object fun at 0x000001EC2D04F5F0>\n"
     ]
    }
   ],
   "source": [
    "def fun():\n",
    "    print(\"1\")\n",
    "    print(\"hello\")\n",
    "    yield 10\n",
    "    print(\"hi\")\n",
    "    yield 20\n",
    "    print(\"45\")\n",
    "    print(\"hyd\")\n",
    "    yield 30\n",
    "r1=fun()\n",
    "print(\"r1=\",r1)\n",
    "r2=fun()\n",
    "print(\"r2=\",r2)\n",
    "r3=fun()\n",
    "print(\"r3=\",r3)"
   ]
  },
  {
   "cell_type": "code",
   "execution_count": 27,
   "metadata": {},
   "outputs": [
    {
     "name": "stdout",
     "output_type": "stream",
     "text": [
      "1\n",
      "hello\n",
      "r1= 10\n"
     ]
    }
   ],
   "source": [
    "def fun():\n",
    "    print(\"1\")\n",
    "    print(\"hello\")\n",
    "    yield 10\n",
    "    print(\"hi\")\n",
    "    yield 20\n",
    "    print(\"45\")\n",
    "    print(\"hyd\")\n",
    "    yield 30\n",
    "res=fun()\n",
    "r1=next(res)# execute up to first yield\n",
    "print(\"r1=\",r1)"
   ]
  },
  {
   "cell_type": "code",
   "execution_count": 28,
   "metadata": {},
   "outputs": [
    {
     "name": "stdout",
     "output_type": "stream",
     "text": [
      "1\n",
      "hello\n",
      "r1= 10\n",
      "hi\n",
      "r2= 20\n"
     ]
    }
   ],
   "source": [
    "def fun():\n",
    "    print(\"1\")\n",
    "    print(\"hello\")\n",
    "    yield 10\n",
    "    print(\"hi\")\n",
    "    yield 20\n",
    "    print(\"45\")\n",
    "    print(\"hyd\")\n",
    "    yield 30\n",
    "res=fun()\n",
    "r1=next(res)# execute up to first yield\n",
    "print(\"r1=\",r1)\n",
    "r2=next(res)# execute after first yield to second yield\n",
    "print(\"r2=\",r2)"
   ]
  },
  {
   "cell_type": "code",
   "execution_count": 29,
   "metadata": {},
   "outputs": [
    {
     "name": "stdout",
     "output_type": "stream",
     "text": [
      "1\n",
      "hello\n",
      "r1= 10\n",
      "hi\n",
      "r2= 20\n",
      "45\n",
      "hyd\n",
      "r3= 30\n"
     ]
    }
   ],
   "source": [
    "def fun():\n",
    "    print(\"1\")\n",
    "    print(\"hello\")\n",
    "    yield 10\n",
    "    print(\"hi\")\n",
    "    yield 20\n",
    "    print(\"45\")\n",
    "    print(\"hyd\")\n",
    "    yield 30\n",
    "res=fun()\n",
    "r1=next(res)# execute up to first yield\n",
    "print(\"r1=\",r1)\n",
    "r2=next(res)# execute after first yield to second yield\n",
    "print(\"r2=\",r2)\n",
    "r3=next(res)\n",
    "print(\"r3=\",r3)"
   ]
  },
  {
   "cell_type": "code",
   "execution_count": 30,
   "metadata": {},
   "outputs": [
    {
     "name": "stdout",
     "output_type": "stream",
     "text": [
      "1\n",
      "hello\n",
      "r1= 10\n",
      "hi\n",
      "r2= 20\n",
      "45\n",
      "hyd\n",
      "r3= 30\n"
     ]
    },
    {
     "ename": "StopIteration",
     "evalue": "",
     "output_type": "error",
     "traceback": [
      "\u001b[1;31m---------------------------------------------------------------------------\u001b[0m",
      "\u001b[1;31mStopIteration\u001b[0m                             Traceback (most recent call last)",
      "\u001b[1;32m<ipython-input-30-d44d6f44bea8>\u001b[0m in \u001b[0;36m<module>\u001b[1;34m\u001b[0m\n\u001b[0;32m     15\u001b[0m \u001b[0mr3\u001b[0m\u001b[1;33m=\u001b[0m\u001b[0mnext\u001b[0m\u001b[1;33m(\u001b[0m\u001b[0mres\u001b[0m\u001b[1;33m)\u001b[0m\u001b[1;33m\u001b[0m\u001b[1;33m\u001b[0m\u001b[0m\n\u001b[0;32m     16\u001b[0m \u001b[0mprint\u001b[0m\u001b[1;33m(\u001b[0m\u001b[1;34m\"r3=\"\u001b[0m\u001b[1;33m,\u001b[0m\u001b[0mr3\u001b[0m\u001b[1;33m)\u001b[0m\u001b[1;33m\u001b[0m\u001b[1;33m\u001b[0m\u001b[0m\n\u001b[1;32m---> 17\u001b[1;33m \u001b[0mr4\u001b[0m\u001b[1;33m=\u001b[0m\u001b[0mnext\u001b[0m\u001b[1;33m(\u001b[0m\u001b[0mres\u001b[0m\u001b[1;33m)\u001b[0m\u001b[1;33m\u001b[0m\u001b[1;33m\u001b[0m\u001b[0m\n\u001b[0m\u001b[0;32m     18\u001b[0m \u001b[0mprint\u001b[0m\u001b[1;33m(\u001b[0m\u001b[1;34m\"r4=\"\u001b[0m\u001b[1;33m,\u001b[0m\u001b[0mr4\u001b[0m\u001b[1;33m)\u001b[0m\u001b[1;33m\u001b[0m\u001b[1;33m\u001b[0m\u001b[0m\n",
      "\u001b[1;31mStopIteration\u001b[0m: "
     ]
    }
   ],
   "source": [
    "def fun():\n",
    "    print(\"1\")\n",
    "    print(\"hello\")\n",
    "    yield 10\n",
    "    print(\"hi\")\n",
    "    yield 20\n",
    "    print(\"45\")\n",
    "    print(\"hyd\")\n",
    "    yield 30\n",
    "res=fun()\n",
    "r1=next(res)# execute up to first yield\n",
    "print(\"r1=\",r1)\n",
    "r2=next(res)# execute after first yield to second yield\n",
    "print(\"r2=\",r2)\n",
    "r3=next(res)\n",
    "print(\"r3=\",r3)\n",
    "r4=next(res)\n",
    "print(\"r4=\",r4)"
   ]
  },
  {
   "cell_type": "code",
   "execution_count": 31,
   "metadata": {},
   "outputs": [
    {
     "name": "stdout",
     "output_type": "stream",
     "text": [
      "1\n",
      "3\n",
      "2\n",
      "end\n"
     ]
    }
   ],
   "source": [
    "for i in [1,3,2]:\n",
    "    print(i)\n",
    "print(\"end\")"
   ]
  },
  {
   "cell_type": "code",
   "execution_count": 32,
   "metadata": {},
   "outputs": [
    {
     "name": "stdout",
     "output_type": "stream",
     "text": [
      "1\n",
      "hello\n",
      "iteration started\n",
      "k= 10\n",
      "iteration ended\n",
      "hi\n",
      "iteration started\n",
      "k= 20\n",
      "iteration ended\n",
      "45\n",
      "hyd\n",
      "iteration started\n",
      "k= 30\n",
      "iteration ended\n",
      "END\n"
     ]
    }
   ],
   "source": [
    "def fun():\n",
    "    print(\"1\")\n",
    "    print(\"hello\")\n",
    "    yield 10\n",
    "    print(\"hi\")\n",
    "    yield 20\n",
    "    print(\"45\")\n",
    "    print(\"hyd\")\n",
    "    yield 30\n",
    "res=fun()\n",
    "for k in res:#next(res),k=10:next(res),k=20:next(res),k=30:next(res): raise Stopiteration\n",
    "    print(\"iteration started\")\n",
    "    print(\"k=\",k)\n",
    "    print(\"iteration ended\")\n",
    "print(\"END\")"
   ]
  },
  {
   "cell_type": "code",
   "execution_count": 33,
   "metadata": {},
   "outputs": [
    {
     "name": "stdout",
     "output_type": "stream",
     "text": [
      "1\n",
      "hello\n",
      "iteration started\n",
      "k= 10\n",
      "iteration ended\n",
      "hi\n",
      "iteration started\n",
      "k= 20\n",
      "iteration ended\n",
      "45\n",
      "hyd\n",
      "iteration started\n",
      "k= 30\n",
      "iteration ended\n",
      "END\n"
     ]
    }
   ],
   "source": [
    "def fun():\n",
    "    print(\"1\")\n",
    "    print(\"hello\")\n",
    "    yield 10\n",
    "    print(\"hi\")\n",
    "    yield 20\n",
    "    print(\"45\")\n",
    "    print(\"hyd\")\n",
    "    yield 30\n",
    "for k in fun():#next(res),k=10:next(res),k=20:next(res),k=30:next(res): raise Stopiteration\n",
    "    print(\"iteration started\")\n",
    "    print(\"k=\",k)\n",
    "    print(\"iteration ended\")\n",
    "print(\"END\")"
   ]
  },
  {
   "cell_type": "code",
   "execution_count": 34,
   "metadata": {},
   "outputs": [
    {
     "name": "stdout",
     "output_type": "stream",
     "text": [
      "hi\n",
      "iteration started\n",
      "k= 10\n",
      "iteration ended\n",
      "iteration started\n",
      "k= 20\n",
      "iteration ended\n",
      "iteration started\n",
      "k= 30\n",
      "iteration ended\n",
      "iteration started\n",
      "k= 4\n",
      "iteration ended\n",
      "END\n"
     ]
    }
   ],
   "source": [
    "def fun():\n",
    "    print(\"hi\")\n",
    "    return (10,20,30,4)\n",
    "for k in fun():\n",
    "    print(\"iteration started\")\n",
    "    print(\"k=\",k)\n",
    "    print(\"iteration ended\")\n",
    "print(\"END\")"
   ]
  },
  {
   "cell_type": "code",
   "execution_count": 35,
   "metadata": {},
   "outputs": [
    {
     "name": "stdout",
     "output_type": "stream",
     "text": [
      "hi\n"
     ]
    },
    {
     "ename": "TypeError",
     "evalue": "'NoneType' object is not iterable",
     "output_type": "error",
     "traceback": [
      "\u001b[1;31m---------------------------------------------------------------------------\u001b[0m",
      "\u001b[1;31mTypeError\u001b[0m                                 Traceback (most recent call last)",
      "\u001b[1;32m<ipython-input-35-7baedc1287dd>\u001b[0m in \u001b[0;36m<module>\u001b[1;34m\u001b[0m\n\u001b[0;32m      2\u001b[0m     \u001b[0mprint\u001b[0m\u001b[1;33m(\u001b[0m\u001b[1;34m\"hi\"\u001b[0m\u001b[1;33m)\u001b[0m\u001b[1;33m\u001b[0m\u001b[1;33m\u001b[0m\u001b[0m\n\u001b[0;32m      3\u001b[0m     \u001b[1;32mreturn\u001b[0m \u001b[1;32mNone\u001b[0m\u001b[1;33m\u001b[0m\u001b[1;33m\u001b[0m\u001b[0m\n\u001b[1;32m----> 4\u001b[1;33m \u001b[1;32mfor\u001b[0m \u001b[0mk\u001b[0m \u001b[1;32min\u001b[0m \u001b[0mfun\u001b[0m\u001b[1;33m(\u001b[0m\u001b[1;33m)\u001b[0m\u001b[1;33m:\u001b[0m\u001b[1;33m\u001b[0m\u001b[1;33m\u001b[0m\u001b[0m\n\u001b[0m\u001b[0;32m      5\u001b[0m     \u001b[0mprint\u001b[0m\u001b[1;33m(\u001b[0m\u001b[1;34m\"iteration started\"\u001b[0m\u001b[1;33m)\u001b[0m\u001b[1;33m\u001b[0m\u001b[1;33m\u001b[0m\u001b[0m\n\u001b[0;32m      6\u001b[0m     \u001b[0mprint\u001b[0m\u001b[1;33m(\u001b[0m\u001b[1;34m\"k=\"\u001b[0m\u001b[1;33m,\u001b[0m\u001b[0mk\u001b[0m\u001b[1;33m)\u001b[0m\u001b[1;33m\u001b[0m\u001b[1;33m\u001b[0m\u001b[0m\n",
      "\u001b[1;31mTypeError\u001b[0m: 'NoneType' object is not iterable"
     ]
    }
   ],
   "source": [
    "def fun():\n",
    "    print(\"hi\")\n",
    "    return None\n",
    "for k in fun():\n",
    "    print(\"iteration started\")\n",
    "    print(\"k=\",k)\n",
    "    print(\"iteration ended\")\n",
    "print(\"END\")"
   ]
  },
  {
   "cell_type": "code",
   "execution_count": 36,
   "metadata": {},
   "outputs": [
    {
     "name": "stdout",
     "output_type": "stream",
     "text": [
      "1\n",
      "hello\n",
      "iteration started\n",
      "k= 10\n",
      "iteration ended\n",
      "hi\n",
      "iteration started\n",
      "k= 20\n",
      "iteration ended\n",
      "45\n",
      "hyd\n",
      "iteration started\n",
      "k= 30\n",
      "iteration ended\n",
      "iterating second time...\n",
      "END\n"
     ]
    }
   ],
   "source": [
    "def fun():\n",
    "    print(\"1\")\n",
    "    print(\"hello\")\n",
    "    yield 10\n",
    "    print(\"hi\")\n",
    "    yield 20\n",
    "    print(\"45\")\n",
    "    print(\"hyd\")\n",
    "    yield 30\n",
    "res=fun()\n",
    "for k in res:\n",
    "    print(\"iteration started\")\n",
    "    print(\"k=\",k)\n",
    "    print(\"iteration ended\")\n",
    "print(\"iterating second time...\")\n",
    "for i in res:\n",
    "    print(\"i=\",i)\n",
    "print(\"END\")"
   ]
  },
  {
   "cell_type": "code",
   "execution_count": 37,
   "metadata": {},
   "outputs": [
    {
     "name": "stdout",
     "output_type": "stream",
     "text": [
      "i= 1\n",
      "i= 2\n",
      "i= 3\n"
     ]
    }
   ],
   "source": [
    "def fun():\n",
    "    yield 1\n",
    "    yield 2\n",
    "    yield 3\n",
    "res=fun()\n",
    "for i in res:\n",
    "    print(\"i=\",i)"
   ]
  },
  {
   "cell_type": "code",
   "execution_count": 38,
   "metadata": {},
   "outputs": [
    {
     "name": "stdout",
     "output_type": "stream",
     "text": [
      "i= 1\n",
      "i= 2\n",
      "i= 3\n"
     ]
    }
   ],
   "source": [
    "def fun():\n",
    "    return [1,2,3]\n",
    "res=fun()\n",
    "for i in res:\n",
    "    print(\"i=\",i)"
   ]
  },
  {
   "cell_type": "code",
   "execution_count": 39,
   "metadata": {},
   "outputs": [
    {
     "name": "stdout",
     "output_type": "stream",
     "text": [
      "i= 1\n",
      "i= 2\n",
      "i= 3\n",
      "second time\n"
     ]
    }
   ],
   "source": [
    "def fun():\n",
    "    yield 1\n",
    "    yield 2\n",
    "    yield 3\n",
    "res=fun()\n",
    "for i in res:\n",
    "    print(\"i=\",i)\n",
    "print(\"second time\")\n",
    "for i in res:\n",
    "    print(\"i=\",i)"
   ]
  },
  {
   "cell_type": "code",
   "execution_count": 40,
   "metadata": {},
   "outputs": [
    {
     "name": "stdout",
     "output_type": "stream",
     "text": [
      "i= 1\n",
      "i= 2\n",
      "i= 3\n",
      "second time\n",
      "i= 1\n",
      "i= 2\n",
      "i= 3\n"
     ]
    }
   ],
   "source": [
    "def fun():\n",
    "    return [1,2,3]\n",
    "res=fun()\n",
    "for i in res:\n",
    "    print(\"i=\",i)\n",
    "print(\"second time\")\n",
    "for i in res:\n",
    "    print(\"i=\",i)"
   ]
  },
  {
   "cell_type": "code",
   "execution_count": 41,
   "metadata": {},
   "outputs": [
    {
     "name": "stdout",
     "output_type": "stream",
     "text": [
      "i= 1\n",
      "i= 2\n",
      "i= 3\n",
      "second time\n",
      "i= 1\n",
      "i= 2\n",
      "i= 3\n"
     ]
    }
   ],
   "source": [
    "def fun():\n",
    "    yield 1\n",
    "    yield 2\n",
    "    yield 3\n",
    "res=fun()\n",
    "for i in res:\n",
    "    print(\"i=\",i)\n",
    "print(\"second time\")\n",
    "res=fun()\n",
    "for i in res:\n",
    "    print(\"i=\",i)"
   ]
  },
  {
   "cell_type": "code",
   "execution_count": null,
   "metadata": {},
   "outputs": [],
   "source": []
  }
 ],
 "metadata": {
  "kernelspec": {
   "display_name": "Python 3",
   "language": "python",
   "name": "python3"
  },
  "language_info": {
   "codemirror_mode": {
    "name": "ipython",
    "version": 3
   },
   "file_extension": ".py",
   "mimetype": "text/x-python",
   "name": "python",
   "nbconvert_exporter": "python",
   "pygments_lexer": "ipython3",
   "version": "3.8.3"
  }
 },
 "nbformat": 4,
 "nbformat_minor": 4
}
