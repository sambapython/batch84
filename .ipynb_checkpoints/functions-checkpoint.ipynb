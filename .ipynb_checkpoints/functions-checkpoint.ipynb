{
 "cells": [
  {
   "cell_type": "code",
   "execution_count": 1,
   "metadata": {},
   "outputs": [
    {
     "name": "stdout",
     "output_type": "stream",
     "text": [
      "1\n",
      "2\n",
      "Even\n",
      "3\n",
      "4\n",
      "5\n",
      "Odd\n",
      "6\n",
      "Even\n",
      "7\n",
      "8\n",
      "Odd\n"
     ]
    }
   ],
   "source": [
    "print(\"1\")\n",
    "print(\"2\")\n",
    "number = 10\n",
    "if number%2==0:\n",
    "    print(\"Even\")\n",
    "else:\n",
    "    print(\"Odd\")\n",
    "print(\"3\")\n",
    "print(\"4\")\n",
    "print(\"5\")\n",
    "number = 103\n",
    "if number%2==0:\n",
    "    print(\"Even\")\n",
    "else:\n",
    "    print(\"Odd\")\n",
    "print(\"6\")\n",
    "number = 106\n",
    "if number%2==0:\n",
    "    print(\"Even\")\n",
    "else:\n",
    "    print(\"Odd\")\n",
    "print(\"7\")\n",
    "print(\"8\")\n",
    "number = 109\n",
    "if number%2==0:\n",
    "    print(\"Even\")\n",
    "else:\n",
    "    print(\"Odd\")"
   ]
  },
  {
   "cell_type": "code",
   "execution_count": 2,
   "metadata": {},
   "outputs": [
    {
     "name": "stdout",
     "output_type": "stream",
     "text": [
      "1\n",
      "2\n",
      "Even\n",
      "3\n",
      "4\n",
      "5\n",
      "Odd\n",
      "6\n",
      "Even\n",
      "7\n",
      "8\n",
      "Odd\n"
     ]
    }
   ],
   "source": [
    "def fun(number):\n",
    "    if number%2==0:\n",
    "        print(\"Even\")\n",
    "    else:\n",
    "        print(\"Odd\")\n",
    "    \n",
    "print(\"1\")\n",
    "print(\"2\")\n",
    "fun(10)\n",
    "print(\"3\")\n",
    "print(\"4\")\n",
    "print(\"5\")\n",
    "fun(103)\n",
    "print(\"6\")\n",
    "fun(106)\n",
    "print(\"7\")\n",
    "print(\"8\")\n",
    "fun(109)"
   ]
  },
  {
   "cell_type": "code",
   "execution_count": 3,
   "metadata": {},
   "outputs": [
    {
     "name": "stdout",
     "output_type": "stream",
     "text": [
      "1\n",
      "2\n",
      "EVEN\n",
      "3\n",
      "4\n",
      "5\n",
      "ODD\n",
      "6\n",
      "EVEN\n",
      "7\n",
      "8\n",
      "ODD\n"
     ]
    }
   ],
   "source": [
    "def fun(number):\n",
    "    if number%2==0:\n",
    "        print(\"EVEN\")\n",
    "    else:\n",
    "        print(\"ODD\")\n",
    "    \n",
    "print(\"1\")\n",
    "print(\"2\")\n",
    "fun(10)\n",
    "print(\"3\")\n",
    "print(\"4\")\n",
    "print(\"5\")\n",
    "fun(103)\n",
    "print(\"6\")\n",
    "fun(106)\n",
    "print(\"7\")\n",
    "print(\"8\")\n",
    "fun(109)"
   ]
  },
  {
   "cell_type": "code",
   "execution_count": 4,
   "metadata": {},
   "outputs": [
    {
     "name": "stdout",
     "output_type": "stream",
     "text": [
      "starred\n",
      "ended\n"
     ]
    }
   ],
   "source": [
    "print(\"starred\")\n",
    "def fun1():# signature of the function\n",
    "    # function body\n",
    "    print(\"hello\")\n",
    "    print(\"hi\")\n",
    "    print(\"hyderabad\")\n",
    "    print(\"banglore\")\n",
    "print(\"ended\")  "
   ]
  },
  {
   "cell_type": "code",
   "execution_count": 5,
   "metadata": {},
   "outputs": [
    {
     "name": "stdout",
     "output_type": "stream",
     "text": [
      "starred\n",
      "ended\n",
      "hello\n",
      "hi\n",
      "hyderabad\n",
      "banglore\n"
     ]
    }
   ],
   "source": [
    "print(\"starred\")\n",
    "def fun1():# signature of the function\n",
    "    # function body\n",
    "    print(\"hello\")\n",
    "    print(\"hi\")\n",
    "    print(\"hyderabad\")\n",
    "    print(\"banglore\")\n",
    "print(\"ended\")  \n",
    "fun1()"
   ]
  },
  {
   "cell_type": "code",
   "execution_count": 6,
   "metadata": {},
   "outputs": [
    {
     "name": "stdout",
     "output_type": "stream",
     "text": [
      "starred\n",
      "ended\n",
      "hello\n",
      "hi\n",
      "hyderabad\n",
      "banglore\n",
      "1\n",
      "hello\n",
      "hi\n",
      "hyderabad\n",
      "banglore\n",
      "2\n",
      "3\n",
      "hello\n",
      "hi\n",
      "hyderabad\n",
      "banglore\n"
     ]
    }
   ],
   "source": [
    "print(\"starred\")\n",
    "def fun1():# signature of the function\n",
    "    # function body\n",
    "    print(\"hello\")\n",
    "    print(\"hi\")\n",
    "    print(\"hyderabad\")\n",
    "    print(\"banglore\")\n",
    "print(\"ended\")  \n",
    "fun1()\n",
    "print(\"1\")\n",
    "fun1()\n",
    "print(\"2\")\n",
    "print(\"3\")\n",
    "fun1()"
   ]
  },
  {
   "cell_type": "code",
   "execution_count": 8,
   "metadata": {},
   "outputs": [
    {
     "name": "stdout",
     "output_type": "stream",
     "text": [
      "x=10,y=20\n",
      "res= 30\n",
      "x=100,y=200\n",
      "res= 300\n"
     ]
    }
   ],
   "source": [
    "def add(x,y):#x,y parameters\n",
    "    print(f\"x={x},y={y}\")\n",
    "    res=x+y\n",
    "    print(\"res=\",res)\n",
    "    \n",
    "add(10,20)# 10,20 arguments.\n",
    "add(100,200)# 100,200 arguments"
   ]
  },
  {
   "cell_type": "code",
   "execution_count": 9,
   "metadata": {},
   "outputs": [
    {
     "name": "stdout",
     "output_type": "stream",
     "text": [
      "x= 10 y= 20\n",
      "res= 30\n",
      "x= 100 y= 200\n",
      "res= 300\n"
     ]
    }
   ],
   "source": [
    "def add(x,y):#x,y parameters\n",
    "    print(\"x=\",x,\"y=\",y)\n",
    "    res=x+y\n",
    "    print(\"res=\",res)\n",
    "    \n",
    "add(10,20)# 10,20 arguments.\n",
    "add(100,200)# 100,200 arguments"
   ]
  },
  {
   "cell_type": "code",
   "execution_count": 11,
   "metadata": {},
   "outputs": [
    {
     "name": "stdout",
     "output_type": "stream",
     "text": [
      "x=10,y=20\n",
      "res= 30\n",
      "x=100,y=200\n",
      "res= 300\n"
     ]
    }
   ],
   "source": [
    "def add(x,y):#x,y parameters\n",
    "    print(\"x=%s,y=%s\"%(x,y))\n",
    "    res=x+y\n",
    "    print(\"res=\",res)\n",
    "    \n",
    "add(10,20)# 10,20 arguments.\n",
    "add(100,200)# 100,200 arguments"
   ]
  },
  {
   "cell_type": "code",
   "execution_count": 12,
   "metadata": {},
   "outputs": [
    {
     "ename": "TypeError",
     "evalue": "add() missing 1 required positional argument: 'y'",
     "output_type": "error",
     "traceback": [
      "\u001b[1;31m---------------------------------------------------------------------------\u001b[0m",
      "\u001b[1;31mTypeError\u001b[0m                                 Traceback (most recent call last)",
      "\u001b[1;32m<ipython-input-12-0553e64710cd>\u001b[0m in \u001b[0;36m<module>\u001b[1;34m\u001b[0m\n\u001b[0;32m      3\u001b[0m     \u001b[0mres\u001b[0m\u001b[1;33m=\u001b[0m\u001b[0mx\u001b[0m\u001b[1;33m+\u001b[0m\u001b[0my\u001b[0m\u001b[1;33m\u001b[0m\u001b[1;33m\u001b[0m\u001b[0m\n\u001b[0;32m      4\u001b[0m     \u001b[0mprint\u001b[0m\u001b[1;33m(\u001b[0m\u001b[1;34m\"res=\"\u001b[0m\u001b[1;33m,\u001b[0m\u001b[0mres\u001b[0m\u001b[1;33m)\u001b[0m\u001b[1;33m\u001b[0m\u001b[1;33m\u001b[0m\u001b[0m\n\u001b[1;32m----> 5\u001b[1;33m \u001b[0madd\u001b[0m\u001b[1;33m(\u001b[0m\u001b[1;36m10\u001b[0m\u001b[1;33m)\u001b[0m\u001b[1;33m\u001b[0m\u001b[1;33m\u001b[0m\u001b[0m\n\u001b[0m",
      "\u001b[1;31mTypeError\u001b[0m: add() missing 1 required positional argument: 'y'"
     ]
    }
   ],
   "source": [
    "def add(x,y):#x,y parameters\n",
    "    print(\"x=%s,y=%s\"%(x,y))\n",
    "    res=x+y\n",
    "    print(\"res=\",res)\n",
    "add(10)"
   ]
  },
  {
   "cell_type": "code",
   "execution_count": 13,
   "metadata": {},
   "outputs": [
    {
     "ename": "TypeError",
     "evalue": "add() takes 2 positional arguments but 3 were given",
     "output_type": "error",
     "traceback": [
      "\u001b[1;31m---------------------------------------------------------------------------\u001b[0m",
      "\u001b[1;31mTypeError\u001b[0m                                 Traceback (most recent call last)",
      "\u001b[1;32m<ipython-input-13-7bcc736fdb15>\u001b[0m in \u001b[0;36m<module>\u001b[1;34m\u001b[0m\n\u001b[0;32m      4\u001b[0m     \u001b[0mprint\u001b[0m\u001b[1;33m(\u001b[0m\u001b[1;34m\"res=\"\u001b[0m\u001b[1;33m,\u001b[0m\u001b[0mres\u001b[0m\u001b[1;33m)\u001b[0m\u001b[1;33m\u001b[0m\u001b[1;33m\u001b[0m\u001b[0m\n\u001b[0;32m      5\u001b[0m \u001b[1;33m\u001b[0m\u001b[0m\n\u001b[1;32m----> 6\u001b[1;33m \u001b[0madd\u001b[0m\u001b[1;33m(\u001b[0m\u001b[1;36m10\u001b[0m\u001b[1;33m,\u001b[0m\u001b[1;36m20\u001b[0m\u001b[1;33m,\u001b[0m\u001b[1;36m30\u001b[0m\u001b[1;33m)\u001b[0m\u001b[1;33m\u001b[0m\u001b[1;33m\u001b[0m\u001b[0m\n\u001b[0m",
      "\u001b[1;31mTypeError\u001b[0m: add() takes 2 positional arguments but 3 were given"
     ]
    }
   ],
   "source": [
    "def add(x,y):#x,y parameters\n",
    "    print(\"x=%s,y=%s\"%(x,y))\n",
    "    res=x+y\n",
    "    print(\"res=\",res)\n",
    "    \n",
    "add(10,20,30)"
   ]
  },
  {
   "cell_type": "code",
   "execution_count": 14,
   "metadata": {},
   "outputs": [
    {
     "name": "stdout",
     "output_type": "stream",
     "text": [
      "a=10,b=20,c=30,d=40,e=50,f=60\n",
      "res= 210\n"
     ]
    }
   ],
   "source": [
    "def add(a,b,c,d,e,f):\n",
    "    print(f\"a={a},b={b},c={c},d={d},e={e},f={f}\")\n",
    "    res=a+b+c+d+e+f\n",
    "    print(\"res=\",res)\n",
    "    \n",
    "add(10,20,30,40,50,60)"
   ]
  },
  {
   "cell_type": "code",
   "execution_count": 15,
   "metadata": {},
   "outputs": [
    {
     "ename": "TypeError",
     "evalue": "add() missing 6 required positional arguments: 'a', 'b', 'c', 'd', 'e', and 'f'",
     "output_type": "error",
     "traceback": [
      "\u001b[1;31m---------------------------------------------------------------------------\u001b[0m",
      "\u001b[1;31mTypeError\u001b[0m                                 Traceback (most recent call last)",
      "\u001b[1;32m<ipython-input-15-44b2c4035a26>\u001b[0m in \u001b[0;36m<module>\u001b[1;34m\u001b[0m\n\u001b[0;32m      4\u001b[0m     \u001b[0mprint\u001b[0m\u001b[1;33m(\u001b[0m\u001b[1;34m\"res=\"\u001b[0m\u001b[1;33m,\u001b[0m\u001b[0mres\u001b[0m\u001b[1;33m)\u001b[0m\u001b[1;33m\u001b[0m\u001b[1;33m\u001b[0m\u001b[0m\n\u001b[0;32m      5\u001b[0m \u001b[1;33m\u001b[0m\u001b[0m\n\u001b[1;32m----> 6\u001b[1;33m \u001b[0madd\u001b[0m\u001b[1;33m(\u001b[0m\u001b[1;33m)\u001b[0m\u001b[1;33m\u001b[0m\u001b[1;33m\u001b[0m\u001b[0m\n\u001b[0m\u001b[0;32m      7\u001b[0m \u001b[0madd\u001b[0m\u001b[1;33m(\u001b[0m\u001b[1;36m10\u001b[0m\u001b[1;33m)\u001b[0m\u001b[1;33m\u001b[0m\u001b[1;33m\u001b[0m\u001b[0m\n\u001b[0;32m      8\u001b[0m \u001b[0madd\u001b[0m\u001b[1;33m(\u001b[0m\u001b[1;36m10\u001b[0m\u001b[1;33m,\u001b[0m\u001b[1;36m20\u001b[0m\u001b[1;33m)\u001b[0m\u001b[1;33m\u001b[0m\u001b[1;33m\u001b[0m\u001b[0m\n",
      "\u001b[1;31mTypeError\u001b[0m: add() missing 6 required positional arguments: 'a', 'b', 'c', 'd', 'e', and 'f'"
     ]
    }
   ],
   "source": [
    "def add(a,b,c,d,e,f):\n",
    "    print(f\"a={a},b={b},c={c},d={d},e={e},f={f}\")\n",
    "    res=a+b+c+d+e+f\n",
    "    print(\"res=\",res)\n",
    "    \n",
    "add()\n",
    "add(10)\n",
    "add(10,20)\n",
    "add(10,20,30)\n",
    "add(10,20,30,40)\n",
    "add(10,20,30,40,50)\n",
    "add(10,20,30,40,50,60)"
   ]
  },
  {
   "cell_type": "code",
   "execution_count": 16,
   "metadata": {},
   "outputs": [
    {
     "name": "stdout",
     "output_type": "stream",
     "text": [
      "a=0,b=0,c=0,d=0,e=0,f=0\n",
      "res= 0\n",
      "a=10,b=0,c=0,d=0,e=0,f=0\n",
      "res= 10\n",
      "a=10,b=20,c=0,d=0,e=0,f=0\n",
      "res= 30\n",
      "a=10,b=20,c=30,d=0,e=0,f=0\n",
      "res= 60\n",
      "a=10,b=20,c=30,d=40,e=0,f=0\n",
      "res= 100\n",
      "a=10,b=20,c=30,d=40,e=50,f=0\n",
      "res= 150\n",
      "a=10,b=20,c=30,d=40,e=50,f=60\n",
      "res= 210\n"
     ]
    }
   ],
   "source": [
    "def add(a=0,b=0,c=0,d=0,e=0,f=0):\n",
    "    print(f\"a={a},b={b},c={c},d={d},e={e},f={f}\")\n",
    "    res=a+b+c+d+e+f\n",
    "    print(\"res=\",res)\n",
    "    \n",
    "add()\n",
    "add(10)\n",
    "add(10,20)\n",
    "add(10,20,30)\n",
    "add(10,20,30,40)\n",
    "add(10,20,30,40,50)\n",
    "add(10,20,30,40,50,60)"
   ]
  },
  {
   "cell_type": "code",
   "execution_count": 19,
   "metadata": {},
   "outputs": [
    {
     "name": "stdout",
     "output_type": "stream",
     "text": [
      "name=jay,age=23,height=5.4,weight=68,email=,phone=0000000000\n"
     ]
    }
   ],
   "source": [
    "def registration(name,age,height,weight=None,email=\"\",phone=\"0000000000\"):\n",
    "    #name,age,height are mandatory parameters\n",
    "    # wight, email, phone are optional parameters\n",
    "    print(f\"name={name},age={age},height={height},weight={weight},email={email},phone={phone}\")\n",
    "registration(\"jay\",23,5.4,68)"
   ]
  },
  {
   "cell_type": "code",
   "execution_count": 17,
   "metadata": {},
   "outputs": [
    {
     "name": "stdout",
     "output_type": "stream",
     "text": [
      "<class 'NoneType'>\n"
     ]
    }
   ],
   "source": [
    "s=None\n",
    "print(type(s))"
   ]
  },
  {
   "cell_type": "code",
   "execution_count": 20,
   "metadata": {},
   "outputs": [
    {
     "name": "stdout",
     "output_type": "stream",
     "text": [
      "name=jay,age=23,height=5.4,weight=68,email=,phone=0000000000\n",
      "name=jay,age=23,height=5.4,weight=None,email=,phone=0000000000\n"
     ]
    }
   ],
   "source": [
    "def registration(name,age,height,weight=None,email=\"\",phone=\"0000000000\"):\n",
    "    #name,age,height are mandatory parameters\n",
    "    # wight, email, phone are optional parameters\n",
    "    print(f\"name={name},age={age},height={height},weight={weight},email={email},phone={phone}\")\n",
    "registration(\"jay\",23,5.4,68)\n",
    "registration(\"jay\",23,5.4)"
   ]
  },
  {
   "cell_type": "code",
   "execution_count": 21,
   "metadata": {},
   "outputs": [
    {
     "name": "stdout",
     "output_type": "stream",
     "text": [
      "name=jay,age=23,height=5.4,weight=68,email=,phone=0000000000\n",
      "name=jay,age=23,height=5.4,weight=None,email=,phone=7564865789\n"
     ]
    }
   ],
   "source": [
    "def registration(name,age,height,weight=None,email=\"\",phone=\"0000000000\"):\n",
    "    #name,age,height are mandatory parameters\n",
    "    # wight, email, phone are optional parameters\n",
    "    print(f\"name={name},age={age},height={height},weight={weight},email={email},phone={phone}\")\n",
    "registration(\"jay\",23,5.4,68)\n",
    "registration(\"jay\",23,5.4,None,\"\",\"7564865789\")"
   ]
  },
  {
   "cell_type": "code",
   "execution_count": 22,
   "metadata": {},
   "outputs": [
    {
     "name": "stdout",
     "output_type": "stream",
     "text": [
      "name=jay,age=23,height=5.4,weight=68,email=,phone=0000000000\n",
      "name=jay,age=23,height=5.4,weight=,email=,phone=7564865789\n"
     ]
    }
   ],
   "source": [
    "def registration(name,age,height,weight=None,email=\"\",phone=\"0000000000\"):\n",
    "    #name,age,height are mandatory parameters\n",
    "    # wight, email, phone are optional parameters\n",
    "    print(f\"name={name},age={age},height={height},weight={weight},email={email},phone={phone}\")\n",
    "registration(\"jay\",23,5.4,68)\n",
    "registration(\"jay\",23,5.4,\"\",\"\",\"7564865789\")"
   ]
  },
  {
   "cell_type": "code",
   "execution_count": 23,
   "metadata": {},
   "outputs": [
    {
     "name": "stdout",
     "output_type": "stream",
     "text": [
      "name=jay,age=23,height=5.4,weight=68,email=,phone=0000000000\n",
      "name=jay,age=23,height=5.4,weight=None,email=None,phone=7564865789\n"
     ]
    }
   ],
   "source": [
    "def registration(name,age,height,weight=None,email=\"\",phone=\"0000000000\"):\n",
    "    #name,age,height are mandatory parameters\n",
    "    # wight, email, phone are optional parameters\n",
    "    print(f\"name={name},age={age},height={height},weight={weight},email={email},phone={phone}\")\n",
    "registration(\"jay\",23,5.4,68)\n",
    "registration(\"jay\",23,5.4,None,None,\"7564865789\")"
   ]
  },
  {
   "cell_type": "code",
   "execution_count": 24,
   "metadata": {},
   "outputs": [],
   "source": [
    "import pandas as pd"
   ]
  },
  {
   "cell_type": "code",
   "execution_count": 25,
   "metadata": {},
   "outputs": [],
   "source": [
    "pd.read_csv?"
   ]
  },
  {
   "cell_type": "code",
   "execution_count": 26,
   "metadata": {},
   "outputs": [
    {
     "name": "stdout",
     "output_type": "stream",
     "text": [
      "name=jay,age=23,height=5.4,weight=68,email=,phone=0000000000\n",
      "name=jay,age=23,height=5.4,weight=None,email=None,phone=7564865789\n"
     ]
    }
   ],
   "source": [
    "def registration(name,age,height,weight=None,email=\"\",phone=\"0000000000\"):\n",
    "    #name,age,height are mandatory parameters\n",
    "    # wight, email, phone are optional parameters\n",
    "    print(f\"name={name},age={age},height={height},weight={weight},email={email},phone={phone}\")\n",
    "registration(\"jay\",23,5.4,68)#positional arguments\n",
    "registration(\"jay\",23,5.4,None,None,\"7564865789\")#positional arguments"
   ]
  },
  {
   "cell_type": "code",
   "execution_count": 27,
   "metadata": {},
   "outputs": [
    {
     "name": "stdout",
     "output_type": "stream",
     "text": [
      "name=jay,age=23,height=5.4,weight=68,email=,phone=0000000000\n",
      "name=vedha,age=23,height=5.4,weight=None,email=None,phone=7564865789\n",
      "name=sai,age=23,height=5.4,weight=None,email=,phone=7564865789\n",
      "name=dhana,age=23,height=5.4,weight=None,email=,phone=7564865789\n"
     ]
    }
   ],
   "source": [
    "def registration(name,age,height,weight=None,email=\"\",phone=\"0000000000\"):\n",
    "    #name,age,height are mandatory parameters\n",
    "    # wight, email, phone are optional parameters\n",
    "    print(f\"name={name},age={age},height={height},weight={weight},email={email},phone={phone}\")\n",
    "registration(\"jay\",23,5.4,68)#positional arguments\n",
    "registration(\"vedha\",23,5.4,None,None,\"7564865789\")#positional arguments\n",
    "registration(\"sai\",23,5.4,phone=\"7564865789\")#positional arguments, keyword arguments\n",
    "registration(age=23,height=5.4,phone=\"7564865789\",name=\"dhana\")#keyword arguments"
   ]
  },
  {
   "cell_type": "code",
   "execution_count": 28,
   "metadata": {},
   "outputs": [
    {
     "name": "stdout",
     "output_type": "stream",
     "text": [
      "name=jay,age=23,height=5.4,weight=68,email=,phone=0000000000\n",
      "name=vedha,age=23,height=5.4,weight=None,email=None,phone=7564865789\n",
      "name=sai,age=23,height=5.4,weight=None,email=,phone=7564865789\n"
     ]
    },
    {
     "ename": "TypeError",
     "evalue": "registration() got an unexpected keyword argument 'Name'",
     "output_type": "error",
     "traceback": [
      "\u001b[1;31m---------------------------------------------------------------------------\u001b[0m",
      "\u001b[1;31mTypeError\u001b[0m                                 Traceback (most recent call last)",
      "\u001b[1;32m<ipython-input-28-e42d4987d532>\u001b[0m in \u001b[0;36m<module>\u001b[1;34m\u001b[0m\n\u001b[0;32m      6\u001b[0m \u001b[0mregistration\u001b[0m\u001b[1;33m(\u001b[0m\u001b[1;34m\"vedha\"\u001b[0m\u001b[1;33m,\u001b[0m\u001b[1;36m23\u001b[0m\u001b[1;33m,\u001b[0m\u001b[1;36m5.4\u001b[0m\u001b[1;33m,\u001b[0m\u001b[1;32mNone\u001b[0m\u001b[1;33m,\u001b[0m\u001b[1;32mNone\u001b[0m\u001b[1;33m,\u001b[0m\u001b[1;34m\"7564865789\"\u001b[0m\u001b[1;33m)\u001b[0m\u001b[1;31m#positional arguments\u001b[0m\u001b[1;33m\u001b[0m\u001b[1;33m\u001b[0m\u001b[0m\n\u001b[0;32m      7\u001b[0m \u001b[0mregistration\u001b[0m\u001b[1;33m(\u001b[0m\u001b[1;34m\"sai\"\u001b[0m\u001b[1;33m,\u001b[0m\u001b[1;36m23\u001b[0m\u001b[1;33m,\u001b[0m\u001b[1;36m5.4\u001b[0m\u001b[1;33m,\u001b[0m\u001b[0mphone\u001b[0m\u001b[1;33m=\u001b[0m\u001b[1;34m\"7564865789\"\u001b[0m\u001b[1;33m)\u001b[0m\u001b[1;31m#positional arguments, keyword arguments\u001b[0m\u001b[1;33m\u001b[0m\u001b[1;33m\u001b[0m\u001b[0m\n\u001b[1;32m----> 8\u001b[1;33m \u001b[0mregistration\u001b[0m\u001b[1;33m(\u001b[0m\u001b[0mage\u001b[0m\u001b[1;33m=\u001b[0m\u001b[1;36m23\u001b[0m\u001b[1;33m,\u001b[0m\u001b[0mheight\u001b[0m\u001b[1;33m=\u001b[0m\u001b[1;36m5.4\u001b[0m\u001b[1;33m,\u001b[0m\u001b[0mphone\u001b[0m\u001b[1;33m=\u001b[0m\u001b[1;34m\"7564865789\"\u001b[0m\u001b[1;33m,\u001b[0m\u001b[0mName\u001b[0m\u001b[1;33m=\u001b[0m\u001b[1;34m\"dhana\"\u001b[0m\u001b[1;33m)\u001b[0m\u001b[1;31m#keyword arguments\u001b[0m\u001b[1;33m\u001b[0m\u001b[1;33m\u001b[0m\u001b[0m\n\u001b[0m",
      "\u001b[1;31mTypeError\u001b[0m: registration() got an unexpected keyword argument 'Name'"
     ]
    }
   ],
   "source": [
    "def registration(name,age,height,weight=None,email=\"\",phone=\"0000000000\"):\n",
    "    #name,age,height are mandatory parameters\n",
    "    # wight, email, phone are optional parameters\n",
    "    print(f\"name={name},age={age},height={height},weight={weight},email={email},phone={phone}\")\n",
    "registration(\"jay\",23,5.4,68)#positional arguments\n",
    "registration(\"vedha\",23,5.4,None,None,\"7564865789\")#positional arguments\n",
    "registration(\"sai\",23,5.4,phone=\"7564865789\")#positional arguments, keyword arguments\n",
    "registration(age=23,height=5.4,phone=\"7564865789\",Name=\"dhana\")#keyword arguments"
   ]
  },
  {
   "cell_type": "code",
   "execution_count": 29,
   "metadata": {},
   "outputs": [
    {
     "name": "stdout",
     "output_type": "stream",
     "text": [
      "name=jay,age=23,height=5.4,weight=68,email=,phone=0000000000\n",
      "name=vedha,age=23,height=5.4,weight=None,email=None,phone=7564865789\n",
      "name=sai,age=23,height=5.4,weight=None,email=,phone=7564865789\n"
     ]
    },
    {
     "ename": "TypeError",
     "evalue": "registration() missing 1 required positional argument: 'name'",
     "output_type": "error",
     "traceback": [
      "\u001b[1;31m---------------------------------------------------------------------------\u001b[0m",
      "\u001b[1;31mTypeError\u001b[0m                                 Traceback (most recent call last)",
      "\u001b[1;32m<ipython-input-29-38250ab6c54a>\u001b[0m in \u001b[0;36m<module>\u001b[1;34m\u001b[0m\n\u001b[0;32m      6\u001b[0m \u001b[0mregistration\u001b[0m\u001b[1;33m(\u001b[0m\u001b[1;34m\"vedha\"\u001b[0m\u001b[1;33m,\u001b[0m\u001b[1;36m23\u001b[0m\u001b[1;33m,\u001b[0m\u001b[1;36m5.4\u001b[0m\u001b[1;33m,\u001b[0m\u001b[1;32mNone\u001b[0m\u001b[1;33m,\u001b[0m\u001b[1;32mNone\u001b[0m\u001b[1;33m,\u001b[0m\u001b[1;34m\"7564865789\"\u001b[0m\u001b[1;33m)\u001b[0m\u001b[1;31m#positional arguments\u001b[0m\u001b[1;33m\u001b[0m\u001b[1;33m\u001b[0m\u001b[0m\n\u001b[0;32m      7\u001b[0m \u001b[0mregistration\u001b[0m\u001b[1;33m(\u001b[0m\u001b[1;34m\"sai\"\u001b[0m\u001b[1;33m,\u001b[0m\u001b[1;36m23\u001b[0m\u001b[1;33m,\u001b[0m\u001b[1;36m5.4\u001b[0m\u001b[1;33m,\u001b[0m\u001b[0mphone\u001b[0m\u001b[1;33m=\u001b[0m\u001b[1;34m\"7564865789\"\u001b[0m\u001b[1;33m)\u001b[0m\u001b[1;31m#positional arguments, keyword arguments\u001b[0m\u001b[1;33m\u001b[0m\u001b[1;33m\u001b[0m\u001b[0m\n\u001b[1;32m----> 8\u001b[1;33m \u001b[0mregistration\u001b[0m\u001b[1;33m(\u001b[0m\u001b[0mage\u001b[0m\u001b[1;33m=\u001b[0m\u001b[1;36m23\u001b[0m\u001b[1;33m,\u001b[0m\u001b[0mheight\u001b[0m\u001b[1;33m=\u001b[0m\u001b[1;36m5.4\u001b[0m\u001b[1;33m,\u001b[0m\u001b[0mphone\u001b[0m\u001b[1;33m=\u001b[0m\u001b[1;34m\"7564865789\"\u001b[0m\u001b[1;33m)\u001b[0m\u001b[1;31m#keyword arguments\u001b[0m\u001b[1;33m\u001b[0m\u001b[1;33m\u001b[0m\u001b[0m\n\u001b[0m",
      "\u001b[1;31mTypeError\u001b[0m: registration() missing 1 required positional argument: 'name'"
     ]
    }
   ],
   "source": [
    "def registration(name,age,height,weight=None,email=\"\",phone=\"0000000000\"):\n",
    "    #name,age,height are mandatory parameters\n",
    "    # wight, email, phone are optional parameters\n",
    "    print(f\"name={name},age={age},height={height},weight={weight},email={email},phone={phone}\")\n",
    "registration(\"jay\",23,5.4,68)#positional arguments\n",
    "registration(\"vedha\",23,5.4,None,None,\"7564865789\")#positional arguments\n",
    "registration(\"sai\",23,5.4,phone=\"7564865789\")#positional arguments, keyword arguments\n",
    "registration(age=23,height=5.4,phone=\"7564865789\")#keyword arguments"
   ]
  },
  {
   "cell_type": "code",
   "execution_count": 30,
   "metadata": {},
   "outputs": [
    {
     "name": "stdout",
     "output_type": "stream",
     "text": [
      "name=jay,age=23,height=5.4,weight=68,email=,phone=0000000000\n",
      "name=vedha,age=23,height=5.4,weight=None,email=None,phone=7564865789\n",
      "name=sai,age=23,height=5.4,weight=None,email=,phone=7564865789\n"
     ]
    },
    {
     "ename": "TypeError",
     "evalue": "registration() got multiple values for argument 'name'",
     "output_type": "error",
     "traceback": [
      "\u001b[1;31m---------------------------------------------------------------------------\u001b[0m",
      "\u001b[1;31mTypeError\u001b[0m                                 Traceback (most recent call last)",
      "\u001b[1;32m<ipython-input-30-5db9ba52cefa>\u001b[0m in \u001b[0;36m<module>\u001b[1;34m\u001b[0m\n\u001b[0;32m      6\u001b[0m \u001b[0mregistration\u001b[0m\u001b[1;33m(\u001b[0m\u001b[1;34m\"vedha\"\u001b[0m\u001b[1;33m,\u001b[0m\u001b[1;36m23\u001b[0m\u001b[1;33m,\u001b[0m\u001b[1;36m5.4\u001b[0m\u001b[1;33m,\u001b[0m\u001b[1;32mNone\u001b[0m\u001b[1;33m,\u001b[0m\u001b[1;32mNone\u001b[0m\u001b[1;33m,\u001b[0m\u001b[1;34m\"7564865789\"\u001b[0m\u001b[1;33m)\u001b[0m\u001b[1;31m#positional arguments\u001b[0m\u001b[1;33m\u001b[0m\u001b[1;33m\u001b[0m\u001b[0m\n\u001b[0;32m      7\u001b[0m \u001b[0mregistration\u001b[0m\u001b[1;33m(\u001b[0m\u001b[1;34m\"sai\"\u001b[0m\u001b[1;33m,\u001b[0m\u001b[1;36m23\u001b[0m\u001b[1;33m,\u001b[0m\u001b[1;36m5.4\u001b[0m\u001b[1;33m,\u001b[0m\u001b[0mphone\u001b[0m\u001b[1;33m=\u001b[0m\u001b[1;34m\"7564865789\"\u001b[0m\u001b[1;33m)\u001b[0m\u001b[1;31m#positional arguments, keyword arguments\u001b[0m\u001b[1;33m\u001b[0m\u001b[1;33m\u001b[0m\u001b[0m\n\u001b[1;32m----> 8\u001b[1;33m \u001b[0mregistration\u001b[0m\u001b[1;33m(\u001b[0m\u001b[1;34m\"DHANA\"\u001b[0m\u001b[1;33m,\u001b[0m\u001b[0mage\u001b[0m\u001b[1;33m=\u001b[0m\u001b[1;36m23\u001b[0m\u001b[1;33m,\u001b[0m\u001b[0mheight\u001b[0m\u001b[1;33m=\u001b[0m\u001b[1;36m5.4\u001b[0m\u001b[1;33m,\u001b[0m\u001b[0mname\u001b[0m\u001b[1;33m=\u001b[0m\u001b[1;34m\"dhana\"\u001b[0m\u001b[1;33m)\u001b[0m\u001b[1;31m#keyword arguments\u001b[0m\u001b[1;33m\u001b[0m\u001b[1;33m\u001b[0m\u001b[0m\n\u001b[0m",
      "\u001b[1;31mTypeError\u001b[0m: registration() got multiple values for argument 'name'"
     ]
    }
   ],
   "source": [
    "def registration(name,age,height,weight=None,email=\"\",phone=\"0000000000\"):\n",
    "    #name,age,height are mandatory parameters\n",
    "    # wight, email, phone are optional parameters\n",
    "    print(f\"name={name},age={age},height={height},weight={weight},email={email},phone={phone}\")\n",
    "registration(\"jay\",23,5.4,68)#positional arguments\n",
    "registration(\"vedha\",23,5.4,None,None,\"7564865789\")#positional arguments\n",
    "registration(\"sai\",23,5.4,phone=\"7564865789\")#positional arguments, keyword arguments\n",
    "registration(\"DHANA\",age=23,height=5.4,name=\"dhana\")#keyword arguments"
   ]
  },
  {
   "cell_type": "code",
   "execution_count": null,
   "metadata": {},
   "outputs": [],
   "source": []
  }
 ],
 "metadata": {
  "kernelspec": {
   "display_name": "Python 3",
   "language": "python",
   "name": "python3"
  },
  "language_info": {
   "codemirror_mode": {
    "name": "ipython",
    "version": 3
   },
   "file_extension": ".py",
   "mimetype": "text/x-python",
   "name": "python",
   "nbconvert_exporter": "python",
   "pygments_lexer": "ipython3",
   "version": "3.8.3"
  }
 },
 "nbformat": 4,
 "nbformat_minor": 4
}
