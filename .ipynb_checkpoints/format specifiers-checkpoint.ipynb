{
 "cells": [
  {
   "cell_type": "code",
   "execution_count": 1,
   "metadata": {},
   "outputs": [
    {
     "name": "stdout",
     "output_type": "stream",
     "text": [
      "The person jayaram\n"
     ]
    }
   ],
   "source": [
    "name=\"jayaram\"\n",
    "age=6\n",
    "weight=18.234562345\n",
    "height=3.52668568\n",
    "#\"The person jayaram is 6 years old, he has 18.24 KG weight and 3.53 FEET height\"\n",
    "s=\"The person \"+name\n",
    "print(s)"
   ]
  },
  {
   "cell_type": "code",
   "execution_count": 2,
   "metadata": {},
   "outputs": [
    {
     "ename": "TypeError",
     "evalue": "can only concatenate str (not \"int\") to str",
     "output_type": "error",
     "traceback": [
      "\u001b[1;31m---------------------------------------------------------------------------\u001b[0m",
      "\u001b[1;31mTypeError\u001b[0m                                 Traceback (most recent call last)",
      "\u001b[1;32m<ipython-input-2-799af5881899>\u001b[0m in \u001b[0;36m<module>\u001b[1;34m\u001b[0m\n\u001b[0;32m      4\u001b[0m \u001b[0mheight\u001b[0m\u001b[1;33m=\u001b[0m\u001b[1;36m3.52668568\u001b[0m\u001b[1;33m\u001b[0m\u001b[1;33m\u001b[0m\u001b[0m\n\u001b[0;32m      5\u001b[0m \u001b[1;31m#\"The person jayaram is 6 years old, he has 18.24 KG weight and 3.53 FEET height\"\u001b[0m\u001b[1;33m\u001b[0m\u001b[1;33m\u001b[0m\u001b[1;33m\u001b[0m\u001b[0m\n\u001b[1;32m----> 6\u001b[1;33m \u001b[0ms\u001b[0m\u001b[1;33m=\u001b[0m\u001b[1;34m\"The person \"\u001b[0m\u001b[1;33m+\u001b[0m\u001b[0mname\u001b[0m\u001b[1;33m+\u001b[0m\u001b[1;34m\" is \"\u001b[0m\u001b[1;33m+\u001b[0m\u001b[0mage\u001b[0m\u001b[1;33m\u001b[0m\u001b[1;33m\u001b[0m\u001b[0m\n\u001b[0m\u001b[0;32m      7\u001b[0m \u001b[0mprint\u001b[0m\u001b[1;33m(\u001b[0m\u001b[0ms\u001b[0m\u001b[1;33m)\u001b[0m\u001b[1;33m\u001b[0m\u001b[1;33m\u001b[0m\u001b[0m\n",
      "\u001b[1;31mTypeError\u001b[0m: can only concatenate str (not \"int\") to str"
     ]
    }
   ],
   "source": [
    "name=\"jayaram\"\n",
    "age=6\n",
    "weight=18.234562345\n",
    "height=3.52668568\n",
    "#\"The person jayaram is 6 years old, he has 18.24 KG weight and 3.53 FEET height\"\n",
    "s=\"The person \"+name+\" is \"+age\n",
    "print(s)"
   ]
  },
  {
   "cell_type": "code",
   "execution_count": 3,
   "metadata": {},
   "outputs": [
    {
     "name": "stdout",
     "output_type": "stream",
     "text": [
      "The person jayaram is 6\n"
     ]
    }
   ],
   "source": [
    "name=\"jayaram\"\n",
    "age=6\n",
    "weight=18.234562345\n",
    "height=3.52668568\n",
    "#\"The person jayaram is 6 years old, he has 18.24 KG weight and 3.53 FEET height\"\n",
    "s=\"The person \"+name+\" is \"+str(age)\n",
    "print(s)"
   ]
  },
  {
   "cell_type": "code",
   "execution_count": 4,
   "metadata": {},
   "outputs": [
    {
     "ename": "TypeError",
     "evalue": "can only concatenate str (not \"float\") to str",
     "output_type": "error",
     "traceback": [
      "\u001b[1;31m---------------------------------------------------------------------------\u001b[0m",
      "\u001b[1;31mTypeError\u001b[0m                                 Traceback (most recent call last)",
      "\u001b[1;32m<ipython-input-4-5cd8e3ce5308>\u001b[0m in \u001b[0;36m<module>\u001b[1;34m\u001b[0m\n\u001b[0;32m      4\u001b[0m \u001b[0mheight\u001b[0m\u001b[1;33m=\u001b[0m\u001b[1;36m3.52668568\u001b[0m\u001b[1;33m\u001b[0m\u001b[1;33m\u001b[0m\u001b[0m\n\u001b[0;32m      5\u001b[0m \u001b[1;31m#\"The person jayaram is 6 years old, he has 18.24 KG weight and 3.53 FEET height\"\u001b[0m\u001b[1;33m\u001b[0m\u001b[1;33m\u001b[0m\u001b[1;33m\u001b[0m\u001b[0m\n\u001b[1;32m----> 6\u001b[1;33m \u001b[0ms\u001b[0m\u001b[1;33m=\u001b[0m\u001b[1;34m\"The person \"\u001b[0m\u001b[1;33m+\u001b[0m\u001b[0mname\u001b[0m\u001b[1;33m+\u001b[0m\u001b[1;34m\" is \"\u001b[0m\u001b[1;33m+\u001b[0m\u001b[0mstr\u001b[0m\u001b[1;33m(\u001b[0m\u001b[0mage\u001b[0m\u001b[1;33m)\u001b[0m\u001b[1;33m+\u001b[0m\u001b[1;34m\" years old, he has \"\u001b[0m\u001b[1;33m+\u001b[0m\u001b[0mweight\u001b[0m\u001b[1;33m\u001b[0m\u001b[1;33m\u001b[0m\u001b[0m\n\u001b[0m\u001b[0;32m      7\u001b[0m \u001b[0mprint\u001b[0m\u001b[1;33m(\u001b[0m\u001b[0ms\u001b[0m\u001b[1;33m)\u001b[0m\u001b[1;33m\u001b[0m\u001b[1;33m\u001b[0m\u001b[0m\n",
      "\u001b[1;31mTypeError\u001b[0m: can only concatenate str (not \"float\") to str"
     ]
    }
   ],
   "source": [
    "name=\"jayaram\"\n",
    "age=6\n",
    "weight=18.234562345\n",
    "height=3.52668568\n",
    "#\"The person jayaram is 6 years old, he has 18.24 KG weight and 3.53 FEET height\"\n",
    "s=\"The person \"+name+\" is \"+str(age)+\" years old, he has \"+weight\n",
    "print(s)"
   ]
  },
  {
   "cell_type": "code",
   "execution_count": 5,
   "metadata": {},
   "outputs": [
    {
     "name": "stdout",
     "output_type": "stream",
     "text": [
      "The person jayaram is 6 years old, he has 18.234562345\n"
     ]
    }
   ],
   "source": [
    "name=\"jayaram\"\n",
    "age=6\n",
    "weight=18.234562345\n",
    "height=3.52668568\n",
    "#\"The person jayaram is 6 years old, he has 18.24 KG weight and 3.53 FEET height\"\n",
    "s=\"The person \"+name+\" is \"+str(age)+\" years old, he has \"+str(weight)\n",
    "print(s)"
   ]
  },
  {
   "cell_type": "code",
   "execution_count": 6,
   "metadata": {},
   "outputs": [
    {
     "name": "stdout",
     "output_type": "stream",
     "text": [
      "The person jayaram is 6 years old, he has 18.23\n"
     ]
    }
   ],
   "source": [
    "name=\"jayaram\"\n",
    "age=6\n",
    "weight=18.234562345\n",
    "height=3.52668568\n",
    "#\"The person jayaram is 6 years old, he has 18.24 KG weight and 3.53 FEET height\"\n",
    "s=\"The person \"+name+\" is \"+str(age)+\" years old, he has \"+str(round(weight,2))\n",
    "print(s)"
   ]
  },
  {
   "cell_type": "code",
   "execution_count": 7,
   "metadata": {},
   "outputs": [
    {
     "data": {
      "text/plain": [
       "23.44"
      ]
     },
     "execution_count": 7,
     "metadata": {},
     "output_type": "execute_result"
    }
   ],
   "source": [
    "round(23.436546,2)"
   ]
  },
  {
   "cell_type": "code",
   "execution_count": 8,
   "metadata": {},
   "outputs": [
    {
     "name": "stdout",
     "output_type": "stream",
     "text": [
      "The person jayaram is 6 years old, he has 18.23KG weight and 3.53FEET height\n"
     ]
    }
   ],
   "source": [
    "name=\"jayaram\"\n",
    "age=6\n",
    "weight=18.234562345\n",
    "height=3.52668568\n",
    "#\"The person jayaram is 6 years old, he has 18.24KG weight and 3.53FEET height\"\n",
    "s=\"The person \"+name+\" is \"+str(age)+\" years old, he has \"+str(round(weight,2))+\"KG weight and \"+str(round(height,2))+\"FEET height\"\n",
    "print(s)"
   ]
  },
  {
   "cell_type": "code",
   "execution_count": 9,
   "metadata": {},
   "outputs": [
    {
     "name": "stdout",
     "output_type": "stream",
     "text": [
      "The person jayaram is 6 years old, he has 18.23KG weight and 3.53FEET height\n",
      "The person {name}\n"
     ]
    }
   ],
   "source": [
    "name=\"jayaram\"\n",
    "age=6\n",
    "weight=18.234562345\n",
    "height=3.52668568\n",
    "#\"The person jayaram is 6 years old, he has 18.24KG weight and 3.53FEET height\"\n",
    "s=\"The person \"+name+\" is \"+str(age)+\" years old, he has \"+str(round(weight,2))+\"KG weight and \"+str(round(height,2))+\"FEET height\"\n",
    "print(s)\n",
    "#temlate strings\n",
    "print(\"The person {name}\")"
   ]
  },
  {
   "cell_type": "code",
   "execution_count": 10,
   "metadata": {},
   "outputs": [
    {
     "name": "stdout",
     "output_type": "stream",
     "text": [
      "The person jayaram is 6 years old, he has 18.23KG weight and 3.53FEET height\n",
      "The person jayaram\n"
     ]
    }
   ],
   "source": [
    "name=\"jayaram\"\n",
    "age=6\n",
    "weight=18.234562345\n",
    "height=3.52668568\n",
    "#\"The person jayaram is 6 years old, he has 18.24KG weight and 3.53FEET height\"\n",
    "s=\"The person \"+name+\" is \"+str(age)+\" years old, he has \"+str(round(weight,2))+\"KG weight and \"+str(round(height,2))+\"FEET height\"\n",
    "print(s)\n",
    "#temlate strings\n",
    "print(f\"The person {name}\")"
   ]
  },
  {
   "cell_type": "code",
   "execution_count": 11,
   "metadata": {},
   "outputs": [
    {
     "name": "stdout",
     "output_type": "stream",
     "text": [
      "The person jayaram is 6 years old, he has 18.23KG weight and 3.53FEET height\n",
      "The person jayaram is 6 years old, he has 18.234562345KG and 3.52668568FEET height\n"
     ]
    }
   ],
   "source": [
    "name=\"jayaram\"\n",
    "age=6\n",
    "weight=18.234562345\n",
    "height=3.52668568\n",
    "#\"The person jayaram is 6 years old, he has 18.24KG weight and 3.53FEET height\"\n",
    "s=\"The person \"+name+\" is \"+str(age)+\" years old, he has \"+str(round(weight,2))+\"KG weight and \"+str(round(height,2))+\"FEET height\"\n",
    "print(s)\n",
    "#temlate strings\n",
    "print(f\"The person {name} is {age} years old, he has {weight}KG and {height}FEET height\")"
   ]
  },
  {
   "cell_type": "code",
   "execution_count": 13,
   "metadata": {},
   "outputs": [
    {
     "name": "stdout",
     "output_type": "stream",
     "text": [
      "The person jayaram is 6 years old, he has 18.23KG weight and 3.53FEET height\n",
      "The person jayaram is 6 years old, he has 18.23KG weight and 3.53FEET height\n"
     ]
    }
   ],
   "source": [
    "name=\"jayaram\"\n",
    "age=6\n",
    "weight=18.234562345\n",
    "height=3.52668568\n",
    "#\"The person jayaram is 6 years old, he has 18.24KG weight and 3.53FEET height\"\n",
    "s=\"The person \"+name+\" is \"+str(age)+\" years old, he has \"+str(round(weight,2))+\"KG weight and \"+str(round(height,2))+\"FEET height\"\n",
    "print(s)\n",
    "#temlate strings\n",
    "print(f\"The person {name} is {age} years old, he has {round(weight,2)}KG weight and {round(height,2)}FEET height\")"
   ]
  },
  {
   "cell_type": "code",
   "execution_count": 14,
   "metadata": {},
   "outputs": [
    {
     "name": "stdout",
     "output_type": "stream",
     "text": [
      "The person jayaram is 6 years old, he has 18.23KG weight and 3.53FEET height\n",
      "The person jayaram is 6 years old, he has 18.23KG weight and 3.53FEET height\n",
      "('The person %s', 'jayaram')\n"
     ]
    }
   ],
   "source": [
    "name=\"jayaram\"\n",
    "age=6\n",
    "weight=18.234562345\n",
    "height=3.52668568\n",
    "#\"The person jayaram is 6 years old, he has 18.24KG weight and 3.53FEET height\"\n",
    "s=\"The person \"+name+\" is \"+str(age)+\" years old, he has \"+str(round(weight,2))+\"KG weight and \"+str(round(height,2))+\"FEET height\"\n",
    "print(s)\n",
    "#temlate strings\n",
    "s=f\"The person {name} is {age} years old, he has {round(weight,2)}KG weight and {round(height,2)}FEET height\"\n",
    "print(s)\n",
    "#format specifiers\n",
    "s=\"The person %s\",name\n",
    "print(s)"
   ]
  },
  {
   "cell_type": "code",
   "execution_count": 15,
   "metadata": {},
   "outputs": [
    {
     "name": "stdout",
     "output_type": "stream",
     "text": [
      "The person jayaram is 6 years old, he has 18.23KG weight and 3.53FEET height\n",
      "The person jayaram is 6 years old, he has 18.23KG weight and 3.53FEET height\n",
      "The person jayaram\n"
     ]
    }
   ],
   "source": [
    "name=\"jayaram\"\n",
    "age=6\n",
    "weight=18.234562345\n",
    "height=3.52668568\n",
    "#\"The person jayaram is 6 years old, he has 18.24KG weight and 3.53FEET height\"\n",
    "s=\"The person \"+name+\" is \"+str(age)+\" years old, he has \"+str(round(weight,2))+\"KG weight and \"+str(round(height,2))+\"FEET height\"\n",
    "print(s)\n",
    "#temlate strings\n",
    "s=f\"The person {name} is {age} years old, he has {round(weight,2)}KG weight and {round(height,2)}FEET height\"\n",
    "print(s)\n",
    "#format specifiers\n",
    "s=\"The person %s\"%name\n",
    "print(s)"
   ]
  },
  {
   "cell_type": "code",
   "execution_count": 16,
   "metadata": {},
   "outputs": [
    {
     "name": "stdout",
     "output_type": "stream",
     "text": [
      "The person jayaram is 6 years old, he has 18.23KG weight and 3.53FEET height\n",
      "The person jayaram is 6 years old, he has 18.23KG weight and 3.53FEET height\n",
      "The person jayaram is 6 years old, he has 18.234562345KG wight and 3.52668568FEET height\n"
     ]
    }
   ],
   "source": [
    "name=\"jayaram\"\n",
    "age=6\n",
    "weight=18.234562345\n",
    "height=3.52668568\n",
    "#\"The person jayaram is 6 years old, he has 18.24KG weight and 3.53FEET height\"\n",
    "s=\"The person \"+name+\" is \"+str(age)+\" years old, he has \"+str(round(weight,2))+\"KG weight and \"+str(round(height,2))+\"FEET height\"\n",
    "print(s)\n",
    "#temlate strings\n",
    "s=f\"The person {name} is {age} years old, he has {round(weight,2)}KG weight and {round(height,2)}FEET height\"\n",
    "print(s)\n",
    "#format specifiers\n",
    "s=\"The person %s is %s years old, he has %sKG wight and %sFEET height\"%(name,age,weight,height)\n",
    "print(s)"
   ]
  },
  {
   "cell_type": "code",
   "execution_count": 17,
   "metadata": {},
   "outputs": [
    {
     "name": "stdout",
     "output_type": "stream",
     "text": [
      "The person jayaram is 6 years old, he has 18.23KG weight and 3.53FEET height\n",
      "The person jayaram is 6 years old, he has 18.23KG weight and 3.53FEET height\n",
      "The person jayaram is 6 years old, he has 18KG wight and 3FEET height\n"
     ]
    }
   ],
   "source": [
    "name=\"jayaram\"\n",
    "age=6\n",
    "weight=18.234562345\n",
    "height=3.52668568\n",
    "#\"The person jayaram is 6 years old, he has 18.24KG weight and 3.53FEET height\"\n",
    "s=\"The person \"+name+\" is \"+str(age)+\" years old, he has \"+str(round(weight,2))+\"KG weight and \"+str(round(height,2))+\"FEET height\"\n",
    "print(s)\n",
    "#temlate strings\n",
    "s=f\"The person {name} is {age} years old, he has {round(weight,2)}KG weight and {round(height,2)}FEET height\"\n",
    "print(s)\n",
    "#format specifiers\n",
    "s=\"The person %s is %s years old, he has %dKG wight and %dFEET height\"%(name,age,weight,height)\n",
    "print(s)"
   ]
  },
  {
   "cell_type": "code",
   "execution_count": 18,
   "metadata": {},
   "outputs": [
    {
     "name": "stdout",
     "output_type": "stream",
     "text": [
      "The person jayaram is 6 years old, he has 18.23KG weight and 3.53FEET height\n",
      "The person jayaram is 6 years old, he has 18.23KG weight and 3.53FEET height\n",
      "The person jayaram is 6 years old, he has 18.234562KG wight and 3.526686FEET height\n"
     ]
    }
   ],
   "source": [
    "name=\"jayaram\"\n",
    "age=6\n",
    "weight=18.234562345\n",
    "height=3.52668568\n",
    "#\"The person jayaram is 6 years old, he has 18.24KG weight and 3.53FEET height\"\n",
    "s=\"The person \"+name+\" is \"+str(age)+\" years old, he has \"+str(round(weight,2))+\"KG weight and \"+str(round(height,2))+\"FEET height\"\n",
    "print(s)\n",
    "#temlate strings\n",
    "s=f\"The person {name} is {age} years old, he has {round(weight,2)}KG weight and {round(height,2)}FEET height\"\n",
    "print(s)\n",
    "#format specifiers\n",
    "s=\"The person %s is %s years old, he has %fKG wight and %fFEET height\"%(name,age,weight,height)\n",
    "print(s)"
   ]
  },
  {
   "cell_type": "code",
   "execution_count": 20,
   "metadata": {},
   "outputs": [
    {
     "name": "stdout",
     "output_type": "stream",
     "text": [
      "The person jayaram is 6 years old, he has 18.23KG weight and 3.53FEET height\n",
      "The person jayaram is 6 years old, he has 18.23KG weight and 3.53FEET height\n",
      "The person jayaram is 6 years old, he has 18.23KG weight and 3.53FEET height\n"
     ]
    }
   ],
   "source": [
    "name=\"jayaram\"\n",
    "age=6\n",
    "weight=18.234562345\n",
    "height=3.52668568\n",
    "#\"The person jayaram is 6 years old, he has 18.24KG weight and 3.53FEET height\"\n",
    "s=\"The person \"+name+\" is \"+str(age)+\" years old, he has \"+str(round(weight,2))+\"KG weight and \"+str(round(height,2))+\"FEET height\"\n",
    "print(s)\n",
    "#temlate strings\n",
    "s=f\"The person {name} is {age} years old, he has {round(weight,2)}KG weight and {round(height,2)}FEET height\"\n",
    "print(s)\n",
    "#format specifiers\n",
    "s=\"The person %s is %s years old, he has %.2fKG weight and %.2fFEET height\"%(name,age,weight,height)\n",
    "print(s)"
   ]
  },
  {
   "cell_type": "code",
   "execution_count": 21,
   "metadata": {},
   "outputs": [
    {
     "name": "stdout",
     "output_type": "stream",
     "text": [
      "The person jayaram is 6 years old, he has 18.23KG weight and 3.53FEET height\n",
      "The person jayaram is 6 years old, he has 18.23KG weight and 3.53FEET height\n",
      "The person jayaram is 6 years old, he has 18.23ont weight and 3.53FEET height\n"
     ]
    }
   ],
   "source": [
    "name=\"jayaram\"\n",
    "age=6\n",
    "weight=18.234562345\n",
    "height=3.52668568\n",
    "#\"The person jayaram is 6 years old, he has 18.24KG weight and 3.53FEET height\"\n",
    "s=\"The person \"+name+\" is \"+str(age)+\" years old, he has \"+str(round(weight,2))+\"KG weight and \"+str(round(height,2))+\"FEET height\"\n",
    "print(s)\n",
    "#temlate strings\n",
    "s=f\"The person {name} is {age} years old, he has {round(weight,2)}KG weight and {round(height,2)}FEET height\"\n",
    "print(s)\n",
    "#format specifiers\n",
    "s=\"The person %s is %s years old, he has %.2font weight and %.2fFEET height\"%(name,age,weight,height)\n",
    "print(s)"
   ]
  },
  {
   "cell_type": "code",
   "execution_count": 23,
   "metadata": {},
   "outputs": [
    {
     "name": "stdout",
     "output_type": "stream",
     "text": [
      "The person jayaram is 6 years old, he has 18.23KG weight and 3.53FEET height\n",
      "The person jayaram is 6 years old, he has 18.23KG weight and 3.53FEET height\n",
      "The person jayaram is 6 years old, he has 18.23ont weight and 3.53FEET height\n"
     ]
    }
   ],
   "source": [
    "name=\"jayaram\"\n",
    "age=6\n",
    "weight=18.234562345\n",
    "height=3.52668568\n",
    "#\"The person jayaram is 6 years old, he has 18.24KG weight and 3.53FEET height\"\n",
    "s=\"The person \"+name+\" is \"+str(age)+\" years old, he has \"+str(round(weight,2))+\"KG weight and \"+str(round(height,2))+\"FEET height\"\n",
    "print(s)\n",
    "#temlate strings\n",
    "s=f\"The person {name} is {age} years old, he has {round(weight,2)}KG weight and {round(height,2)}FEET height\"\n",
    "print(s)\n",
    "#format specifiers\n",
    "s=\"The person %s is %s years old, he has %.2Font weight and %.2FFEET height\"%(name,age,weight,height)\n",
    "print(s)"
   ]
  },
  {
   "cell_type": "code",
   "execution_count": 24,
   "metadata": {},
   "outputs": [
    {
     "name": "stdout",
     "output_type": "stream",
     "text": [
      "わたしは\n"
     ]
    }
   ],
   "source": [
    "s=\"わたしは\"\n",
    "print(s)"
   ]
  },
  {
   "cell_type": "code",
   "execution_count": 25,
   "metadata": {},
   "outputs": [
    {
     "name": "stdout",
     "output_type": "stream",
     "text": [
      "the person name is わたしは\n"
     ]
    }
   ],
   "source": [
    "name=\"わたしは\"\n",
    "print(f\"the person name is {name}\")"
   ]
  },
  {
   "cell_type": "code",
   "execution_count": 26,
   "metadata": {},
   "outputs": [
    {
     "name": "stdout",
     "output_type": "stream",
     "text": [
      "the name is sdgds\n"
     ]
    }
   ],
   "source": [
    "name=\"sdgds\"\n",
    "print(f\"the name is {name}\")"
   ]
  },
  {
   "cell_type": "code",
   "execution_count": 27,
   "metadata": {},
   "outputs": [
    {
     "name": "stdout",
     "output_type": "stream",
     "text": [
      "the name is {name}\n"
     ]
    }
   ],
   "source": [
    "name=\"sdgds\"\n",
    "print(f\"the name is {{name}}\")"
   ]
  },
  {
   "cell_type": "code",
   "execution_count": 28,
   "metadata": {},
   "outputs": [
    {
     "ename": "SyntaxError",
     "evalue": "f-string: empty expression not allowed (<ipython-input-28-acfba04cb745>, line 2)",
     "output_type": "error",
     "traceback": [
      "\u001b[1;36m  File \u001b[1;32m\"<ipython-input-28-acfba04cb745>\"\u001b[1;36m, line \u001b[1;32m2\u001b[0m\n\u001b[1;33m    print(f\"the name is {{name}} {}\")\u001b[0m\n\u001b[1;37m          ^\u001b[0m\n\u001b[1;31mSyntaxError\u001b[0m\u001b[1;31m:\u001b[0m f-string: empty expression not allowed\n"
     ]
    }
   ],
   "source": [
    "name=\"sdgds\"\n",
    "print(f\"the name is {{name}} {}\")"
   ]
  },
  {
   "cell_type": "code",
   "execution_count": 29,
   "metadata": {},
   "outputs": [
    {
     "name": "stdout",
     "output_type": "stream",
     "text": [
      "the name is {name} {}\n"
     ]
    }
   ],
   "source": [
    "name=\"sdgds\"\n",
    "print(f\"the name is {{name}} {{}}\")"
   ]
  },
  {
   "cell_type": "code",
   "execution_count": 30,
   "metadata": {},
   "outputs": [
    {
     "name": "stdout",
     "output_type": "stream",
     "text": [
      "the name is Jay\n"
     ]
    }
   ],
   "source": [
    "name=\"Jay\"\n",
    "print(\"the name is %s\"%name)"
   ]
  },
  {
   "cell_type": "code",
   "execution_count": 31,
   "metadata": {},
   "outputs": [
    {
     "ename": "ValueError",
     "evalue": "unsupported format character 'n' (0x6e) at index 5",
     "output_type": "error",
     "traceback": [
      "\u001b[1;31m---------------------------------------------------------------------------\u001b[0m",
      "\u001b[1;31mValueError\u001b[0m                                Traceback (most recent call last)",
      "\u001b[1;32m<ipython-input-31-13d551248203>\u001b[0m in \u001b[0;36m<module>\u001b[1;34m\u001b[0m\n\u001b[0;32m      1\u001b[0m \u001b[0mname\u001b[0m\u001b[1;33m=\u001b[0m\u001b[1;34m\"Jay\"\u001b[0m\u001b[1;33m\u001b[0m\u001b[1;33m\u001b[0m\u001b[0m\n\u001b[1;32m----> 2\u001b[1;33m \u001b[0mprint\u001b[0m\u001b[1;33m(\u001b[0m\u001b[1;34m\"the %name is %s\"\u001b[0m\u001b[1;33m%\u001b[0m\u001b[0mname\u001b[0m\u001b[1;33m)\u001b[0m\u001b[1;33m\u001b[0m\u001b[1;33m\u001b[0m\u001b[0m\n\u001b[0m",
      "\u001b[1;31mValueError\u001b[0m: unsupported format character 'n' (0x6e) at index 5"
     ]
    }
   ],
   "source": [
    "name=\"Jay\"\n",
    "print(\"the %name is %s\"%name)"
   ]
  },
  {
   "cell_type": "code",
   "execution_count": 32,
   "metadata": {},
   "outputs": [
    {
     "name": "stdout",
     "output_type": "stream",
     "text": [
      "the %name is Jay\n"
     ]
    }
   ],
   "source": [
    "name=\"Jay\"\n",
    "print(\"the %%name is %s\"%name)"
   ]
  },
  {
   "cell_type": "code",
   "execution_count": 33,
   "metadata": {},
   "outputs": [
    {
     "ename": "ValueError",
     "evalue": "unsupported format character 'n' (0x6e) at index 6",
     "output_type": "error",
     "traceback": [
      "\u001b[1;31m---------------------------------------------------------------------------\u001b[0m",
      "\u001b[1;31mValueError\u001b[0m                                Traceback (most recent call last)",
      "\u001b[1;32m<ipython-input-33-657be54da747>\u001b[0m in \u001b[0;36m<module>\u001b[1;34m\u001b[0m\n\u001b[0;32m      1\u001b[0m \u001b[0mname\u001b[0m\u001b[1;33m=\u001b[0m\u001b[1;34m\"Jay\"\u001b[0m\u001b[1;33m\u001b[0m\u001b[1;33m\u001b[0m\u001b[0m\n\u001b[1;32m----> 2\u001b[1;33m \u001b[0mprint\u001b[0m\u001b[1;33m(\u001b[0m\u001b[1;34m\"the \\%name is %s\"\u001b[0m\u001b[1;33m%\u001b[0m\u001b[0mname\u001b[0m\u001b[1;33m)\u001b[0m\u001b[1;33m\u001b[0m\u001b[1;33m\u001b[0m\u001b[0m\n\u001b[0m",
      "\u001b[1;31mValueError\u001b[0m: unsupported format character 'n' (0x6e) at index 6"
     ]
    }
   ],
   "source": [
    "name=\"Jay\"\n",
    "print(\"the \\%name is %s\"%name)"
   ]
  },
  {
   "cell_type": "code",
   "execution_count": 35,
   "metadata": {},
   "outputs": [
    {
     "name": "stdout",
     "output_type": "stream",
     "text": [
      "jayaram,6,18.234562345\n"
     ]
    }
   ],
   "source": [
    "name=\"jayaram\"\n",
    "age=6\n",
    "weight=18.234562345\n",
    "s=\"%s,%s,%s\"%(name,age,weight)\n",
    "print(s)"
   ]
  },
  {
   "cell_type": "code",
   "execution_count": 36,
   "metadata": {},
   "outputs": [
    {
     "ename": "TypeError",
     "evalue": "not all arguments converted during string formatting",
     "output_type": "error",
     "traceback": [
      "\u001b[1;31m---------------------------------------------------------------------------\u001b[0m",
      "\u001b[1;31mTypeError\u001b[0m                                 Traceback (most recent call last)",
      "\u001b[1;32m<ipython-input-36-d8d4e1e71227>\u001b[0m in \u001b[0;36m<module>\u001b[1;34m\u001b[0m\n\u001b[0;32m      3\u001b[0m \u001b[0mweight\u001b[0m\u001b[1;33m=\u001b[0m\u001b[1;36m18.234562345\u001b[0m\u001b[1;33m\u001b[0m\u001b[1;33m\u001b[0m\u001b[0m\n\u001b[0;32m      4\u001b[0m \u001b[0mheight\u001b[0m\u001b[1;33m=\u001b[0m\u001b[1;36m5.6\u001b[0m\u001b[1;33m\u001b[0m\u001b[1;33m\u001b[0m\u001b[0m\n\u001b[1;32m----> 5\u001b[1;33m \u001b[0ms\u001b[0m\u001b[1;33m=\u001b[0m\u001b[1;34m\"%s,%s,%s\"\u001b[0m\u001b[1;33m%\u001b[0m\u001b[1;33m(\u001b[0m\u001b[0mname\u001b[0m\u001b[1;33m,\u001b[0m\u001b[0mage\u001b[0m\u001b[1;33m,\u001b[0m\u001b[0mweight\u001b[0m\u001b[1;33m,\u001b[0m\u001b[0mheight\u001b[0m\u001b[1;33m)\u001b[0m\u001b[1;33m\u001b[0m\u001b[1;33m\u001b[0m\u001b[0m\n\u001b[0m\u001b[0;32m      6\u001b[0m \u001b[0mprint\u001b[0m\u001b[1;33m(\u001b[0m\u001b[0ms\u001b[0m\u001b[1;33m)\u001b[0m\u001b[1;33m\u001b[0m\u001b[1;33m\u001b[0m\u001b[0m\n",
      "\u001b[1;31mTypeError\u001b[0m: not all arguments converted during string formatting"
     ]
    }
   ],
   "source": [
    "name=\"jayaram\"\n",
    "age=6\n",
    "weight=18.234562345\n",
    "height=5.6\n",
    "s=\"%s,%s,%s\"%(name,age,weight,height)\n",
    "print(s)"
   ]
  },
  {
   "cell_type": "code",
   "execution_count": 37,
   "metadata": {},
   "outputs": [
    {
     "name": "stdout",
     "output_type": "stream",
     "text": [
      "jayaram,6,18.234562345,5.6\n"
     ]
    }
   ],
   "source": [
    "name=\"jayaram\"\n",
    "age=6\n",
    "weight=18.234562345\n",
    "height=5.6\n",
    "s=\"%s,%s,%s,%s\"%(name,age,weight,height)\n",
    "print(s)"
   ]
  },
  {
   "cell_type": "code",
   "execution_count": 38,
   "metadata": {},
   "outputs": [
    {
     "ename": "TypeError",
     "evalue": "not enough arguments for format string",
     "output_type": "error",
     "traceback": [
      "\u001b[1;31m---------------------------------------------------------------------------\u001b[0m",
      "\u001b[1;31mTypeError\u001b[0m                                 Traceback (most recent call last)",
      "\u001b[1;32m<ipython-input-38-9f80f97977b2>\u001b[0m in \u001b[0;36m<module>\u001b[1;34m\u001b[0m\n\u001b[0;32m      3\u001b[0m \u001b[0mweight\u001b[0m\u001b[1;33m=\u001b[0m\u001b[1;36m18.234562345\u001b[0m\u001b[1;33m\u001b[0m\u001b[1;33m\u001b[0m\u001b[0m\n\u001b[0;32m      4\u001b[0m \u001b[0mheight\u001b[0m\u001b[1;33m=\u001b[0m\u001b[1;36m5.6\u001b[0m\u001b[1;33m\u001b[0m\u001b[1;33m\u001b[0m\u001b[0m\n\u001b[1;32m----> 5\u001b[1;33m \u001b[0ms\u001b[0m\u001b[1;33m=\u001b[0m\u001b[1;34m\"%s,%s,%s,%s\"\u001b[0m\u001b[1;33m%\u001b[0m\u001b[1;33m(\u001b[0m\u001b[0mname\u001b[0m\u001b[1;33m,\u001b[0m\u001b[0mage\u001b[0m\u001b[1;33m,\u001b[0m\u001b[0mweight\u001b[0m\u001b[1;33m)\u001b[0m\u001b[1;33m\u001b[0m\u001b[1;33m\u001b[0m\u001b[0m\n\u001b[0m\u001b[0;32m      6\u001b[0m \u001b[0mprint\u001b[0m\u001b[1;33m(\u001b[0m\u001b[0ms\u001b[0m\u001b[1;33m)\u001b[0m\u001b[1;33m\u001b[0m\u001b[1;33m\u001b[0m\u001b[0m\n",
      "\u001b[1;31mTypeError\u001b[0m: not enough arguments for format string"
     ]
    }
   ],
   "source": [
    "name=\"jayaram\"\n",
    "age=6\n",
    "weight=18.234562345\n",
    "height=5.6\n",
    "s=\"%s,%s,%s,%s\"%(name,age,weight)\n",
    "print(s)"
   ]
  },
  {
   "cell_type": "code",
   "execution_count": 39,
   "metadata": {},
   "outputs": [
    {
     "name": "stdout",
     "output_type": "stream",
     "text": [
      "sfsdfdf\n",
      "sdfdsfsd\n",
      "sdfdsf\tsdfdsf\n",
      "sdfdsfds\tsdfdsfs\n",
      "\n"
     ]
    }
   ],
   "source": [
    "s=\"sfsdfdf\\nsdfdsfsd\\nsdfdsf\\tsdfdsf\\nsdfdsfds\\tsdfdsfs\\n\"\n",
    "print(s)"
   ]
  },
  {
   "cell_type": "code",
   "execution_count": 40,
   "metadata": {},
   "outputs": [
    {
     "name": "stdout",
     "output_type": "stream",
     "text": [
      "sfsdfdf\\nsdfdsfsd\\nsdfdsf\\tsdfdsf\\nsdfdsfds\\tsdfdsfs\\n\n"
     ]
    }
   ],
   "source": [
    "s=\"sfsdfdf\\\\nsdfdsfsd\\\\nsdfdsf\\\\tsdfdsf\\\\nsdfdsfds\\\\tsdfdsfs\\\\n\"\n",
    "print(s)"
   ]
  },
  {
   "cell_type": "code",
   "execution_count": 41,
   "metadata": {},
   "outputs": [
    {
     "name": "stdout",
     "output_type": "stream",
     "text": [
      "sfsdfdf\\nsdfdsfsd\\nsdfdsf\\tsdfdsf\\nsdfdsfds\\tsdfdsfs\\n\n"
     ]
    }
   ],
   "source": [
    "s=r\"sfsdfdf\\nsdfdsfsd\\nsdfdsf\\tsdfdsf\\nsdfdsfds\\tsdfdsfs\\n\"\n",
    "print(s)"
   ]
  },
  {
   "cell_type": "code",
   "execution_count": 42,
   "metadata": {},
   "outputs": [
    {
     "name": "stdout",
     "output_type": "stream",
     "text": [
      "'sfsdfdf\\nsdfdsfsd\\nsdfdsf\\tsdfdsf\\nsdfdsfds\\tsdfdsfs\\n'\n"
     ]
    }
   ],
   "source": [
    "s=\"sfsdfdf\\nsdfdsfsd\\nsdfdsf\\tsdfdsf\\nsdfdsfds\\tsdfdsfs\\n\"\n",
    "print(\"%r\"%s)"
   ]
  },
  {
   "cell_type": "code",
   "execution_count": 43,
   "metadata": {},
   "outputs": [
    {
     "name": "stdout",
     "output_type": "stream",
     "text": [
      "sfsdfdf\n",
      "sdfdsfsd\n",
      "sdfdsf\tsdfdsf\n",
      "sdfdsfds\tsdfdsfs\n",
      "\n"
     ]
    }
   ],
   "source": [
    "s=\"sfsdfdf\\nsdfdsfsd\\nsdfdsf\\tsdfdsf\\nsdfdsfds\\tsdfdsfs\\n\"\n",
    "print(\"%s\"%s)"
   ]
  },
  {
   "cell_type": "code",
   "execution_count": 44,
   "metadata": {},
   "outputs": [
    {
     "name": "stdout",
     "output_type": "stream",
     "text": [
      "2322\n"
     ]
    }
   ],
   "source": [
    "print(\"%o\"%1234)"
   ]
  },
  {
   "cell_type": "code",
   "execution_count": 45,
   "metadata": {},
   "outputs": [
    {
     "name": "stdout",
     "output_type": "stream",
     "text": [
      "4d2\n"
     ]
    }
   ],
   "source": [
    "print(\"%x\"%1234)"
   ]
  },
  {
   "cell_type": "code",
   "execution_count": 46,
   "metadata": {},
   "outputs": [
    {
     "ename": "ValueError",
     "evalue": "unsupported format character 'b' (0x62) at index 1",
     "output_type": "error",
     "traceback": [
      "\u001b[1;31m---------------------------------------------------------------------------\u001b[0m",
      "\u001b[1;31mValueError\u001b[0m                                Traceback (most recent call last)",
      "\u001b[1;32m<ipython-input-46-cbadda08959d>\u001b[0m in \u001b[0;36m<module>\u001b[1;34m\u001b[0m\n\u001b[1;32m----> 1\u001b[1;33m \u001b[0mprint\u001b[0m\u001b[1;33m(\u001b[0m\u001b[1;34m\"%b\"\u001b[0m\u001b[1;33m%\u001b[0m\u001b[1;36m1234\u001b[0m\u001b[1;33m)\u001b[0m\u001b[1;33m\u001b[0m\u001b[1;33m\u001b[0m\u001b[0m\n\u001b[0m",
      "\u001b[1;31mValueError\u001b[0m: unsupported format character 'b' (0x62) at index 1"
     ]
    }
   ],
   "source": [
    "print(\"%b\"%1234)"
   ]
  },
  {
   "cell_type": "code",
   "execution_count": 47,
   "metadata": {},
   "outputs": [
    {
     "name": "stdout",
     "output_type": "stream",
     "text": [
      "1234\n"
     ]
    }
   ],
   "source": [
    "n=1234\n",
    "print(f\"{n}\")"
   ]
  },
  {
   "cell_type": "code",
   "execution_count": 48,
   "metadata": {},
   "outputs": [
    {
     "name": "stdout",
     "output_type": "stream",
     "text": [
      "4d2\n"
     ]
    }
   ],
   "source": [
    "n=1234\n",
    "print(f\"{n:x}\")"
   ]
  },
  {
   "cell_type": "code",
   "execution_count": 49,
   "metadata": {},
   "outputs": [
    {
     "name": "stdout",
     "output_type": "stream",
     "text": [
      "1234.000000\n"
     ]
    }
   ],
   "source": [
    "n=1234\n",
    "print(f\"{n:f}\")"
   ]
  },
  {
   "cell_type": "code",
   "execution_count": 50,
   "metadata": {},
   "outputs": [
    {
     "name": "stdout",
     "output_type": "stream",
     "text": [
      "1234.00\n"
     ]
    }
   ],
   "source": [
    "n=1234\n",
    "print(f\"{n:.2f}\")"
   ]
  },
  {
   "cell_type": "code",
   "execution_count": 51,
   "metadata": {},
   "outputs": [
    {
     "name": "stdout",
     "output_type": "stream",
     "text": [
      "2322\n"
     ]
    }
   ],
   "source": [
    "n=1234\n",
    "print(f\"{n:o}\")"
   ]
  },
  {
   "cell_type": "code",
   "execution_count": 52,
   "metadata": {},
   "outputs": [
    {
     "name": "stdout",
     "output_type": "stream",
     "text": [
      "10011010010\n"
     ]
    }
   ],
   "source": [
    "n=1234\n",
    "print(f\"{n:b}\")"
   ]
  },
  {
   "cell_type": "code",
   "execution_count": 53,
   "metadata": {},
   "outputs": [
    {
     "name": "stdout",
     "output_type": "stream",
     "text": [
      "0b10011010010\n"
     ]
    }
   ],
   "source": [
    "s=\"%s\"%bin(1234)\n",
    "print(s)"
   ]
  },
  {
   "cell_type": "code",
   "execution_count": null,
   "metadata": {},
   "outputs": [],
   "source": []
  }
 ],
 "metadata": {
  "kernelspec": {
   "display_name": "Python 3",
   "language": "python",
   "name": "python3"
  },
  "language_info": {
   "codemirror_mode": {
    "name": "ipython",
    "version": 3
   },
   "file_extension": ".py",
   "mimetype": "text/x-python",
   "name": "python",
   "nbconvert_exporter": "python",
   "pygments_lexer": "ipython3",
   "version": "3.8.3"
  }
 },
 "nbformat": 4,
 "nbformat_minor": 4
}
