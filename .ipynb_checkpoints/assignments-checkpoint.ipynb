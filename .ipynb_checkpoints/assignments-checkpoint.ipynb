{
 "cells": [
  {
   "cell_type": "code",
   "execution_count": null,
   "metadata": {},
   "outputs": [],
   "source": [
    "\"\"\"\n",
    "1.\tTake the input from the user for(Total number of people,Number of seats for bus. Based on two inputs\n",
    "Decide how many number of buses required\n",
    "\"\"\"\n"
   ]
  },
  {
   "cell_type": "code",
   "execution_count": 1,
   "metadata": {},
   "outputs": [
    {
     "name": "stdout",
     "output_type": "stream",
     "text": [
      "a\n"
     ]
    }
   ],
   "source": [
    "\"\"\"\n",
    "WAP to replace last n occurrence of give string.\n",
    "For example:”apple,orange,apple,grape,orange,apple,apple,orange”\n",
    "source: “apple”\n",
    "last occurrences: 2\n",
    "replace with: APPLE\n",
    "output:”apple,orange,apple,grape,orange,APPLE,APPLE,orange”\n",
    "\"\"\"\n",
    "s=\"apple,orange,apple,grape,orange,apple,apple,orange\"\n",
    "for i in s:\n",
    "    print(i)\n",
    "    break"
   ]
  },
  {
   "cell_type": "code",
   "execution_count": 2,
   "metadata": {},
   "outputs": [
    {
     "name": "stdout",
     "output_type": "stream",
     "text": [
      "apple\n",
      "orange\n",
      "grape\n"
     ]
    }
   ],
   "source": [
    "l=[\"apple\",\"orange\",\"grape\"]\n",
    "for i in l:\n",
    "    print(i)"
   ]
  },
  {
   "cell_type": "code",
   "execution_count": 3,
   "metadata": {},
   "outputs": [
    {
     "data": {
      "text/plain": [
       "['apple', 'orange', 'apple', 'grape', 'orange', 'apple', 'apple', 'orange']"
      ]
     },
     "execution_count": 3,
     "metadata": {},
     "output_type": "execute_result"
    }
   ],
   "source": [
    "s=\"apple,orange,apple,grape,orange,apple,apple,orange\"\n",
    "s.split(\",\")"
   ]
  },
  {
   "cell_type": "code",
   "execution_count": 4,
   "metadata": {},
   "outputs": [
    {
     "name": "stdout",
     "output_type": "stream",
     "text": [
      "['apple']\n"
     ]
    }
   ],
   "source": [
    "l=[]\n",
    "l=l+[\"apple\"]\n",
    "print(l)"
   ]
  },
  {
   "cell_type": "code",
   "execution_count": 7,
   "metadata": {},
   "outputs": [
    {
     "name": "stdout",
     "output_type": "stream",
     "text": [
      "['apple']\n",
      "['apple', 'grape']\n"
     ]
    }
   ],
   "source": [
    "l=[]\n",
    "l=l+[\"apple\"]\n",
    "print(l)\n",
    "l=l+[\"grape\"]\n",
    "print(l)"
   ]
  },
  {
   "cell_type": "code",
   "execution_count": 8,
   "metadata": {},
   "outputs": [
    {
     "ename": "TypeError",
     "evalue": "can only concatenate list (not \"str\") to list",
     "output_type": "error",
     "traceback": [
      "\u001b[1;31m---------------------------------------------------------------------------\u001b[0m",
      "\u001b[1;31mTypeError\u001b[0m                                 Traceback (most recent call last)",
      "\u001b[1;32m<ipython-input-8-91104d845ecf>\u001b[0m in \u001b[0;36m<module>\u001b[1;34m\u001b[0m\n\u001b[1;32m----> 1\u001b[1;33m \u001b[0ml\u001b[0m\u001b[1;33m+\u001b[0m\u001b[1;34m\"orange\"\u001b[0m\u001b[1;33m\u001b[0m\u001b[1;33m\u001b[0m\u001b[0m\n\u001b[0m",
      "\u001b[1;31mTypeError\u001b[0m: can only concatenate list (not \"str\") to list"
     ]
    }
   ],
   "source": [
    "l+\"orange\""
   ]
  },
  {
   "cell_type": "code",
   "execution_count": 9,
   "metadata": {},
   "outputs": [
    {
     "data": {
      "text/plain": [
       "['apple', 'grape', 'orange']"
      ]
     },
     "execution_count": 9,
     "metadata": {},
     "output_type": "execute_result"
    }
   ],
   "source": [
    "l+[\"orange\"]"
   ]
  },
  {
   "cell_type": "code",
   "execution_count": 10,
   "metadata": {},
   "outputs": [
    {
     "name": "stdout",
     "output_type": "stream",
     "text": [
      "apple\n",
      "orange\n",
      "apple\n",
      "grape\n",
      "orange\n",
      "apple\n",
      "apple\n"
     ]
    }
   ],
   "source": [
    "s=\"apple,orange,apple,grape,orange,apple,apple,orange\"\n",
    "s_l=[]\n",
    "sub=\"\"\n",
    "for i in s:#i=,\n",
    "    if i==\",\":\n",
    "        print(sub)\n",
    "        sub=\"\"\n",
    "    else:\n",
    "        sub=sub+i#appple"
   ]
  },
  {
   "cell_type": "code",
   "execution_count": 11,
   "metadata": {},
   "outputs": [
    {
     "name": "stdout",
     "output_type": "stream",
     "text": [
      "['apple', 'orange', 'apple', 'grape', 'orange', 'apple', 'apple']\n"
     ]
    }
   ],
   "source": [
    "s=\"apple,orange,apple,grape,orange,apple,apple,orange\"\n",
    "s_l=[]\n",
    "sub=\"\"\n",
    "for i in s:#i=,\n",
    "    if i==\",\":\n",
    "        s_l=s_l+[sub]\n",
    "        sub=\"\"\n",
    "    else:\n",
    "        sub=sub+i\n",
    "print(s_l)"
   ]
  },
  {
   "cell_type": "code",
   "execution_count": 12,
   "metadata": {},
   "outputs": [
    {
     "name": "stdout",
     "output_type": "stream",
     "text": [
      "['APPLE', 'orange', 'APPLE', 'grape', 'orange', 'APPLE', 'APPLE']\n"
     ]
    }
   ],
   "source": [
    "s=\"apple,orange,apple,grape,orange,apple,apple,orange\"\n",
    "fruits=[]\n",
    "sub=\"\"\n",
    "for i in s:#i=,\n",
    "    if i==\",\":\n",
    "        fruits=fruits+[sub]\n",
    "        sub=\"\"\n",
    "    else:\n",
    "        sub=sub+i\n",
    "res=[]\n",
    "for fruit in fruits:\n",
    "    if fruit==\"apple\":\n",
    "        res=res+[\"APPLE\"]\n",
    "    else:\n",
    "        res=res+[fruit]\n",
    "print(res)"
   ]
  },
  {
   "cell_type": "code",
   "execution_count": 14,
   "metadata": {},
   "outputs": [
    {
     "name": "stdout",
     "output_type": "stream",
     "text": [
      "['APPLE', 'orange', 'APPLE', 'grape', 'orange', 'apple', 'apple']\n"
     ]
    }
   ],
   "source": [
    "s=\"apple,orange,apple,grape,orange,apple,apple,orange\"\n",
    "number_replacements=2\n",
    "fruits=[]\n",
    "sub=\"\"\n",
    "for i in s:\n",
    "    if i==\",\":\n",
    "        fruits=fruits+[sub]\n",
    "        sub=\"\"\n",
    "    else:\n",
    "        sub=sub+i\n",
    "res=[]\n",
    "c=0\n",
    "for fruit in fruits:\n",
    "    if fruit==\"apple\" and c<number_replacements:\n",
    "        res=res+[\"APPLE\"]\n",
    "        c=c+1\n",
    "    else:\n",
    "        res=res+[fruit]\n",
    "print(res)"
   ]
  },
  {
   "cell_type": "code",
   "execution_count": 15,
   "metadata": {},
   "outputs": [
    {
     "name": "stdout",
     "output_type": "stream",
     "text": [
      "['APPLE', 'orange', 'apple', 'grape', 'orange', 'apple', 'apple']\n"
     ]
    }
   ],
   "source": [
    "s=\"apple,orange,apple,grape,orange,apple,apple,orange\"\n",
    "number_replacements=1\n",
    "fruits=[]\n",
    "sub=\"\"\n",
    "for i in s:\n",
    "    if i==\",\":\n",
    "        fruits=fruits+[sub]\n",
    "        sub=\"\"\n",
    "    else:\n",
    "        sub=sub+i\n",
    "res=[]\n",
    "c=0\n",
    "for fruit in fruits:\n",
    "    if fruit==\"apple\" and c<number_replacements:\n",
    "        res=res+[\"APPLE\"]\n",
    "        c=c+1\n",
    "    else:\n",
    "        res=res+[fruit]\n",
    "print(res)"
   ]
  },
  {
   "cell_type": "code",
   "execution_count": 16,
   "metadata": {},
   "outputs": [
    {
     "name": "stdout",
     "output_type": "stream",
     "text": [
      "['APPLE', 'orange', 'APPLE', 'grape', 'orange', 'APPLE', 'apple']\n"
     ]
    }
   ],
   "source": [
    "s=\"apple,orange,apple,grape,orange,apple,apple,orange\"\n",
    "number_replacements=3\n",
    "fruits=[]\n",
    "sub=\"\"\n",
    "for i in s:\n",
    "    if i==\",\":\n",
    "        fruits=fruits+[sub]\n",
    "        sub=\"\"\n",
    "    else:\n",
    "        sub=sub+i\n",
    "res=[]\n",
    "c=0\n",
    "for fruit in fruits:\n",
    "    if fruit==\"apple\" and c<number_replacements:\n",
    "        res=res+[\"APPLE\"]\n",
    "        c=c+1\n",
    "    else:\n",
    "        res=res+[fruit]\n",
    "print(res)"
   ]
  },
  {
   "cell_type": "code",
   "execution_count": 17,
   "metadata": {},
   "outputs": [
    {
     "name": "stdout",
     "output_type": "stream",
     "text": [
      "['APPLE', 'APPLE', 'orange', 'grape', 'apple', 'orange', 'apple']\n"
     ]
    }
   ],
   "source": [
    "s=\"apple,orange,apple,grape,orange,apple,apple,orange\"\n",
    "number_replacements=2\n",
    "fruits=[]\n",
    "sub=\"\"\n",
    "for i in s:\n",
    "    if i==\",\":\n",
    "        fruits=fruits+[sub]\n",
    "        sub=\"\"\n",
    "    else:\n",
    "        sub=sub+i\n",
    "res=[]\n",
    "c=0\n",
    "\n",
    "for fruit in fruits[::-1]:\n",
    "    if fruit==\"apple\" and c<number_replacements:\n",
    "        res=res+[\"APPLE\"]\n",
    "        c=c+1\n",
    "    else:\n",
    "        res=res+[fruit]\n",
    "print(res)"
   ]
  },
  {
   "cell_type": "code",
   "execution_count": 18,
   "metadata": {},
   "outputs": [
    {
     "name": "stdout",
     "output_type": "stream",
     "text": [
      "['apple', 'orange', 'apple', 'grape', 'orange', 'APPLE', 'APPLE']\n"
     ]
    }
   ],
   "source": [
    "s=\"apple,orange,apple,grape,orange,apple,apple,orange\"\n",
    "number_replacements=2\n",
    "fruits=[]\n",
    "sub=\"\"\n",
    "for i in s:\n",
    "    if i==\",\":\n",
    "        fruits=fruits+[sub]\n",
    "        sub=\"\"\n",
    "    else:\n",
    "        sub=sub+i\n",
    "res=[]\n",
    "c=0\n",
    "\n",
    "for fruit in fruits[::-1]:\n",
    "    if fruit==\"apple\" and c<number_replacements:\n",
    "        res=res+[\"APPLE\"]\n",
    "        c=c+1\n",
    "    else:\n",
    "        res=res+[fruit]\n",
    "print(res[::-1])"
   ]
  },
  {
   "cell_type": "code",
   "execution_count": 19,
   "metadata": {},
   "outputs": [
    {
     "data": {
      "text/plain": [
       "'apple,orange,apple,grape,orange,APPLE,APPLE,orange'"
      ]
     },
     "execution_count": 19,
     "metadata": {},
     "output_type": "execute_result"
    }
   ],
   "source": [
    "s=\"apple,orange,apple,grape,orange,apple,apple,orange\"\n",
    "\"APPLE\".join(s.rsplit(\"apple\",2))"
   ]
  },
  {
   "cell_type": "code",
   "execution_count": 20,
   "metadata": {},
   "outputs": [
    {
     "name": "stdout",
     "output_type": "stream",
     "text": [
      "['apple', 'orange', 'apple', 'grape', 'orange', 'APPLE', 'APPLE', 'orange']\n"
     ]
    }
   ],
   "source": [
    "s=\"apple,orange,apple,grape,orange,apple,apple,orange\"\n",
    "number_replacements=2\n",
    "fruits=[]\n",
    "sub=\"\"\n",
    "for i in s:\n",
    "    if i==\",\":\n",
    "        fruits=fruits+[sub]\n",
    "        sub=\"\"\n",
    "    else:\n",
    "        sub=sub+i\n",
    "fruits = fruits+[sub]\n",
    "res=[]\n",
    "c=0\n",
    "\n",
    "for fruit in fruits[::-1]:\n",
    "    if fruit==\"apple\" and c<number_replacements:\n",
    "        res=res+[\"APPLE\"]\n",
    "        c=c+1\n",
    "    else:\n",
    "        res=res+[fruit]\n",
    "\n",
    "print(res[::-1])"
   ]
  },
  {
   "cell_type": "code",
   "execution_count": 21,
   "metadata": {},
   "outputs": [
    {
     "data": {
      "text/plain": [
       "8546"
      ]
     },
     "execution_count": 21,
     "metadata": {},
     "output_type": "execute_result"
    }
   ],
   "source": [
    "#43: random.randiint(1,10000)\n",
    "import random\n",
    "random.randint(1,10000)"
   ]
  },
  {
   "cell_type": "code",
   "execution_count": 22,
   "metadata": {},
   "outputs": [
    {
     "data": {
      "text/plain": [
       "2166"
      ]
     },
     "execution_count": 22,
     "metadata": {},
     "output_type": "execute_result"
    }
   ],
   "source": [
    "random.randint(1,10000)"
   ]
  },
  {
   "cell_type": "code",
   "execution_count": 23,
   "metadata": {},
   "outputs": [
    {
     "data": {
      "text/plain": [
       "2852"
      ]
     },
     "execution_count": 23,
     "metadata": {},
     "output_type": "execute_result"
    }
   ],
   "source": [
    "random.randint(1,10000)"
   ]
  },
  {
   "cell_type": "code",
   "execution_count": 24,
   "metadata": {},
   "outputs": [
    {
     "data": {
      "text/plain": [
       "7354"
      ]
     },
     "execution_count": 24,
     "metadata": {},
     "output_type": "execute_result"
    }
   ],
   "source": [
    "random.randint(1,10000)"
   ]
  },
  {
   "cell_type": "code",
   "execution_count": 25,
   "metadata": {},
   "outputs": [
    {
     "data": {
      "text/plain": [
       "9085"
      ]
     },
     "execution_count": 25,
     "metadata": {},
     "output_type": "execute_result"
    }
   ],
   "source": [
    "random.randint(1,10000)"
   ]
  },
  {
   "cell_type": "code",
   "execution_count": 26,
   "metadata": {},
   "outputs": [
    {
     "data": {
      "text/plain": [
       "2782"
      ]
     },
     "execution_count": 26,
     "metadata": {},
     "output_type": "execute_result"
    }
   ],
   "source": [
    "random.randint(1,10000)"
   ]
  },
  {
   "cell_type": "code",
   "execution_count": 27,
   "metadata": {},
   "outputs": [
    {
     "data": {
      "text/plain": [
       "4665"
      ]
     },
     "execution_count": 27,
     "metadata": {},
     "output_type": "execute_result"
    }
   ],
   "source": [
    "random.randint(1,10000)"
   ]
  },
  {
   "cell_type": "code",
   "execution_count": 28,
   "metadata": {},
   "outputs": [
    {
     "data": {
      "text/plain": [
       "30"
      ]
     },
     "execution_count": 28,
     "metadata": {},
     "output_type": "execute_result"
    }
   ],
   "source": [
    "random.randint(1,100)"
   ]
  },
  {
   "cell_type": "code",
   "execution_count": 29,
   "metadata": {},
   "outputs": [
    {
     "name": "stdout",
     "output_type": "stream",
     "text": [
      "0\n",
      "1\n",
      "2\n",
      "3\n",
      "4\n"
     ]
    }
   ],
   "source": [
    "number_to_decide = random.randint(1,100)\n",
    "# 5 times\n",
    "for i in range(5):\n",
    "    print(i)"
   ]
  },
  {
   "cell_type": "code",
   "execution_count": 30,
   "metadata": {},
   "outputs": [
    {
     "name": "stdout",
     "output_type": "stream",
     "text": [
      "enter number(attempt:1):23\n",
      "HIGHER\n",
      "enter number(attempt:2):34\n",
      "LOWER\n",
      "enter number(attempt:3):25\n",
      "HIGHER\n",
      "enter number(attempt:4):29\n",
      "LOWER\n",
      "enter number(attempt:5):27\n",
      "YOU WON at attempt 5\n"
     ]
    }
   ],
   "source": [
    "number_to_decide = random.randint(1,100)\n",
    "# 5 times\n",
    "for i in range(1,6):\n",
    "    guessed_number = int(input(\"enter number(attempt:%s):\"%i))\n",
    "    if guessed_number<number_to_decide:\n",
    "        print(\"HIGHER\")\n",
    "    elif guessed_number>number_to_decide:\n",
    "        print(\"LOWER\")\n",
    "    else:\n",
    "        print(\"YOU WON at attempt %s\"%i)\n",
    "        "
   ]
  },
  {
   "cell_type": "code",
   "execution_count": 31,
   "metadata": {},
   "outputs": [
    {
     "name": "stdout",
     "output_type": "stream",
     "text": [
      "4\n"
     ]
    }
   ],
   "source": [
    "s=\"10\"\n",
    "required_zeros=6-len(s)\n",
    "print(required_zeros)"
   ]
  },
  {
   "cell_type": "code",
   "execution_count": 32,
   "metadata": {},
   "outputs": [
    {
     "data": {
      "text/plain": [
       "'0000'"
      ]
     },
     "execution_count": 32,
     "metadata": {},
     "output_type": "execute_result"
    }
   ],
   "source": [
    "\"0\"*4"
   ]
  },
  {
   "cell_type": "code",
   "execution_count": 33,
   "metadata": {},
   "outputs": [
    {
     "data": {
      "text/plain": [
       "0"
      ]
     },
     "execution_count": 33,
     "metadata": {},
     "output_type": "execute_result"
    }
   ],
   "source": [
    "0*4"
   ]
  },
  {
   "cell_type": "code",
   "execution_count": 34,
   "metadata": {},
   "outputs": [
    {
     "data": {
      "text/plain": [
       "'88888'"
      ]
     },
     "execution_count": 34,
     "metadata": {},
     "output_type": "execute_result"
    }
   ],
   "source": [
    "\"8\"*5"
   ]
  },
  {
   "cell_type": "code",
   "execution_count": 35,
   "metadata": {},
   "outputs": [
    {
     "ename": "TypeError",
     "evalue": "can only concatenate str (not \"int\") to str",
     "output_type": "error",
     "traceback": [
      "\u001b[1;31m---------------------------------------------------------------------------\u001b[0m",
      "\u001b[1;31mTypeError\u001b[0m                                 Traceback (most recent call last)",
      "\u001b[1;32m<ipython-input-35-54a100de5120>\u001b[0m in \u001b[0;36m<module>\u001b[1;34m\u001b[0m\n\u001b[1;32m----> 1\u001b[1;33m \u001b[1;34m\"9\"\u001b[0m\u001b[1;33m+\u001b[0m\u001b[1;36m5\u001b[0m\u001b[1;33m\u001b[0m\u001b[1;33m\u001b[0m\u001b[0m\n\u001b[0m",
      "\u001b[1;31mTypeError\u001b[0m: can only concatenate str (not \"int\") to str"
     ]
    }
   ],
   "source": [
    "\"9\"+5"
   ]
  },
  {
   "cell_type": "code",
   "execution_count": 36,
   "metadata": {},
   "outputs": [
    {
     "data": {
      "text/plain": [
       "'000010'"
      ]
     },
     "execution_count": 36,
     "metadata": {},
     "output_type": "execute_result"
    }
   ],
   "source": [
    "\"0\"*4+s"
   ]
  },
  {
   "cell_type": "code",
   "execution_count": 39,
   "metadata": {},
   "outputs": [
    {
     "name": "stdout",
     "output_type": "stream",
     "text": [
      "emp1\n",
      "emp2\n",
      "emp3\n"
     ]
    }
   ],
   "source": [
    "names=\"emp1,emp2,emp3,emp4\" \n",
    "sub=\"\"\n",
    "for i in names:\n",
    "    if i==\",\":\n",
    "        print(sub)\n",
    "        sub=\"\"\n",
    "    else:\n",
    "        sub=sub+i"
   ]
  },
  {
   "cell_type": "code",
   "execution_count": null,
   "metadata": {},
   "outputs": [],
   "source": []
  }
 ],
 "metadata": {
  "kernelspec": {
   "display_name": "Python 3",
   "language": "python",
   "name": "python3"
  },
  "language_info": {
   "codemirror_mode": {
    "name": "ipython",
    "version": 3
   },
   "file_extension": ".py",
   "mimetype": "text/x-python",
   "name": "python",
   "nbconvert_exporter": "python",
   "pygments_lexer": "ipython3",
   "version": "3.8.3"
  }
 },
 "nbformat": 4,
 "nbformat_minor": 4
}
