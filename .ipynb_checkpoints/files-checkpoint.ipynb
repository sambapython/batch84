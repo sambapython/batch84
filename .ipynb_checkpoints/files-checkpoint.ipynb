{
 "cells": [
  {
   "cell_type": "code",
   "execution_count": 1,
   "metadata": {},
   "outputs": [
    {
     "name": "stdout",
     "output_type": "stream",
     "text": [
      "In 2021 and early 2022, there was a major Russian military build-up around Ukraine's borders. NATO accused Russia of planning an invasion, which it denied. Russian President Vladimir Putin criticized the enlargement of NATO as a threat to his country and demanded Ukraine be barred from ever joining the military alliance. He also expressed Russian irredentist views, questioned Ukraine's right to exist, and stated wrongfully that Ukraine was created by Soviet Russia. On 21 February 2022, Russia officially recognised the two self-proclaimed separatist states in the Donbas, and openly sent troops into the territories. Three days later, Russia invaded Ukraine. Much of the international community has condemned Russia for its actions in post-revolutionary Ukraine, accusing it of breaking international law and violating Ukrainian sovereignty. Many countries\n"
     ]
    }
   ],
   "source": [
    "f=open(\"data.txt\")# default mode read\n",
    "data = f.read()\n",
    "print(data)"
   ]
  },
  {
   "cell_type": "code",
   "execution_count": 2,
   "metadata": {},
   "outputs": [
    {
     "name": "stdout",
     "output_type": "stream",
     "text": [
      "In 2021 and early 2022, there was a major Russian military build-up around Ukraine's borders. NATO a\n",
      "ccused Russia of planning an invasion, which it denied. Russian President Vladimir Putin criticized \n",
      "the enlargement of NATO as a threat to his country and demanded Ukraine be barred from ever joining \n"
     ]
    }
   ],
   "source": [
    "f=open(\"data.txt\")# default mode read\n",
    "data1 = f.read(100)\n",
    "print(data1)\n",
    "data2=f.read(100)\n",
    "print(data2)\n",
    "data3=f.read(100)\n",
    "print(data3)"
   ]
  },
  {
   "cell_type": "code",
   "execution_count": 4,
   "metadata": {},
   "outputs": [
    {
     "name": "stdout",
     "output_type": "stream",
     "text": [
      "In 2021 and early 2022, there was a major Russian military build-up around Ukraine's borders. NATO a\n",
      "ccused Russia of planning an invasion, which it denied. Russian President Vladimir Putin criticized \n",
      "the enlargement of NATO as a threat to his country and demanded Ukraine be barred from ever joining \n",
      "the military alliance. He also expressed Russian irredentist views, questioned Ukraine's right to ex\n",
      "ist, and stated wrongfully that Ukraine was created by Soviet Russia. On 21 February 2022, Russia of\n",
      "ficially recognised the two self-proclaimed separatist states in the Donbas, and openly sent troops \n",
      "into the territories. Three days later, Russia invaded Ukraine. Much of the international community \n",
      "********************\n",
      "has condemned Russia for its actions in post-revolutionary Ukraine, accusing it of breaking internat\n",
      "ional law and violating Ukrainian sovereignty. Many countries\n"
     ]
    }
   ],
   "source": [
    "f=open(\"data.txt\")# default mode read\n",
    "data1 = f.read(100)\n",
    "print(data1)\n",
    "data2=f.read(100)\n",
    "print(data2)\n",
    "data3=f.read(100)\n",
    "print(data3)\n",
    "data1 = f.read(100)\n",
    "print(data1)\n",
    "data2=f.read(100)\n",
    "print(data2)\n",
    "data3=f.read(100)\n",
    "print(data3)\n",
    "data1 = f.read(100)\n",
    "print(data1)\n",
    "data2=f.read(100)\n",
    "print(\"*\"*20)\n",
    "print(data2)\n",
    "data3=f.read(100)\n",
    "print(data3)"
   ]
  },
  {
   "cell_type": "code",
   "execution_count": 5,
   "metadata": {},
   "outputs": [
    {
     "name": "stdout",
     "output_type": "stream",
     "text": [
      "In 2021 and early 2022, there was a major Russian military build-up around Ukraine's borders. NATO a\n",
      "ccused Russia of planning an invasion, which it denied. Russian President Vladimir Putin criticized \n",
      "the enlargement of NATO as a threat to his country and demanded Ukraine be barred from ever joining \n",
      "the military alliance. He also expressed Russian irredentist views, questioned Ukraine's right to ex\n",
      "ist, and stated wrongfully that Ukraine was created by Soviet Russia. On 21 February 2022, Russia of\n",
      "ficially recognised the two self-proclaimed separatist states in the Donbas, and openly sent troops \n",
      "into the territories. Three days later, Russia invaded Ukraine. Much of the international community \n",
      "********************\n",
      "has condemned Russia for its actions in post-revolutionary Ukraine, accusing it of breaking internat\n",
      "ional law and violating Ukrainian sovereignty. Many countries\n",
      "********************\n",
      "\n",
      "\n"
     ]
    }
   ],
   "source": [
    "f=open(\"data.txt\")# default mode read\n",
    "data1 = f.read(100)\n",
    "print(data1)\n",
    "data2=f.read(100)\n",
    "print(data2)\n",
    "data3=f.read(100)\n",
    "print(data3)\n",
    "data1 = f.read(100)\n",
    "print(data1)\n",
    "data2=f.read(100)\n",
    "print(data2)\n",
    "data3=f.read(100)\n",
    "print(data3)\n",
    "data1 = f.read(100)\n",
    "print(data1)\n",
    "data2=f.read(100)\n",
    "print(\"*\"*20)\n",
    "print(data2)\n",
    "data3=f.read(100)\n",
    "print(data3)\n",
    "data2=f.read(100)\n",
    "print(\"*\"*20)\n",
    "print(data2)\n",
    "data3=f.read(100)\n",
    "print(data3)"
   ]
  },
  {
   "cell_type": "code",
   "execution_count": 6,
   "metadata": {},
   "outputs": [
    {
     "name": "stdout",
     "output_type": "stream",
     "text": [
      "0\n"
     ]
    }
   ],
   "source": [
    "f=open(\"data.txt\")\n",
    "print(f.tell())"
   ]
  },
  {
   "cell_type": "code",
   "execution_count": 7,
   "metadata": {},
   "outputs": [
    {
     "name": "stdout",
     "output_type": "stream",
     "text": [
      "0\n",
      "861\n"
     ]
    }
   ],
   "source": [
    "f=open(\"data.txt\")\n",
    "print(f.tell())\n",
    "data=f.read()\n",
    "print(f.tell())"
   ]
  },
  {
   "cell_type": "code",
   "execution_count": 8,
   "metadata": {},
   "outputs": [
    {
     "name": "stdout",
     "output_type": "stream",
     "text": [
      "\n"
     ]
    }
   ],
   "source": [
    "data2=f.read()\n",
    "print(data2)"
   ]
  },
  {
   "cell_type": "code",
   "execution_count": 9,
   "metadata": {},
   "outputs": [
    {
     "name": "stdout",
     "output_type": "stream",
     "text": [
      "0\n",
      "861\n",
      "0\n"
     ]
    }
   ],
   "source": [
    "f=open(\"data.txt\")\n",
    "print(f.tell())\n",
    "data=f.read()\n",
    "print(f.tell())\n",
    "f.close()\n",
    "f=open(\"data.txt\")\n",
    "print(f.tell())"
   ]
  },
  {
   "cell_type": "code",
   "execution_count": 10,
   "metadata": {},
   "outputs": [
    {
     "name": "stdout",
     "output_type": "stream",
     "text": [
      "0\n",
      "861\n",
      "0\n"
     ]
    }
   ],
   "source": [
    "f=open(\"data.txt\")\n",
    "print(f.tell())\n",
    "data=f.read()\n",
    "print(f.tell())\n",
    "f.seek(0)\n",
    "print(f.tell())"
   ]
  },
  {
   "cell_type": "code",
   "execution_count": 11,
   "metadata": {},
   "outputs": [
    {
     "name": "stdout",
     "output_type": "stream",
     "text": [
      "0\n",
      "861\n",
      "0\n",
      "In 2021 an\n"
     ]
    }
   ],
   "source": [
    "f=open(\"data.txt\")\n",
    "print(f.tell())\n",
    "data=f.read()\n",
    "print(f.tell())\n",
    "f.seek(0)\n",
    "print(f.tell())\n",
    "data1=f.read(10)\n",
    "print(data1)"
   ]
  },
  {
   "cell_type": "code",
   "execution_count": 13,
   "metadata": {},
   "outputs": [
    {
     "name": "stdout",
     "output_type": "stream",
     "text": [
      "[\"In 2021 and early 2022, there was a major Russian military build-up around Ukraine's borders.\\n\", ' NATO accused Russia of planning an invasion, which it denied. \\n', ' Russian President Vladimir Putin criticized the enlargement of NATO as a threat to his country and demanded Ukraine be barred from ever joining the military alliance. \\n', \" He also expressed Russian irredentist views, questioned Ukraine's right to exist, and stated wrongfully that Ukraine was created by Soviet Russia. \\n\", ' On 21 February 2022, Russia officially recognised the two self-proclaimed separatist states in the Donbas, and openly sent troops into the territories. \\n', ' Three days later, Russia invaded Ukraine. \\n', ' Much of the international community has condemned Russia for its actions in post-revolutionary Ukraine, accusing it of breaking international law and violating Ukrainian sovereignty. Many countries']\n"
     ]
    }
   ],
   "source": [
    "f=open(\"data.txt\")\n",
    "l=f.readlines()\n",
    "print(l)"
   ]
  },
  {
   "cell_type": "code",
   "execution_count": 14,
   "metadata": {},
   "outputs": [
    {
     "name": "stdout",
     "output_type": "stream",
     "text": [
      "In 2021 and early 2022, there was a major Russian military build-up around Ukraine's borders.\n",
      "\n"
     ]
    }
   ],
   "source": [
    "f=open(\"data.txt\")\n",
    "l=f.readline()\n",
    "print(l)"
   ]
  },
  {
   "cell_type": "code",
   "execution_count": 15,
   "metadata": {},
   "outputs": [
    {
     "name": "stdout",
     "output_type": "stream",
     "text": [
      "In 2021 and early 2022, there was a major Russian military build-up around Ukraine's borders.\n",
      "\n",
      " NATO accused Russia of planning an invasion, which it denied. \n",
      "\n"
     ]
    }
   ],
   "source": [
    "f=open(\"data.txt\")\n",
    "l=f.readline()\n",
    "print(l)\n",
    "l=f.readline()\n",
    "print(l)"
   ]
  },
  {
   "cell_type": "code",
   "execution_count": 16,
   "metadata": {},
   "outputs": [
    {
     "name": "stdout",
     "output_type": "stream",
     "text": [
      "In 2021 and early 2022, there was a major Russian military build-up around Ukraine's borders.\n",
      "\n",
      " NATO accused Russia of planning an invasion, which it denied. \n",
      "\n",
      " Russian President Vladimir Putin criticized the enlargement of NATO as a threat to his country and demanded Ukraine be barred from ever joining the military alliance. \n",
      "\n",
      " He also expressed Russian irredentist views, questioned Ukraine's right to exist, and stated wrongfully that Ukraine was created by Soviet Russia. \n",
      "\n",
      " On 21 February 2022, Russia officially recognised the two self-proclaimed separatist states in the Donbas, and openly sent troops into the territories. \n",
      "\n",
      " Three days later, Russia invaded Ukraine. \n",
      "\n",
      " Much of the international community has condemned Russia for its actions in post-revolutionary Ukraine, accusing it of breaking international law and violating Ukrainian sovereignty. Many countries\n",
      "\n"
     ]
    }
   ],
   "source": [
    "f=open(\"data.txt\")\n",
    "l=f.readline()\n",
    "print(l)\n",
    "l=f.readline()\n",
    "print(l)\n",
    "l=f.readline()\n",
    "print(l)\n",
    "l=f.readline()\n",
    "print(l)\n",
    "l=f.readline()\n",
    "print(l)\n",
    "l=f.readline()\n",
    "print(l)\n",
    "l=f.readline()\n",
    "print(l)\n",
    "l=f.readline()\n",
    "print(l)"
   ]
  },
  {
   "cell_type": "code",
   "execution_count": 17,
   "metadata": {},
   "outputs": [
    {
     "name": "stdout",
     "output_type": "stream",
     "text": [
      "In 2021 and early 2022, there was a major Russian military build-up around Ukraine's borders.\n",
      "\n",
      " NATO accused Russia of planning an invasion, which it denied. \n",
      "\n",
      " Russian President Vladimir Putin criticized the enlargement of NATO as a threat to his country and demanded Ukraine be barred from ever joining the military alliance. \n",
      "\n",
      " He also expressed Russian irredentist views, questioned Ukraine's right to exist, and stated wrongfully that Ukraine was created by Soviet Russia. \n",
      "\n",
      " On 21 February 2022, Russia officially recognised the two self-proclaimed separatist states in the Donbas, and openly sent troops into the territories. \n",
      "\n",
      " Three days later, Russia invaded Ukraine. \n",
      "\n",
      " Much of the international community has condemned Russia for its actions in post-revolutionary Ukraine, accusing it of breaking international law and violating Ukrainian sovereignty. Many countries\n",
      "DONE\n"
     ]
    }
   ],
   "source": [
    "f=open(\"data.txt\")\n",
    "while True:\n",
    "    l=f.readline()\n",
    "    if not l:\n",
    "        break\n",
    "    print(l)\n",
    "print(\"DONE\")"
   ]
  },
  {
   "cell_type": "code",
   "execution_count": 19,
   "metadata": {},
   "outputs": [
    {
     "name": "stdout",
     "output_type": "stream",
     "text": [
      "In 2021 and early 2022, there was a major Russian military build-up around Ukraine's borders.\n",
      "\n",
      " NATO accused Russia of planning an invasion, which it denied. \n",
      "\n",
      " Russian President Vladimir Putin criticized the enlargement of NATO as a threat to his country and demanded Ukraine be barred from ever joining the military alliance. \n",
      "\n",
      " He also expressed Russian irredentist views, questioned Ukraine's right to exist, and stated wrongfully that Ukraine was created by Soviet Russia. \n",
      "\n",
      " On 21 February 2022, Russia officially recognised the two self-proclaimed separatist states in the Donbas, and openly sent troops into the territories. \n",
      "\n",
      " Three days later, Russia invaded Ukraine. \n",
      "\n",
      " Much of the international community has condemned Russia for its actions in post-revolutionary Ukraine, accusing it of breaking international law and violating Ukrainian sovereignty. Many countries\n",
      "DONE\n"
     ]
    }
   ],
   "source": [
    "f=open(\"data.txt\")\n",
    "for line in f:\n",
    "    print(line)\n",
    "print(\"DONE\")"
   ]
  },
  {
   "cell_type": "code",
   "execution_count": 20,
   "metadata": {},
   "outputs": [
    {
     "data": {
      "text/plain": [
       "93"
      ]
     },
     "execution_count": 20,
     "metadata": {},
     "output_type": "execute_result"
    }
   ],
   "source": [
    "data= \"In 2021 and early 2022, there was a major Russian military build-up around Ukraine's borders.\"\n",
    "f=open(\"data1.txt\",\"w\")# data1.txt file not available, then it will create it.\n",
    "f.write(data)# it will writes a in memory cache"
   ]
  },
  {
   "cell_type": "code",
   "execution_count": 21,
   "metadata": {},
   "outputs": [],
   "source": [
    "f.flush()# it will flush data from cache to actual file."
   ]
  },
  {
   "cell_type": "code",
   "execution_count": 22,
   "metadata": {},
   "outputs": [],
   "source": [
    "data1=\"from ever joining the military alliance. \"\n",
    "f.write(data1)\n",
    "f.close()# it will flush and close the file for further actions."
   ]
  },
  {
   "cell_type": "code",
   "execution_count": 23,
   "metadata": {},
   "outputs": [
    {
     "ename": "ValueError",
     "evalue": "I/O operation on closed file.",
     "output_type": "error",
     "traceback": [
      "\u001b[1;31m---------------------------------------------------------------------------\u001b[0m",
      "\u001b[1;31mValueError\u001b[0m                                Traceback (most recent call last)",
      "\u001b[1;32m<ipython-input-23-aa4987e0cd36>\u001b[0m in \u001b[0;36m<module>\u001b[1;34m\u001b[0m\n\u001b[1;32m----> 1\u001b[1;33m \u001b[0mf\u001b[0m\u001b[1;33m.\u001b[0m\u001b[0mwrite\u001b[0m\u001b[1;33m(\u001b[0m\u001b[1;34m\"sdsdf\"\u001b[0m\u001b[1;33m)\u001b[0m\u001b[1;33m\u001b[0m\u001b[1;33m\u001b[0m\u001b[0m\n\u001b[0m",
      "\u001b[1;31mValueError\u001b[0m: I/O operation on closed file."
     ]
    }
   ],
   "source": [
    "f.write(\"sdsdf\")"
   ]
  },
  {
   "cell_type": "code",
   "execution_count": 25,
   "metadata": {},
   "outputs": [],
   "source": [
    "f=open(\"data.txt\")\n",
    "data=f.read()\n",
    "f.close()\n",
    "f=open(\"data2.txt\",\"w\")\n",
    "for i in range(10):\n",
    "    f.write(data)\n",
    "    f.flush()\n",
    "f.close()"
   ]
  },
  {
   "cell_type": "code",
   "execution_count": null,
   "metadata": {},
   "outputs": [],
   "source": []
  }
 ],
 "metadata": {
  "kernelspec": {
   "display_name": "Python 3",
   "language": "python",
   "name": "python3"
  },
  "language_info": {
   "codemirror_mode": {
    "name": "ipython",
    "version": 3
   },
   "file_extension": ".py",
   "mimetype": "text/x-python",
   "name": "python",
   "nbconvert_exporter": "python",
   "pygments_lexer": "ipython3",
   "version": "3.8.3"
  }
 },
 "nbformat": 4,
 "nbformat_minor": 4
}
