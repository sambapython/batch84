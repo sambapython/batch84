{
 "cells": [
  {
   "cell_type": "code",
   "execution_count": 1,
   "metadata": {},
   "outputs": [
    {
     "name": "stdout",
     "output_type": "stream",
     "text": [
      "In 2021 and early 2022, there was a major Russian military build-up around Ukraine's borders. NATO accused Russia of planning an invasion, which it denied. Russian President Vladimir Putin criticized the enlargement of NATO as a threat to his country and demanded Ukraine be barred from ever joining the military alliance. He also expressed Russian irredentist views, questioned Ukraine's right to exist, and stated wrongfully that Ukraine was created by Soviet Russia. On 21 February 2022, Russia officially recognised the two self-proclaimed separatist states in the Donbas, and openly sent troops into the territories. Three days later, Russia invaded Ukraine. Much of the international community has condemned Russia for its actions in post-revolutionary Ukraine, accusing it of breaking international law and violating Ukrainian sovereignty. Many countries\n"
     ]
    }
   ],
   "source": [
    "f=open(\"data.txt\")# default mode read\n",
    "data = f.read()\n",
    "print(data)"
   ]
  },
  {
   "cell_type": "code",
   "execution_count": 2,
   "metadata": {},
   "outputs": [
    {
     "name": "stdout",
     "output_type": "stream",
     "text": [
      "In 2021 and early 2022, there was a major Russian military build-up around Ukraine's borders. NATO a\n",
      "ccused Russia of planning an invasion, which it denied. Russian President Vladimir Putin criticized \n",
      "the enlargement of NATO as a threat to his country and demanded Ukraine be barred from ever joining \n"
     ]
    }
   ],
   "source": [
    "f=open(\"data.txt\")# default mode read\n",
    "data1 = f.read(100)\n",
    "print(data1)\n",
    "data2=f.read(100)\n",
    "print(data2)\n",
    "data3=f.read(100)\n",
    "print(data3)"
   ]
  },
  {
   "cell_type": "code",
   "execution_count": 4,
   "metadata": {},
   "outputs": [
    {
     "name": "stdout",
     "output_type": "stream",
     "text": [
      "In 2021 and early 2022, there was a major Russian military build-up around Ukraine's borders. NATO a\n",
      "ccused Russia of planning an invasion, which it denied. Russian President Vladimir Putin criticized \n",
      "the enlargement of NATO as a threat to his country and demanded Ukraine be barred from ever joining \n",
      "the military alliance. He also expressed Russian irredentist views, questioned Ukraine's right to ex\n",
      "ist, and stated wrongfully that Ukraine was created by Soviet Russia. On 21 February 2022, Russia of\n",
      "ficially recognised the two self-proclaimed separatist states in the Donbas, and openly sent troops \n",
      "into the territories. Three days later, Russia invaded Ukraine. Much of the international community \n",
      "********************\n",
      "has condemned Russia for its actions in post-revolutionary Ukraine, accusing it of breaking internat\n",
      "ional law and violating Ukrainian sovereignty. Many countries\n"
     ]
    }
   ],
   "source": [
    "f=open(\"data.txt\")# default mode read\n",
    "data1 = f.read(100)\n",
    "print(data1)\n",
    "data2=f.read(100)\n",
    "print(data2)\n",
    "data3=f.read(100)\n",
    "print(data3)\n",
    "data1 = f.read(100)\n",
    "print(data1)\n",
    "data2=f.read(100)\n",
    "print(data2)\n",
    "data3=f.read(100)\n",
    "print(data3)\n",
    "data1 = f.read(100)\n",
    "print(data1)\n",
    "data2=f.read(100)\n",
    "print(\"*\"*20)\n",
    "print(data2)\n",
    "data3=f.read(100)\n",
    "print(data3)"
   ]
  },
  {
   "cell_type": "code",
   "execution_count": 5,
   "metadata": {},
   "outputs": [
    {
     "name": "stdout",
     "output_type": "stream",
     "text": [
      "In 2021 and early 2022, there was a major Russian military build-up around Ukraine's borders. NATO a\n",
      "ccused Russia of planning an invasion, which it denied. Russian President Vladimir Putin criticized \n",
      "the enlargement of NATO as a threat to his country and demanded Ukraine be barred from ever joining \n",
      "the military alliance. He also expressed Russian irredentist views, questioned Ukraine's right to ex\n",
      "ist, and stated wrongfully that Ukraine was created by Soviet Russia. On 21 February 2022, Russia of\n",
      "ficially recognised the two self-proclaimed separatist states in the Donbas, and openly sent troops \n",
      "into the territories. Three days later, Russia invaded Ukraine. Much of the international community \n",
      "********************\n",
      "has condemned Russia for its actions in post-revolutionary Ukraine, accusing it of breaking internat\n",
      "ional law and violating Ukrainian sovereignty. Many countries\n",
      "********************\n",
      "\n",
      "\n"
     ]
    }
   ],
   "source": [
    "f=open(\"data.txt\")# default mode read\n",
    "data1 = f.read(100)\n",
    "print(data1)\n",
    "data2=f.read(100)\n",
    "print(data2)\n",
    "data3=f.read(100)\n",
    "print(data3)\n",
    "data1 = f.read(100)\n",
    "print(data1)\n",
    "data2=f.read(100)\n",
    "print(data2)\n",
    "data3=f.read(100)\n",
    "print(data3)\n",
    "data1 = f.read(100)\n",
    "print(data1)\n",
    "data2=f.read(100)\n",
    "print(\"*\"*20)\n",
    "print(data2)\n",
    "data3=f.read(100)\n",
    "print(data3)\n",
    "data2=f.read(100)\n",
    "print(\"*\"*20)\n",
    "print(data2)\n",
    "data3=f.read(100)\n",
    "print(data3)"
   ]
  },
  {
   "cell_type": "code",
   "execution_count": 6,
   "metadata": {},
   "outputs": [
    {
     "name": "stdout",
     "output_type": "stream",
     "text": [
      "0\n"
     ]
    }
   ],
   "source": [
    "f=open(\"data.txt\")\n",
    "print(f.tell())"
   ]
  },
  {
   "cell_type": "code",
   "execution_count": 7,
   "metadata": {},
   "outputs": [
    {
     "name": "stdout",
     "output_type": "stream",
     "text": [
      "0\n",
      "861\n"
     ]
    }
   ],
   "source": [
    "f=open(\"data.txt\")\n",
    "print(f.tell())\n",
    "data=f.read()\n",
    "print(f.tell())"
   ]
  },
  {
   "cell_type": "code",
   "execution_count": 8,
   "metadata": {},
   "outputs": [
    {
     "name": "stdout",
     "output_type": "stream",
     "text": [
      "\n"
     ]
    }
   ],
   "source": [
    "data2=f.read()\n",
    "print(data2)"
   ]
  },
  {
   "cell_type": "code",
   "execution_count": 9,
   "metadata": {},
   "outputs": [
    {
     "name": "stdout",
     "output_type": "stream",
     "text": [
      "0\n",
      "861\n",
      "0\n"
     ]
    }
   ],
   "source": [
    "f=open(\"data.txt\")\n",
    "print(f.tell())\n",
    "data=f.read()\n",
    "print(f.tell())\n",
    "f.close()\n",
    "f=open(\"data.txt\")\n",
    "print(f.tell())"
   ]
  },
  {
   "cell_type": "code",
   "execution_count": 10,
   "metadata": {},
   "outputs": [
    {
     "name": "stdout",
     "output_type": "stream",
     "text": [
      "0\n",
      "861\n",
      "0\n"
     ]
    }
   ],
   "source": [
    "f=open(\"data.txt\")\n",
    "print(f.tell())\n",
    "data=f.read()\n",
    "print(f.tell())\n",
    "f.seek(0)\n",
    "print(f.tell())"
   ]
  },
  {
   "cell_type": "code",
   "execution_count": 11,
   "metadata": {},
   "outputs": [
    {
     "name": "stdout",
     "output_type": "stream",
     "text": [
      "0\n",
      "861\n",
      "0\n",
      "In 2021 an\n"
     ]
    }
   ],
   "source": [
    "f=open(\"data.txt\")\n",
    "print(f.tell())\n",
    "data=f.read()\n",
    "print(f.tell())\n",
    "f.seek(0)\n",
    "print(f.tell())\n",
    "data1=f.read(10)\n",
    "print(data1)"
   ]
  },
  {
   "cell_type": "code",
   "execution_count": 13,
   "metadata": {},
   "outputs": [
    {
     "name": "stdout",
     "output_type": "stream",
     "text": [
      "[\"In 2021 and early 2022, there was a major Russian military build-up around Ukraine's borders.\\n\", ' NATO accused Russia of planning an invasion, which it denied. \\n', ' Russian President Vladimir Putin criticized the enlargement of NATO as a threat to his country and demanded Ukraine be barred from ever joining the military alliance. \\n', \" He also expressed Russian irredentist views, questioned Ukraine's right to exist, and stated wrongfully that Ukraine was created by Soviet Russia. \\n\", ' On 21 February 2022, Russia officially recognised the two self-proclaimed separatist states in the Donbas, and openly sent troops into the territories. \\n', ' Three days later, Russia invaded Ukraine. \\n', ' Much of the international community has condemned Russia for its actions in post-revolutionary Ukraine, accusing it of breaking international law and violating Ukrainian sovereignty. Many countries']\n"
     ]
    }
   ],
   "source": [
    "f=open(\"data.txt\")\n",
    "l=f.readlines()\n",
    "print(l)"
   ]
  },
  {
   "cell_type": "code",
   "execution_count": 14,
   "metadata": {},
   "outputs": [
    {
     "name": "stdout",
     "output_type": "stream",
     "text": [
      "In 2021 and early 2022, there was a major Russian military build-up around Ukraine's borders.\n",
      "\n"
     ]
    }
   ],
   "source": [
    "f=open(\"data.txt\")\n",
    "l=f.readline()\n",
    "print(l)"
   ]
  },
  {
   "cell_type": "code",
   "execution_count": 15,
   "metadata": {},
   "outputs": [
    {
     "name": "stdout",
     "output_type": "stream",
     "text": [
      "In 2021 and early 2022, there was a major Russian military build-up around Ukraine's borders.\n",
      "\n",
      " NATO accused Russia of planning an invasion, which it denied. \n",
      "\n"
     ]
    }
   ],
   "source": [
    "f=open(\"data.txt\")\n",
    "l=f.readline()\n",
    "print(l)\n",
    "l=f.readline()\n",
    "print(l)"
   ]
  },
  {
   "cell_type": "code",
   "execution_count": 16,
   "metadata": {},
   "outputs": [
    {
     "name": "stdout",
     "output_type": "stream",
     "text": [
      "In 2021 and early 2022, there was a major Russian military build-up around Ukraine's borders.\n",
      "\n",
      " NATO accused Russia of planning an invasion, which it denied. \n",
      "\n",
      " Russian President Vladimir Putin criticized the enlargement of NATO as a threat to his country and demanded Ukraine be barred from ever joining the military alliance. \n",
      "\n",
      " He also expressed Russian irredentist views, questioned Ukraine's right to exist, and stated wrongfully that Ukraine was created by Soviet Russia. \n",
      "\n",
      " On 21 February 2022, Russia officially recognised the two self-proclaimed separatist states in the Donbas, and openly sent troops into the territories. \n",
      "\n",
      " Three days later, Russia invaded Ukraine. \n",
      "\n",
      " Much of the international community has condemned Russia for its actions in post-revolutionary Ukraine, accusing it of breaking international law and violating Ukrainian sovereignty. Many countries\n",
      "\n"
     ]
    }
   ],
   "source": [
    "f=open(\"data.txt\")\n",
    "l=f.readline()\n",
    "print(l)\n",
    "l=f.readline()\n",
    "print(l)\n",
    "l=f.readline()\n",
    "print(l)\n",
    "l=f.readline()\n",
    "print(l)\n",
    "l=f.readline()\n",
    "print(l)\n",
    "l=f.readline()\n",
    "print(l)\n",
    "l=f.readline()\n",
    "print(l)\n",
    "l=f.readline()\n",
    "print(l)"
   ]
  },
  {
   "cell_type": "code",
   "execution_count": 17,
   "metadata": {},
   "outputs": [
    {
     "name": "stdout",
     "output_type": "stream",
     "text": [
      "In 2021 and early 2022, there was a major Russian military build-up around Ukraine's borders.\n",
      "\n",
      " NATO accused Russia of planning an invasion, which it denied. \n",
      "\n",
      " Russian President Vladimir Putin criticized the enlargement of NATO as a threat to his country and demanded Ukraine be barred from ever joining the military alliance. \n",
      "\n",
      " He also expressed Russian irredentist views, questioned Ukraine's right to exist, and stated wrongfully that Ukraine was created by Soviet Russia. \n",
      "\n",
      " On 21 February 2022, Russia officially recognised the two self-proclaimed separatist states in the Donbas, and openly sent troops into the territories. \n",
      "\n",
      " Three days later, Russia invaded Ukraine. \n",
      "\n",
      " Much of the international community has condemned Russia for its actions in post-revolutionary Ukraine, accusing it of breaking international law and violating Ukrainian sovereignty. Many countries\n",
      "DONE\n"
     ]
    }
   ],
   "source": [
    "f=open(\"data.txt\")\n",
    "while True:\n",
    "    l=f.readline()\n",
    "    if not l:\n",
    "        break\n",
    "    print(l)\n",
    "print(\"DONE\")"
   ]
  },
  {
   "cell_type": "code",
   "execution_count": 19,
   "metadata": {},
   "outputs": [
    {
     "name": "stdout",
     "output_type": "stream",
     "text": [
      "In 2021 and early 2022, there was a major Russian military build-up around Ukraine's borders.\n",
      "\n",
      " NATO accused Russia of planning an invasion, which it denied. \n",
      "\n",
      " Russian President Vladimir Putin criticized the enlargement of NATO as a threat to his country and demanded Ukraine be barred from ever joining the military alliance. \n",
      "\n",
      " He also expressed Russian irredentist views, questioned Ukraine's right to exist, and stated wrongfully that Ukraine was created by Soviet Russia. \n",
      "\n",
      " On 21 February 2022, Russia officially recognised the two self-proclaimed separatist states in the Donbas, and openly sent troops into the territories. \n",
      "\n",
      " Three days later, Russia invaded Ukraine. \n",
      "\n",
      " Much of the international community has condemned Russia for its actions in post-revolutionary Ukraine, accusing it of breaking international law and violating Ukrainian sovereignty. Many countries\n",
      "DONE\n"
     ]
    }
   ],
   "source": [
    "f=open(\"data.txt\")\n",
    "for line in f:\n",
    "    print(line)\n",
    "print(\"DONE\")"
   ]
  },
  {
   "cell_type": "code",
   "execution_count": 20,
   "metadata": {},
   "outputs": [
    {
     "data": {
      "text/plain": [
       "93"
      ]
     },
     "execution_count": 20,
     "metadata": {},
     "output_type": "execute_result"
    }
   ],
   "source": [
    "data= \"In 2021 and early 2022, there was a major Russian military build-up around Ukraine's borders.\"\n",
    "f=open(\"data1.txt\",\"w\")# data1.txt file not available, then it will create it.\n",
    "f.write(data)# it will writes a in memory cache"
   ]
  },
  {
   "cell_type": "code",
   "execution_count": 21,
   "metadata": {},
   "outputs": [],
   "source": [
    "f.flush()# it will flush data from cache to actual file."
   ]
  },
  {
   "cell_type": "code",
   "execution_count": 22,
   "metadata": {},
   "outputs": [],
   "source": [
    "data1=\"from ever joining the military alliance. \"\n",
    "f.write(data1)\n",
    "f.close()# it will flush and close the file for further actions."
   ]
  },
  {
   "cell_type": "code",
   "execution_count": 23,
   "metadata": {},
   "outputs": [
    {
     "ename": "ValueError",
     "evalue": "I/O operation on closed file.",
     "output_type": "error",
     "traceback": [
      "\u001b[1;31m---------------------------------------------------------------------------\u001b[0m",
      "\u001b[1;31mValueError\u001b[0m                                Traceback (most recent call last)",
      "\u001b[1;32m<ipython-input-23-aa4987e0cd36>\u001b[0m in \u001b[0;36m<module>\u001b[1;34m\u001b[0m\n\u001b[1;32m----> 1\u001b[1;33m \u001b[0mf\u001b[0m\u001b[1;33m.\u001b[0m\u001b[0mwrite\u001b[0m\u001b[1;33m(\u001b[0m\u001b[1;34m\"sdsdf\"\u001b[0m\u001b[1;33m)\u001b[0m\u001b[1;33m\u001b[0m\u001b[1;33m\u001b[0m\u001b[0m\n\u001b[0m",
      "\u001b[1;31mValueError\u001b[0m: I/O operation on closed file."
     ]
    }
   ],
   "source": [
    "f.write(\"sdsdf\")"
   ]
  },
  {
   "cell_type": "code",
   "execution_count": 25,
   "metadata": {},
   "outputs": [],
   "source": [
    "f=open(\"data.txt\")\n",
    "data=f.read()\n",
    "f.close()\n",
    "f=open(\"data2.txt\",\"w\")\n",
    "for i in range(10):\n",
    "    f.write(data)\n",
    "    f.flush()\n",
    "f.close()"
   ]
  },
  {
   "cell_type": "code",
   "execution_count": 1,
   "metadata": {},
   "outputs": [
    {
     "ename": "TypeError",
     "evalue": "write() argument must be str, not list",
     "output_type": "error",
     "traceback": [
      "\u001b[1;31m---------------------------------------------------------------------------\u001b[0m",
      "\u001b[1;31mTypeError\u001b[0m                                 Traceback (most recent call last)",
      "\u001b[1;32m<ipython-input-1-0ee60005d70e>\u001b[0m in \u001b[0;36m<module>\u001b[1;34m\u001b[0m\n\u001b[0;32m      1\u001b[0m \u001b[0mdata\u001b[0m \u001b[1;33m=\u001b[0m \u001b[1;33m[\u001b[0m\u001b[1;33m{\u001b[0m\u001b[1;34m\"name\"\u001b[0m\u001b[1;33m:\u001b[0m\u001b[1;34m\"jay\"\u001b[0m\u001b[1;33m,\u001b[0m\u001b[1;34m\"age\"\u001b[0m\u001b[1;33m:\u001b[0m\u001b[1;36m3\u001b[0m\u001b[1;33m,\u001b[0m\u001b[1;34m\"height\"\u001b[0m\u001b[1;33m:\u001b[0m\u001b[1;36m3.5\u001b[0m\u001b[1;33m}\u001b[0m\u001b[1;33m,\u001b[0m\u001b[1;33m{\u001b[0m\u001b[1;34m\"name\"\u001b[0m\u001b[1;33m:\u001b[0m\u001b[1;34m\"vedha\"\u001b[0m\u001b[1;33m,\u001b[0m\u001b[1;34m\"age\"\u001b[0m\u001b[1;33m:\u001b[0m\u001b[1;36m2\u001b[0m\u001b[1;33m,\u001b[0m\u001b[1;34m\"height\"\u001b[0m\u001b[1;33m:\u001b[0m\u001b[1;36m2.8\u001b[0m\u001b[1;33m}\u001b[0m\u001b[1;33m,\u001b[0m\u001b[1;33m{\u001b[0m\u001b[1;34m\"name\"\u001b[0m\u001b[1;33m:\u001b[0m\u001b[1;34m\"sai\"\u001b[0m\u001b[1;33m,\u001b[0m\u001b[1;34m\"age\"\u001b[0m\u001b[1;33m:\u001b[0m\u001b[1;36m33\u001b[0m\u001b[1;33m,\u001b[0m\u001b[1;34m\"height\"\u001b[0m\u001b[1;33m:\u001b[0m\u001b[1;36m5.3\u001b[0m\u001b[1;33m}\u001b[0m\u001b[1;33m]\u001b[0m\u001b[1;33m\u001b[0m\u001b[1;33m\u001b[0m\u001b[0m\n\u001b[0;32m      2\u001b[0m \u001b[0mf\u001b[0m\u001b[1;33m=\u001b[0m\u001b[0mopen\u001b[0m\u001b[1;33m(\u001b[0m\u001b[1;34m\"data.txt\"\u001b[0m\u001b[1;33m,\u001b[0m\u001b[1;34m\"w\"\u001b[0m\u001b[1;33m)\u001b[0m\u001b[1;33m\u001b[0m\u001b[1;33m\u001b[0m\u001b[0m\n\u001b[1;32m----> 3\u001b[1;33m \u001b[0mf\u001b[0m\u001b[1;33m.\u001b[0m\u001b[0mwrite\u001b[0m\u001b[1;33m(\u001b[0m\u001b[0mdata\u001b[0m\u001b[1;33m)\u001b[0m\u001b[1;33m\u001b[0m\u001b[1;33m\u001b[0m\u001b[0m\n\u001b[0m\u001b[0;32m      4\u001b[0m \u001b[0mf\u001b[0m\u001b[1;33m.\u001b[0m\u001b[0mclose\u001b[0m\u001b[1;33m(\u001b[0m\u001b[1;33m)\u001b[0m\u001b[1;33m\u001b[0m\u001b[1;33m\u001b[0m\u001b[0m\n",
      "\u001b[1;31mTypeError\u001b[0m: write() argument must be str, not list"
     ]
    }
   ],
   "source": [
    "data = [{\"name\":\"jay\",\"age\":3,\"height\":3.5},{\"name\":\"vedha\",\"age\":2,\"height\":2.8},{\"name\":\"sai\",\"age\":33,\"height\":5.3}]\n",
    "f=open(\"data.txt\",\"w\")\n",
    "f.write(data)\n",
    "f.close()"
   ]
  },
  {
   "cell_type": "code",
   "execution_count": 2,
   "metadata": {},
   "outputs": [
    {
     "ename": "TypeError",
     "evalue": "write() argument must be str, not list",
     "output_type": "error",
     "traceback": [
      "\u001b[1;31m---------------------------------------------------------------------------\u001b[0m",
      "\u001b[1;31mTypeError\u001b[0m                                 Traceback (most recent call last)",
      "\u001b[1;32m<ipython-input-2-a9e3a672f481>\u001b[0m in \u001b[0;36m<module>\u001b[1;34m\u001b[0m\n\u001b[0;32m      1\u001b[0m \u001b[0mdata\u001b[0m \u001b[1;33m=\u001b[0m \u001b[1;33m[\u001b[0m\u001b[1;34m\"1\"\u001b[0m\u001b[1;33m,\u001b[0m\u001b[1;34m\"2\"\u001b[0m\u001b[1;33m,\u001b[0m\u001b[1;34m\"3\"\u001b[0m\u001b[1;33m]\u001b[0m\u001b[1;33m\u001b[0m\u001b[1;33m\u001b[0m\u001b[0m\n\u001b[0;32m      2\u001b[0m \u001b[0mf\u001b[0m\u001b[1;33m=\u001b[0m\u001b[0mopen\u001b[0m\u001b[1;33m(\u001b[0m\u001b[1;34m\"data.txt\"\u001b[0m\u001b[1;33m,\u001b[0m\u001b[1;34m\"w\"\u001b[0m\u001b[1;33m)\u001b[0m\u001b[1;33m\u001b[0m\u001b[1;33m\u001b[0m\u001b[0m\n\u001b[1;32m----> 3\u001b[1;33m \u001b[0mf\u001b[0m\u001b[1;33m.\u001b[0m\u001b[0mwrite\u001b[0m\u001b[1;33m(\u001b[0m\u001b[0mdata\u001b[0m\u001b[1;33m)\u001b[0m\u001b[1;33m\u001b[0m\u001b[1;33m\u001b[0m\u001b[0m\n\u001b[0m\u001b[0;32m      4\u001b[0m \u001b[0mf\u001b[0m\u001b[1;33m.\u001b[0m\u001b[0mclose\u001b[0m\u001b[1;33m(\u001b[0m\u001b[1;33m)\u001b[0m\u001b[1;33m\u001b[0m\u001b[1;33m\u001b[0m\u001b[0m\n",
      "\u001b[1;31mTypeError\u001b[0m: write() argument must be str, not list"
     ]
    }
   ],
   "source": [
    "data = [\"1\",\"2\",\"3\"]\n",
    "f=open(\"data.txt\",\"w\")\n",
    "f.write(data)\n",
    "f.close()"
   ]
  },
  {
   "cell_type": "code",
   "execution_count": 3,
   "metadata": {},
   "outputs": [],
   "source": [
    "data = [\"1\",\"2\",\"3\"]\n",
    "f=open(\"data.txt\",\"w\")\n",
    "f.writelines(data)\n",
    "f.close()"
   ]
  },
  {
   "cell_type": "code",
   "execution_count": 4,
   "metadata": {},
   "outputs": [
    {
     "ename": "TypeError",
     "evalue": "write() argument must be str, not dict",
     "output_type": "error",
     "traceback": [
      "\u001b[1;31m---------------------------------------------------------------------------\u001b[0m",
      "\u001b[1;31mTypeError\u001b[0m                                 Traceback (most recent call last)",
      "\u001b[1;32m<ipython-input-4-b2ce9071943d>\u001b[0m in \u001b[0;36m<module>\u001b[1;34m\u001b[0m\n\u001b[0;32m      1\u001b[0m \u001b[0mdata\u001b[0m \u001b[1;33m=\u001b[0m \u001b[1;33m[\u001b[0m\u001b[1;33m{\u001b[0m\u001b[1;34m\"name\"\u001b[0m\u001b[1;33m:\u001b[0m\u001b[1;34m\"jay\"\u001b[0m\u001b[1;33m,\u001b[0m\u001b[1;34m\"age\"\u001b[0m\u001b[1;33m:\u001b[0m\u001b[1;36m3\u001b[0m\u001b[1;33m,\u001b[0m\u001b[1;34m\"height\"\u001b[0m\u001b[1;33m:\u001b[0m\u001b[1;36m3.5\u001b[0m\u001b[1;33m}\u001b[0m\u001b[1;33m,\u001b[0m\u001b[1;33m{\u001b[0m\u001b[1;34m\"name\"\u001b[0m\u001b[1;33m:\u001b[0m\u001b[1;34m\"vedha\"\u001b[0m\u001b[1;33m,\u001b[0m\u001b[1;34m\"age\"\u001b[0m\u001b[1;33m:\u001b[0m\u001b[1;36m2\u001b[0m\u001b[1;33m,\u001b[0m\u001b[1;34m\"height\"\u001b[0m\u001b[1;33m:\u001b[0m\u001b[1;36m2.8\u001b[0m\u001b[1;33m}\u001b[0m\u001b[1;33m,\u001b[0m\u001b[1;33m{\u001b[0m\u001b[1;34m\"name\"\u001b[0m\u001b[1;33m:\u001b[0m\u001b[1;34m\"sai\"\u001b[0m\u001b[1;33m,\u001b[0m\u001b[1;34m\"age\"\u001b[0m\u001b[1;33m:\u001b[0m\u001b[1;36m33\u001b[0m\u001b[1;33m,\u001b[0m\u001b[1;34m\"height\"\u001b[0m\u001b[1;33m:\u001b[0m\u001b[1;36m5.3\u001b[0m\u001b[1;33m}\u001b[0m\u001b[1;33m]\u001b[0m\u001b[1;33m\u001b[0m\u001b[1;33m\u001b[0m\u001b[0m\n\u001b[0;32m      2\u001b[0m \u001b[0mf\u001b[0m\u001b[1;33m=\u001b[0m\u001b[0mopen\u001b[0m\u001b[1;33m(\u001b[0m\u001b[1;34m\"data.txt\"\u001b[0m\u001b[1;33m,\u001b[0m\u001b[1;34m\"w\"\u001b[0m\u001b[1;33m)\u001b[0m\u001b[1;33m\u001b[0m\u001b[1;33m\u001b[0m\u001b[0m\n\u001b[1;32m----> 3\u001b[1;33m \u001b[0mf\u001b[0m\u001b[1;33m.\u001b[0m\u001b[0mwritelines\u001b[0m\u001b[1;33m(\u001b[0m\u001b[0mdata\u001b[0m\u001b[1;33m)\u001b[0m\u001b[1;33m\u001b[0m\u001b[1;33m\u001b[0m\u001b[0m\n\u001b[0m\u001b[0;32m      4\u001b[0m \u001b[0mf\u001b[0m\u001b[1;33m.\u001b[0m\u001b[0mclose\u001b[0m\u001b[1;33m(\u001b[0m\u001b[1;33m)\u001b[0m\u001b[1;33m\u001b[0m\u001b[1;33m\u001b[0m\u001b[0m\n",
      "\u001b[1;31mTypeError\u001b[0m: write() argument must be str, not dict"
     ]
    }
   ],
   "source": [
    "data = [{\"name\":\"jay\",\"age\":3,\"height\":3.5},{\"name\":\"vedha\",\"age\":2,\"height\":2.8},{\"name\":\"sai\",\"age\":33,\"height\":5.3}]\n",
    "f=open(\"data.txt\",\"w\")\n",
    "f.writelines(data)\n",
    "f.close()"
   ]
  },
  {
   "cell_type": "code",
   "execution_count": 5,
   "metadata": {},
   "outputs": [],
   "source": [
    "data = [{\"name\":\"jay\",\"age\":3,\"height\":3.5},{\"name\":\"vedha\",\"age\":2,\"height\":2.8},{\"name\":\"sai\",\"age\":33,\"height\":5.3}]\n",
    "f=open(\"data.txt\",\"w\")\n",
    "f.write(str(data))\n",
    "f.close()"
   ]
  },
  {
   "cell_type": "code",
   "execution_count": 6,
   "metadata": {},
   "outputs": [
    {
     "name": "stdout",
     "output_type": "stream",
     "text": [
      "[{'name': 'jay', 'age': 3, 'height': 3.5}, {'name': 'vedha', 'age': 2, 'height': 2.8}, {'name': 'sai', 'age': 33, 'height': 5.3}] <class 'str'>\n"
     ]
    }
   ],
   "source": [
    "f=open(\"data.txt\")\n",
    "data = f.read()\n",
    "print(data, type(data))\n",
    "f.close()"
   ]
  },
  {
   "cell_type": "code",
   "execution_count": 7,
   "metadata": {},
   "outputs": [
    {
     "ename": "JSONDecodeError",
     "evalue": "Expecting property name enclosed in double quotes: line 1 column 3 (char 2)",
     "output_type": "error",
     "traceback": [
      "\u001b[1;31m---------------------------------------------------------------------------\u001b[0m",
      "\u001b[1;31mJSONDecodeError\u001b[0m                           Traceback (most recent call last)",
      "\u001b[1;32m<ipython-input-7-73e95cfd66b0>\u001b[0m in \u001b[0;36m<module>\u001b[1;34m\u001b[0m\n\u001b[0;32m      1\u001b[0m \u001b[1;32mimport\u001b[0m \u001b[0mjson\u001b[0m\u001b[1;33m\u001b[0m\u001b[1;33m\u001b[0m\u001b[0m\n\u001b[1;32m----> 2\u001b[1;33m \u001b[0mdata1\u001b[0m \u001b[1;33m=\u001b[0m \u001b[0mjson\u001b[0m\u001b[1;33m.\u001b[0m\u001b[0mloads\u001b[0m\u001b[1;33m(\u001b[0m\u001b[0mdata\u001b[0m\u001b[1;33m)\u001b[0m\u001b[1;33m\u001b[0m\u001b[1;33m\u001b[0m\u001b[0m\n\u001b[0m\u001b[0;32m      3\u001b[0m \u001b[0mprint\u001b[0m\u001b[1;33m(\u001b[0m\u001b[0mdata1\u001b[0m\u001b[1;33m,\u001b[0m \u001b[0mtype\u001b[0m\u001b[1;33m(\u001b[0m\u001b[0mdata1\u001b[0m\u001b[1;33m)\u001b[0m\u001b[1;33m)\u001b[0m\u001b[1;33m\u001b[0m\u001b[1;33m\u001b[0m\u001b[0m\n",
      "\u001b[1;32mc:\\python38\\lib\\json\\__init__.py\u001b[0m in \u001b[0;36mloads\u001b[1;34m(s, cls, object_hook, parse_float, parse_int, parse_constant, object_pairs_hook, **kw)\u001b[0m\n\u001b[0;32m    355\u001b[0m             \u001b[0mparse_int\u001b[0m \u001b[1;32mis\u001b[0m \u001b[1;32mNone\u001b[0m \u001b[1;32mand\u001b[0m \u001b[0mparse_float\u001b[0m \u001b[1;32mis\u001b[0m \u001b[1;32mNone\u001b[0m \u001b[1;32mand\u001b[0m\u001b[1;33m\u001b[0m\u001b[1;33m\u001b[0m\u001b[0m\n\u001b[0;32m    356\u001b[0m             parse_constant is None and object_pairs_hook is None and not kw):\n\u001b[1;32m--> 357\u001b[1;33m         \u001b[1;32mreturn\u001b[0m \u001b[0m_default_decoder\u001b[0m\u001b[1;33m.\u001b[0m\u001b[0mdecode\u001b[0m\u001b[1;33m(\u001b[0m\u001b[0ms\u001b[0m\u001b[1;33m)\u001b[0m\u001b[1;33m\u001b[0m\u001b[1;33m\u001b[0m\u001b[0m\n\u001b[0m\u001b[0;32m    358\u001b[0m     \u001b[1;32mif\u001b[0m \u001b[0mcls\u001b[0m \u001b[1;32mis\u001b[0m \u001b[1;32mNone\u001b[0m\u001b[1;33m:\u001b[0m\u001b[1;33m\u001b[0m\u001b[1;33m\u001b[0m\u001b[0m\n\u001b[0;32m    359\u001b[0m         \u001b[0mcls\u001b[0m \u001b[1;33m=\u001b[0m \u001b[0mJSONDecoder\u001b[0m\u001b[1;33m\u001b[0m\u001b[1;33m\u001b[0m\u001b[0m\n",
      "\u001b[1;32mc:\\python38\\lib\\json\\decoder.py\u001b[0m in \u001b[0;36mdecode\u001b[1;34m(self, s, _w)\u001b[0m\n\u001b[0;32m    335\u001b[0m \u001b[1;33m\u001b[0m\u001b[0m\n\u001b[0;32m    336\u001b[0m         \"\"\"\n\u001b[1;32m--> 337\u001b[1;33m         \u001b[0mobj\u001b[0m\u001b[1;33m,\u001b[0m \u001b[0mend\u001b[0m \u001b[1;33m=\u001b[0m \u001b[0mself\u001b[0m\u001b[1;33m.\u001b[0m\u001b[0mraw_decode\u001b[0m\u001b[1;33m(\u001b[0m\u001b[0ms\u001b[0m\u001b[1;33m,\u001b[0m \u001b[0midx\u001b[0m\u001b[1;33m=\u001b[0m\u001b[0m_w\u001b[0m\u001b[1;33m(\u001b[0m\u001b[0ms\u001b[0m\u001b[1;33m,\u001b[0m \u001b[1;36m0\u001b[0m\u001b[1;33m)\u001b[0m\u001b[1;33m.\u001b[0m\u001b[0mend\u001b[0m\u001b[1;33m(\u001b[0m\u001b[1;33m)\u001b[0m\u001b[1;33m)\u001b[0m\u001b[1;33m\u001b[0m\u001b[1;33m\u001b[0m\u001b[0m\n\u001b[0m\u001b[0;32m    338\u001b[0m         \u001b[0mend\u001b[0m \u001b[1;33m=\u001b[0m \u001b[0m_w\u001b[0m\u001b[1;33m(\u001b[0m\u001b[0ms\u001b[0m\u001b[1;33m,\u001b[0m \u001b[0mend\u001b[0m\u001b[1;33m)\u001b[0m\u001b[1;33m.\u001b[0m\u001b[0mend\u001b[0m\u001b[1;33m(\u001b[0m\u001b[1;33m)\u001b[0m\u001b[1;33m\u001b[0m\u001b[1;33m\u001b[0m\u001b[0m\n\u001b[0;32m    339\u001b[0m         \u001b[1;32mif\u001b[0m \u001b[0mend\u001b[0m \u001b[1;33m!=\u001b[0m \u001b[0mlen\u001b[0m\u001b[1;33m(\u001b[0m\u001b[0ms\u001b[0m\u001b[1;33m)\u001b[0m\u001b[1;33m:\u001b[0m\u001b[1;33m\u001b[0m\u001b[1;33m\u001b[0m\u001b[0m\n",
      "\u001b[1;32mc:\\python38\\lib\\json\\decoder.py\u001b[0m in \u001b[0;36mraw_decode\u001b[1;34m(self, s, idx)\u001b[0m\n\u001b[0;32m    351\u001b[0m         \"\"\"\n\u001b[0;32m    352\u001b[0m         \u001b[1;32mtry\u001b[0m\u001b[1;33m:\u001b[0m\u001b[1;33m\u001b[0m\u001b[1;33m\u001b[0m\u001b[0m\n\u001b[1;32m--> 353\u001b[1;33m             \u001b[0mobj\u001b[0m\u001b[1;33m,\u001b[0m \u001b[0mend\u001b[0m \u001b[1;33m=\u001b[0m \u001b[0mself\u001b[0m\u001b[1;33m.\u001b[0m\u001b[0mscan_once\u001b[0m\u001b[1;33m(\u001b[0m\u001b[0ms\u001b[0m\u001b[1;33m,\u001b[0m \u001b[0midx\u001b[0m\u001b[1;33m)\u001b[0m\u001b[1;33m\u001b[0m\u001b[1;33m\u001b[0m\u001b[0m\n\u001b[0m\u001b[0;32m    354\u001b[0m         \u001b[1;32mexcept\u001b[0m \u001b[0mStopIteration\u001b[0m \u001b[1;32mas\u001b[0m \u001b[0merr\u001b[0m\u001b[1;33m:\u001b[0m\u001b[1;33m\u001b[0m\u001b[1;33m\u001b[0m\u001b[0m\n\u001b[0;32m    355\u001b[0m             \u001b[1;32mraise\u001b[0m \u001b[0mJSONDecodeError\u001b[0m\u001b[1;33m(\u001b[0m\u001b[1;34m\"Expecting value\"\u001b[0m\u001b[1;33m,\u001b[0m \u001b[0ms\u001b[0m\u001b[1;33m,\u001b[0m \u001b[0merr\u001b[0m\u001b[1;33m.\u001b[0m\u001b[0mvalue\u001b[0m\u001b[1;33m)\u001b[0m \u001b[1;32mfrom\u001b[0m \u001b[1;32mNone\u001b[0m\u001b[1;33m\u001b[0m\u001b[1;33m\u001b[0m\u001b[0m\n",
      "\u001b[1;31mJSONDecodeError\u001b[0m: Expecting property name enclosed in double quotes: line 1 column 3 (char 2)"
     ]
    }
   ],
   "source": [
    "import json\n",
    "data1 = json.loads(data)\n",
    "print(data1, type(data1))"
   ]
  },
  {
   "cell_type": "code",
   "execution_count": 8,
   "metadata": {},
   "outputs": [
    {
     "name": "stdout",
     "output_type": "stream",
     "text": [
      "[{'name': 'jay', 'age': 3, 'height': 3.5}, {'name': 'vedha', 'age': 2, 'height': 2.8}, {'name': 'sai', 'age': 33, 'height': 5.3}] <class 'list'>\n"
     ]
    }
   ],
   "source": [
    "import json\n",
    "data1 = json.loads(data.replace(\"'\",'\"'))\n",
    "print(data1, type(data1))"
   ]
  },
  {
   "cell_type": "code",
   "execution_count": null,
   "metadata": {},
   "outputs": [],
   "source": [
    "data = [{\"name\":\"jay\",\"age\":3,\"height\":3.5},{\"name\":\"vedha\",\"age\":2,\"height\":2.8},{\"name\":\"sai\",\"age\":33,\"height\":5.3}]\n",
    "f=open(\"data.txt\",\"w\")\n",
    "#writing: converting list to str\n",
    "f.write(str(data))\n",
    "f.close()\n",
    "f=open(\"data.txt\")\n",
    "data = f.read()\n",
    "print(data, type(data))\n",
    "f.close()\n",
    "import json\n",
    "# converting str to list\n",
    "data1 = json.loads(data.replace(\"'\",'\"'))\n",
    "print(data1, type(data1))"
   ]
  },
  {
   "cell_type": "code",
   "execution_count": 10,
   "metadata": {},
   "outputs": [
    {
     "name": "stdout",
     "output_type": "stream",
     "text": [
      "€\u0004•h\u0000\u0000\u0000\u0000\u0000\u0000\u0000]”(}”(Œ\u0004name”Œ\u0003jay”Œ\u0003age”K\u0003Œ\u0006height”G@\f",
      "\u0000\u0000\u0000\u0000\u0000\u0000u}”(h\u0002Œ\u0005vedha”h\u0004K\u0002h\u0005G@\u0006ffffffu}”(h\u0002Œ\u0003sai”h\u0004K!h\u0005G@\u0015333333ue. <class 'str'>\n"
     ]
    }
   ],
   "source": [
    "import pickle\n",
    "data = [{\"name\":\"jay\",\"age\":3,\"height\":3.5},{\"name\":\"vedha\",\"age\":2,\"height\":2.8},{\"name\":\"sai\",\"age\":33,\"height\":5.3}]\n",
    "f=open(\"data.txt\",\"wb\")\n",
    "#writing:\n",
    "pickle.dump(data, f)\n",
    "f.close()\n",
    "f=open(\"data.txt\")\n",
    "data = f.read()\n",
    "print(data, type(data))\n",
    "f.close()\n",
    "# import json\n",
    "# # converting str to list\n",
    "# data1 = json.loads(data.replace(\"'\",'\"'))\n",
    "# print(data1, type(data1))"
   ]
  },
  {
   "cell_type": "code",
   "execution_count": 12,
   "metadata": {},
   "outputs": [
    {
     "name": "stdout",
     "output_type": "stream",
     "text": [
      "[{'name': 'jay', 'age': 3, 'height': 3.5}, {'name': 'vedha', 'age': 2, 'height': 2.8}, {'name': 'sai', 'age': 33, 'height': 5.3}] <class 'list'>\n"
     ]
    }
   ],
   "source": [
    "import pickle\n",
    "data = [{\"name\":\"jay\",\"age\":3,\"height\":3.5},{\"name\":\"vedha\",\"age\":2,\"height\":2.8},{\"name\":\"sai\",\"age\":33,\"height\":5.3}]\n",
    "f=open(\"data.txt\",\"wb\")\n",
    "#writing:\n",
    "pickle.dump(data, f)\n",
    "f.close()\n",
    "f=open(\"data.txt\",\"rb\")\n",
    "data = pickle.load(f)\n",
    "print(data, type(data))\n",
    "f.close()"
   ]
  },
  {
   "cell_type": "code",
   "execution_count": null,
   "metadata": {},
   "outputs": [],
   "source": [
    "data = [{\"name\":\"jay\",\"age\":3,\"height\":3.5},{\"name\":\"vedha\",\"age\":2,\"height\":2.8},{\"name\":\"sai\",\"age\":33,\"height\":5.3}]\n",
    "f=open(\"data.txt\",\"w\")\n",
    "#writing: converting list to str\n",
    "f.write(str(data))\n",
    "f.close()\n",
    "f=open(\"data.txt\")\n",
    "data = f.read()\n",
    "print(data, type(data))\n",
    "f.close()\n",
    "import json\n",
    "# converting str to list\n",
    "data1 = json.loads(data.replace(\"'\",'\"'))\n",
    "print(data1, type(data1))"
   ]
  },
  {
   "cell_type": "code",
   "execution_count": 13,
   "metadata": {},
   "outputs": [],
   "source": [
    "f=open(\"1.png\",\"rb\")\n",
    "data=f.read()\n",
    "f.close()\n",
    "f=open(\"1_1.png\", \"wb\")\n",
    "f.write(data)\n",
    "f.close()"
   ]
  },
  {
   "cell_type": "code",
   "execution_count": 16,
   "metadata": {},
   "outputs": [],
   "source": [
    "data = [{\"name\":\"jay\",\"age\":3,\"height\":3.5},{\"name\":\"vedha\",\"age\":2,\"height\":2.8},{\"name\":\"sai\",\"age\":33,\"height\":5.3}]\n",
    "import yaml\n",
    "f=open(\"data.yml\",\"w\")\n",
    "yaml.dump(data, f)\n",
    "f.close()\n"
   ]
  },
  {
   "cell_type": "code",
   "execution_count": 18,
   "metadata": {},
   "outputs": [
    {
     "name": "stdout",
     "output_type": "stream",
     "text": [
      "[{'age': 3, 'height': 3.5, 'name': 'jay'}, {'age': 2, 'height': 2.8, 'name': 'vedha'}, {'age': 33, 'height': 5.3, 'name': 'sai'}] <class 'list'>\n"
     ]
    },
    {
     "name": "stderr",
     "output_type": "stream",
     "text": [
      "<ipython-input-18-78eed850b663>:3: YAMLLoadWarning: calling yaml.load() without Loader=... is deprecated, as the default Loader is unsafe. Please read https://msg.pyyaml.org/load for full details.\n",
      "  data = yaml.load(f)\n"
     ]
    }
   ],
   "source": [
    "import yaml\n",
    "f=open(\"data.yml\",\"r\")\n",
    "data = yaml.load(f)\n",
    "f.close()\n",
    "print(data, type(data))\n"
   ]
  },
  {
   "cell_type": "code",
   "execution_count": 19,
   "metadata": {},
   "outputs": [],
   "source": [
    "# R and D on working with PDF files.."
   ]
  },
  {
   "cell_type": "code",
   "execution_count": null,
   "metadata": {},
   "outputs": [],
   "source": []
  }
 ],
 "metadata": {
  "kernelspec": {
   "display_name": "Python 3",
   "language": "python",
   "name": "python3"
  },
  "language_info": {
   "codemirror_mode": {
    "name": "ipython",
    "version": 3
   },
   "file_extension": ".py",
   "mimetype": "text/x-python",
   "name": "python",
   "nbconvert_exporter": "python",
   "pygments_lexer": "ipython3",
   "version": "3.8.3"
  }
 },
 "nbformat": 4,
 "nbformat_minor": 4
}
