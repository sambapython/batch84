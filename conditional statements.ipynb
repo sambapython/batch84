{
 "cells": [
  {
   "cell_type": "code",
   "execution_count": 1,
   "metadata": {},
   "outputs": [
    {
     "name": "stdout",
     "output_type": "stream",
     "text": [
      "started\n",
      "a is big\n",
      "b is big\n",
      "ended\n"
     ]
    }
   ],
   "source": [
    "print(\"started\")\n",
    "a=1000\n",
    "b=2000\n",
    "print(\"a is big\")\n",
    "print(\"b is big\")\n",
    "print(\"ended\")"
   ]
  },
  {
   "cell_type": "code",
   "execution_count": 2,
   "metadata": {},
   "outputs": [
    {
     "name": "stdout",
     "output_type": "stream",
     "text": [
      "started\n",
      "b is big\n",
      "ended\n"
     ]
    }
   ],
   "source": [
    "print(\"started\")\n",
    "a=1000\n",
    "b=2000\n",
    "if False:\n",
    "    #if block\n",
    "    print(\"a is big\")\n",
    "    print(\"hello\")\n",
    "print(\"b is big\")\n",
    "print(\"ended\")"
   ]
  },
  {
   "cell_type": "code",
   "execution_count": 3,
   "metadata": {},
   "outputs": [
    {
     "name": "stdout",
     "output_type": "stream",
     "text": [
      "started\n",
      "a is big\n",
      "hello\n",
      "ended\n"
     ]
    }
   ],
   "source": [
    "print(\"started\")\n",
    "a=1000\n",
    "b=2000\n",
    "if True:\n",
    "    #if block\n",
    "    print(\"a is big\")\n",
    "    print(\"hello\")\n",
    "else:\n",
    "    #else block\n",
    "    print(\"b is big\")\n",
    "    print(\"hi\")\n",
    "print(\"ended\")"
   ]
  },
  {
   "cell_type": "code",
   "execution_count": 4,
   "metadata": {},
   "outputs": [
    {
     "name": "stdout",
     "output_type": "stream",
     "text": [
      "started\n",
      "b is big\n",
      "hi\n",
      "ended\n"
     ]
    }
   ],
   "source": [
    "print(\"started\")\n",
    "a=1000\n",
    "b=2000\n",
    "if False:\n",
    "    #if block\n",
    "    print(\"a is big\")\n",
    "    print(\"hello\")\n",
    "else:\n",
    "    #else block\n",
    "    print(\"b is big\")\n",
    "    print(\"hi\")\n",
    "print(\"ended\")"
   ]
  },
  {
   "cell_type": "code",
   "execution_count": null,
   "metadata": {},
   "outputs": [],
   "source": [
    "print(\"started\")\n",
    "a=1000\n",
    "b=2000\n",
    "if a<b:#True\n",
    "    #if block\n",
    "    print(\"a is big\")\n",
    "    print(\"hello\")\n",
    "else:\n",
    "    #else block\n",
    "    print(\"b is big\")\n",
    "    print(\"hi\")\n",
    "print(\"ended\")# it's in main block. Because we are not given indentation(4 spaces)"
   ]
  },
  {
   "cell_type": "code",
   "execution_count": 5,
   "metadata": {},
   "outputs": [
    {
     "name": "stdout",
     "output_type": "stream",
     "text": [
      "started\n",
      "a is big\n",
      "hello\n",
      "ended\n"
     ]
    }
   ],
   "source": [
    "print(\"started\")\n",
    "a=1000\n",
    "b=2000\n",
    "if a<b:#True\n",
    "    #if block\n",
    "    print(\"a is big\")\n",
    "    print(\"hello\")\n",
    "else:\n",
    "    #else block\n",
    "    print(\"b is big\")\n",
    "    print(\"hi\")\n",
    "print(\"ended\")# it's in main block. Because we are not given indentation(4 spaces)"
   ]
  },
  {
   "cell_type": "code",
   "execution_count": 6,
   "metadata": {},
   "outputs": [
    {
     "name": "stdout",
     "output_type": "stream",
     "text": [
      "started\n",
      "NEGATIVE\n",
      "ended\n"
     ]
    }
   ],
   "source": [
    "print(\"started\")\n",
    "a=10\n",
    "if a<0:#False\n",
    "    res=\"POSITIVE\"\n",
    "else:\n",
    "    res=\"NEGATIVE\"\n",
    "print(res)\n",
    "print(\"ended\")"
   ]
  },
  {
   "cell_type": "code",
   "execution_count": 7,
   "metadata": {},
   "outputs": [
    {
     "name": "stdout",
     "output_type": "stream",
     "text": [
      "started\n",
      "POSITIVE\n",
      "ended\n"
     ]
    }
   ],
   "source": [
    "print(\"started\")\n",
    "a=10\n",
    "if a>0:#10>0:True\n",
    "    res=\"POSITIVE\"\n",
    "else:\n",
    "    res=\"NEGATIVE\"\n",
    "print(res)\n",
    "print(\"ended\")"
   ]
  },
  {
   "cell_type": "code",
   "execution_count": 8,
   "metadata": {},
   "outputs": [
    {
     "name": "stdout",
     "output_type": "stream",
     "text": [
      "started\n",
      "NEGATIVE\n",
      "ended\n"
     ]
    }
   ],
   "source": [
    "print(\"started\")\n",
    "a=-10\n",
    "if a>0:#-10>0:False\n",
    "    res=\"POSITIVE\"\n",
    "else:\n",
    "    res=\"NEGATIVE\"\n",
    "print(res)\n",
    "print(\"ended\")"
   ]
  },
  {
   "cell_type": "code",
   "execution_count": 9,
   "metadata": {},
   "outputs": [
    {
     "name": "stdout",
     "output_type": "stream",
     "text": [
      "started\n",
      "NEGATIVE\n",
      "ended\n"
     ]
    }
   ],
   "source": [
    "print(\"started\")\n",
    "a=0\n",
    "res=\"ZERO\"\n",
    "if a>0:#0>0: False\n",
    "    res=\"POSITIVE\"\n",
    "else:\n",
    "    res=\"NEGATIVE\"\n",
    "print(res)\n",
    "print(\"ended\")"
   ]
  },
  {
   "cell_type": "code",
   "execution_count": 10,
   "metadata": {},
   "outputs": [
    {
     "name": "stdout",
     "output_type": "stream",
     "text": [
      "started\n",
      "ZERO\n",
      "ended\n"
     ]
    }
   ],
   "source": [
    "print(\"started\")\n",
    "a=0\n",
    "res=\"ZERO\"\n",
    "if a!=0:#0!=0: False\n",
    "    if a>0:#0>0: False\n",
    "        #nested if\n",
    "        res=\"POSITIVE\"\n",
    "    else:\n",
    "        res=\"NEGATIVE\"\n",
    "print(res)\n",
    "print(\"ended\")"
   ]
  },
  {
   "cell_type": "code",
   "execution_count": 11,
   "metadata": {},
   "outputs": [
    {
     "name": "stdout",
     "output_type": "stream",
     "text": [
      "started\n",
      "POSITIVE\n",
      "ended\n"
     ]
    }
   ],
   "source": [
    "print(\"started\")\n",
    "a=10\n",
    "res=\"ZERO\"\n",
    "if a!=0:#10!=0: True\n",
    "    if a>0:#10>0: True\n",
    "        #nested if\n",
    "        res=\"POSITIVE\"\n",
    "    else:\n",
    "        res=\"NEGATIVE\"\n",
    "print(res)\n",
    "print(\"ended\")"
   ]
  },
  {
   "cell_type": "code",
   "execution_count": 12,
   "metadata": {},
   "outputs": [
    {
     "name": "stdout",
     "output_type": "stream",
     "text": [
      "enter the string:qwr\n",
      "the len of string is: 3\n"
     ]
    }
   ],
   "source": [
    "#wap to take a string from the user. print EMPTY if the string is empty or else print length of the string.\n",
    "\n",
    "x=input(\"enter the string:\")\n",
    "len_x = len(x)# calculating lenght of string\n",
    "if len_x>0:\n",
    "    print(\"the len of string is:\",len_x)\n",
    "else:\n",
    "    print('it is empty string')\n"
   ]
  },
  {
   "cell_type": "code",
   "execution_count": 13,
   "metadata": {},
   "outputs": [
    {
     "name": "stdout",
     "output_type": "stream",
     "text": [
      "enter the string:\n",
      "it is empty string\n"
     ]
    }
   ],
   "source": [
    "#wap to take a string from the user. print EMPTY if the string is empty or else print length of the string.\n",
    "\n",
    "x=input(\"enter the string:\")\n",
    "len_x = len(x)# calculating lenght of string\n",
    "if len_x>0:\n",
    "    print(\"the len of string is:\",len_x)\n",
    "else:\n",
    "    print('it is empty string')\n"
   ]
  },
  {
   "cell_type": "code",
   "execution_count": 14,
   "metadata": {},
   "outputs": [
    {
     "name": "stdout",
     "output_type": "stream",
     "text": [
      "enter the string:\n",
      "it is empty string\n"
     ]
    }
   ],
   "source": [
    "#wap to take a string from the user. print EMPTY if the string is empty or else print length of the string.\n",
    "x=input(\"enter the string:\")\n",
    "if x!=\"\":\n",
    "    print(\"the len of string is:\",len(x))\n",
    "else:\n",
    "    print('it is empty string')\n"
   ]
  },
  {
   "cell_type": "code",
   "execution_count": 15,
   "metadata": {},
   "outputs": [
    {
     "name": "stdout",
     "output_type": "stream",
     "text": [
      "enter the string:asdsaf\n",
      "the len of string is: 6\n"
     ]
    }
   ],
   "source": [
    "#wap to take a string from the user. print EMPTY if the string is empty or else print length of the string.\n",
    "x=input(\"enter the string:\")\n",
    "if x!=\"\":\n",
    "    print(\"the len of string is:\",len(x))\n",
    "else:\n",
    "    print('it is empty string')\n"
   ]
  },
  {
   "cell_type": "code",
   "execution_count": 16,
   "metadata": {},
   "outputs": [
    {
     "name": "stdout",
     "output_type": "stream",
     "text": [
      "enter the string:\n",
      "it is empty string\n"
     ]
    }
   ],
   "source": [
    "#wap to take a string from the user. print EMPTY if the string is empty or else print length of the string.\n",
    "x=input(\"enter the string:\")\n",
    "if x==\"\":\n",
    "    print('it is empty string')\n",
    "else:\n",
    "    print(\"the len of string is:\",len(x))    "
   ]
  },
  {
   "cell_type": "code",
   "execution_count": 17,
   "metadata": {},
   "outputs": [
    {
     "name": "stdout",
     "output_type": "stream",
     "text": [
      "enter the string:\n",
      "it is empty string\n"
     ]
    }
   ],
   "source": [
    "#wap to take a string from the user. print EMPTY if the string is empty or else print length of the string.\n",
    "len_x=len(input(\"enter the string:\"))\n",
    "if len_x==0:\n",
    "    print('it is empty string')\n",
    "else:\n",
    "    print(\"the len of string is:\",len_x)    "
   ]
  },
  {
   "cell_type": "code",
   "execution_count": 18,
   "metadata": {},
   "outputs": [
    {
     "name": "stdout",
     "output_type": "stream",
     "text": [
      "enter the string:sfdsd\n",
      "the len of string is: 5\n"
     ]
    }
   ],
   "source": [
    "#wap to take a string from the user. print EMPTY if the string is empty or else print length of the string.\n",
    "len_x=len(input(\"enter the string:\"))\n",
    "if len_x==0:\n",
    "    print('it is empty string')\n",
    "else:\n",
    "    print(\"the len of string is:\",len_x)    "
   ]
  },
  {
   "cell_type": "code",
   "execution_count": null,
   "metadata": {},
   "outputs": [],
   "source": [
    "#wap to take a string from the user. print EMPTY if the string is empty or else print length of the string.\n",
    "x=input(\"enter the string:\")\n",
    "if bool(x):#\n",
    "    print(\"the len of string is:\",len(x))\n",
    "else:\n",
    "    print('it is empty string')\n",
    "\n",
    "        "
   ]
  },
  {
   "cell_type": "code",
   "execution_count": 19,
   "metadata": {},
   "outputs": [
    {
     "name": "stdout",
     "output_type": "stream",
     "text": [
      "enter the string:sdfsdfsd\n",
      "True\n"
     ]
    }
   ],
   "source": [
    "x=input(\"enter the string:\")\n",
    "print(bool(x))"
   ]
  },
  {
   "cell_type": "code",
   "execution_count": 20,
   "metadata": {},
   "outputs": [
    {
     "name": "stdout",
     "output_type": "stream",
     "text": [
      "enter the string:\n",
      "False\n"
     ]
    }
   ],
   "source": [
    "x=input(\"enter the string:\")\n",
    "print(bool(x))"
   ]
  },
  {
   "cell_type": "code",
   "execution_count": 21,
   "metadata": {},
   "outputs": [
    {
     "name": "stdout",
     "output_type": "stream",
     "text": [
      "enter the string:\n",
      "it is empty string\n"
     ]
    }
   ],
   "source": [
    "#wap to take a string from the user. print EMPTY if the string is empty or else print length of the string.\n",
    "x=input(\"enter the string:\")\n",
    "if bool(x)==False:#\n",
    "    print('it is empty string')\n",
    "else:\n",
    "    print(\"the len of string is:\",len(x))    "
   ]
  },
  {
   "cell_type": "code",
   "execution_count": 22,
   "metadata": {},
   "outputs": [
    {
     "name": "stdout",
     "output_type": "stream",
     "text": [
      "enter the string:asdasd\n",
      "the len of string is: 6\n"
     ]
    }
   ],
   "source": [
    "#wap to take a string from the user. print EMPTY if the string is empty or else print length of the string.\n",
    "x=input(\"enter the string:\")\n",
    "if bool(x):\n",
    "    print(\"the len of string is:\",len(x))        \n",
    "else:\n",
    "    print('it is empty string')\n",
    "\n"
   ]
  },
  {
   "cell_type": "code",
   "execution_count": 23,
   "metadata": {},
   "outputs": [
    {
     "name": "stdout",
     "output_type": "stream",
     "text": [
      "enter the string:\n",
      "it is empty string\n"
     ]
    }
   ],
   "source": [
    "#wap to take a string from the user. print EMPTY if the string is empty or else print length of the string.\n",
    "x=input(\"enter the string:\")\n",
    "if bool(x):\n",
    "    print(\"the len of string is:\",len(x))        \n",
    "else:\n",
    "    print('it is empty string')"
   ]
  },
  {
   "cell_type": "code",
   "execution_count": 24,
   "metadata": {},
   "outputs": [
    {
     "name": "stdout",
     "output_type": "stream",
     "text": [
      "enter the string:sdwere\n",
      "the len of string is: 6\n"
     ]
    }
   ],
   "source": [
    "#wap to take a string from the user. print EMPTY if the string is empty or else print length of the string.\n",
    "x=input(\"enter the string:\")\n",
    "if x:#bool(x)\n",
    "    print(\"the len of string is:\",len(x))        \n",
    "else:\n",
    "    print('it is empty string')"
   ]
  },
  {
   "cell_type": "code",
   "execution_count": 25,
   "metadata": {},
   "outputs": [
    {
     "name": "stdout",
     "output_type": "stream",
     "text": [
      "enter the string:\n",
      "it is empty string\n"
     ]
    }
   ],
   "source": [
    "#wap to take a string from the user. print EMPTY if the string is empty or else print length of the string.\n",
    "x=input(\"enter the string:\")\n",
    "if x:#bool(x)\n",
    "    print(\"the len of string is:\",len(x))        \n",
    "else:\n",
    "    print('it is empty string')"
   ]
  },
  {
   "cell_type": "code",
   "execution_count": 26,
   "metadata": {},
   "outputs": [
    {
     "name": "stdout",
     "output_type": "stream",
     "text": [
      "HELLO\n"
     ]
    }
   ],
   "source": [
    "if 0:\n",
    "    print(\"HI\")\n",
    "else:\n",
    "    print(\"HELLO\")"
   ]
  },
  {
   "cell_type": "code",
   "execution_count": 27,
   "metadata": {},
   "outputs": [
    {
     "name": "stdout",
     "output_type": "stream",
     "text": [
      "HI\n"
     ]
    }
   ],
   "source": [
    "if 10:\n",
    "    print(\"HI\")\n",
    "else:\n",
    "    print(\"HELLO\")"
   ]
  },
  {
   "cell_type": "code",
   "execution_count": 28,
   "metadata": {},
   "outputs": [
    {
     "name": "stdout",
     "output_type": "stream",
     "text": [
      "enter the string:0\n",
      "the len of string is: 1\n"
     ]
    }
   ],
   "source": [
    "#wap to take a string from the user. print EMPTY if the string is empty or else print length of the string.\n",
    "x=input(\"enter the string:\")\n",
    "if x:#bool(x)\n",
    "    print(\"the len of string is:\",len(x))        \n",
    "else:\n",
    "    print('it is empty string')"
   ]
  },
  {
   "cell_type": "code",
   "execution_count": 29,
   "metadata": {},
   "outputs": [
    {
     "data": {
      "text/plain": [
       "True"
      ]
     },
     "execution_count": 29,
     "metadata": {},
     "output_type": "execute_result"
    }
   ],
   "source": [
    "bool(\"0\")"
   ]
  },
  {
   "cell_type": "code",
   "execution_count": null,
   "metadata": {},
   "outputs": [],
   "source": [
    "#wap to take a string from the user. print EMPTY if the string is empty or else print length of the string.\n",
    "x=input(\"enter the string:\")\n",
    "if x:#bool(x)\n",
    "    print(\"the len of string is:\",len(x))        \n",
    "else:\n",
    "    print('it is empty string')"
   ]
  },
  {
   "cell_type": "code",
   "execution_count": 30,
   "metadata": {},
   "outputs": [
    {
     "name": "stdout",
     "output_type": "stream",
     "text": [
      "enter string:python\n",
      "6\n"
     ]
    }
   ],
   "source": [
    "x=input(\"enter string:\")\n",
    "res= len(x) if x else \"EMPTY\"\n",
    "print(res)"
   ]
  },
  {
   "cell_type": "code",
   "execution_count": 31,
   "metadata": {},
   "outputs": [
    {
     "name": "stdout",
     "output_type": "stream",
     "text": [
      "enter string:\n",
      "EMPTY\n"
     ]
    }
   ],
   "source": [
    "x=input(\"enter string:\")\n",
    "res= len(x) if x else \"EMPTY\"\n",
    "print(res)\n"
   ]
  },
  {
   "cell_type": "code",
   "execution_count": 32,
   "metadata": {},
   "outputs": [
    {
     "name": "stdout",
     "output_type": "stream",
     "text": [
      "enter string:\n",
      "EMPTY\n"
     ]
    }
   ],
   "source": [
    "x=input(\"enter string:\")\n",
    "print(len(x) if x else \"EMPTY\")"
   ]
  },
  {
   "cell_type": "code",
   "execution_count": 33,
   "metadata": {},
   "outputs": [],
   "source": [
    "a=10;b=20;c=30"
   ]
  },
  {
   "cell_type": "code",
   "execution_count": 34,
   "metadata": {},
   "outputs": [
    {
     "name": "stdout",
     "output_type": "stream",
     "text": [
      "enter string:ewrew\n",
      "5\n"
     ]
    }
   ],
   "source": [
    "x=input(\"enter string:\")\n",
    "res= len(x) if x else \"EMPTY\";print(res)\n"
   ]
  },
  {
   "cell_type": "code",
   "execution_count": null,
   "metadata": {},
   "outputs": [],
   "source": [
    "x=input(\"enter string:\")\n",
    "print(len(x) if x else \"EMPTY\")"
   ]
  },
  {
   "cell_type": "code",
   "execution_count": 35,
   "metadata": {},
   "outputs": [
    {
     "name": "stdout",
     "output_type": "stream",
     "text": [
      "enter number:10\n"
     ]
    },
    {
     "ename": "TypeError",
     "evalue": "'>=' not supported between instances of 'str' and 'int'",
     "output_type": "error",
     "traceback": [
      "\u001b[1;31m---------------------------------------------------------------------------\u001b[0m",
      "\u001b[1;31mTypeError\u001b[0m                                 Traceback (most recent call last)",
      "\u001b[1;32m<ipython-input-35-1bc95dac00fa>\u001b[0m in \u001b[0;36m<module>\u001b[1;34m\u001b[0m\n\u001b[0;32m      1\u001b[0m \u001b[0mnumber\u001b[0m\u001b[1;33m=\u001b[0m \u001b[0minput\u001b[0m\u001b[1;33m(\u001b[0m\u001b[1;34m\"enter number:\"\u001b[0m\u001b[1;33m)\u001b[0m\u001b[1;33m\u001b[0m\u001b[1;33m\u001b[0m\u001b[0m\n\u001b[1;32m----> 2\u001b[1;33m \u001b[1;32mif\u001b[0m \u001b[0mnumber\u001b[0m\u001b[1;33m>=\u001b[0m\u001b[1;36m0\u001b[0m\u001b[1;33m:\u001b[0m\u001b[1;33m\u001b[0m\u001b[1;33m\u001b[0m\u001b[0m\n\u001b[0m\u001b[0;32m      3\u001b[0m     \u001b[0mprint\u001b[0m\u001b[1;33m(\u001b[0m\u001b[1;34m\"PSOTIVE\"\u001b[0m\u001b[1;33m)\u001b[0m\u001b[1;33m\u001b[0m\u001b[1;33m\u001b[0m\u001b[0m\n\u001b[0;32m      4\u001b[0m \u001b[1;32melse\u001b[0m\u001b[1;33m:\u001b[0m\u001b[1;33m\u001b[0m\u001b[1;33m\u001b[0m\u001b[0m\n\u001b[0;32m      5\u001b[0m     \u001b[0mprint\u001b[0m\u001b[1;33m(\u001b[0m\u001b[1;34m\"NEgative\"\u001b[0m\u001b[1;33m)\u001b[0m\u001b[1;33m\u001b[0m\u001b[1;33m\u001b[0m\u001b[0m\n",
      "\u001b[1;31mTypeError\u001b[0m: '>=' not supported between instances of 'str' and 'int'"
     ]
    }
   ],
   "source": [
    "number= input(\"enter number:\")\n",
    "if number>=0:\n",
    "    print(\"PSOTIVE\")\n",
    "else:\n",
    "    print(\"NEgative\")"
   ]
  },
  {
   "cell_type": "code",
   "execution_count": 36,
   "metadata": {},
   "outputs": [
    {
     "name": "stdout",
     "output_type": "stream",
     "text": [
      "enter number:10\n",
      "PSOTIVE\n"
     ]
    }
   ],
   "source": [
    "number= input(\"enter number:\")\n",
    "number=int(number)\n",
    "if number>=0:\n",
    "    print(\"PSOTIVE\")\n",
    "else:\n",
    "    print(\"NEgative\")"
   ]
  },
  {
   "cell_type": "code",
   "execution_count": 37,
   "metadata": {},
   "outputs": [
    {
     "name": "stdout",
     "output_type": "stream",
     "text": [
      "enter number:-10\n",
      "NEgative\n"
     ]
    }
   ],
   "source": [
    "number= input(\"enter number:\")\n",
    "number=int(number)\n",
    "if number>=0:\n",
    "    print(\"PSOTIVE\")\n",
    "else:\n",
    "    print(\"NEgative\")"
   ]
  },
  {
   "cell_type": "code",
   "execution_count": 38,
   "metadata": {},
   "outputs": [
    {
     "name": "stdout",
     "output_type": "stream",
     "text": [
      "enter number:0\n",
      "PSOTIVE\n"
     ]
    }
   ],
   "source": [
    "number= input(\"enter number:\")\n",
    "number=int(number)\n",
    "if number>=0:\n",
    "    print(\"PSOTIVE\")\n",
    "else:\n",
    "    print(\"NEgative\")"
   ]
  },
  {
   "cell_type": "code",
   "execution_count": 39,
   "metadata": {},
   "outputs": [
    {
     "name": "stdout",
     "output_type": "stream",
     "text": [
      "enter number:12\n",
      "POSITIVE\n"
     ]
    }
   ],
   "source": [
    "number= input(\"enter number:\")\n",
    "number=int(number)\n",
    "if number>=0:\n",
    "    print(\"POSITIVE\")\n",
    "else:\n",
    "    print(\"NEGATIVE\")"
   ]
  },
  {
   "cell_type": "code",
   "execution_count": 40,
   "metadata": {},
   "outputs": [
    {
     "name": "stdout",
     "output_type": "stream",
     "text": [
      "enter number:10\n",
      "+VE\n"
     ]
    }
   ],
   "source": [
    "number= input(\"enter number:\")\n",
    "number=int(number)\n",
    "print(\"+VE\" if number>=0 else \"-VE\")"
   ]
  },
  {
   "cell_type": "code",
   "execution_count": 41,
   "metadata": {},
   "outputs": [
    {
     "name": "stdout",
     "output_type": "stream",
     "text": [
      "enter number:-10\n",
      "-VE\n"
     ]
    }
   ],
   "source": [
    "number= input(\"enter number:\")\n",
    "number=int(number)\n",
    "print(\"+VE\" if number>=0 else \"-VE\")"
   ]
  },
  {
   "cell_type": "code",
   "execution_count": 42,
   "metadata": {},
   "outputs": [
    {
     "name": "stdout",
     "output_type": "stream",
     "text": [
      "enter number:0\n",
      "+VE\n"
     ]
    }
   ],
   "source": [
    "number= int(input(\"enter number:\"))\n",
    "print(\"+VE\" if number>=0 else \"-VE\")"
   ]
  },
  {
   "cell_type": "code",
   "execution_count": 43,
   "metadata": {},
   "outputs": [
    {
     "name": "stdout",
     "output_type": "stream",
     "text": [
      "enter number:-10\n",
      "-VE\n"
     ]
    }
   ],
   "source": [
    "number= int(input(\"enter number:\"))\n",
    "print(\"+VE\" if number>=0 else \"-VE\")"
   ]
  },
  {
   "cell_type": "code",
   "execution_count": 44,
   "metadata": {},
   "outputs": [
    {
     "name": "stdout",
     "output_type": "stream",
     "text": [
      "enter number:10\n",
      "+VE\n"
     ]
    }
   ],
   "source": [
    "print(\"+VE\" if int(input(\"enter number:\"))>=0 else \"-VE\")"
   ]
  },
  {
   "cell_type": "code",
   "execution_count": 45,
   "metadata": {},
   "outputs": [
    {
     "name": "stdout",
     "output_type": "stream",
     "text": [
      "enter number:-10\n",
      "-VE\n"
     ]
    }
   ],
   "source": [
    "print(\"+VE\" if int(input(\"enter number:\"))>=0 else \"-VE\")"
   ]
  },
  {
   "cell_type": "code",
   "execution_count": 46,
   "metadata": {},
   "outputs": [
    {
     "name": "stdout",
     "output_type": "stream",
     "text": [
      "True\n"
     ]
    }
   ],
   "source": [
    "# WAP to check given number is even or odd.\n",
    "number=10\n",
    "print(number%2==0)"
   ]
  },
  {
   "cell_type": "code",
   "execution_count": 47,
   "metadata": {},
   "outputs": [
    {
     "name": "stdout",
     "output_type": "stream",
     "text": [
      "False\n"
     ]
    }
   ],
   "source": [
    "# WAP to check given number is even or odd.\n",
    "number=11\n",
    "print(number%2==0)"
   ]
  },
  {
   "cell_type": "code",
   "execution_count": null,
   "metadata": {},
   "outputs": [],
   "source": []
  }
 ],
 "metadata": {
  "kernelspec": {
   "display_name": "Python 3",
   "language": "python",
   "name": "python3"
  },
  "language_info": {
   "codemirror_mode": {
    "name": "ipython",
    "version": 3
   },
   "file_extension": ".py",
   "mimetype": "text/x-python",
   "name": "python",
   "nbconvert_exporter": "python",
   "pygments_lexer": "ipython3",
   "version": "3.8.3"
  }
 },
 "nbformat": 4,
 "nbformat_minor": 4
}
