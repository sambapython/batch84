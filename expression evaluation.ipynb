{
 "cells": [
  {
   "cell_type": "code",
   "execution_count": 1,
   "metadata": {},
   "outputs": [
    {
     "name": "stdout",
     "output_type": "stream",
     "text": [
      "26.0\n"
     ]
    }
   ],
   "source": [
    "x=10+20/5*4 # bodmas\n",
    "print(x)"
   ]
  },
  {
   "cell_type": "code",
   "execution_count": 2,
   "metadata": {},
   "outputs": [
    {
     "name": "stdout",
     "output_type": "stream",
     "text": [
      "24.0\n"
     ]
    }
   ],
   "source": [
    "x=(10+20)/5*4 # bodmas\n",
    "print(x)"
   ]
  },
  {
   "cell_type": "code",
   "execution_count": 3,
   "metadata": {},
   "outputs": [
    {
     "name": "stdout",
     "output_type": "stream",
     "text": [
      "1.5\n"
     ]
    }
   ],
   "source": [
    "x=(10+20)/(5*4) # bodmas\n",
    "print(x)"
   ]
  },
  {
   "cell_type": "code",
   "execution_count": 4,
   "metadata": {},
   "outputs": [
    {
     "name": "stdout",
     "output_type": "stream",
     "text": [
      "10.0\n"
     ]
    }
   ],
   "source": [
    "a=10000/20/5/10\n",
    "print(a)"
   ]
  },
  {
   "cell_type": "code",
   "execution_count": 5,
   "metadata": {},
   "outputs": [
    {
     "name": "stdout",
     "output_type": "stream",
     "text": [
      "250.0\n"
     ]
    }
   ],
   "source": [
    "a=(10000/(20/(5/10)))\n",
    "print(a)"
   ]
  },
  {
   "cell_type": "code",
   "execution_count": 6,
   "metadata": {},
   "outputs": [
    {
     "name": "stdout",
     "output_type": "stream",
     "text": [
      "enter temperature:45\n",
      "45\n"
     ]
    }
   ],
   "source": [
    "# wac to convert foreignheat --> celcius\n",
    "temp = input(\"enter temperature:\")\n",
    "print(temp)"
   ]
  },
  {
   "cell_type": "code",
   "execution_count": 7,
   "metadata": {},
   "outputs": [
    {
     "name": "stdout",
     "output_type": "stream",
     "text": [
      "enter temperature:45\n",
      "7.222222222222222\n"
     ]
    }
   ],
   "source": [
    "# wac to convert foreignheat --> celcius\n",
    "temp = input(\"enter temperature:\")\n",
    "temp = float(temp)\n",
    "cel = (temp-32)*(5/9)\n",
    "print(cel)"
   ]
  },
  {
   "cell_type": "code",
   "execution_count": 8,
   "metadata": {},
   "outputs": [
    {
     "name": "stdout",
     "output_type": "stream",
     "text": [
      "Enter value:10\n",
      "Enter value:20\n",
      "410.0\n"
     ]
    }
   ],
   "source": [
    "# wac to (a+b) whole square, (a+b) whole qube.\n",
    "a=float(input(\"Enter value:\"))\n",
    "b=float(input(\"Enter value:\"))\n",
    "print(a+b**2)"
   ]
  },
  {
   "cell_type": "code",
   "execution_count": 9,
   "metadata": {},
   "outputs": [
    {
     "name": "stdout",
     "output_type": "stream",
     "text": [
      "Enter value:10\n",
      "Enter value:20\n",
      "900.0\n",
      "230.0\n"
     ]
    }
   ],
   "source": [
    "# wac to (a+b) whole square, (a+b) whole qube.\n",
    "a=float(input(\"Enter value:\"))\n",
    "b=float(input(\"Enter value:\"))\n",
    "print((a+b)**2)\n",
    "print(a+b*a+b)"
   ]
  },
  {
   "cell_type": "code",
   "execution_count": 10,
   "metadata": {},
   "outputs": [
    {
     "name": "stdout",
     "output_type": "stream",
     "text": [
      "Enter value:10\n",
      "Enter value:20\n",
      "900.0\n",
      "900.0\n",
      "900.0\n",
      "27000.0\n",
      "27000.0\n",
      "27000.0\n"
     ]
    }
   ],
   "source": [
    "# wac to (a+b) whole square, (a+b) whole qube.\n",
    "a=float(input(\"Enter value:\"))\n",
    "b=float(input(\"Enter value:\"))\n",
    "print((a+b)**2)\n",
    "print((a+b)*(a+b))\n",
    "print(a**2+b**2+2*a*b)\n",
    "print((a+b)**3)\n",
    "print(a**3+b**3+3*a*b*(a+b))\n",
    "print(a**3+b**3+3*a**2*b+3*a*b**2)"
   ]
  },
  {
   "cell_type": "code",
   "execution_count": 11,
   "metadata": {},
   "outputs": [],
   "source": [
    "# operator precendency"
   ]
  },
  {
   "cell_type": "code",
   "execution_count": null,
   "metadata": {},
   "outputs": [],
   "source": []
  }
 ],
 "metadata": {
  "kernelspec": {
   "display_name": "Python 3",
   "language": "python",
   "name": "python3"
  },
  "language_info": {
   "codemirror_mode": {
    "name": "ipython",
    "version": 3
   },
   "file_extension": ".py",
   "mimetype": "text/x-python",
   "name": "python",
   "nbconvert_exporter": "python",
   "pygments_lexer": "ipython3",
   "version": "3.8.3"
  }
 },
 "nbformat": 4,
 "nbformat_minor": 4
}
