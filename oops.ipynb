{
 "cells": [
  {
   "cell_type": "code",
   "execution_count": 1,
   "metadata": {},
   "outputs": [
    {
     "name": "stdout",
     "output_type": "stream",
     "text": [
      "hi\n"
     ]
    }
   ],
   "source": [
    "def fun():\n",
    "    print(\"hello\")\n",
    "    \n",
    "class c1:\n",
    "    print(\"hi\")"
   ]
  },
  {
   "cell_type": "code",
   "execution_count": 2,
   "metadata": {},
   "outputs": [
    {
     "name": "stdout",
     "output_type": "stream",
     "text": [
      "hi\n"
     ]
    }
   ],
   "source": [
    "def fun():\n",
    "    print(\"hello\")\n",
    "    \n",
    "class c1:\n",
    "    print(\"hi\")\n",
    "    def fun1(x):\n",
    "        print(\"this is fun in class\")\n"
   ]
  },
  {
   "cell_type": "code",
   "execution_count": 3,
   "metadata": {},
   "outputs": [],
   "source": [
    "class c1:\n",
    "    x=1000\n",
    "    def fun1(x):\n",
    "        print(\"this is fun in class\")\n"
   ]
  },
  {
   "cell_type": "code",
   "execution_count": 4,
   "metadata": {},
   "outputs": [
    {
     "ename": "NameError",
     "evalue": "name 'x' is not defined",
     "output_type": "error",
     "traceback": [
      "\u001b[1;31m---------------------------------------------------------------------------\u001b[0m",
      "\u001b[1;31mNameError\u001b[0m                                 Traceback (most recent call last)",
      "\u001b[1;32m<ipython-input-4-29736fb21a4a>\u001b[0m in \u001b[0;36m<module>\u001b[1;34m\u001b[0m\n\u001b[0;32m      4\u001b[0m         \u001b[0mprint\u001b[0m\u001b[1;33m(\u001b[0m\u001b[1;34m\"this is fun in class\"\u001b[0m\u001b[1;33m)\u001b[0m\u001b[1;33m\u001b[0m\u001b[1;33m\u001b[0m\u001b[0m\n\u001b[0;32m      5\u001b[0m \u001b[1;33m\u001b[0m\u001b[0m\n\u001b[1;32m----> 6\u001b[1;33m \u001b[0mprint\u001b[0m\u001b[1;33m(\u001b[0m\u001b[0mx\u001b[0m\u001b[1;33m)\u001b[0m\u001b[1;33m\u001b[0m\u001b[1;33m\u001b[0m\u001b[0m\n\u001b[0m",
      "\u001b[1;31mNameError\u001b[0m: name 'x' is not defined"
     ]
    }
   ],
   "source": [
    "class c1:# it will create a class object. [class frame c1]. x and fun1 are the arributes(refrences in frame) of object.\n",
    "    x=1000\n",
    "    def fun1(x):\n",
    "        print(\"this is fun in class\")\n",
    "\n",
    "print(x)"
   ]
  },
  {
   "cell_type": "code",
   "execution_count": 5,
   "metadata": {},
   "outputs": [
    {
     "name": "stdout",
     "output_type": "stream",
     "text": [
      "1000\n"
     ]
    }
   ],
   "source": [
    "class c1:# it will create a class object. [class frame c1]. x and fun1 are the arributes(refrences in frame) of object.\n",
    "    x=1000\n",
    "    def fun1(x):\n",
    "        print(\"this is fun in class\")\n",
    "\n",
    "print(c1.x)"
   ]
  },
  {
   "cell_type": "code",
   "execution_count": 6,
   "metadata": {},
   "outputs": [
    {
     "name": "stdout",
     "output_type": "stream",
     "text": [
      "1000\n",
      "this is fun in class\n"
     ]
    }
   ],
   "source": [
    "class c1:# it will create a class object. [class frame c1]. x and fun1 are the arributes(refrences in frame) of object.\n",
    "    x=1000\n",
    "    def fun1(x):\n",
    "        print(\"this is fun in class\")\n",
    "\n",
    "print(c1.x)\n",
    "c1.fun1(10)"
   ]
  },
  {
   "cell_type": "code",
   "execution_count": null,
   "metadata": {},
   "outputs": [],
   "source": [
    "class Person:\n",
    "    name=\"Jay\"\n",
    "    age=3\n",
    "    height=3.5"
   ]
  },
  {
   "cell_type": "code",
   "execution_count": 7,
   "metadata": {},
   "outputs": [
    {
     "ename": "AttributeError",
     "evalue": "'Person' object has no attribute 'phone'",
     "output_type": "error",
     "traceback": [
      "\u001b[1;31m---------------------------------------------------------------------------\u001b[0m",
      "\u001b[1;31mAttributeError\u001b[0m                            Traceback (most recent call last)",
      "\u001b[1;32m<ipython-input-7-b02166150b06>\u001b[0m in \u001b[0;36m<module>\u001b[1;34m\u001b[0m\n\u001b[0;32m      8\u001b[0m \u001b[0mvedha\u001b[0m\u001b[1;33m.\u001b[0m\u001b[0mage\u001b[0m\u001b[1;33m=\u001b[0m\u001b[1;36m4\u001b[0m\u001b[1;33m\u001b[0m\u001b[1;33m\u001b[0m\u001b[0m\n\u001b[0;32m      9\u001b[0m \u001b[0mvedha\u001b[0m\u001b[1;33m.\u001b[0m\u001b[0mphone\u001b[0m\u001b[1;33m=\u001b[0m\u001b[1;36m8756489034\u001b[0m\u001b[1;33m\u001b[0m\u001b[1;33m\u001b[0m\u001b[0m\n\u001b[1;32m---> 10\u001b[1;33m \u001b[0mprint\u001b[0m\u001b[1;33m(\u001b[0m\u001b[0mjay\u001b[0m\u001b[1;33m.\u001b[0m\u001b[0mphone\u001b[0m\u001b[1;33m)\u001b[0m\u001b[1;33m\u001b[0m\u001b[1;33m\u001b[0m\u001b[0m\n\u001b[0m",
      "\u001b[1;31mAttributeError\u001b[0m: 'Person' object has no attribute 'phone'"
     ]
    }
   ],
   "source": [
    "class Person:# it will create a class object. Person is the reference of that object.\n",
    "    pass\n",
    "jay = Person()# it will create a data object, jay is the reference of that data object.\n",
    "vedha = Person()#\n",
    "jay.name=\"jayaram\"\n",
    "jay.age=3\n",
    "vedha.name=\"Vedhanvesh\"\n",
    "vedha.age=4\n",
    "vedha.phone=8756489034\n",
    "print(jay.phone)"
   ]
  },
  {
   "cell_type": "code",
   "execution_count": 8,
   "metadata": {},
   "outputs": [
    {
     "name": "stdout",
     "output_type": "stream",
     "text": [
      "jayaram 3\n"
     ]
    }
   ],
   "source": [
    "class Person:# it will create a class object. Person is the reference of that object.\n",
    "    pass\n",
    "jay = Person()# it will create a data object, jay is the reference of that data object.\n",
    "vedha = Person()#\n",
    "jay.name=\"jayaram\"\n",
    "jay.age=3\n",
    "vedha.name=\"Vedhanvesh\"\n",
    "vedha.age=4\n",
    "vedha.phone=8756489034\n",
    "print(jay.name,jay.age)"
   ]
  },
  {
   "cell_type": "code",
   "execution_count": 9,
   "metadata": {},
   "outputs": [
    {
     "name": "stdout",
     "output_type": "stream",
     "text": [
      "Vedhanvesh 4\n"
     ]
    }
   ],
   "source": [
    "class Person:# it will create a class object. Person is the reference of that object.\n",
    "    pass\n",
    "jay = Person()# it will create a data object, jay is the reference of that data object.\n",
    "vedha = Person()#\n",
    "jay.name=\"jayaram\"\n",
    "jay.age=3\n",
    "vedha.name=\"Vedhanvesh\"\n",
    "vedha.age=4\n",
    "vedha.phone=8756489034\n",
    "print(vedha.name,vedha.age)"
   ]
  },
  {
   "cell_type": "code",
   "execution_count": 10,
   "metadata": {},
   "outputs": [
    {
     "name": "stdout",
     "output_type": "stream",
     "text": [
      "Vedhanvesh 4\n",
      "jayaram 3\n"
     ]
    }
   ],
   "source": [
    "class Person:# it will create a class object. Person is the reference of that object.\n",
    "    pass\n",
    "jay = Person()# it will create a data object, jay is the reference of that data object.\n",
    "vedha = Person()#\n",
    "jay.name=\"jayaram\"\n",
    "jay.age=3\n",
    "vedha.name=\"Vedhanvesh\"\n",
    "vedha.age=4\n",
    "vedha.phone=8756489034\n",
    "print(vedha.name,vedha.age)\n",
    "print(jay.name,jay.age)"
   ]
  },
  {
   "cell_type": "code",
   "execution_count": 11,
   "metadata": {},
   "outputs": [
    {
     "name": "stdout",
     "output_type": "stream",
     "text": [
      "Vedhanvesh 4\n",
      "Jayaram 3\n"
     ]
    }
   ],
   "source": [
    "class Person:# it will create a class object. Person is the reference of that object.\n",
    "    def set_data(ins, name, age, phone=None):\n",
    "        ins.name=name\n",
    "        ins.age=age\n",
    "        ins.phone=phone\n",
    "jay = Person()# it will create a data object, jay is the reference of that data object.\n",
    "vedha = Person()#\n",
    "Person.set_data(jay, \"Jayaram\", 3)\n",
    "#jay.name=\"jayaram\"\n",
    "#jay.age=3\n",
    "Person.set_data(vedha, \"Vedhanvesh\", 4, 8756489034)\n",
    "# vedha.name=\"Vedhanvesh\"\n",
    "# vedha.age=4\n",
    "# vedha.phone=8756489034\n",
    "print(vedha.name,vedha.age)\n",
    "print(jay.name,jay.age)"
   ]
  },
  {
   "cell_type": "code",
   "execution_count": 12,
   "metadata": {},
   "outputs": [
    {
     "name": "stdout",
     "output_type": "stream",
     "text": [
      "Vedhanvesh 4\n",
      "Jayaram 3\n"
     ]
    }
   ],
   "source": [
    "class Person:\n",
    "    def set_data(ins, name, age, phone=None):\n",
    "        ins.name=name\n",
    "        ins.age=age\n",
    "        ins.phone=phone\n",
    "jay = Person()\n",
    "vedha = Person()\n",
    "Person.set_data(jay, \"Jayaram\", 3)\n",
    "Person.set_data(vedha, \"Vedhanvesh\", 4, 8756489034)\n",
    "print(vedha.name,vedha.age)\n",
    "print(jay.name,jay.age)"
   ]
  },
  {
   "cell_type": "code",
   "execution_count": 13,
   "metadata": {},
   "outputs": [
    {
     "name": "stdout",
     "output_type": "stream",
     "text": [
      "Vedhanvesh 4\n",
      "Jayaram 3\n"
     ]
    }
   ],
   "source": [
    "class Person:\n",
    "    def set_data(ins, name, age, phone=None):\n",
    "        ins.name=name\n",
    "        ins.age=age\n",
    "        ins.phone=phone\n",
    "jay = Person()\n",
    "vedha = Person()\n",
    "jay.set_data(\"Jayaram\", 3)#Person.set_data(jay, \"Jayaram\", 3)\n",
    "vedha.set_data(\"Vedhanvesh\", 4, 8756489034)#Person.set_data(vedha, \"Vedhanvesh\", 4, 8756489034)\n",
    "print(vedha.name,vedha.age)\n",
    "print(jay.name,jay.age)"
   ]
  },
  {
   "cell_type": "code",
   "execution_count": 14,
   "metadata": {},
   "outputs": [
    {
     "name": "stdout",
     "output_type": "stream",
     "text": [
      "this is person\n",
      "this is person1\n",
      "Vedhanvesh 4\n",
      "Jayaram 3\n"
     ]
    }
   ],
   "source": [
    "class Person:\n",
    "    def set_data(ins, name, age, phone=None):\n",
    "        print(\"this is person\")\n",
    "        ins.name=name\n",
    "        ins.age=age\n",
    "        ins.phone=phone\n",
    "        \n",
    "class Person1:\n",
    "    def set_data(ins, name, age, phone=None):\n",
    "        print(\"this is person1\")\n",
    "        ins.name=name\n",
    "        ins.age=age\n",
    "        ins.phone=phone\n",
    "jay = Person()\n",
    "vedha = Person1()\n",
    "jay.set_data(\"Jayaram\", 3)#Person.set_data(jay, \"Jayaram\", 3)\n",
    "vedha.set_data(\"Vedhanvesh\", 4, 8756489034)#Person1.set_data(vedha, \"Vedhanvesh\", 4, 8756489034)\n",
    "print(vedha.name,vedha.age)\n",
    "print(jay.name,jay.age)"
   ]
  },
  {
   "cell_type": "code",
   "execution_count": 15,
   "metadata": {},
   "outputs": [
    {
     "name": "stdout",
     "output_type": "stream",
     "text": [
      "this is person\n",
      "this is person\n",
      "Vedhanvesh 4\n",
      "Jayaram 3\n"
     ]
    }
   ],
   "source": [
    "class Person:\n",
    "    def set_data(ins, name, age, phone=None):\n",
    "        print(\"this is person\")\n",
    "        ins.name=name\n",
    "        ins.age=age\n",
    "        ins.phone=phone\n",
    "        \n",
    "jay = Person()\n",
    "vedha = Person()\n",
    "jay.set_data(\"Jayaram\", 3)\n",
    "vedha.set_data(\"Vedhanvesh\", 4, 8756489034)\n",
    "print(vedha.name,vedha.age)\n",
    "print(jay.name,jay.age)"
   ]
  },
  {
   "cell_type": "code",
   "execution_count": 16,
   "metadata": {},
   "outputs": [
    {
     "name": "stdout",
     "output_type": "stream",
     "text": [
      "Jayaram 3 None\n",
      "Vedhanvesh 4 8756489034\n"
     ]
    }
   ],
   "source": [
    "class Person:\n",
    "    def set_data(ins, name, age, phone=None):\n",
    "        ins.name=name\n",
    "        ins.age=age\n",
    "        ins.phone=phone\n",
    "    def get(ins):\n",
    "        print(ins.name, ins.age, ins.phone)\n",
    "        \n",
    "jay = Person()\n",
    "vedha = Person()\n",
    "jay.set_data(\"Jayaram\", 3)\n",
    "vedha.set_data(\"Vedhanvesh\", 4, 8756489034)\n",
    "jay.get()\n",
    "vedha.get()\n"
   ]
  },
  {
   "cell_type": "code",
   "execution_count": 17,
   "metadata": {},
   "outputs": [
    {
     "name": "stdout",
     "output_type": "stream",
     "text": [
      "Jayaram 3 None\n",
      "Vedhanvesh 4 8756489034\n"
     ]
    },
    {
     "ename": "AttributeError",
     "evalue": "'Person' object has no attribute 'name'",
     "output_type": "error",
     "traceback": [
      "\u001b[1;31m---------------------------------------------------------------------------\u001b[0m",
      "\u001b[1;31mAttributeError\u001b[0m                            Traceback (most recent call last)",
      "\u001b[1;32m<ipython-input-17-2dc80b695c38>\u001b[0m in \u001b[0;36m<module>\u001b[1;34m\u001b[0m\n\u001b[0;32m     14\u001b[0m \u001b[0mvedha\u001b[0m\u001b[1;33m.\u001b[0m\u001b[0mget\u001b[0m\u001b[1;33m(\u001b[0m\u001b[1;33m)\u001b[0m\u001b[1;33m\u001b[0m\u001b[1;33m\u001b[0m\u001b[0m\n\u001b[0;32m     15\u001b[0m \u001b[0msai\u001b[0m \u001b[1;33m=\u001b[0m \u001b[0mPerson\u001b[0m\u001b[1;33m(\u001b[0m\u001b[1;33m)\u001b[0m\u001b[1;33m\u001b[0m\u001b[1;33m\u001b[0m\u001b[0m\n\u001b[1;32m---> 16\u001b[1;33m \u001b[0msai\u001b[0m\u001b[1;33m.\u001b[0m\u001b[0mget\u001b[0m\u001b[1;33m(\u001b[0m\u001b[1;33m)\u001b[0m\u001b[1;33m\u001b[0m\u001b[1;33m\u001b[0m\u001b[0m\n\u001b[0m",
      "\u001b[1;32m<ipython-input-17-2dc80b695c38>\u001b[0m in \u001b[0;36mget\u001b[1;34m(ins)\u001b[0m\n\u001b[0;32m      5\u001b[0m         \u001b[0mins\u001b[0m\u001b[1;33m.\u001b[0m\u001b[0mphone\u001b[0m\u001b[1;33m=\u001b[0m\u001b[0mphone\u001b[0m\u001b[1;33m\u001b[0m\u001b[1;33m\u001b[0m\u001b[0m\n\u001b[0;32m      6\u001b[0m     \u001b[1;32mdef\u001b[0m \u001b[0mget\u001b[0m\u001b[1;33m(\u001b[0m\u001b[0mins\u001b[0m\u001b[1;33m)\u001b[0m\u001b[1;33m:\u001b[0m\u001b[1;33m\u001b[0m\u001b[1;33m\u001b[0m\u001b[0m\n\u001b[1;32m----> 7\u001b[1;33m         \u001b[0mprint\u001b[0m\u001b[1;33m(\u001b[0m\u001b[0mins\u001b[0m\u001b[1;33m.\u001b[0m\u001b[0mname\u001b[0m\u001b[1;33m,\u001b[0m \u001b[0mins\u001b[0m\u001b[1;33m.\u001b[0m\u001b[0mage\u001b[0m\u001b[1;33m,\u001b[0m \u001b[0mins\u001b[0m\u001b[1;33m.\u001b[0m\u001b[0mphone\u001b[0m\u001b[1;33m)\u001b[0m\u001b[1;33m\u001b[0m\u001b[1;33m\u001b[0m\u001b[0m\n\u001b[0m\u001b[0;32m      8\u001b[0m \u001b[1;33m\u001b[0m\u001b[0m\n\u001b[0;32m      9\u001b[0m \u001b[0mjay\u001b[0m \u001b[1;33m=\u001b[0m \u001b[0mPerson\u001b[0m\u001b[1;33m(\u001b[0m\u001b[1;33m)\u001b[0m\u001b[1;33m\u001b[0m\u001b[1;33m\u001b[0m\u001b[0m\n",
      "\u001b[1;31mAttributeError\u001b[0m: 'Person' object has no attribute 'name'"
     ]
    }
   ],
   "source": [
    "class Person:\n",
    "    def set_data(ins, name, age, phone=None):\n",
    "        ins.name=name\n",
    "        ins.age=age\n",
    "        ins.phone=phone\n",
    "    def get(ins):\n",
    "        print(ins.name, ins.age, ins.phone)\n",
    "        \n",
    "jay = Person()\n",
    "vedha = Person()\n",
    "jay.set_data(\"Jayaram\", 3)\n",
    "vedha.set_data(\"Vedhanvesh\", 4, 8756489034)\n",
    "jay.get()\n",
    "vedha.get()\n",
    "sai = Person()\n",
    "sai.get()"
   ]
  },
  {
   "cell_type": "code",
   "execution_count": 18,
   "metadata": {},
   "outputs": [
    {
     "name": "stdout",
     "output_type": "stream",
     "text": [
      "this is class\n"
     ]
    }
   ],
   "source": [
    "class Person:\n",
    "    print(\"this is class\")\n",
    "    def get(ins):\n",
    "        print(\"this is get\")"
   ]
  },
  {
   "cell_type": "code",
   "execution_count": 19,
   "metadata": {},
   "outputs": [
    {
     "name": "stdout",
     "output_type": "stream",
     "text": [
      "this is class\n"
     ]
    }
   ],
   "source": [
    "class Person:\n",
    "    print(\"this is class\")\n",
    "    def get(ins):\n",
    "        print(\"this is get\")\n",
    "    def __init__(ins):\n",
    "        print(\"this is init\")"
   ]
  },
  {
   "cell_type": "code",
   "execution_count": 20,
   "metadata": {},
   "outputs": [
    {
     "name": "stdout",
     "output_type": "stream",
     "text": [
      "this is class\n",
      "this is init\n"
     ]
    }
   ],
   "source": [
    "class Person:\n",
    "    print(\"this is class\")\n",
    "    def get(ins):\n",
    "        print(\"this is get\")\n",
    "    def __init__(ins):\n",
    "        print(\"this is init\")\n",
    "jay = Person()"
   ]
  },
  {
   "cell_type": "code",
   "execution_count": 21,
   "metadata": {},
   "outputs": [
    {
     "name": "stdout",
     "output_type": "stream",
     "text": [
      "this is class\n",
      "this is init\n",
      "this is init\n"
     ]
    }
   ],
   "source": [
    "class Person:\n",
    "    print(\"this is class\")\n",
    "    def get(ins):\n",
    "        print(\"this is get\")\n",
    "    def __init__(ins):\n",
    "        print(\"this is init\")\n",
    "jay = Person()\n",
    "vedha = Person()"
   ]
  },
  {
   "cell_type": "code",
   "execution_count": 22,
   "metadata": {},
   "outputs": [
    {
     "name": "stdout",
     "output_type": "stream",
     "text": [
      "this is class\n",
      "this is init\n",
      "this is init\n",
      "this is init\n"
     ]
    }
   ],
   "source": [
    "class Person:\n",
    "    print(\"this is class\")\n",
    "    def get(ins):\n",
    "        print(\"this is get\")\n",
    "    def __init__(ins):\n",
    "        print(\"this is init\")\n",
    "jay = Person()\n",
    "vedha = Person()\n",
    "sai = Person()"
   ]
  },
  {
   "cell_type": "code",
   "execution_count": 23,
   "metadata": {},
   "outputs": [
    {
     "name": "stdout",
     "output_type": "stream",
     "text": [
      "this is class\n"
     ]
    },
    {
     "ename": "TypeError",
     "evalue": "__init__() missing 2 required positional arguments: 'name' and 'age'",
     "output_type": "error",
     "traceback": [
      "\u001b[1;31m---------------------------------------------------------------------------\u001b[0m",
      "\u001b[1;31mTypeError\u001b[0m                                 Traceback (most recent call last)",
      "\u001b[1;32m<ipython-input-23-c7affd8e0bda>\u001b[0m in \u001b[0;36m<module>\u001b[1;34m\u001b[0m\n\u001b[0;32m      7\u001b[0m         \u001b[0mins\u001b[0m\u001b[1;33m.\u001b[0m\u001b[0mage\u001b[0m\u001b[1;33m=\u001b[0m\u001b[0mage\u001b[0m\u001b[1;33m\u001b[0m\u001b[1;33m\u001b[0m\u001b[0m\n\u001b[0;32m      8\u001b[0m         \u001b[0mins\u001b[0m\u001b[1;33m.\u001b[0m\u001b[0mphone\u001b[0m\u001b[1;33m=\u001b[0m\u001b[0mphone\u001b[0m\u001b[1;33m\u001b[0m\u001b[1;33m\u001b[0m\u001b[0m\n\u001b[1;32m----> 9\u001b[1;33m \u001b[0mjay\u001b[0m \u001b[1;33m=\u001b[0m \u001b[0mPerson\u001b[0m\u001b[1;33m(\u001b[0m\u001b[1;33m)\u001b[0m\u001b[1;33m\u001b[0m\u001b[1;33m\u001b[0m\u001b[0m\n\u001b[0m",
      "\u001b[1;31mTypeError\u001b[0m: __init__() missing 2 required positional arguments: 'name' and 'age'"
     ]
    }
   ],
   "source": [
    "class Person:\n",
    "    print(\"this is class\")\n",
    "    def get(ins):\n",
    "        print(\"this is get\")\n",
    "    def __init__(ins, name, age, phone=None):\n",
    "        ins.name=name\n",
    "        ins.age=age\n",
    "        ins.phone=phone\n",
    "jay = Person()"
   ]
  },
  {
   "cell_type": "code",
   "execution_count": 25,
   "metadata": {},
   "outputs": [
    {
     "name": "stdout",
     "output_type": "stream",
     "text": [
      "this is class\n",
      "Jayaram 3 None\n"
     ]
    }
   ],
   "source": [
    "class Person:\n",
    "    print(\"this is class\")\n",
    "    def get(ins):\n",
    "        print(ins.name, ins.age, ins.phone)\n",
    "    def __init__(ins, name, age, phone=None):\n",
    "        ins.name=name\n",
    "        ins.age=age\n",
    "        ins.phone=phone\n",
    "jay = Person(\"Jayaram\", 3)# while it creating a data object, it will follow few steps.\n",
    "#1 it will call __new__  method to create data object.\n",
    "#2 dataobject.__init__(*args, *kwargs)\n",
    "jay.get()"
   ]
  },
  {
   "cell_type": "code",
   "execution_count": 26,
   "metadata": {},
   "outputs": [
    {
     "name": "stdout",
     "output_type": "stream",
     "text": [
      "this is class\n"
     ]
    },
    {
     "ename": "TypeError",
     "evalue": "Person() takes no arguments",
     "output_type": "error",
     "traceback": [
      "\u001b[1;31m---------------------------------------------------------------------------\u001b[0m",
      "\u001b[1;31mTypeError\u001b[0m                                 Traceback (most recent call last)",
      "\u001b[1;32m<ipython-input-26-21b84d827fee>\u001b[0m in \u001b[0;36m<module>\u001b[1;34m\u001b[0m\n\u001b[0;32m      7\u001b[0m         \u001b[0mins\u001b[0m\u001b[1;33m.\u001b[0m\u001b[0mage\u001b[0m\u001b[1;33m=\u001b[0m\u001b[0mage\u001b[0m\u001b[1;33m\u001b[0m\u001b[1;33m\u001b[0m\u001b[0m\n\u001b[0;32m      8\u001b[0m         \u001b[0mins\u001b[0m\u001b[1;33m.\u001b[0m\u001b[0mphone\u001b[0m\u001b[1;33m=\u001b[0m\u001b[0mphone\u001b[0m\u001b[1;33m\u001b[0m\u001b[1;33m\u001b[0m\u001b[0m\n\u001b[1;32m----> 9\u001b[1;33m \u001b[0mjay\u001b[0m \u001b[1;33m=\u001b[0m \u001b[0mPerson\u001b[0m\u001b[1;33m(\u001b[0m\u001b[1;34m\"Jayaram\"\u001b[0m\u001b[1;33m,\u001b[0m \u001b[1;36m3\u001b[0m\u001b[1;33m)\u001b[0m\u001b[1;31m# while it creating a data object, it will follow few steps.\u001b[0m\u001b[1;33m\u001b[0m\u001b[1;33m\u001b[0m\u001b[0m\n\u001b[0m\u001b[0;32m     10\u001b[0m \u001b[1;31m#1 it will call __new__  method to create data object.\u001b[0m\u001b[1;33m\u001b[0m\u001b[1;33m\u001b[0m\u001b[1;33m\u001b[0m\u001b[0m\n\u001b[0;32m     11\u001b[0m \u001b[1;31m#2 dataobject.__init__(*args, *kwargs)\u001b[0m\u001b[1;33m\u001b[0m\u001b[1;33m\u001b[0m\u001b[1;33m\u001b[0m\u001b[0m\n",
      "\u001b[1;31mTypeError\u001b[0m: Person() takes no arguments"
     ]
    }
   ],
   "source": [
    "class Person:\n",
    "    print(\"this is class\")\n",
    "    def get(ins):\n",
    "        print(ins.name, ins.age, ins.phone)\n",
    "    def __init1__(ins, name, age, phone=None):\n",
    "        ins.name=name\n",
    "        ins.age=age\n",
    "        ins.phone=phone\n",
    "jay = Person(\"Jayaram\", 3)# while it creating a data object, it will follow few steps.\n",
    "#1 it will call __new__  method to create data object.\n",
    "#2 dataobject.__init__(*args, *kwargs)\n",
    "jay.get()"
   ]
  },
  {
   "cell_type": "code",
   "execution_count": 27,
   "metadata": {},
   "outputs": [
    {
     "name": "stdout",
     "output_type": "stream",
     "text": [
      "Jayaram 3 None\n",
      "Vedhanvesh 4 None\n"
     ]
    }
   ],
   "source": [
    "class Person:\n",
    "    def get(ins):\n",
    "        print(ins.name, ins.age, ins.phone)\n",
    "    def __init__(ins, name, age, phone=None):\n",
    "        ins.name=name\n",
    "        ins.age=age\n",
    "        ins.phone=phone\n",
    "jay = Person(\"Jayaram\", 3)\n",
    "jay.get()\n",
    "vedha = Person(\"Vedhanvesh\",4)\n",
    "vedha.get()"
   ]
  },
  {
   "cell_type": "code",
   "execution_count": 28,
   "metadata": {},
   "outputs": [
    {
     "name": "stdout",
     "output_type": "stream",
     "text": [
      "Jayaram 3 None\n",
      "Vedhanvesh 4 None\n"
     ]
    },
    {
     "ename": "TypeError",
     "evalue": "__init__() missing 2 required positional arguments: 'name' and 'age'",
     "output_type": "error",
     "traceback": [
      "\u001b[1;31m---------------------------------------------------------------------------\u001b[0m",
      "\u001b[1;31mTypeError\u001b[0m                                 Traceback (most recent call last)",
      "\u001b[1;32m<ipython-input-28-4ba092918610>\u001b[0m in \u001b[0;36m<module>\u001b[1;34m\u001b[0m\n\u001b[0;32m     10\u001b[0m \u001b[0mvedha\u001b[0m \u001b[1;33m=\u001b[0m \u001b[0mPerson\u001b[0m\u001b[1;33m(\u001b[0m\u001b[1;34m\"Vedhanvesh\"\u001b[0m\u001b[1;33m,\u001b[0m\u001b[1;36m4\u001b[0m\u001b[1;33m)\u001b[0m\u001b[1;33m\u001b[0m\u001b[1;33m\u001b[0m\u001b[0m\n\u001b[0;32m     11\u001b[0m \u001b[0mvedha\u001b[0m\u001b[1;33m.\u001b[0m\u001b[0mget\u001b[0m\u001b[1;33m(\u001b[0m\u001b[1;33m)\u001b[0m\u001b[1;33m\u001b[0m\u001b[1;33m\u001b[0m\u001b[0m\n\u001b[1;32m---> 12\u001b[1;33m \u001b[0msai\u001b[0m \u001b[1;33m=\u001b[0m \u001b[0mPerson\u001b[0m\u001b[1;33m(\u001b[0m\u001b[1;33m)\u001b[0m\u001b[1;33m\u001b[0m\u001b[1;33m\u001b[0m\u001b[0m\n\u001b[0m",
      "\u001b[1;31mTypeError\u001b[0m: __init__() missing 2 required positional arguments: 'name' and 'age'"
     ]
    }
   ],
   "source": [
    "class Person:\n",
    "    def get(ins):\n",
    "        print(ins.name, ins.age, ins.phone)\n",
    "    def __init__(ins, name, age, phone=None):\n",
    "        ins.name=name\n",
    "        ins.age=age\n",
    "        ins.phone=phone\n",
    "jay = Person(\"Jayaram\", 3)\n",
    "jay.get()\n",
    "vedha = Person(\"Vedhanvesh\",4)\n",
    "vedha.get()\n",
    "sai = Person()"
   ]
  },
  {
   "cell_type": "code",
   "execution_count": 29,
   "metadata": {},
   "outputs": [
    {
     "name": "stdout",
     "output_type": "stream",
     "text": [
      "Jayaram 3 None\n",
      "Vedhanvesh 4 None\n",
      "Sai laxmi 33 None\n"
     ]
    }
   ],
   "source": [
    "class Person:\n",
    "    def get(ins):\n",
    "        print(ins.name, ins.age, ins.phone)\n",
    "        \n",
    "    def __init__(ins, name, age, phone=None):\n",
    "        ins.name=name\n",
    "        ins.age=age\n",
    "        ins.phone=phone\n",
    "jay = Person(\"Jayaram\", 3)\n",
    "jay.get()\n",
    "vedha = Person(\"Vedhanvesh\",4)\n",
    "vedha.get()\n",
    "sai = Person(\"Sai laxmi\", 33)\n",
    "sai.get()"
   ]
  },
  {
   "cell_type": "code",
   "execution_count": 30,
   "metadata": {},
   "outputs": [
    {
     "name": "stdout",
     "output_type": "stream",
     "text": [
      "Jayaram 3 None\n",
      "Sai laxmi 33 None\n",
      "Vedhanvesh 4 None\n"
     ]
    }
   ],
   "source": [
    "class Person:\n",
    "    def get(ins):\n",
    "        print(ins.name, ins.age, ins.phone)\n",
    "        \n",
    "    def __init__(ins, name, age, phone=None):\n",
    "        ins.name=name\n",
    "        ins.age=age\n",
    "        ins.phone=phone\n",
    "jay = Person(\"Jayaram\", 3)\n",
    "jay.get()\n",
    "vedha = Person(\"Vedhanvesh\",4)\n",
    "sai = Person(\"Sai laxmi\", 33)\n",
    "sai.get()\n",
    "vedha.get()"
   ]
  },
  {
   "cell_type": "code",
   "execution_count": 31,
   "metadata": {},
   "outputs": [
    {
     "name": "stdout",
     "output_type": "stream",
     "text": [
      "Sai laxmi 33 None\n",
      "Vedhanvesh 4 None\n",
      "Jayaram 3 None\n"
     ]
    }
   ],
   "source": [
    "class Person:\n",
    "    def get(ins):\n",
    "        print(ins.name, ins.age, ins.phone)\n",
    "        \n",
    "    def __init__(ins, name, age, phone=None):\n",
    "        ins.name=name\n",
    "        ins.age=age\n",
    "        ins.phone=phone\n",
    "jay = Person(\"Jayaram\", 3)\n",
    "vedha = Person(\"Vedhanvesh\",4)\n",
    "sai = Person(\"Sai laxmi\", 33)\n",
    "sai.get()\n",
    "vedha.get()\n",
    "jay.get()"
   ]
  },
  {
   "cell_type": "code",
   "execution_count": 32,
   "metadata": {},
   "outputs": [
    {
     "name": "stdout",
     "output_type": "stream",
     "text": [
      "Sai laxmi 33 None\n",
      "Vedhanvesh 4 None\n",
      "Jayaram 3 None\n",
      "Hyderabad\n"
     ]
    }
   ],
   "source": [
    "class Person:\n",
    "    address = \"Hyderabad\"\n",
    "    \n",
    "    def get(ins):\n",
    "        print(ins.name, ins.age, ins.phone)\n",
    "        \n",
    "    def __init__(ins, name, age, phone=None):\n",
    "        ins.name=name\n",
    "        ins.age=age\n",
    "        ins.phone=phone\n",
    "jay = Person(\"Jayaram\", 3)\n",
    "vedha = Person(\"Vedhanvesh\",4)\n",
    "sai = Person(\"Sai laxmi\", 33)\n",
    "sai.get()\n",
    "vedha.get()\n",
    "jay.get()\n",
    "print(Person.address)"
   ]
  },
  {
   "cell_type": "code",
   "execution_count": 33,
   "metadata": {},
   "outputs": [
    {
     "name": "stdout",
     "output_type": "stream",
     "text": [
      "Sai laxmi 33 None\n",
      "Vedhanvesh 4 None\n",
      "Jayaram 3 None\n",
      "Hyderabad\n"
     ]
    },
    {
     "ename": "AttributeError",
     "evalue": "type object 'Person' has no attribute 'name'",
     "output_type": "error",
     "traceback": [
      "\u001b[1;31m---------------------------------------------------------------------------\u001b[0m",
      "\u001b[1;31mAttributeError\u001b[0m                            Traceback (most recent call last)",
      "\u001b[1;32m<ipython-input-33-48d290538a81>\u001b[0m in \u001b[0;36m<module>\u001b[1;34m\u001b[0m\n\u001b[0;32m     16\u001b[0m \u001b[0mjay\u001b[0m\u001b[1;33m.\u001b[0m\u001b[0mget\u001b[0m\u001b[1;33m(\u001b[0m\u001b[1;33m)\u001b[0m\u001b[1;33m\u001b[0m\u001b[1;33m\u001b[0m\u001b[0m\n\u001b[0;32m     17\u001b[0m \u001b[0mprint\u001b[0m\u001b[1;33m(\u001b[0m\u001b[0mPerson\u001b[0m\u001b[1;33m.\u001b[0m\u001b[0maddress\u001b[0m\u001b[1;33m)\u001b[0m\u001b[1;33m\u001b[0m\u001b[1;33m\u001b[0m\u001b[0m\n\u001b[1;32m---> 18\u001b[1;33m \u001b[0mprint\u001b[0m\u001b[1;33m(\u001b[0m\u001b[0mPerson\u001b[0m\u001b[1;33m.\u001b[0m\u001b[0mname\u001b[0m\u001b[1;33m)\u001b[0m\u001b[1;33m\u001b[0m\u001b[1;33m\u001b[0m\u001b[0m\n\u001b[0m",
      "\u001b[1;31mAttributeError\u001b[0m: type object 'Person' has no attribute 'name'"
     ]
    }
   ],
   "source": [
    "class Person:\n",
    "    address = \"Hyderabad\"# class object attribute\n",
    "    \n",
    "    def get(ins):\n",
    "        print(ins.name, ins.age, ins.phone)\n",
    "        \n",
    "    def __init__(ins, name, age, phone=None):\n",
    "        ins.name=name# name,age,phone are the data object attributes.\n",
    "        ins.age=age\n",
    "        ins.phone=phone\n",
    "jay = Person(\"Jayaram\", 3)\n",
    "vedha = Person(\"Vedhanvesh\",4)\n",
    "sai = Person(\"Sai laxmi\", 33)\n",
    "sai.get()\n",
    "vedha.get()\n",
    "jay.get()\n",
    "print(Person.address)\n",
    "print(Person.name)"
   ]
  },
  {
   "cell_type": "code",
   "execution_count": 34,
   "metadata": {},
   "outputs": [
    {
     "name": "stdout",
     "output_type": "stream",
     "text": [
      "Sai laxmi 33 None\n",
      "Vedhanvesh 4 None\n",
      "Jayaram 3 None\n",
      "Hyderabad\n",
      "Hyderabad\n",
      "Hyderabad\n",
      "Hyderabad\n"
     ]
    }
   ],
   "source": [
    "class Person:\n",
    "    address = \"Hyderabad\"# class object attribute\n",
    "    \n",
    "    def get(ins):\n",
    "        print(ins.name, ins.age, ins.phone)\n",
    "        \n",
    "    def __init__(ins, name, age, phone=None):\n",
    "        ins.name=name# name,age,phone are the data object attributes.\n",
    "        ins.age=age\n",
    "        ins.phone=phone\n",
    "jay = Person(\"Jayaram\", 3)\n",
    "vedha = Person(\"Vedhanvesh\",4)\n",
    "sai = Person(\"Sai laxmi\", 33)\n",
    "sai.get()\n",
    "vedha.get()\n",
    "jay.get()\n",
    "print(Person.address)\n",
    "print(jay.address)\n",
    "print(vedha.address)\n",
    "print(sai.address)"
   ]
  },
  {
   "cell_type": "code",
   "execution_count": 1,
   "metadata": {},
   "outputs": [
    {
     "name": "stdout",
     "output_type": "stream",
     "text": [
      "Sai laxmi 33 None\n",
      "Vedhanvesh 4 None\n",
      "Jayaram 3 None\n",
      "Hyderabad\n",
      "Hyderabad\n",
      "Hyderabad\n",
      "Hyderabad\n"
     ]
    }
   ],
   "source": [
    "class Person:\n",
    "    address = \"Hyderabad\"# class object attribute\n",
    "    \n",
    "    def get(self):\n",
    "        print(self.name, self.age, self.phone)\n",
    "        \n",
    "    def __init__(self, name, age, phone=None):\n",
    "        self.name=name# name,age,phone are the data object attributes.\n",
    "        self.age=age\n",
    "        self.phone=phone\n",
    "jay = Person(\"Jayaram\", 3)\n",
    "vedha = Person(\"Vedhanvesh\",4)\n",
    "sai = Person(\"Sai laxmi\", 33)\n",
    "sai.get()\n",
    "vedha.get()\n",
    "jay.get()\n",
    "print(Person.address)\n",
    "print(jay.address)\n",
    "print(vedha.address)\n",
    "print(sai.address)"
   ]
  },
  {
   "cell_type": "code",
   "execution_count": 2,
   "metadata": {},
   "outputs": [
    {
     "name": "stdout",
     "output_type": "stream",
     "text": [
      "creating customer: cust1, Hyderabad\n"
     ]
    }
   ],
   "source": [
    "#pip install sales --index-url=\n",
    "#sales.py v1 installed in our machine\n",
    "#python/site-packages/sales.py\n",
    "class Customer:\n",
    "    def __init__(self, name, address):\n",
    "        self.name=name\n",
    "        self.address=address\n",
    "    def create(self):\n",
    "        print(\"creating customer: %s, %s\"%(self.name, self.address))\n",
    "        \n",
    "#D://ERP/app.py\n",
    "# from sales import Customer\n",
    "c1=Customer(\"cust1\",\"Hyderabad\")\n",
    "c1.create()\n"
   ]
  },
  {
   "cell_type": "code",
   "execution_count": null,
   "metadata": {},
   "outputs": [],
   "source": [
    "#pip install sales --index-url=\n",
    "#sales.py v1 installed in our machine\n",
    "#python/site-packages/sales.py\n",
    "class Customer:\n",
    "    def __init__(self, name, address):\n",
    "        self.name=name\n",
    "        self.address=address\n",
    "    def create(self):\n",
    "        print(\"creating customer: %s, %s\"%(self.name, self.address))\n",
    "        \n",
    "#D://ERP/app.py\n",
    "# from sales import Customer\n",
    "c1=Customer(\"cust1\",\"Hyderabad\")\n",
    "c1.create()\n",
    "# you want to add Phone number to the Customer class..\n"
   ]
  },
  {
   "cell_type": "code",
   "execution_count": 3,
   "metadata": {},
   "outputs": [
    {
     "name": "stdout",
     "output_type": "stream",
     "text": [
      "creating customer: cust1, Hyderabad, 8767465789\n"
     ]
    }
   ],
   "source": [
    "#pip install sales --index-url=\n",
    "#sales.py v1 installed in our machine\n",
    "#python/site-packages/sales.py\n",
    "class Customer:\n",
    "    def __init__(self, name, address, phone):\n",
    "        self.name=name\n",
    "        self.address=address\n",
    "        self.phone=phone\n",
    "    def create(self):\n",
    "        print(\"creating customer: %s, %s, %s\"%(self.name, self.address, self.phone))\n",
    "        \n",
    "        \n",
    "#D://ERP/app.py\n",
    "# from sales import Customer\n",
    "c1=Customer(\"cust1\",\"Hyderabad\",\"8767465789\")\n",
    "c1.create()\n",
    "# you want to add Phone number to the Customer class..\n"
   ]
  },
  {
   "cell_type": "code",
   "execution_count": 4,
   "metadata": {},
   "outputs": [
    {
     "name": "stdout",
     "output_type": "stream",
     "text": [
      "creating customer: cust1, Hyderabad, 8767465789\n"
     ]
    }
   ],
   "source": [
    "#pip install sales --index-url=\n",
    "#sales.py v1 installed in our machine\n",
    "#python/site-packages/sales.py\n",
    "class Customer:\n",
    "    def __init__(self, name, address, phone):\n",
    "        self.name=name\n",
    "        self.address=address\n",
    "        self.phone=phone\n",
    "    def create(self):\n",
    "        print(\"creating customer: %s, %s, %s\"%(self.name, self.address, self.phone))\n",
    "        \n",
    "        \n",
    "#D://ERP/app.py\n",
    "# from sales import Customer\n",
    "c1=Customer(\"cust1\",\"Hyderabad\",\"8767465789\")\n",
    "c1.create()\n",
    "# you want to add Phone number to the Customer class..\n",
    "\n",
    "\n",
    "#sales people released new version v2. it has the features which you required. but not phone number."
   ]
  },
  {
   "cell_type": "code",
   "execution_count": 6,
   "metadata": {},
   "outputs": [
    {
     "name": "stdout",
     "output_type": "stream",
     "text": [
      "creating customer: cust1, Hyderabad, 8767465789\n"
     ]
    }
   ],
   "source": [
    "#pip install sales --index-url=\n",
    "#sales.py v1 installed in our machine\n",
    "#python/site-packages/sales.py\n",
    "class Customer:\n",
    "    def __init__(self, name, address):\n",
    "        self.name=name\n",
    "        self.address=address\n",
    "    def create(self):\n",
    "        print(\"creating customer: %s, %s\"%(self.name, self.address))\n",
    "        \n",
    "        \n",
    "#D://ERP/app.py\n",
    "# from sales import Customer\n",
    "class MyCustomer(Customer):\n",
    "    def __init__(self, name, address, phone):\n",
    "        self.name=name\n",
    "        self.address=address\n",
    "        self.phone=phone\n",
    "    def create_phone(self):\n",
    "        print(\"creating customer: %s, %s, %s\"%(self.name, self.address, self.phone))\n",
    "    \n",
    "c1=MyCustomer(\"cust1\",\"Hyderabad\",\"8767465789\")\n",
    "c1.create_phone()\n",
    "# you want to add Phone number to the Customer class..\n",
    "\n",
    "\n",
    "#sales people released new version v2. it has the features which you required. but not phone number."
   ]
  },
  {
   "cell_type": "code",
   "execution_count": 7,
   "metadata": {},
   "outputs": [
    {
     "name": "stdout",
     "output_type": "stream",
     "text": [
      "creating customer: cust1, Hyderabad, 8767465789\n"
     ]
    }
   ],
   "source": [
    "#pip install sales --index-url=\n",
    "#sales.py v1 installed in our machine\n",
    "#python/site-packages/sales.py\n",
    "class Customer:\n",
    "    def __init__(self, name, address):\n",
    "        self.name=name\n",
    "        self.address=address\n",
    "    def create(self):\n",
    "        print(\"creating customer: %s, %s\"%(self.name, self.address))\n",
    "        \n",
    "        \n",
    "#D://ERP/app.py\n",
    "# from sales import Customer\n",
    "class MyCustomer(Customer):\n",
    "    def __init__(self, name, address, phone):\n",
    "        self.phone=phone\n",
    "        Customer.__init__(self, name, address)\n",
    "    def create_phone(self):\n",
    "        print(\"creating customer: %s, %s, %s\"%(self.name, self.address, self.phone))\n",
    "    \n",
    "c1=MyCustomer(\"cust1\",\"Hyderabad\",\"8767465789\")\n",
    "c1.create_phone()\n",
    "# you want to add Phone number to the Customer class..\n",
    "\n",
    "\n",
    "#sales people released new version v2. it has the features which you required. but not phone number."
   ]
  },
  {
   "cell_type": "code",
   "execution_count": 8,
   "metadata": {},
   "outputs": [
    {
     "name": "stdout",
     "output_type": "stream",
     "text": [
      "creating customer: cust1, Hyderabad\n"
     ]
    }
   ],
   "source": [
    "#pip install sales --index-url=\n",
    "#sales.py v1 installed in our machine\n",
    "#python/site-packages/sales.py\n",
    "class Customer:\n",
    "    def __init__(self, name, address):\n",
    "        self.name=name\n",
    "        self.address=address\n",
    "    def create(self):\n",
    "        print(\"creating customer: %s, %s\"%(self.name, self.address))\n",
    "        \n",
    "        \n",
    "#D://ERP/app.py\n",
    "# from sales import Customer\n",
    "class MyCustomer(Customer):\n",
    "    def __init__(self, name, address, phone):\n",
    "        self.phone=phone\n",
    "        Customer.__init__(self, name, address)\n",
    "    def create_phone(self):\n",
    "        print(\"creating customer: %s, %s, %s\"%(self.name, self.address, self.phone))\n",
    "    \n",
    "c1=MyCustomer(\"cust1\",\"Hyderabad\",\"8767465789\")\n",
    "c1.create()"
   ]
  },
  {
   "cell_type": "code",
   "execution_count": 9,
   "metadata": {},
   "outputs": [
    {
     "name": "stdout",
     "output_type": "stream",
     "text": [
      "creating customer: cust1, Hyderabad, 8767465789\n"
     ]
    }
   ],
   "source": [
    "#pip install sales --index-url=\n",
    "#sales.py v1 installed in our machine\n",
    "#python/site-packages/sales.py\n",
    "class Customer:\n",
    "    def __init__(self, name, address):\n",
    "        self.name=name\n",
    "        self.address=address\n",
    "    def create(self):\n",
    "        print(\"creating customer: %s, %s\"%(self.name, self.address))\n",
    "        \n",
    "        \n",
    "#D://ERP/app.py\n",
    "# from sales import Customer\n",
    "class MyCustomer(Customer):\n",
    "    def __init__(self, name, address, phone):\n",
    "        self.phone=phone\n",
    "        Customer.__init__(self, name, address)\n",
    "    def create(self):\n",
    "        print(\"creating customer: %s, %s, %s\"%(self.name, self.address, self.phone))\n",
    "    \n",
    "c1=MyCustomer(\"cust1\",\"Hyderabad\",\"8767465789\")\n",
    "c1.create()"
   ]
  },
  {
   "cell_type": "code",
   "execution_count": 10,
   "metadata": {},
   "outputs": [
    {
     "name": "stdout",
     "output_type": "stream",
     "text": [
      "creating customer: cust1, Hyderabad\n",
      "insert phone number 8767465789\n"
     ]
    }
   ],
   "source": [
    "#pip install sales --index-url=\n",
    "#sales.py v1 installed in our machine\n",
    "#python/site-packages/sales.py\n",
    "class Customer:\n",
    "    def __init__(self, name, address):\n",
    "        self.name=name\n",
    "        self.address=address\n",
    "    def create(self):\n",
    "        print(\"creating customer: %s, %s\"%(self.name, self.address))\n",
    "        \n",
    "        \n",
    "#D://ERP/app.py\n",
    "# from sales import Customer\n",
    "class MyCustomer(Customer):\n",
    "    def __init__(self, name, address, phone):\n",
    "        self.phone=phone\n",
    "        Customer.__init__(self, name, address)\n",
    "    def create(self):\n",
    "        Customer.create(self)\n",
    "        print(\"insert phone number %s\"%(self.phone))\n",
    "    \n",
    "c1=MyCustomer(\"cust1\",\"Hyderabad\",\"8767465789\")\n",
    "c1.create()"
   ]
  },
  {
   "cell_type": "code",
   "execution_count": 11,
   "metadata": {},
   "outputs": [
    {
     "name": "stdout",
     "output_type": "stream",
     "text": [
      "this is op1 in c1\n",
      "this is op2 in c2\n"
     ]
    }
   ],
   "source": [
    "class c1:\n",
    "    def op1(self):\n",
    "        print(\"this is op1 in c1\")\n",
    "class c2:\n",
    "    def op2(self):\n",
    "        print(\"this is op2 in c2\")\n",
    "class c3:\n",
    "    def operations(self):\n",
    "        o1=c1()\n",
    "        o2=c2()\n",
    "        o1.op1()\n",
    "        o2.op2()\n",
    "    \n",
    "o3=c3()\n",
    "o3.operations()"
   ]
  },
  {
   "cell_type": "code",
   "execution_count": 12,
   "metadata": {},
   "outputs": [
    {
     "name": "stdout",
     "output_type": "stream",
     "text": [
      "this is op1 in c1\n",
      "this is op2 in c2\n"
     ]
    }
   ],
   "source": [
    "class c1:\n",
    "    def op1(self):\n",
    "        print(\"this is op1 in c1\")\n",
    "class c2:\n",
    "    def op2(self):\n",
    "        print(\"this is op2 in c2\")\n",
    "class c3(c1,c2):\n",
    "    def operations(self):\n",
    "        self.op1()\n",
    "        self.op2()\n",
    "    \n",
    "o3=c3()\n",
    "o3.operations()"
   ]
  },
  {
   "cell_type": "code",
   "execution_count": 13,
   "metadata": {},
   "outputs": [
    {
     "name": "stdout",
     "output_type": "stream",
     "text": [
      "this is op1 in c1\n",
      "this is op2 in c2\n",
      "(<class '__main__.c3'>, <class '__main__.c1'>, <class '__main__.c2'>, <class 'object'>)\n"
     ]
    }
   ],
   "source": [
    "class c1:\n",
    "    def op1(self):\n",
    "        print(\"this is op1 in c1\")\n",
    "        \n",
    "class c2:\n",
    "    def op1(self):\n",
    "        print(\"this is op1 in c2\")\n",
    "        \n",
    "    def op2(self):\n",
    "        print(\"this is op2 in c2\")\n",
    "class c3(c1,c2):\n",
    "    def operations(self):\n",
    "        self.op1()\n",
    "        self.op2()\n",
    "    \n",
    "o3=c3()\n",
    "o3.operations()\n",
    "print(c3.__mro__)"
   ]
  },
  {
   "cell_type": "code",
   "execution_count": 14,
   "metadata": {},
   "outputs": [
    {
     "name": "stdout",
     "output_type": "stream",
     "text": [
      "this is op1 in c2\n",
      "this is op2 in c2\n",
      "(<class '__main__.c3'>, <class '__main__.c2'>, <class '__main__.c1'>, <class 'object'>)\n"
     ]
    }
   ],
   "source": [
    "class c1:\n",
    "    def op1(self):\n",
    "        print(\"this is op1 in c1\")\n",
    "        \n",
    "class c2:\n",
    "    def op1(self):\n",
    "        print(\"this is op1 in c2\")\n",
    "        \n",
    "    def op2(self):\n",
    "        print(\"this is op2 in c2\")\n",
    "class c3(c2,c1):\n",
    "    def operations(self):\n",
    "        self.op1()\n",
    "        self.op2()\n",
    "    \n",
    "o3=c3()\n",
    "o3.operations()\n",
    "print(c3.__mro__)"
   ]
  },
  {
   "cell_type": "code",
   "execution_count": null,
   "metadata": {},
   "outputs": [],
   "source": []
  }
 ],
 "metadata": {
  "kernelspec": {
   "display_name": "Python 3",
   "language": "python",
   "name": "python3"
  },
  "language_info": {
   "codemirror_mode": {
    "name": "ipython",
    "version": 3
   },
   "file_extension": ".py",
   "mimetype": "text/x-python",
   "name": "python",
   "nbconvert_exporter": "python",
   "pygments_lexer": "ipython3",
   "version": "3.8.3"
  }
 },
 "nbformat": 4,
 "nbformat_minor": 4
}
